{
 "cells": [
  {
   "cell_type": "markdown",
   "id": "a8d6e3dc",
   "metadata": {},
   "source": [
    "### 🐍 Python Functions — Part 1: Basics\n",
    "\n",
    "What is a Function?\n",
    "\n",
    "- A block of reusable code that performs a specific task.\n",
    "- Defined once, used many times."
   ]
  },
  {
   "cell_type": "code",
   "execution_count": 3,
   "id": "414265d6",
   "metadata": {},
   "outputs": [
    {
     "name": "stdout",
     "output_type": "stream",
     "text": [
      "Hello, welcome to TechConvos!\n"
     ]
    }
   ],
   "source": [
    "# Define a function named 'greet'\n",
    "def greet():\n",
    "    # The print() function outputs the string inside the parentheses to the console\n",
    "    print(\"Hello, welcome to TechConvos!\")\n",
    "\n",
    "# Call the 'greet' function to execute it and display the message\n",
    "greet()\n"
   ]
  },
  {
   "cell_type": "markdown",
   "id": "8c9c27c6",
   "metadata": {},
   "source": [
    "#### Function with Parameters"
   ]
  },
  {
   "cell_type": "code",
   "execution_count": 8,
   "id": "bc6c4fc9",
   "metadata": {},
   "outputs": [
    {
     "name": "stdout",
     "output_type": "stream",
     "text": [
      "Hello, Dhiraj, Welcome!\n",
      "Hello, Mishra, Welcome!\n"
     ]
    }
   ],
   "source": [
    "# Define a function 'greet_user' that takes one parameter 'name'\n",
    "def greet_user(name):\n",
    "    # Inside the function, print a greeting message, formatting the 'name' argument into the string\n",
    "    print(f\"Hello, {name}, Welcome!\")\n",
    "\n",
    "# Calling the function with the argument \"Dhiraj\"\n",
    "greet_user(\"Dhiraj\")\n",
    "\n",
    "# Calling the function again with the argument \"Mishra\"\n",
    "greet_user(\"Mishra\")"
   ]
  },
  {
   "cell_type": "markdown",
   "id": "2004ac94",
   "metadata": {},
   "source": [
    "#### Function with Return Value"
   ]
  },
  {
   "cell_type": "code",
   "execution_count": 18,
   "id": "efad103b",
   "metadata": {},
   "outputs": [
    {
     "name": "stdout",
     "output_type": "stream",
     "text": [
      "3\n"
     ]
    }
   ],
   "source": [
    "def add(a, b):\n",
    "    return a + b  # This returns the sum of a and b\n",
    "\n",
    "result = add(1, 2)  # Calls the add function with arguments 1 and 2, stores the result in 'result'\n",
    "\n",
    "print(result)  # Prints the value stored in 'result'\n"
   ]
  },
  {
   "cell_type": "markdown",
   "id": "5df5607f",
   "metadata": {},
   "source": [
    "#### Multiple Return Values"
   ]
  },
  {
   "cell_type": "code",
   "execution_count": 21,
   "id": "1021df05",
   "metadata": {},
   "outputs": [
    {
     "name": "stdout",
     "output_type": "stream",
     "text": [
      "1 9\n"
     ]
    }
   ],
   "source": [
    "# Define a function named 'min_max' that takes a list of numbers as its input\n",
    "def min_max(nums):\n",
    "    # Use the built-in min() function to find the smallest number in the list\n",
    "    # Use the built-in max() function to find the largest number in the list\n",
    "    # Return both values as a tuple: (minimum, maximum)\n",
    "    return min(nums), max(nums)\n",
    "\n",
    "# Call the 'min_max' function with the list [3, 7, 1, 9]\n",
    "# The function returns (1, 9), which is unpacked into two separate variables\n",
    "low, high = min_max([3, 7, 1, 9])\n",
    "\n",
    "# Print the values of 'low' and 'high' to the console\n",
    "# Output will be: 1 9\n",
    "print(low, high)"
   ]
  },
  {
   "cell_type": "markdown",
   "id": "19c55c80",
   "metadata": {},
   "source": [
    "#### Default Arguments"
   ]
  },
  {
   "cell_type": "code",
   "execution_count": 28,
   "id": "c9f8d3ad",
   "metadata": {},
   "outputs": [
    {
     "name": "stdout",
     "output_type": "stream",
     "text": [
      "Hello Guest\n",
      "Hello Dhiraj\n"
     ]
    }
   ],
   "source": [
    "# Define a function named 'greet' that takes one optional parameter 'name'\n",
    "# The parameter 'name' has a default value of \"Guest\"\n",
    "def greet(name=\"Guest\"):\n",
    "    # Print a greeting message using an f-string to include the name\n",
    "    print(f\"Hello {name}\")\n",
    "\n",
    "# Call the function without providing an argument\n",
    "# Since no name is passed, it uses the default value \"Guest\"\n",
    "greet()           # Output: Hello Guest\n",
    "\n",
    "# Call the function with the argument \"Dhiraj\"\n",
    "# This time, the provided name overrides the default value\n",
    "greet(\"Dhiraj\")   # Output: Hello Dhiraj\n"
   ]
  },
  {
   "cell_type": "markdown",
   "id": "f0a1c953",
   "metadata": {},
   "source": [
    "#### Keyword Arguments"
   ]
  },
  {
   "cell_type": "code",
   "execution_count": 32,
   "id": "f48d0b4d",
   "metadata": {},
   "outputs": [
    {
     "name": "stdout",
     "output_type": "stream",
     "text": [
      "My name is Dhiraj, age 36\n"
     ]
    }
   ],
   "source": [
    "# Define a function 'intro' that takes two parameters: 'name' and 'age'\n",
    "def intro(name, age):\n",
    "    # Print a formatted string with the given name and age\n",
    "    print(f\"My name is {name}, age {age}\")\n",
    "\n",
    "# Call the function using keyword arguments, specifying 'age' first and 'name' second\n",
    "# Because we use keywords, the order of arguments does not matter\n",
    "intro(age=36, name=\"Dhiraj\")  # Output: My name is Dhiraj, age 36\n"
   ]
  },
  {
   "cell_type": "markdown",
   "id": "26874379",
   "metadata": {},
   "source": [
    "#### Docstrings (Function Documentation)"
   ]
  },
  {
   "cell_type": "code",
   "execution_count": 42,
   "id": "289fb739",
   "metadata": {},
   "outputs": [
    {
     "name": "stdout",
     "output_type": "stream",
     "text": [
      "Return the square of a number n.\n"
     ]
    }
   ],
   "source": [
    "# Define a function named 'square' that takes one parameter 'n'\n",
    "def square(n):\n",
    "    \"\"\"Return the square of a number n.\"\"\"  # This is the function's docstring describing its purpose\n",
    "    return n * n  # Returns the square of the input number n\n",
    "\n",
    "# Print the docstring of the 'square' function using the __doc__ attribute\n",
    "print(square.__doc__)  # Output: Return the square of a number n."
   ]
  },
  {
   "cell_type": "markdown",
   "id": "8b1e7552",
   "metadata": {},
   "source": [
    "#### Type Hints (Optional but Best Practice)"
   ]
  },
  {
   "cell_type": "code",
   "execution_count": 45,
   "id": "5b04f720",
   "metadata": {},
   "outputs": [
    {
     "name": "stdout",
     "output_type": "stream",
     "text": [
      "12\n"
     ]
    }
   ],
   "source": [
    "# Define a function 'multiply' that takes two integers 'a' and 'b'\n",
    "# The '-> int' indicates that this function returns an integer\n",
    "def multiply(a: int, b: int) -> int:\n",
    "    # Return the product of a and b\n",
    "    return a * b\n",
    "\n",
    "# Call the multiply function with arguments 3 and 4, then print the result\n",
    "print(multiply(3, 4))  # Output: 12\n"
   ]
  },
  {
   "cell_type": "code",
   "execution_count": 51,
   "id": "ea5c900c",
   "metadata": {},
   "outputs": [
    {
     "name": "stdout",
     "output_type": "stream",
     "text": [
      "12\n"
     ]
    }
   ],
   "source": [
    "# Define a function 'multiply' that takes two integers 'a' and 'b'\n",
    "# The '-> int' indicates that this function returns an integer\n",
    "def multiply(a: int, b: int) -> int:\n",
    "    # Return the product of a and b\n",
    "    return a * b\n",
    "\n",
    "# Call the multiply function with arguments 3 and 4, then print the result\n",
    "print(multiply(3, 4))  # Output: 12"
   ]
  },
  {
   "cell_type": "markdown",
   "id": "91d709cc",
   "metadata": {},
   "source": [
    "#### Functions Are Objects"
   ]
  },
  {
   "cell_type": "code",
   "execution_count": 52,
   "id": "b1c194f2",
   "metadata": {},
   "outputs": [
    {
     "name": "stdout",
     "output_type": "stream",
     "text": [
      "HELLO\n"
     ]
    }
   ],
   "source": [
    "# Define a function named 'shout' that takes a string 'text' as input\n",
    "# The function returns the uppercase version of the input string\n",
    "def shout(text):\n",
    "    return text.upper()\n",
    "\n",
    "# Assign the function 'shout' itself (not calling it) to variable 'x'\n",
    "x = shout\n",
    "\n",
    "# Call the function via the variable 'x' with the argument \"hello\"\n",
    "print(x(\"hello\"))  # Output: HELLO\n"
   ]
  },
  {
   "cell_type": "markdown",
   "id": "31bff52b",
   "metadata": {},
   "source": [
    "### Practice Tasks (Basics)"
   ]
  },
  {
   "cell_type": "markdown",
   "id": "1718528b",
   "metadata": {},
   "source": [
    "Write a function is_even(n) that returns True if n is even, else False."
   ]
  },
  {
   "cell_type": "code",
   "execution_count": 57,
   "id": "d2322c64",
   "metadata": {},
   "outputs": [
    {
     "name": "stdout",
     "output_type": "stream",
     "text": [
      "True\n",
      "False\n"
     ]
    }
   ],
   "source": [
    "def is_even(n: int) -> bool:\n",
    "    \"\"\"\n",
    "    Check if a number is even.\n",
    "\n",
    "    Parameters:\n",
    "    n (int): The number to check.\n",
    "\n",
    "    Returns:\n",
    "    bool: True if n is even, False otherwise.\n",
    "    \"\"\"\n",
    "    # Calculate remainder when n is divided by 2\n",
    "    remainder = n % 2\n",
    "\n",
    "    # If remainder is 0, the number is even; otherwise, it's odd\n",
    "    if remainder == 0:\n",
    "        return True\n",
    "    else:\n",
    "        return False\n",
    "\n",
    "# Example usage with print statements:\n",
    "print(is_even(4))  # Output: True, because 4 is divisible by 2\n",
    "print(is_even(7))  # Output: False, because 7 is not divisible by 2"
   ]
  },
  {
   "cell_type": "markdown",
   "id": "70495542",
   "metadata": {},
   "source": [
    "Create a function factorial(n) using a loop."
   ]
  },
  {
   "cell_type": "code",
   "execution_count": 62,
   "id": "4474d08e",
   "metadata": {},
   "outputs": [
    {
     "name": "stdout",
     "output_type": "stream",
     "text": [
      "120\n",
      "1\n"
     ]
    }
   ],
   "source": [
    "def factorial(n: int) -> int:\n",
    "    \"\"\"\n",
    "    Calculate the factorial of a non-negative integer n using a loop.\n",
    "\n",
    "    Parameters:\n",
    "    n (int): The number to calculate factorial for. Should be >= 0.\n",
    "\n",
    "    Returns:\n",
    "    int: Factorial of n (n!).\n",
    "    \n",
    "    Factorial is the product of all positive integers up to n.\n",
    "    For example, 5! = 5 * 4 * 3 * 2 * 1 = 120.\n",
    "    \"\"\"\n",
    "    # Initialize result to 1 because factorial multiplication starts at 1\n",
    "    result = 1\n",
    "\n",
    "    # Multiply result by every number from 2 up to n\n",
    "    for i in range(2, n + 1):\n",
    "        result *= i  # Same as result = result * i\n",
    "\n",
    "    return result\n",
    "\n",
    "\n",
    "# Example usage:\n",
    "print(factorial(5))  # Output: 120\n",
    "print(factorial(0))  # Output: 1, by definition 0! = 1\n"
   ]
  },
  {
   "cell_type": "markdown",
   "id": "445e433a",
   "metadata": {},
   "source": [
    "Write a function greet(name=\"Guest\") that prints “Hello <name>”."
   ]
  },
  {
   "cell_type": "code",
   "execution_count": 63,
   "id": "d6c2ab8c",
   "metadata": {},
   "outputs": [
    {
     "name": "stdout",
     "output_type": "stream",
     "text": [
      "Hello Alice\n",
      "Hello Guest\n"
     ]
    }
   ],
   "source": [
    "def greet(name: str = \"Guest\") -> None:\n",
    "    \"\"\"\n",
    "    Print a greeting message using the provided name.\n",
    "\n",
    "    Parameters:\n",
    "    name (str): The name of the person to greet. Defaults to \"Guest\" if not provided.\n",
    "\n",
    "    Returns:\n",
    "    None: This function only prints a message and does not return anything.\n",
    "    \"\"\"\n",
    "    # Print a greeting message with the name\n",
    "    print(f\"Hello {name}\")\n",
    "\n",
    "\n",
    "# Example usage:\n",
    "greet(\"Alice\")   # Output: Hello Alice\n",
    "greet()          # Output: Hello Guest (default value used)\n"
   ]
  },
  {
   "cell_type": "markdown",
   "id": "2c049d69",
   "metadata": {},
   "source": [
    "Create a function stats(nums) that returns (min, max, sum, avg) of a list."
   ]
  },
  {
   "cell_type": "code",
   "execution_count": 64,
   "id": "c4832490",
   "metadata": {},
   "outputs": [
    {
     "name": "stdout",
     "output_type": "stream",
     "text": [
      "(1, 9, 24, 4.8)\n"
     ]
    }
   ],
   "source": [
    "from typing import List, Tuple\n",
    "\n",
    "def stats(nums: List[int]) -> Tuple[int, int, int, float]:\n",
    "    \"\"\"\n",
    "    Calculate and return basic statistics of a list of integers.\n",
    "\n",
    "    Parameters:\n",
    "    nums (List[int]): A list of integers.\n",
    "\n",
    "    Returns:\n",
    "    Tuple[int, int, int, float]: A tuple containing:\n",
    "        - minimum value in the list,\n",
    "        - maximum value in the list,\n",
    "        - sum of all values,\n",
    "        - average of the values.\n",
    "\n",
    "    Raises:\n",
    "    ValueError: If the list is empty (to avoid division by zero).\n",
    "    \"\"\"\n",
    "    if not nums:\n",
    "        raise ValueError(\"List is empty. Cannot compute statistics.\")\n",
    "\n",
    "    # Calculate minimum, maximum, total sum\n",
    "    minimum = min(nums)\n",
    "    maximum = max(nums)\n",
    "    total = sum(nums)\n",
    "\n",
    "    # Calculate average (as float)\n",
    "    average = total / len(nums)\n",
    "\n",
    "    return minimum, maximum, total, average\n",
    "\n",
    "\n",
    "# Example usage:\n",
    "print(stats([4, 7, 1, 9, 3]))\n",
    "# Output: (1, 9, 24, 4.8)\n"
   ]
  },
  {
   "cell_type": "markdown",
   "id": "51cf16fc",
   "metadata": {},
   "source": [
    "Write a function safe_div(a, b) that divides a by b; if b=0, return None."
   ]
  },
  {
   "cell_type": "code",
   "execution_count": 65,
   "id": "decdd075",
   "metadata": {},
   "outputs": [
    {
     "name": "stdout",
     "output_type": "stream",
     "text": [
      "5.0\n",
      "None\n"
     ]
    }
   ],
   "source": [
    "from typing import Optional\n",
    "\n",
    "def safe_div(a: float, b: float) -> Optional[float]:\n",
    "    \"\"\"\n",
    "    Safely divide two numbers. Returns None if division by zero is attempted.\n",
    "\n",
    "    Parameters:\n",
    "    a (float): The numerator.\n",
    "    b (float): The denominator.\n",
    "\n",
    "    Returns:\n",
    "    Optional[float]: The result of a divided by b, or None if b is zero.\n",
    "    \"\"\"\n",
    "    if b == 0:\n",
    "        # Division by zero is undefined, so return None\n",
    "        return None\n",
    "    else:\n",
    "        # Perform division normally\n",
    "        return a / b\n",
    "\n",
    "\n",
    "# Example usage:\n",
    "print(safe_div(10, 2))   # Output: 5.0\n",
    "print(safe_div(7, 0))    # Output: None (since division by zero is not allowed)\n"
   ]
  },
  {
   "cell_type": "markdown",
   "id": "293613ef",
   "metadata": {},
   "source": [
    "Write a function with docstring: to_celsius(f) → converts Fahrenheit to Celsius."
   ]
  },
  {
   "cell_type": "code",
   "execution_count": 66,
   "id": "9ba008a3",
   "metadata": {},
   "outputs": [
    {
     "name": "stdout",
     "output_type": "stream",
     "text": [
      "37.0\n",
      "0.0\n"
     ]
    }
   ],
   "source": [
    "def to_celsius(f: float) -> float:\n",
    "    \"\"\"\n",
    "    Convert temperature from Fahrenheit to Celsius.\n",
    "\n",
    "    Parameters:\n",
    "    f (float): Temperature in degrees Fahrenheit.\n",
    "\n",
    "    Returns:\n",
    "    float: Temperature converted to degrees Celsius.\n",
    "\n",
    "    Formula:\n",
    "    Celsius = (Fahrenheit - 32) * 5/9\n",
    "    \"\"\"\n",
    "    # Apply the conversion formula\n",
    "    return (f - 32) * 5 / 9\n",
    "\n",
    "\n",
    "# Example usage:\n",
    "print(to_celsius(98.6))   # Output: 37.0\n",
    "print(to_celsius(32))     # Output: 0.0\n"
   ]
  },
  {
   "cell_type": "markdown",
   "id": "547d3e0a",
   "metadata": {},
   "source": [
    "Add type hints to a function def concat(a, b): that joins two strings."
   ]
  },
  {
   "cell_type": "code",
   "execution_count": 67,
   "id": "abb36fd2",
   "metadata": {},
   "outputs": [
    {
     "name": "stdout",
     "output_type": "stream",
     "text": [
      "Hello, world!\n"
     ]
    }
   ],
   "source": [
    "def concat(a: str, b: str) -> str:\n",
    "    \"\"\"\n",
    "    Concatenate two strings and return the result.\n",
    "\n",
    "    Parameters:\n",
    "    a (str): The first string.\n",
    "    b (str): The second string.\n",
    "\n",
    "    Returns:\n",
    "    str: A single string formed by joining 'a' and 'b'.\n",
    "    \"\"\"\n",
    "    # Combine the two strings using +\n",
    "    return a + b\n",
    "\n",
    "\n",
    "# Example usage:\n",
    "print(concat(\"Hello, \", \"world!\"))  # Output: Hello, world!\n"
   ]
  },
  {
   "cell_type": "markdown",
   "id": "6ff4a37d",
   "metadata": {},
   "source": [
    "#### Functions — Variable Scope & Lifetime"
   ]
  },
  {
   "cell_type": "markdown",
   "id": "c07eba40",
   "metadata": {},
   "source": [
    "#### Scope Levels (LEGB Rule)\n",
    "\n",
    "| **Level**     | **Example**              | **Description**                          |\n",
    "|---------------|--------------------------|------------------------------------------|\n",
    "| Local         | inside current function  | Variables defined inside a function      |\n",
    "| Enclosing     | in outer functions       | For nested functions                     |\n",
    "| Global        | at top level of module   | Shared across functions in a file        |\n",
    "| Built-in      | provided by Python       | `len`, `sum`, `print`, etc.              |\n"
   ]
  },
  {
   "cell_type": "code",
   "execution_count": 72,
   "id": "7279afe0",
   "metadata": {},
   "outputs": [
    {
     "name": "stdout",
     "output_type": "stream",
     "text": [
      "local\n",
      "enclosing\n",
      "global\n"
     ]
    }
   ],
   "source": [
    "x = \"global\"  # This is a global variable. It exists in the global scope.\n",
    "\n",
    "def outer():\n",
    "    x = \"enclosing\"  # This variable is in the enclosing (nonlocal) scope for inner()\n",
    "    \n",
    "    def inner():\n",
    "        x = \"local\"  # This is a local variable to the inner() function\n",
    "        print(x)     # → Prints \"local\" because the local x overrides any outer x\n",
    "\n",
    "    inner()          # Call the inner() function\n",
    "    print(x)         # → Prints \"enclosing\" because x here refers to the enclosing variable\n",
    "\n",
    "outer()              # Call the outer() function\n",
    "print(x)             # → Prints \"global\" because x here refers to the global variable\n"
   ]
  },
  {
   "cell_type": "markdown",
   "id": "c764aae3",
   "metadata": {},
   "source": [
    "Local Variables"
   ]
  },
  {
   "cell_type": "code",
   "execution_count": 75,
   "id": "a16217bb",
   "metadata": {},
   "outputs": [
    {
     "name": "stdout",
     "output_type": "stream",
     "text": [
      "inside function\n"
     ]
    }
   ],
   "source": [
    "def demo():\n",
    "    msg = \"inside function\"  # 'msg' is a local variable to demo()\n",
    "    print(msg)               # ✅ This works: msg is accessible inside demo()\n",
    "\n",
    "demo()                       # Calls the function, which prints: \"inside function\"\n",
    "\n",
    "# print(msg)                # ❌ This will raise NameError: 'msg' is not defined\n",
    "                            # Because 'msg' is local to demo() and cannot be accessed outside"
   ]
  },
  {
   "cell_type": "markdown",
   "id": "d30c9010",
   "metadata": {},
   "source": [
    "Global Variables\n",
    "- Declared at the top level and can be read inside functions,\n",
    "- but must be marked global if you want to modify them."
   ]
  },
  {
   "cell_type": "code",
   "execution_count": 80,
   "id": "ef8f3932",
   "metadata": {},
   "outputs": [
    {
     "name": "stdout",
     "output_type": "stream",
     "text": [
      "1\n"
     ]
    }
   ],
   "source": [
    "count = 0       # Global variable\n",
    "\n",
    "def increment():\n",
    "    global count    # Declare that we want to use and modify the global 'count'\n",
    "    count += 1      # This modifies the global 'count', not a local copy\n",
    "\n",
    "increment()         # Call the function; it increases count from 0 to 1\n",
    "print(count)        # Prints: 1\n"
   ]
  },
  {
   "cell_type": "markdown",
   "id": "827e3268",
   "metadata": {},
   "source": [
    "Nonlocal Variables (for Nested Functions)\n",
    "- Used when you have an inner function that needs to modify a variable from its enclosing, not global, scope."
   ]
  },
  {
   "cell_type": "code",
   "execution_count": 84,
   "id": "862962a0",
   "metadata": {},
   "outputs": [
    {
     "name": "stdout",
     "output_type": "stream",
     "text": [
      "Inner: 15\n",
      "Outer: 15\n"
     ]
    }
   ],
   "source": [
    "def outer():\n",
    "    num = 10  # num is local to outer()\n",
    "\n",
    "    def inner():\n",
    "        nonlocal num  # refers to 'num' in outer(), not a new one in inner()\n",
    "        num += 5      # modifies the 'num' from outer()\n",
    "        print(\"Inner:\", num)  # Output: Inner: 15\n",
    "\n",
    "    inner()               # inner() is called, modifies and prints num\n",
    "    print(\"Outer:\", num)  # Output: Outer: 15 — same num as above\n",
    "\n",
    "outer()"
   ]
  },
  {
   "cell_type": "markdown",
   "id": "4e302d43",
   "metadata": {},
   "source": [
    "Closures (Functions Remember State)\n",
    "- When an inner function remembers variables from its enclosing scope even after the outer function has finished."
   ]
  },
  {
   "cell_type": "code",
   "execution_count": 85,
   "id": "26e105d1",
   "metadata": {},
   "outputs": [
    {
     "name": "stdout",
     "output_type": "stream",
     "text": [
      "10\n",
      "15\n"
     ]
    }
   ],
   "source": [
    "# This function demonstrates closures in Python.\n",
    "# It creates and returns a multiplier function customized by the 'factor' argument.\n",
    "\n",
    "def make_multiplier(factor):\n",
    "    # 'factor' is a local variable in the outer function 'make_multiplier'\n",
    "\n",
    "    def multiply(x):\n",
    "        # 'multiply' is the inner function (a closure)\n",
    "        # It captures and uses 'factor' from the enclosing scope\n",
    "        return x * factor\n",
    "\n",
    "    return multiply   # The inner function is returned (not called here)\n",
    "\n",
    "# Create a multiplier function that doubles the input\n",
    "double = make_multiplier(2)\n",
    "\n",
    "# Create a multiplier function that triples the input\n",
    "triple = make_multiplier(3)\n",
    "\n",
    "# Call the closure 'double' with argument 5\n",
    "print(double(5))   # Output: 10 → because 5 * 2 = 10\n",
    "\n",
    "# Call the closure 'triple' with argument 5\n",
    "print(triple(5))   # Output: 15 → because 5 * 3 = 15\n"
   ]
  },
  {
   "cell_type": "markdown",
   "id": "f5759c15",
   "metadata": {},
   "source": [
    "Variable Lifetime\n",
    "- Local: created when function starts, destroyed when it ends.\n",
    "- Global: exists for the lifetime of the program.\n",
    "- Enclosing: persists if captured in a closure."
   ]
  },
  {
   "cell_type": "code",
   "execution_count": 86,
   "id": "8bd4f08e",
   "metadata": {},
   "outputs": [
    {
     "name": "stdout",
     "output_type": "stream",
     "text": [
      "1\n",
      "2\n"
     ]
    }
   ],
   "source": [
    "# This function returns a counter function that remembers its state between calls\n",
    "# using a closure and the 'nonlocal' keyword.\n",
    "\n",
    "def counter():\n",
    "    count = 0  # This variable is local to 'counter' but will be captured by the inner function\n",
    "\n",
    "    def add():\n",
    "        nonlocal count  # Refers to 'count' in the enclosing 'counter' function\n",
    "        count += 1       # Increment the remembered state\n",
    "        return count     # Return the updated value\n",
    "\n",
    "    return add  # Return the inner function as a closure\n",
    "\n",
    "# Create a new counter instance (closure)\n",
    "c = counter()\n",
    "\n",
    "# Call the counter multiple times\n",
    "print(c())   # Output: 1 → count = 1\n",
    "print(c())   # Output: 2 → count = 2 (state remembered between calls)\n"
   ]
  },
  {
   "cell_type": "code",
   "execution_count": null,
   "id": "0054d1e1",
   "metadata": {},
   "outputs": [],
   "source": []
  }
 ],
 "metadata": {
  "kernelspec": {
   "display_name": "Python 3",
   "language": "python",
   "name": "python3"
  },
  "language_info": {
   "codemirror_mode": {
    "name": "ipython",
    "version": 3
   },
   "file_extension": ".py",
   "mimetype": "text/x-python",
   "name": "python",
   "nbconvert_exporter": "python",
   "pygments_lexer": "ipython3",
   "version": "3.12.11"
  }
 },
 "nbformat": 4,
 "nbformat_minor": 5
}
