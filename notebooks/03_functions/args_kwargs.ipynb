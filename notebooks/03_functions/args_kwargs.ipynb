{
 "cells": [
  {
   "cell_type": "markdown",
   "id": "0208852d",
   "metadata": {},
   "source": [
    "### 🐍 Python Functions — : Arguments"
   ]
  },
  {
   "cell_type": "markdown",
   "id": "4cb5217e",
   "metadata": {},
   "source": [
    "Positional Arguments"
   ]
  },
  {
   "cell_type": "code",
   "execution_count": 8,
   "id": "6b22ccc6",
   "metadata": {},
   "outputs": [
    {
     "name": "stdout",
     "output_type": "stream",
     "text": [
      "Dhiraj is 36 years old\n"
     ]
    }
   ],
   "source": [
    "# Order matters: values are matched by position.\n",
    "\n",
    "def greet(name, age):\n",
    "    # This will print the name and age in a formatted string\n",
    "    print(f\"{name} is {age} years old\")\n",
    "\n",
    "# Calling the function with arguments in correct order\n",
    "greet(\"Dhiraj\", 36)    # Output: Dhiraj is 36 years old"
   ]
  },
  {
   "cell_type": "markdown",
   "id": "e72030ed",
   "metadata": {},
   "source": [
    "Keyword Arguments"
   ]
  },
  {
   "cell_type": "code",
   "execution_count": 11,
   "id": "5e3c4bd3",
   "metadata": {},
   "outputs": [
    {
     "name": "stdout",
     "output_type": "stream",
     "text": [
      "Pooja is 34 years old\n"
     ]
    }
   ],
   "source": [
    "# You can pass by name, order doesn’t matter.\n",
    "greet(age=34, name=\"Pooja\")   # still works"
   ]
  },
  {
   "cell_type": "markdown",
   "id": "3828f8f1",
   "metadata": {},
   "source": [
    "Default Arguments"
   ]
  },
  {
   "cell_type": "code",
   "execution_count": 14,
   "id": "38732c37",
   "metadata": {},
   "outputs": [
    {
     "name": "stdout",
     "output_type": "stream",
     "text": [
      "25\n",
      "125\n"
     ]
    }
   ],
   "source": [
    "# Provide default values if not passed.\n",
    "\n",
    "def power(base, exp=2):\n",
    "    \"\"\"\n",
    "    Calculate the power of a number.\n",
    "\n",
    "    Parameters:\n",
    "    base (int or float): The base number.\n",
    "    exp (int): The exponent (defaults to 2).\n",
    "\n",
    "    Returns:\n",
    "    int or float: Result of base raised to the power of exp.\n",
    "    \"\"\"\n",
    "    return base ** exp  # Using the exponentiation operator\n",
    "\n",
    "\n",
    "# Example usage:\n",
    "print(power(5))        # Output: 25  → uses default exp=2 → 5**2 = 25\n",
    "print(power(5, 3))     # Output: 125 → uses provided exp=3 → 5**3 = 125\n"
   ]
  },
  {
   "cell_type": "code",
   "execution_count": 18,
   "id": "5c411ee7",
   "metadata": {},
   "outputs": [
    {
     "name": "stdout",
     "output_type": "stream",
     "text": [
      "[1]\n",
      "[2]\n",
      "[10, 20, 30]\n",
      "[10, 20, 30]\n",
      "['a']\n",
      "['b']\n",
      "[{'key': 'value'}]\n",
      "[3.14]\n"
     ]
    }
   ],
   "source": [
    "# Function to append an item to a list, safely handling default arguments.\n",
    "def append_item(item, lst=None):\n",
    "    # Avoid using mutable default arguments like [] because they persist across function calls.\n",
    "    # Instead, use None as the default value and create a new list inside the function if needed.\n",
    "    \n",
    "    if lst is None:\n",
    "        # If no list is provided (lst is None), initialize a new empty list.\n",
    "        lst = []\n",
    "\n",
    "    # Append the given item to the list.\n",
    "    lst.append(item)\n",
    "\n",
    "    # Return the modified list.\n",
    "    return lst\n",
    "\n",
    "\n",
    "# Test 1: No list passed in (should create a new list each time)\n",
    "print(append_item(1))  # Expected: [1]\n",
    "print(append_item(2))  # Expected: [2] - new list, not [1, 2]\n",
    "\n",
    "# Test 2: Existing list passed in\n",
    "my_list = [10, 20]\n",
    "result = append_item(30, my_list)\n",
    "print(result)          # Expected: [10, 20, 30]\n",
    "print(my_list)         # Expected: [10, 20, 30] - list modified in place\n",
    "\n",
    "# Test 3: Check that original list is preserved across different calls\n",
    "list1 = append_item('a')\n",
    "list2 = append_item('b')\n",
    "print(list1)           # Expected: ['a']\n",
    "print(list2)           # Expected: ['b']\n",
    "\n",
    "# Test 4: Appending different data types\n",
    "print(append_item({'key': 'value'}))   # Expected: [{'key': 'value'}]\n",
    "print(append_item(3.14))               # Expected: [3.14]\n"
   ]
  },
  {
   "cell_type": "markdown",
   "id": "b53e7082",
   "metadata": {},
   "source": [
    "Variable Positional Arguments (*args)"
   ]
  },
  {
   "cell_type": "code",
   "execution_count": 21,
   "id": "1678c5f9",
   "metadata": {},
   "outputs": [
    {
     "name": "stdout",
     "output_type": "stream",
     "text": [
      "10\n",
      "0\n",
      "5\n",
      "7.0\n",
      "0\n"
     ]
    }
   ],
   "source": [
    "# Function to sum any number of numeric arguments\n",
    "def add_all(*args):\n",
    "    # *args allows the function to accept any number of positional arguments.\n",
    "    # These arguments are received as a tuple named 'args'.\n",
    "    \n",
    "    # sum(args) adds up all elements in the tuple.\n",
    "    # Assumes all elements are numeric (int or float), otherwise TypeError will be raised.\n",
    "    return sum(args)\n",
    "\n",
    "# Example usage:\n",
    "print(add_all(1, 2, 3, 4))        # Expected output: 10\n",
    "print(add_all())                 # Expected output: 0 (no arguments passed)\n",
    "print(add_all(5))                # Expected output: 5\n",
    "print(add_all(1.5, 2.5, 3.0))    # Expected output: 7.0 (works with floats)\n",
    "print(add_all(-1, -2, 3))        # Expected output: 0"
   ]
  },
  {
   "cell_type": "markdown",
   "id": "875a6d3f",
   "metadata": {},
   "source": [
    "Variable Keyword Arguments (**kwargs)"
   ]
  },
  {
   "cell_type": "code",
   "execution_count": 22,
   "id": "0a6bbd12",
   "metadata": {},
   "outputs": [
    {
     "name": "stdout",
     "output_type": "stream",
     "text": [
      "name → Dhiraj\n",
      "role → Team Lead\n",
      "skills → Python\n"
     ]
    }
   ],
   "source": [
    "# Function to print profile information using keyword arguments\n",
    "def profile(**kwargs):\n",
    "    # **kwargs collects all keyword arguments into a dictionary.\n",
    "    # Each key is a parameter name, and each value is the corresponding argument value.\n",
    "    \n",
    "    # Loop through each key-value pair in the dictionary\n",
    "    for key, value in kwargs.items():\n",
    "        # Print the key and value in a formatted way\n",
    "        print(f\"{key} → {value}\")\n",
    "\n",
    "# Example usage:\n",
    "profile(name=\"Dhiraj\", role=\"Team Lead\", skills=\"Python\")\n",
    "\n",
    "# Expected Output:\n",
    "# name → Dhiraj\n",
    "# role → Team Lead\n",
    "# skills → Python\n"
   ]
  },
  {
   "cell_type": "markdown",
   "id": "31bc367e",
   "metadata": {},
   "source": [
    "Mixing *args and **kwargs"
   ]
  },
  {
   "cell_type": "code",
   "execution_count": 25,
   "id": "c57db77d",
   "metadata": {},
   "outputs": [
    {
     "name": "stdout",
     "output_type": "stream",
     "text": [
      "Positional Arguments (args): (1, 2, 3)\n",
      "Keyword Arguments (kwargs): {'name': 'Dhiraj', 'role': 'lead'}\n"
     ]
    }
   ],
   "source": [
    "# Function that demonstrates the use of both *args and **kwargs\n",
    "def show_details(*args, **kwargs):\n",
    "    # *args collects all positional arguments into a tuple (args).\n",
    "    # These are arguments passed without keywords (e.g., 1, 2, 3, etc.).\n",
    "    print(\"Positional Arguments (args):\", args)\n",
    "    \n",
    "    # **kwargs collects all keyword arguments into a dictionary (kwargs).\n",
    "    # These are arguments passed with a keyword (e.g., name=\"Dhiraj\", role=\"lead\").\n",
    "    print(\"Keyword Arguments (kwargs):\", kwargs)\n",
    "\n",
    "# Example usage:\n",
    "show_details(1, 2, 3, name=\"Dhiraj\", role=\"lead\")\n",
    "\n",
    "# Expected Output:\n",
    "# Positional Arguments (args): (1, 2, 3)\n",
    "# Keyword Arguments (kwargs): {'name': 'Dhiraj', 'role': 'lead'}\n"
   ]
  },
  {
   "cell_type": "markdown",
   "id": "fea290af",
   "metadata": {},
   "source": [
    "#### Argument Unpacking\n",
    "- You can unpack lists/tuples into args with *\n",
    "- You can unpack dict into kwargs with **"
   ]
  },
  {
   "cell_type": "code",
   "execution_count": 32,
   "id": "ade9590c",
   "metadata": {},
   "outputs": [
    {
     "name": "stdout",
     "output_type": "stream",
     "text": [
      "pooja is 34 years old\n",
      "dhiraj is 38 years old\n"
     ]
    }
   ],
   "source": [
    "# Function to greet and print a person's name and age\n",
    "def greet(name, age):\n",
    "    # Print the name and age of the person\n",
    "    print(f\"{name} is {age} years old\")\n",
    "\n",
    "# Example 1: Using *args unpacking with a tuple\n",
    "params = (\"pooja\", 34)\n",
    "# *params unpacks the tuple into the positional arguments name and age\n",
    "greet(*params)  # Expected output: pooja is 34 years old\n",
    "\n",
    "# Example 2: Using **kwargs unpacking with a dictionary\n",
    "info = {\"name\": \"dhiraj\", \"age\": 38}\n",
    "# **info unpacks the dictionary into keyword arguments, matching the function parameters\n",
    "greet(**info)  # Expected output: dhiraj is 38 years old"
   ]
  },
  {
   "cell_type": "markdown",
   "id": "5832fbdb",
   "metadata": {},
   "source": [
    "#### Argument Ordering Rules\n",
    "\n",
    "When defining a function, arguments must follow this order:\n",
    "\n",
    "- Positional (required)\n",
    "- Default (optional)\n",
    "- *args\n",
    "- Keyword-only arguments\n",
    "- **kwargs"
   ]
  },
  {
   "cell_type": "code",
   "execution_count": 36,
   "id": "4cd8a72c",
   "metadata": {},
   "outputs": [
    {
     "name": "stdout",
     "output_type": "stream",
     "text": [
      "1 5 (6, 7) 10 {'x': 99}\n"
     ]
    }
   ],
   "source": [
    "def func(a, b=2, *args, c, **kwargs):\n",
    "    # Prints the values of all arguments\n",
    "    print(a, b, args, c, kwargs)\n",
    "\n",
    "# Example usage:\n",
    "func(1, 5, 6, 7, c=10, x=99)\n",
    "\n",
    "# Expected output:\n",
    "# a=1, b=5, args=(6,7), c=10, kwargs={'x': 99}"
   ]
  },
  {
   "cell_type": "markdown",
   "id": "5fb09cff",
   "metadata": {},
   "source": [
    "#### Keyword-only Arguments\n",
    "- Arguments after * must be passed by name."
   ]
  },
  {
   "cell_type": "code",
   "execution_count": 41,
   "id": "e6f1c0d4",
   "metadata": {},
   "outputs": [
    {
     "name": "stdout",
     "output_type": "stream",
     "text": [
      "Connecting to localhost:3306\n",
      "Connecting to localhost:5432\n"
     ]
    }
   ],
   "source": [
    "# Function to simulate connecting to a server with a host and optional port\n",
    "def connect(host, *, port=3306):\n",
    "    # The '*' means any parameter after it (here, 'port') must be passed as a keyword argument.\n",
    "    # 'port=3306' sets a default value, so it's optional unless you want to change it.\n",
    "    print(f\"Connecting to {host}:{port}\")\n",
    "\n",
    "# ✅ Correct usage with default port\n",
    "connect(\"localhost\")  \n",
    "# Output: Connecting to localhost:3306\n",
    "\n",
    "# ✅ Correct usage with explicit port\n",
    "connect(\"localhost\", port=5432)\n",
    "# Output: Connecting to localhost:5432\n",
    "\n",
    "# ❌ Incorrect usage: trying to pass keyword-only argument as positional\n",
    "# connect(\"localhost\", 5432)\n",
    "# TypeError: connect() takes 1 positional argument but 2 were given\n"
   ]
  },
  {
   "cell_type": "markdown",
   "id": "6e3a6f7b",
   "metadata": {},
   "source": [
    "#### Practice Tasks (Arguments)\n",
    "\n",
    "Write a function multiply_all(*args) that multiplies all numbers passed."
   ]
  },
  {
   "cell_type": "code",
   "execution_count": 44,
   "id": "553d571d",
   "metadata": {},
   "outputs": [
    {
     "name": "stdout",
     "output_type": "stream",
     "text": [
      "24\n"
     ]
    }
   ],
   "source": [
    "# Function to multiply all given positional arguments\n",
    "def multiply_all(*args):\n",
    "    # Initialize the result to 1 (since 1 is the identity for multiplication)\n",
    "    result = 1\n",
    "    \n",
    "    # Loop through all values in args (a tuple of positional arguments)\n",
    "    for num in args:\n",
    "        result *= num  # Multiply each number with the running result\n",
    "\n",
    "    # Return the final product\n",
    "    return result\n",
    "\n",
    "# Example usage:\n",
    "print(multiply_all(2, 3, 4))  # Expected output: 24 (2 * 3 * 4)\n"
   ]
  },
  {
   "cell_type": "markdown",
   "id": "b718ec7f",
   "metadata": {},
   "source": [
    "Create a function describe_person(**kwargs) that prints details like name, age, role."
   ]
  },
  {
   "cell_type": "code",
   "execution_count": 49,
   "id": "f8ecb775",
   "metadata": {},
   "outputs": [
    {
     "name": "stdout",
     "output_type": "stream",
     "text": [
      "Name: Alice\n",
      "Age: 30\n",
      "Role: Developer\n"
     ]
    }
   ],
   "source": [
    "# Function to describe a person using keyword arguments\n",
    "def describe_person(**kwargs):\n",
    "    # **kwargs collects all keyword arguments into a dictionary\n",
    "    # Loop through each key-value pair in the kwargs dictionary\n",
    "    for key, value in kwargs.items():\n",
    "        # Print the key with the first letter capitalized and its corresponding value\n",
    "        print(f\"{key.capitalize()}: {value}\")\n",
    "\n",
    "# Example usage:\n",
    "describe_person(name=\"Alice\", age=30, role=\"Developer\")\n",
    "\n",
    "# Expected Output:\n",
    "# Name: Alice\n",
    "# Age: 30\n",
    "# Role: Developer"
   ]
  },
  {
   "cell_type": "markdown",
   "id": "d883bae2",
   "metadata": {},
   "source": [
    "Write a function stats(a, b=0, *args, scale=1, **kwargs) that returns (sum * scale). Test with different combos."
   ]
  },
  {
   "cell_type": "code",
   "execution_count": 51,
   "id": "b05ac08a",
   "metadata": {},
   "outputs": [
    {
     "name": "stdout",
     "output_type": "stream",
     "text": [
      "5\n",
      "40\n"
     ]
    }
   ],
   "source": [
    "# Task: Return (sum * scale) from all arguments.\n",
    "\n",
    "# Function to compute the scaled sum of given numbers\n",
    "def stats(a, b=0, *args, scale=1, **kwargs):\n",
    "    \"\"\"\n",
    "    Parameters:\n",
    "    - a: required positional argument\n",
    "    - b: optional positional argument with default = 0\n",
    "    - *args: additional positional arguments (as a tuple)\n",
    "    - scale: keyword-only argument with default = 1\n",
    "    - **kwargs: captures extra keyword arguments (not used here)\n",
    "\n",
    "    Returns:\n",
    "    - Scaled sum of a, b, and any additional numbers in args\n",
    "    \"\"\"\n",
    "    \n",
    "    # Calculate the total sum of a, b, and any additional positional args\n",
    "    total = a + b + sum(args)\n",
    "    \n",
    "    # Apply the scaling factor and return the result\n",
    "    return total * scale\n",
    "\n",
    "# Example 1:\n",
    "# a = 2, b = 3, no additional args, scale = default (1)\n",
    "# total = 2 + 3 = 5, scaled = 5 * 1 = 5\n",
    "print(stats(2, 3))  # Output: 5\n",
    "\n",
    "# Example 2:\n",
    "# a = 2, b = 3, args = (5, 10), scale = 2\n",
    "# total = 2 + 3 + 5 + 10 = 20, scaled = 20 * 2 = 40\n",
    "print(stats(2, 3, 5, 10, scale=2))  # Output: 40\n"
   ]
  },
  {
   "cell_type": "markdown",
   "id": "946596a9",
   "metadata": {},
   "source": [
    "Use unpacking: given params = (5, 3) call a function power(base, exp) using *params."
   ]
  },
  {
   "cell_type": "code",
   "execution_count": null,
   "id": "f3216a64",
   "metadata": {},
   "outputs": [
    {
     "name": "stdout",
     "output_type": "stream",
     "text": [
      "125\n"
     ]
    }
   ],
   "source": [
    "# Function to calculate the power of a number\n",
    "def power(base, exp):\n",
    "    # Returns base raised to the power of exp (i.e., base ** exp)\n",
    "    return base ** exp\n",
    "\n",
    "# Tuple containing arguments to be passed to the function\n",
    "params = (5, 3)\n",
    "\n",
    "# Using *params to unpack the tuple into separate arguments: power(5, 3)\n",
    "print(power(*params))  # Expected output: 125"
   ]
  },
  {
   "cell_type": "markdown",
   "id": "771320e1",
   "metadata": {},
   "source": [
    "reate a function safe_profile(name, age, **kwargs) that requires name & age, but accepts optional info (skills, location)."
   ]
  },
  {
   "cell_type": "code",
   "execution_count": 59,
   "id": "726374f3",
   "metadata": {},
   "outputs": [
    {
     "name": "stdout",
     "output_type": "stream",
     "text": [
      "Name: Bob\n",
      "Age: 25\n",
      "Location: Delhi\n",
      "Skills: ['Python', 'SQL']\n"
     ]
    }
   ],
   "source": [
    "def safe_profile(name, age, **kwargs):\n",
    "    print(f\"Name: {name}\")\n",
    "    print(f\"Age: {age}\")\n",
    "\n",
    "    for key, value in kwargs.items():\n",
    "        print(f\"{key.capitalize()}: {value}\")\n",
    "\n",
    "safe_profile(\"Bob\", 25, location = \"Delhi\",Skills = [\"Python\",\"SQL\"])"
   ]
  },
  {
   "cell_type": "markdown",
   "id": "a96f101e",
   "metadata": {},
   "source": [
    "Write a function connect_db(*args, **kwargs) and pass values from both tuple and dict via unpacking."
   ]
  },
  {
   "cell_type": "code",
   "execution_count": 60,
   "id": "5ccb6a94",
   "metadata": {},
   "outputs": [
    {
     "name": "stdout",
     "output_type": "stream",
     "text": [
      "Positional args: ('localhost', 5432)\n",
      "Keyword args: {'user': 'admin', 'password': 'secret'}\n"
     ]
    }
   ],
   "source": [
    "# Function to simulate connecting to a database\n",
    "def connect_db(*args, **kwargs):\n",
    "    # *args collects all positional arguments into a tuple\n",
    "    print(\"Positional args:\", args)\n",
    "    \n",
    "    # **kwargs collects all keyword arguments into a dictionary\n",
    "    print(\"Keyword args:\", kwargs)\n",
    "\n",
    "# Tuple of positional arguments (e.g., host and port)\n",
    "db_args = (\"localhost\", 5432)\n",
    "\n",
    "# Dictionary of keyword arguments (e.g., credentials)\n",
    "db_kwargs = {\n",
    "    \"user\": \"admin\",\n",
    "    \"password\": \"secret\"\n",
    "}\n",
    "\n",
    "# Call the function with unpacked tuple and dictionary\n",
    "connect_db(*db_args, **db_kwargs)\n",
    "\n",
    "# Expected Output:\n",
    "# Positional args: ('localhost', 5432)\n",
    "# Keyword args: {'user': 'admin', 'password': 'secret'}\n"
   ]
  },
  {
   "cell_type": "code",
   "execution_count": null,
   "id": "f8d91787",
   "metadata": {},
   "outputs": [],
   "source": []
  }
 ],
 "metadata": {
  "kernelspec": {
   "display_name": "Python 3",
   "language": "python",
   "name": "python3"
  },
  "language_info": {
   "codemirror_mode": {
    "name": "ipython",
    "version": 3
   },
   "file_extension": ".py",
   "mimetype": "text/x-python",
   "name": "python",
   "nbconvert_exporter": "python",
   "pygments_lexer": "ipython3",
   "version": "3.12.11"
  }
 },
 "nbformat": 4,
 "nbformat_minor": 5
}
