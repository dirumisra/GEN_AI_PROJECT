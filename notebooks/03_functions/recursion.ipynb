{
 "cells": [
  {
   "cell_type": "markdown",
   "id": "116a1757",
   "metadata": {},
   "source": [
    "#### 🐍 Python Functions — : Recursion"
   ]
  },
  {
   "cell_type": "markdown",
   "id": "3b9b7d8b",
   "metadata": {},
   "source": [
    "#### What is Recursion?\n",
    "- A function calls itself directly or indirectly.\n",
    "- Each recursive call reduces the problem toward a base case (stopping condition)."
   ]
  },
  {
   "cell_type": "code",
   "execution_count": 13,
   "id": "596a1627",
   "metadata": {},
   "outputs": [
    {
     "name": "stdout",
     "output_type": "stream",
     "text": [
      "5\n",
      "4\n",
      "3\n",
      "2\n",
      "1\n",
      "Lift off 🚀\n"
     ]
    }
   ],
   "source": [
    "# Recursive countdown function\n",
    "def countdown(n):\n",
    "    # Base case: when n reaches 0, stop recursion\n",
    "    if n == 0:\n",
    "        print(\"Lift off 🚀\")\n",
    "    else:\n",
    "        # Print current number\n",
    "        print(n)\n",
    "        # Recursive call with a smaller number\n",
    "        countdown(n - 1)\n",
    "\n",
    "# Start countdown from 5\n",
    "countdown(5)\n"
   ]
  },
  {
   "cell_type": "markdown",
   "id": "834173c3",
   "metadata": {},
   "source": [
    "Factorial Example"
   ]
  },
  {
   "cell_type": "code",
   "execution_count": 14,
   "id": "3c7693ea",
   "metadata": {},
   "outputs": [
    {
     "name": "stdout",
     "output_type": "stream",
     "text": [
      "120\n"
     ]
    }
   ],
   "source": [
    "# Recursive factorial function\n",
    "def factorial(n):\n",
    "    if n == 0:\n",
    "        return 1                # Base case: 0! = 1\n",
    "    else:\n",
    "        return n * factorial(n - 1)  # Recursive case: n! = n * (n-1)!\n",
    "        \n",
    "# Example usage:\n",
    "print(factorial(5))  # Output: 120\n"
   ]
  },
  {
   "cell_type": "markdown",
   "id": "126d918b",
   "metadata": {},
   "source": [
    "Fibonacci Sequence"
   ]
  },
  {
   "cell_type": "code",
   "execution_count": 15,
   "id": "1e324ddd",
   "metadata": {},
   "outputs": [
    {
     "name": "stdout",
     "output_type": "stream",
     "text": [
      "[0, 1, 1, 2, 3, 5, 8, 13]\n"
     ]
    }
   ],
   "source": [
    "# Recursive function to calculate the nth Fibonacci number\n",
    "def fibonacci(n):\n",
    "    # Base cases:\n",
    "    if n <= 1:\n",
    "        return n  # Return 0 if n==0, 1 if n==1\n",
    "\n",
    "    # Recursive case: Fn = Fn-1 + Fn-2\n",
    "    return fibonacci(n - 1) + fibonacci(n - 2)\n",
    "\n",
    "# Generate the first 8 Fibonacci numbers (from index 0 to 7)\n",
    "fib_sequence = [fibonacci(i) for i in range(8)]\n",
    "print(fib_sequence)  # Output: [0, 1, 1, 2, 3, 5, 8, 13]\n"
   ]
  },
  {
   "cell_type": "markdown",
   "id": "ec3439b0",
   "metadata": {},
   "source": [
    "Optimizing Recursion (Memoization)"
   ]
  },
  {
   "cell_type": "code",
   "execution_count": 18,
   "id": "138041c3",
   "metadata": {},
   "outputs": [
    {
     "name": "stdout",
     "output_type": "stream",
     "text": [
      "832040\n"
     ]
    }
   ],
   "source": [
    "from functools import lru_cache\n",
    "\n",
    "# Use memoization to cache previously computed results\n",
    "@lru_cache(maxsize=None)  # Unlimited cache size\n",
    "def fib(n):\n",
    "    # Base cases\n",
    "    if n <= 1:\n",
    "        return n\n",
    "\n",
    "    # Recursive case with memoization\n",
    "    return fib(n - 1) + fib(n - 2)\n",
    "\n",
    "# Compute the 30th Fibonacci number\n",
    "print(fib(30))  # Output: 832040 — and runs instantly!\n"
   ]
  },
  {
   "cell_type": "markdown",
   "id": "dee81284",
   "metadata": {},
   "source": [
    "Tail Recursion (Concept)"
   ]
  },
  {
   "cell_type": "code",
   "execution_count": 19,
   "id": "961dcd89",
   "metadata": {},
   "outputs": [
    {
     "name": "stdout",
     "output_type": "stream",
     "text": [
      "120\n"
     ]
    }
   ],
   "source": [
    "def factorial_tail(n, acc=1):\n",
    "    \"\"\"\n",
    "    Tail-recursive factorial function.\n",
    "    \n",
    "    Parameters:\n",
    "    - n: the number to compute factorial of\n",
    "    - acc: accumulator holding the intermediate factorial result (default 1)\n",
    "    \n",
    "    Returns:\n",
    "    - factorial of n\n",
    "    \"\"\"\n",
    "    if n == 0:\n",
    "        # Base case: when n reaches 0, return the accumulated product\n",
    "        return acc\n",
    "    # Recursive call: multiply acc by current n and decrease n by 1\n",
    "    return factorial_tail(n - 1, acc * n)\n",
    "\n",
    "# Example usage\n",
    "print(factorial_tail(5))  # Output: 120\n"
   ]
  },
  {
   "cell_type": "markdown",
   "id": "dd367dc6",
   "metadata": {},
   "source": [
    "Recursive vs Iterative Comparison"
   ]
  },
  {
   "cell_type": "code",
   "execution_count": 20,
   "id": "f5175e95",
   "metadata": {},
   "outputs": [
    {
     "name": "stdout",
     "output_type": "stream",
     "text": [
      "120\n",
      "120\n"
     ]
    }
   ],
   "source": [
    "# Iterative version of factorial\n",
    "def factorial_iter(n):\n",
    "    result = 1\n",
    "    # Multiply result by each number from 1 to n\n",
    "    for i in range(1, n + 1):\n",
    "        result *= i\n",
    "    return result\n",
    "\n",
    "# Recursive version of factorial\n",
    "def factorial_rec(n):\n",
    "    # Base case: factorial(0) = 1, factorial(1) = 1\n",
    "    if n <= 1:\n",
    "        return 1\n",
    "    # Recursive case: n! = n * (n-1)!\n",
    "    return n * factorial_rec(n - 1)\n",
    "\n",
    "# Examples:\n",
    "print(factorial_iter(5))  # Output: 120\n",
    "print(factorial_rec(5))   # Output: 120\n"
   ]
  },
  {
   "cell_type": "markdown",
   "id": "36ce014b",
   "metadata": {},
   "source": [
    "Recursive Sum of Nested Lists"
   ]
  },
  {
   "cell_type": "code",
   "execution_count": 21,
   "id": "1b4c662b",
   "metadata": {},
   "outputs": [
    {
     "name": "stdout",
     "output_type": "stream",
     "text": [
      "15\n"
     ]
    }
   ],
   "source": [
    "def nested_sum(lst):\n",
    "    total = 0\n",
    "    for i in lst:\n",
    "        if isinstance(i, list):\n",
    "            # If the element is a list, recurse to sum its elements\n",
    "            total += nested_sum(i)\n",
    "        else:\n",
    "            # Otherwise, add the element (assumed number) directly\n",
    "            total += i\n",
    "    return total\n",
    "\n",
    "# Example usage:\n",
    "print(nested_sum([1, [2, [3, 4]], 5]))  # Output: 15\n"
   ]
  },
  {
   "cell_type": "code",
   "execution_count": null,
   "id": "15114bf9",
   "metadata": {},
   "outputs": [],
   "source": []
  }
 ],
 "metadata": {
  "kernelspec": {
   "display_name": "Python 3",
   "language": "python",
   "name": "python3"
  },
  "language_info": {
   "codemirror_mode": {
    "name": "ipython",
    "version": 3
   },
   "file_extension": ".py",
   "mimetype": "text/x-python",
   "name": "python",
   "nbconvert_exporter": "python",
   "pygments_lexer": "ipython3",
   "version": "3.12.11"
  }
 },
 "nbformat": 4,
 "nbformat_minor": 5
}
