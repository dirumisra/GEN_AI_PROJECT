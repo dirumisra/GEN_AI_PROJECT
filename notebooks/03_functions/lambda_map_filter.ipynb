{
 "cells": [
  {
   "cell_type": "markdown",
   "id": "cc520cfe",
   "metadata": {},
   "source": [
    "#### 🐍 Python Functions — : Lambda & Functional Programming"
   ]
  },
  {
   "cell_type": "code",
   "execution_count": 7,
   "id": "334b6df1",
   "metadata": {},
   "outputs": [
    {
     "name": "stdout",
     "output_type": "stream",
     "text": [
      "8\n"
     ]
    }
   ],
   "source": [
    "# lambda arguments: expression\n",
    "    # Can take multiple arguments.\n",
    "    # Must contain a single expression.\n",
    "    # Automatically returns its result (no return keyword).\n",
    "\n",
    "# Normal function definition\n",
    "def add(a, b):\n",
    "    return a + b\n",
    "\n",
    "# Equivalent lambda function (anonymous function)\n",
    "add_lambda = lambda a, b: a + b\n",
    "\n",
    "# Test the lambda function\n",
    "print(add_lambda(5, 3))    # Output: 8"
   ]
  },
  {
   "cell_type": "markdown",
   "id": "8831776f",
   "metadata": {},
   "source": [
    "Lambda with Built-in Functions\n",
    "- map() → apply a function to every item"
   ]
  },
  {
   "cell_type": "code",
   "execution_count": 11,
   "id": "378b3899",
   "metadata": {},
   "outputs": [
    {
     "name": "stdout",
     "output_type": "stream",
     "text": [
      "[1, 4, 9, 16]\n"
     ]
    }
   ],
   "source": [
    "# Original list of numbers\n",
    "nums = [1, 2, 3, 4]\n",
    "\n",
    "# Use map() with a lambda function to square each number\n",
    "squares = list(map(lambda x: x ** 2, nums))\n",
    "\n",
    "# Print the list of squares\n",
    "print(squares)     # Output: [1, 4, 9, 16]"
   ]
  },
  {
   "cell_type": "markdown",
   "id": "4380d884",
   "metadata": {},
   "source": [
    "Equivalent using loop:"
   ]
  },
  {
   "cell_type": "code",
   "execution_count": 14,
   "id": "9b621970",
   "metadata": {},
   "outputs": [
    {
     "name": "stdout",
     "output_type": "stream",
     "text": [
      "[1, 4, 9, 16]\n"
     ]
    }
   ],
   "source": [
    "# Original list of numbers\n",
    "nums = [1, 2, 3, 4]\n",
    "\n",
    "# Create an empty list to hold the squares\n",
    "squares = []\n",
    "\n",
    "# Loop through each number in the list and compute its square\n",
    "for x in nums:\n",
    "    squares.append(x ** 2)  # Add the square of x to the 'squares' list\n",
    "\n",
    "# Print the result\n",
    "print(squares)  # Output: [1, 4, 9, 16]"
   ]
  },
  {
   "cell_type": "markdown",
   "id": "7b2de356",
   "metadata": {},
   "source": [
    "filter() → keep items where condition is True"
   ]
  },
  {
   "cell_type": "code",
   "execution_count": 19,
   "id": "30c45d28",
   "metadata": {},
   "outputs": [
    {
     "name": "stdout",
     "output_type": "stream",
     "text": [
      "[10, 20, 30]\n",
      "[10, 20, 30]\n"
     ]
    }
   ],
   "source": [
    "# Original list of numbers\n",
    "nums = [10, 15, 20, 25, 30]\n",
    "\n",
    "# Use filter() with a lambda to keep only even numbers\n",
    "# lambda n: n % 2 == 0 → returns True if the number is even\n",
    "# filter() returns only those elements for which the lambda returns True\n",
    "evens = list(filter(lambda n: n % 2 == 0, nums))\n",
    "\n",
    "# Print the list of even numbers\n",
    "print(evens)       # Output: [10, 20, 30]\n",
    "\n",
    "even = [n for n in nums if n % 2 == 0]\n",
    "\n",
    "print(even)"
   ]
  },
  {
   "cell_type": "markdown",
   "id": "cac9d732",
   "metadata": {},
   "source": [
    "reduce() → accumulate values (from functools)"
   ]
  },
  {
   "cell_type": "code",
   "execution_count": 20,
   "id": "0eddba0c",
   "metadata": {},
   "outputs": [
    {
     "name": "stdout",
     "output_type": "stream",
     "text": [
      "24\n"
     ]
    }
   ],
   "source": [
    "from functools import reduce  # Import reduce from the functools module\n",
    "\n",
    "# List of numbers\n",
    "nums = [1, 2, 3, 4]\n",
    "\n",
    "# Use reduce() with a lambda to multiply all numbers together\n",
    "# reduce applies the lambda cumulatively: (((1 * 2) * 3) * 4)\n",
    "product = reduce(lambda a, b: a * b, nums)\n",
    "\n",
    "# Print the final product\n",
    "print(product)     # Output: 24\n"
   ]
  },
  {
   "cell_type": "markdown",
   "id": "019ad9cb",
   "metadata": {},
   "source": [
    "sorted() with Lambda as Key"
   ]
  },
  {
   "cell_type": "code",
   "execution_count": 23,
   "id": "e0a4d0e7",
   "metadata": {},
   "outputs": [
    {
     "name": "stdout",
     "output_type": "stream",
     "text": [
      "['kiwi', 'apple', 'grape', 'banana']\n",
      "[(3, 1), (2, 4), (1, 5)]\n"
     ]
    }
   ],
   "source": [
    "# List of fruit names\n",
    "data = [\"apple\", \"banana\", \"kiwi\", \"grape\"]\n",
    "\n",
    "# Sort the list by the length of each word using a lambda as the key function\n",
    "sorted_data = sorted(data, key=lambda x: len(x))\n",
    "\n",
    "# Print the sorted list\n",
    "print(sorted_data)  # Expected Output: ['kiwi', 'apple', 'grape', 'banana']\n",
    "\n",
    "# Sort tuples by second element:\n",
    "pairs = [(1, 5), (3, 1), (2, 4)]\n",
    "sorted_pairs = sorted(pairs, key=lambda x: x[1])\n",
    "print(sorted_pairs)    # [(3, 1), (2, 4), (1, 5)]\n"
   ]
  },
  {
   "cell_type": "markdown",
   "id": "c09baa29",
   "metadata": {},
   "source": [
    "Lambda Inside Custom Functions"
   ]
  },
  {
   "cell_type": "code",
   "execution_count": 24,
   "id": "9a8a2f1c",
   "metadata": {},
   "outputs": [
    {
     "name": "stdout",
     "output_type": "stream",
     "text": [
      "10\n"
     ]
    }
   ],
   "source": [
    "# Function that returns a multiplier function (closure)\n",
    "def make_multiplier(n):\n",
    "    # Returns a lambda function that multiplies its input x by n\n",
    "    # This lambda \"remembers\" the value of n even after make_multiplier has finished executing\n",
    "    return lambda x: x * n\n",
    "\n",
    "# Create a new function that doubles its input\n",
    "double = make_multiplier(2)\n",
    "\n",
    "# Call the resulting function with input 5\n",
    "print(double(5))  # Output: 10\n"
   ]
  },
  {
   "cell_type": "code",
   "execution_count": 25,
   "id": "931c279c",
   "metadata": {},
   "outputs": [
    {
     "name": "stdout",
     "output_type": "stream",
     "text": [
      "15\n",
      "8\n"
     ]
    }
   ],
   "source": [
    "triple = make_multiplier(3)\n",
    "print(triple(5))  # Output: 15\n",
    "\n",
    "quadruple = make_multiplier(4)\n",
    "print(quadruple(2))  # Output: 8\n"
   ]
  },
  {
   "cell_type": "markdown",
   "id": "c94f0d1a",
   "metadata": {},
   "source": [
    "Combining Map, Filter, and Reduce"
   ]
  },
  {
   "cell_type": "code",
   "execution_count": 30,
   "id": "041377b9",
   "metadata": {},
   "outputs": [
    {
     "name": "stdout",
     "output_type": "stream",
     "text": [
      "56\n"
     ]
    }
   ],
   "source": [
    "from functools import reduce\n",
    "\n",
    "# List of numbers\n",
    "nums = [1, 2, 3, 4, 5, 6]\n",
    "\n",
    "# Step-by-step:\n",
    "# 1. filter(...) → keep only even numbers: [2, 4, 6]\n",
    "# 2. map(...) → square each even number: [4, 16, 36]\n",
    "# 3. reduce(...) → sum the squared values: 4 + 16 + 36 = 56\n",
    "\n",
    "result = reduce(\n",
    "    lambda a, b: a + b,                          # Combines elements by addition\n",
    "    map(lambda x: x ** 2,                        # Square each number\n",
    "        filter(lambda x: x % 2 == 0, nums))      # Keep even numbers only\n",
    ")\n",
    "\n",
    "print(result)  # Expected output: 56"
   ]
  },
  {
   "cell_type": "markdown",
   "id": "52f9c762",
   "metadata": {},
   "source": [
    "Lambda with Conditional Expressions"
   ]
  },
  {
   "cell_type": "code",
   "execution_count": 31,
   "id": "bb253ad8",
   "metadata": {},
   "outputs": [
    {
     "name": "stdout",
     "output_type": "stream",
     "text": [
      "20\n"
     ]
    }
   ],
   "source": [
    "# Lambda function to return the maximum of two values\n",
    "max_val = lambda a, b: a if a > b else b\n",
    "\n",
    "# Call the lambda with two numbers\n",
    "print(max_val(10, 20))  # Expected output: 20\n"
   ]
  },
  {
   "cell_type": "markdown",
   "id": "f8678f08",
   "metadata": {},
   "source": [
    "When Not to Use Lambda\n",
    "- When function needs multiple statements.\n",
    "- When readability suffers.\n",
    "- Prefer named functions for complex logic."
   ]
  },
  {
   "cell_type": "code",
   "execution_count": 35,
   "id": "444d718b",
   "metadata": {},
   "outputs": [
    {
     "name": "stdout",
     "output_type": "stream",
     "text": [
      "(4, 6, 27)\n"
     ]
    }
   ],
   "source": [
    "# ❌ Not recommended\n",
    "process = lambda x: (x + 1, x * 2, x ** 3)\n",
    "\n",
    "# Recommended\n",
    "# Function that processes a number and returns a tuple of results\n",
    "def process(x):\n",
    "    # Returns:\n",
    "    # - x + 1\n",
    "    # - x * 2\n",
    "    # - x raised to the power of 3\n",
    "    return x + 1, x * 2, x ** 3\n",
    "\n",
    "# Example usage\n",
    "result = process(3)\n",
    "print(result)  # Output: (4, 6, 27)\n"
   ]
  },
  {
   "cell_type": "code",
   "execution_count": null,
   "id": "c0c3142a",
   "metadata": {},
   "outputs": [],
   "source": []
  }
 ],
 "metadata": {
  "kernelspec": {
   "display_name": "Python 3",
   "language": "python",
   "name": "python3"
  },
  "language_info": {
   "codemirror_mode": {
    "name": "ipython",
    "version": 3
   },
   "file_extension": ".py",
   "mimetype": "text/x-python",
   "name": "python",
   "nbconvert_exporter": "python",
   "pygments_lexer": "ipython3",
   "version": "3.12.11"
  }
 },
 "nbformat": 4,
 "nbformat_minor": 5
}
