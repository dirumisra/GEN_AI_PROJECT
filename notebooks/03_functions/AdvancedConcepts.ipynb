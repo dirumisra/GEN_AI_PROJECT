{
 "cells": [
  {
   "cell_type": "markdown",
   "id": "c308173b",
   "metadata": {},
   "source": [
    "#### 🐍 Python Functions — : Advanced Concepts"
   ]
  },
  {
   "cell_type": "markdown",
   "id": "02caac4c",
   "metadata": {},
   "source": [
    "In Python, functions are treated like any other object — you can:\n",
    "- Assign them to variables\n",
    "- Pass them as arguments\n",
    "- Return them from other functions\n",
    "- Store them in data structures"
   ]
  },
  {
   "cell_type": "code",
   "execution_count": 8,
   "id": "d739d081",
   "metadata": {},
   "outputs": [
    {
     "name": "stdout",
     "output_type": "stream",
     "text": [
      "Hello, Dhiraj!\n",
      "techconvos\n",
      "TECHCONVOS\n",
      "Techconvos\n",
      "Hello World\n"
     ]
    }
   ],
   "source": [
    "# ✅ Function as a first-class object in Python\n",
    "\n",
    "# 1. Define a simple greeting function\n",
    "def greet(name):\n",
    "    return f\"Hello, {name}!\"\n",
    "\n",
    "# 2. Assign the function to a variable\n",
    "say_hello = greet  # say_hello now refers to the same function as greet\n",
    "\n",
    "# Call the new variable-function\n",
    "print(say_hello(\"Dhiraj\"))  # Output: Hello, Dhiraj!\n",
    "\n",
    "\n",
    "# 3. Store functions in a list\n",
    "# Built-in string methods: lower, upper, title\n",
    "funcs = [str.lower, str.upper, str.title]\n",
    "\n",
    "# Apply each function in the list to the string \"techconvos\"\n",
    "for f in funcs:\n",
    "    print(f(\"techconvos\"))\n",
    "    # Outputs:\n",
    "    # techconvos\n",
    "    # TECHCONVOS\n",
    "    # Techconvos\n",
    "\n",
    "\n",
    "# 4. Store functions in a dictionary (optional bonus)\n",
    "text_funcs = {\n",
    "    \"lower\": str.lower,\n",
    "    \"upper\": str.upper,\n",
    "    \"title\": str.title\n",
    "}\n",
    "\n",
    "# Call one of the functions from the dictionary\n",
    "print(text_funcs[\"title\"](\"hello world\"))  # Output: Hello World\n"
   ]
  },
  {
   "cell_type": "markdown",
   "id": "238e4ef3",
   "metadata": {},
   "source": [
    "Passing Functions as Arguments\n",
    "- You can send one function into another — known as Higher-Order Functions."
   ]
  },
  {
   "cell_type": "code",
   "execution_count": 11,
   "id": "70963568",
   "metadata": {},
   "outputs": [
    {
     "name": "stdout",
     "output_type": "stream",
     "text": [
      "HELLO FROM TECHCONVOS!\n",
      "hello from techconvos!\n"
     ]
    }
   ],
   "source": [
    "# Function that converts text to uppercase\n",
    "def shout(text):\n",
    "    return text.upper()\n",
    "\n",
    "# Function that converts text to lowercase\n",
    "def whisper(text):\n",
    "    return text.lower()\n",
    "\n",
    "# Higher-order function: takes a function as an argument\n",
    "def greet(func):\n",
    "    # Calls the passed-in function on a greeting message\n",
    "    return func(\"Hello from TechConvos!\")\n",
    "\n",
    "# Call greet() with shout and whisper functions\n",
    "print(greet(shout))     # Output: HELLO FROM TECHCONVOS!\n",
    "print(greet(whisper))   # Output: hello from techconvos!\n"
   ]
  },
  {
   "cell_type": "markdown",
   "id": "8442c0be",
   "metadata": {},
   "source": [
    "Returning Functions (Closures in Action)\n",
    "- A function can create and return another function."
   ]
  },
  {
   "cell_type": "code",
   "execution_count": 20,
   "id": "fd1ad771",
   "metadata": {},
   "outputs": [
    {
     "name": "stdout",
     "output_type": "stream",
     "text": [
      "16\n",
      "8\n"
     ]
    }
   ],
   "source": [
    "# Outer function that takes exponent 'n'\n",
    "def power_of(n):\n",
    "    # Inner function that takes a base 'x' and raises it to the power of 'n'\n",
    "    def power(x):\n",
    "        return x ** n\n",
    "    return power  # Return the inner function (closure)\n",
    "\n",
    "# Create a square function: x^2\n",
    "square = power_of(2)\n",
    "\n",
    "# Create a cube function: x^3\n",
    "cube = power_of(3)\n",
    "\n",
    "# Use the returned functions\n",
    "print(square(4))   # Output: 16 (because 4^2 = 16)\n",
    "print(cube(2))     # Output: 8  (because 2^3 = 8)\n"
   ]
  },
  {
   "cell_type": "markdown",
   "id": "3323fbb8",
   "metadata": {},
   "source": [
    "Nested Functions (Inner Functions)\n",
    "- Define functions inside functions to encapsulate logic."
   ]
  },
  {
   "cell_type": "code",
   "execution_count": 22,
   "id": "32b39151",
   "metadata": {},
   "outputs": [
    {
     "name": "stdout",
     "output_type": "stream",
     "text": [
      "Inner says: Outer Function\n"
     ]
    }
   ],
   "source": [
    "# Outer function defines a local variable and an inner function\n",
    "def outer():\n",
    "    msg = \"Outer Function\"  # Local variable in the outer scope\n",
    "\n",
    "    # Inner function that uses the outer variable\n",
    "    def inner():\n",
    "        print(\"Inner says:\", msg)\n",
    "\n",
    "    # Call the inner function from within the outer function\n",
    "    inner()\n",
    "\n",
    "# Call the outer function\n",
    "outer()"
   ]
  },
  {
   "cell_type": "markdown",
   "id": "ff30847b",
   "metadata": {},
   "source": [
    "Decorators — The Power Feature 💪\n",
    "- Basic Decorator"
   ]
  },
  {
   "cell_type": "code",
   "execution_count": 25,
   "id": "962c1806",
   "metadata": {},
   "outputs": [
    {
     "name": "stdout",
     "output_type": "stream",
     "text": [
      "Before the function runs\n",
      "Hello!\n",
      "After the function runs\n"
     ]
    }
   ],
   "source": [
    "# This is a decorator function — it takes another function as input\n",
    "def my_decorator(func):\n",
    "    def wrapper():\n",
    "        print(\"Before the function runs\")  # Code to run before the actual function\n",
    "        func()                             # Call the original function\n",
    "        print(\"After the function runs\")   # Code to run after the function\n",
    "    return wrapper  # Return the wrapped function\n",
    "\n",
    "# Apply the decorator using @ syntax\n",
    "@my_decorator\n",
    "def say_hello():\n",
    "    print(\"Hello!\")\n",
    "\n",
    "# Call the decorated function\n",
    "say_hello()"
   ]
  },
  {
   "cell_type": "markdown",
   "id": "cb5c546f",
   "metadata": {},
   "source": [
    "Bonus: Decorator that handles arguments"
   ]
  },
  {
   "cell_type": "code",
   "execution_count": 27,
   "id": "de4c481d",
   "metadata": {},
   "outputs": [
    {
     "name": "stdout",
     "output_type": "stream",
     "text": [
      "Before\n",
      "Hello!\n",
      "After\n",
      "------\n",
      "Before\n",
      "Hello, my name is Dhiraj and I am 30 years old.\n",
      "After\n"
     ]
    }
   ],
   "source": [
    "# Your general-purpose decorator\n",
    "def my_decorator(func):\n",
    "    \"\"\"\n",
    "    A decorator that wraps any function, allowing pre- and post-processing.\n",
    "    \"\"\"\n",
    "    def wrapper(*args, **kwargs):\n",
    "        print(\"Before\")                 # Code to run before the original function\n",
    "        func(*args, **kwargs)           # Call the original function\n",
    "        print(\"After\")                  # Code to run after\n",
    "    return wrapper\n",
    "\n",
    "# Test function 1: no arguments\n",
    "@my_decorator\n",
    "def say_hello():\n",
    "    print(\"Hello!\")\n",
    "\n",
    "# Test function 2: with arguments\n",
    "@my_decorator\n",
    "def greet(name, age):\n",
    "    print(f\"Hello, my name is {name} and I am {age} years old.\")\n",
    "\n",
    "# Run the tests\n",
    "say_hello()\n",
    "# Output:\n",
    "# Before\n",
    "# Hello!\n",
    "# After\n",
    "\n",
    "print(\"------\")\n",
    "\n",
    "greet(\"Dhiraj\", 30)\n",
    "# Output:\n",
    "# Before\n",
    "# Hello, my name is Dhiraj and I am 30 years old.\n",
    "# After\n"
   ]
  },
  {
   "cell_type": "markdown",
   "id": "13c17eff",
   "metadata": {},
   "source": [
    "Decorator with Arguments"
   ]
  },
  {
   "cell_type": "code",
   "execution_count": null,
   "id": "a0984c85",
   "metadata": {},
   "outputs": [
    {
     "name": "stdout",
     "output_type": "stream",
     "text": [
      "[PROCESS] Starting process_data\n",
      "Processing: Orders.csv\n",
      "[PROCESS] Completed process_data\n"
     ]
    }
   ],
   "source": [
    "# This is a decorator factory that takes an action (like \"PROCESS\")\n",
    "def log_action(action):\n",
    "    # This is the actual decorator that will wrap the target function\n",
    "    def decorator(func):\n",
    "        # This is the wrapper that adds behavior before and after the function call\n",
    "        def wrapper(*args, **kwargs):\n",
    "            print(f\"[{action}] Starting {func.__name__}\")  # Log before execution\n",
    "            result = func(*args, **kwargs)                  # Execute the actual function\n",
    "            print(f\"[{action}] Completed {func.__name__}\") # Log after execution\n",
    "            return result                                   # Return the result\n",
    "        return wrapper\n",
    "    return decorator\n",
    "\n",
    "# Applying the decorator with action = \"PROCESS\"\n",
    "@log_action(\"PROCESS\")\n",
    "def process_data(data):\n",
    "    # Function body: just simulates processing\n",
    "    print(\"Processing:\", data)\n",
    "\n",
    "# Call the function\n",
    "process_data(\"Orders.csv\")\n"
   ]
  },
  {
   "cell_type": "markdown",
   "id": "e1e1905d",
   "metadata": {},
   "source": [
    "Decorators for Timing Functions"
   ]
  },
  {
   "cell_type": "code",
   "execution_count": 29,
   "id": "b9839b11",
   "metadata": {},
   "outputs": [
    {
     "name": "stdout",
     "output_type": "stream",
     "text": [
      "slow_task took 2.00052 seconds\n"
     ]
    }
   ],
   "source": [
    "import time  # Import time module to track execution time\n",
    "\n",
    "# Define the decorator\n",
    "def timer(func):\n",
    "    def wrapper(*args, **kwargs):\n",
    "        start = time.time()               # Record the start time\n",
    "        result = func(*args, **kwargs)    # Execute the target function\n",
    "        end = time.time()                 # Record the end time\n",
    "        print(f\"{func.__name__} took {end - start:.5f} seconds\")  # Print duration\n",
    "        return result                     # Return the result of the original function\n",
    "    return wrapper\n",
    "\n",
    "# Use the decorator to wrap slow_task\n",
    "@timer\n",
    "def slow_task():\n",
    "    time.sleep(2)  # Simulate a slow task (e.g., waiting 2 seconds)\n",
    "\n",
    "# Call the decorated function\n",
    "slow_task()\n"
   ]
  },
  {
   "cell_type": "markdown",
   "id": "46e218a0",
   "metadata": {},
   "source": [
    "Multiple Decorators (Stacked)"
   ]
  },
  {
   "cell_type": "code",
   "execution_count": 30,
   "id": "dfa4e132",
   "metadata": {},
   "outputs": [
    {
     "name": "stdout",
     "output_type": "stream",
     "text": [
      "deco1 before\n",
      "deco2 before\n",
      "Running main function\n",
      "deco2 after\n",
      "deco1 after\n"
     ]
    }
   ],
   "source": [
    "# First decorator\n",
    "def deco1(func):\n",
    "    # This wrapper will replace the function passed to deco1\n",
    "    def wrapper():\n",
    "        print(\"deco1 before\")  # Code to run before the inner function\n",
    "        func()                 # Call the function that deco1 wraps (could be another decorator)\n",
    "        print(\"deco1 after\")   # Code to run after\n",
    "    return wrapper             # Return the new wrapped function\n",
    "\n",
    "# Second decorator\n",
    "def deco2(func):\n",
    "    # This wrapper will replace the function passed to deco2\n",
    "    def wrapper():\n",
    "        print(\"deco2 before\")  # Code to run before the actual function\n",
    "        func()                 # Call the original function (e.g., run())\n",
    "        print(\"deco2 after\")   # Code to run after\n",
    "    return wrapper             # Return the wrapped version\n",
    "\n",
    "# Decorating with @deco1 and @deco2\n",
    "@deco1          # deco1 wraps the result of deco2(run)\n",
    "@deco2          # deco2 wraps the original run() function\n",
    "def run():\n",
    "    print(\"Running main function\")\n",
    "\n",
    "# Call the decorated function\n",
    "run()\n",
    "\n",
    "# Expected output:\n",
    "# deco1 before         ← From deco1.wrapper()\n",
    "# deco2 before         ← From deco2.wrapper()\n",
    "# Running main function← From run()\n",
    "# deco2 after          ← Back in deco2.wrapper()\n",
    "# deco1 after          ← Back in deco1.wrapper()\n",
    "\n"
   ]
  },
  {
   "cell_type": "markdown",
   "id": "79f119f7",
   "metadata": {},
   "source": [
    "Using functools.wraps"
   ]
  },
  {
   "cell_type": "code",
   "execution_count": 31,
   "id": "927f7b74",
   "metadata": {},
   "outputs": [
    {
     "name": "stdout",
     "output_type": "stream",
     "text": [
      "Running greet\n",
      "Hello Dhiraj\n",
      "greet\n",
      "Say hello\n"
     ]
    }
   ],
   "source": [
    "from functools import wraps  # ✅ Import wraps to preserve function metadata\n",
    "\n",
    "# ✅ Decorator definition\n",
    "def logger(func):\n",
    "    \"\"\"\n",
    "    A decorator that logs the function name before calling it,\n",
    "    while preserving metadata using functools.wraps.\n",
    "    \"\"\"\n",
    "    @wraps(func)  # ✅ This ensures the original function's name, docstring, etc., are not lost\n",
    "    def wrapper(*args, **kwargs):\n",
    "        print(f\"Running {func.__name__}\")  # ✅ Log the name of the function being executed\n",
    "        return func(*args, **kwargs)       # ✅ Call the original function with all arguments\n",
    "    return wrapper  # ✅ Return the new wrapped function\n",
    "\n",
    "# ✅ Apply the decorator to a function\n",
    "@logger\n",
    "def greet(name):\n",
    "    \"\"\"Say hello\"\"\"   # ✅ Original docstring\n",
    "    print(\"Hello\", name)\n",
    "\n",
    "# ✅ Call the decorated function\n",
    "greet(\"Dhiraj\")\n",
    "\n",
    "# ✅ Check that metadata is preserved\n",
    "print(greet.__name__)   # Output: greet (not 'wrapper')\n",
    "print(greet.__doc__)    # Output: Say hello\n"
   ]
  },
  {
   "cell_type": "markdown",
   "id": "d822731c",
   "metadata": {},
   "source": [
    "Real-world Decorator Use Cases\n",
    "- Logging\n",
    "- Timing / performance\n",
    "- Authentication / permissions\n",
    "- Retrying failed functions\n",
    "- Caching results (@lru_cache)"
   ]
  },
  {
   "cell_type": "code",
   "execution_count": 32,
   "id": "0392c8b2",
   "metadata": {},
   "outputs": [
    {
     "name": "stdout",
     "output_type": "stream",
     "text": [
      "fib(0) = 0\n",
      "fib(1) = 1\n",
      "fib(2) = 1\n",
      "fib(3) = 2\n",
      "fib(4) = 3\n",
      "fib(5) = 5\n",
      "fib(6) = 8\n",
      "fib(7) = 13\n",
      "fib(8) = 21\n",
      "fib(9) = 34\n"
     ]
    }
   ],
   "source": [
    "from functools import lru_cache  # ✅ Import LRU (Least Recently Used) cache decorator\n",
    "\n",
    "# ✅ Memoized Fibonacci function using LRU cache\n",
    "@lru_cache(maxsize=None)\n",
    "def fib(n):\n",
    "    \"\"\"\n",
    "    Return the nth Fibonacci number using recursion with memoization.\n",
    "\n",
    "    Uses lru_cache to store previously computed values, \n",
    "    making the function much faster for large n.\n",
    "    \"\"\"\n",
    "    if n < 2:\n",
    "        return n  # ✅ Base cases: fib(0) = 0, fib(1) = 1\n",
    "    return fib(n - 1) + fib(n - 2)  # ✅ Recursive case: fib(n) = fib(n-1) + fib(n-2)\n",
    "\n",
    "# ✅ Example usage\n",
    "for i in range(10):\n",
    "    print(f\"fib({i}) = {fib(i)}\")\n"
   ]
  },
  {
   "cell_type": "code",
   "execution_count": 34,
   "id": "5a00f2ff",
   "metadata": {},
   "outputs": [
    {
     "name": "stdout",
     "output_type": "stream",
     "text": [
      "fib(0) = 0\n",
      "fib(1) = 1\n",
      "fib(2) = 1\n",
      "fib(3) = 2\n",
      "fib(4) = 3\n",
      "fib(5) = 5\n",
      "fib(6) = 8\n",
      "fib(7) = 13\n",
      "fib(8) = 21\n",
      "fib(9) = 34\n",
      "CacheInfo(hits=16, misses=10, maxsize=None, currsize=10)\n"
     ]
    }
   ],
   "source": [
    "from functools import lru_cache\n",
    "\n",
    "@lru_cache(maxsize=None)\n",
    "def fib(n):\n",
    "    \"\"\"\n",
    "    Compute the nth Fibonacci number using recursion with memoization.\n",
    "\n",
    "    Args:\n",
    "        n (int): The position in the Fibonacci sequence.\n",
    "\n",
    "    Returns:\n",
    "        int: The nth Fibonacci number.\n",
    "    \"\"\"\n",
    "    if n < 2:\n",
    "        return n  # Base cases: fib(0)=0, fib(1)=1\n",
    "    return fib(n - 1) + fib(n - 2)  # Recursive case\n",
    "\n",
    "# Print Fibonacci numbers from 0 to 9\n",
    "for i in range(10):\n",
    "    print(f\"fib({i}) = {fib(i)}\")\n",
    "\n",
    "# Print cache statistics\n",
    "print(fib.cache_info())\n"
   ]
  },
  {
   "cell_type": "code",
   "execution_count": null,
   "id": "3c1d152c",
   "metadata": {},
   "outputs": [],
   "source": []
  }
 ],
 "metadata": {
  "kernelspec": {
   "display_name": "Python 3",
   "language": "python",
   "name": "python3"
  },
  "language_info": {
   "codemirror_mode": {
    "name": "ipython",
    "version": 3
   },
   "file_extension": ".py",
   "mimetype": "text/x-python",
   "name": "python",
   "nbconvert_exporter": "python",
   "pygments_lexer": "ipython3",
   "version": "3.12.11"
  }
 },
 "nbformat": 4,
 "nbformat_minor": 5
}
