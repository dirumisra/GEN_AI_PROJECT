{
 "cells": [
  {
   "cell_type": "markdown",
   "metadata": {},
   "source": [
    "# bytearray — mutable bytes"
   ]
  },
  {
   "cell_type": "markdown",
   "id": "a030638a",
   "metadata": {},
   "source": [
    "#### Creating bytearray"
   ]
  },
  {
   "cell_type": "code",
   "execution_count": 2,
   "id": "af793697",
   "metadata": {},
   "outputs": [
    {
     "name": "stdout",
     "output_type": "stream",
     "text": [
      "bytearray(b'ABC')\n",
      "bytearray(b'ABC')\n",
      "bytearray(b'\\x00\\x00\\x00\\x00')\n",
      "bytearray(b'ZBC')\n",
      "bytearray(b'ZBCD')\n"
     ]
    }
   ],
   "source": [
    "# --- 1. Creating bytearray from bytes ---\n",
    "ba1 = bytearray(b\"ABC\")  # Converts a bytes object into a mutable bytearray\n",
    "print(ba1)  # Output: bytearray(b'ABC')\n",
    "# This is essentially like creating a `bytes` object, but it is mutable.\n",
    "\n",
    "# --- 2. Creating bytearray from a list of integers (0–255) ---\n",
    "ba2 = bytearray([65, 66, 67])  # A list of integers representing byte values\n",
    "print(ba2)  # Output: bytearray(b'ABC')\n",
    "# List [65, 66, 67] corresponds to the ASCII values of 'A', 'B', 'C'\n",
    "\n",
    "# --- 3. Creating bytearray of a given size (initially zeroed) ---\n",
    "ba3 = bytearray(4)  # A bytearray with 4 zeroed bytes\n",
    "print(ba3)  # Output: bytearray(b'\\x00\\x00\\x00\\x00')\n",
    "# The bytearray is initialized with 4 bytes, each set to zero (b'\\x00')\n",
    "\n",
    "# --- Modifying bytearray (Mutable) ---\n",
    "ba1[0] = 90  # Modify the first byte (ASCII for 'Z')\n",
    "print(ba1)  # Output: bytearray(b'ZBC')\n",
    "\n",
    "ba1.append(68)  # Append a byte (ASCII for 'D')\n",
    "print(ba1)  # Output: bytearray(b'ZBCD')\n"
   ]
  },
  {
   "cell_type": "markdown",
   "id": "ebaadd19",
   "metadata": {},
   "source": [
    "#### Mutating methods & indexing"
   ]
  },
  {
   "cell_type": "code",
   "execution_count": 3,
   "id": "4d8791ee",
   "metadata": {},
   "outputs": [
    {
     "name": "stdout",
     "output_type": "stream",
     "text": [
      "bytearray(b'ABC')\n",
      "bytearray(b'ABCDE')\n",
      "bytearray(b'ZBCDE')\n",
      "69\n",
      "bytearray(b'ZBCD')\n"
     ]
    }
   ],
   "source": [
    "# Creating a bytearray from bytes\n",
    "ba = bytearray(b\"AB\")  # Initial bytearray: b'AB'\n",
    "\n",
    "# --- 1. Append a single byte ---\n",
    "ba.append(67)  # Append byte 67 (ASCII for 'C') to the bytearray\n",
    "# Now, ba becomes b'ABC'\n",
    "print(ba)  # Output: bytearray(b'ABC')\n",
    "\n",
    "# --- 2. Extend with many bytes ---\n",
    "ba.extend(b\"DE\")  # Add multiple bytes ('D' and 'E')\n",
    "# Now, ba becomes b'ABCDE'\n",
    "print(ba)  # Output: bytearray(b'ABCDE')\n",
    "\n",
    "# --- 3. Modify an element ---\n",
    "ba[0] = 90  # Change the first byte to 90 (ASCII for 'Z')\n",
    "# Now, ba becomes b'ZBCDE'\n",
    "print(ba)  # Output: bytearray(b'ZBCDE')\n",
    "\n",
    "# --- 4. Pop (remove and return the last byte) ---\n",
    "popped = ba.pop()  # Remove and return the last byte (ASCII for 'E')\n",
    "# After popping, ba becomes b'ZBCD'\n",
    "print(popped)  # Output: 69 (ASCII value of 'E')\n",
    "print(ba)      # Output: bytearray(b'ZBCD')\n"
   ]
  },
  {
   "cell_type": "markdown",
   "id": "0ec08282",
   "metadata": {},
   "source": [
    "#### Conversions"
   ]
  },
  {
   "cell_type": "code",
   "execution_count": 4,
   "id": "cea97099",
   "metadata": {},
   "outputs": [
    {
     "name": "stdout",
     "output_type": "stream",
     "text": [
      "b'hello'\n",
      "hello\n"
     ]
    }
   ],
   "source": [
    "# --- 1. Convert bytearray to bytes (immutable copy) ---\n",
    "ba = bytearray(b\"hello\")   # Creating a bytearray\n",
    "b = bytes(ba)              # Create an immutable copy of the bytearray (bytes)\n",
    "print(b)  # Output: b'hello'\n",
    "\n",
    "# --- 2. Convert bytearray to string (decoding) ---\n",
    "ba2 = bytearray(b\"hello\")  # Another bytearray example\n",
    "s = ba2.decode(\"utf-8\")    # Convert bytearray to string (decoding using UTF-8)\n",
    "print(s)  # Output: 'hello'\n"
   ]
  },
  {
   "cell_type": "code",
   "execution_count": null,
   "id": "9f2b70ce",
   "metadata": {},
   "outputs": [],
   "source": []
  }
 ],
 "metadata": {
  "kernelspec": {
   "display_name": "Python 3",
   "language": "python",
   "name": "python3"
  },
  "language_info": {
   "codemirror_mode": {
    "name": "ipython",
    "version": 3
   },
   "file_extension": ".py",
   "mimetype": "text/x-python",
   "name": "python",
   "nbconvert_exporter": "python",
   "pygments_lexer": "ipython3",
   "version": "3.12.11"
  }
 },
 "nbformat": 4,
 "nbformat_minor": 5
}
