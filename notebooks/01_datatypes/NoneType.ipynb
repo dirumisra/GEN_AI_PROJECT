{
 "cells": [
  {
   "cell_type": "markdown",
   "metadata": {},
   "source": [
    "# NoneType — the special singleton\n",
    "\n",
    "What is None?\n",
    "- Represents the absence of a value (null-like).\n",
    "- Only one instance exists in Python: None.\n",
    "- Type is NoneType.\n",
    "- Often used for defaults, optional values, and missing data."
   ]
  },
  {
   "cell_type": "code",
   "execution_count": null,
   "metadata": {},
   "outputs": [],
   "source": [
    "# Assign the value None to the variable 'x'\n",
    "x = None\n",
    "\n",
    "# Print the type of 'x'\n",
    "# The type() function returns the type of the given object, which in this case is 'None'.\n",
    "# Since 'x' is assigned the special constant 'None', the output will be the type of None, which is 'NoneType'.\n",
    "print(type(x))  # Output: <class 'NoneType'>"
   ]
  },
  {
   "cell_type": "markdown",
   "metadata": {},
   "source": [
    "#### Comparisons"
   ]
  },
  {
   "cell_type": "code",
   "execution_count": 1,
   "metadata": {},
   "outputs": [
    {
     "name": "stdout",
     "output_type": "stream",
     "text": [
      "True\n",
      "True\n",
      "False\n"
     ]
    }
   ],
   "source": [
    "# Check if two 'None' values are equal using '==' (value comparison)\n",
    "print(None == None)  # Output: True\n",
    "# The '==' operator compares values. Since both 'None' values represent the same object, the comparison returns True.\n",
    "\n",
    "# Check if two 'None' values are the same object using 'is' (identity comparison)\n",
    "print(None is None)  # Output: True\n",
    "# The 'is' operator checks if two objects refer to the same memory location (identity comparison). \n",
    "# Since 'None' is a singleton, both 'None' values refer to the same object in memory, so the comparison returns True.\n",
    "\n",
    "# Convert 'None' to a Boolean using bool()\n",
    "print(bool(None))  # Output: False\n",
    "# In Python, 'None' is considered 'False' in a Boolean context. The bool() function converts 'None' to False.\n"
   ]
  },
  {
   "cell_type": "markdown",
   "metadata": {},
   "source": [
    "#### Functions and None\n",
    "- A function with no return statement returns None implicitly."
   ]
  },
  {
   "cell_type": "code",
   "execution_count": 2,
   "metadata": {},
   "outputs": [
    {
     "name": "stdout",
     "output_type": "stream",
     "text": [
      "Hello\n",
      "None\n"
     ]
    }
   ],
   "source": [
    "# Define a function 'greet' that prints a greeting message\n",
    "def greet():\n",
    "    print(\"Hello\")  # This prints \"Hello\" when the function is called\n",
    "\n",
    "# Call the 'greet' function and store the return value in the variable 'result'\n",
    "result = greet()  # Output: prints \"Hello\" from inside the function\n",
    "# The function 'greet' doesn't return anything, so 'result' will be assigned the value 'None'.\n",
    "\n",
    "# Print the value stored in 'result'\n",
    "print(result)  # Output: None\n"
   ]
  },
  {
   "cell_type": "markdown",
   "metadata": {},
   "source": [
    "#### Common Uses\n",
    "- Default argument value (avoid mutable defaults)."
   ]
  },
  {
   "cell_type": "code",
   "execution_count": 4,
   "metadata": {},
   "outputs": [
    {
     "name": "stdout",
     "output_type": "stream",
     "text": [
      "[10]\n",
      "[1, 2, 3, 4]\n",
      "[1, 2, 3, 4]\n",
      "[20]\n",
      "[30]\n"
     ]
    }
   ],
   "source": [
    "# Define the function 'append_item' which appends an item to a list\n",
    "# The default value for 'lst' is None, meaning we don't provide an initial list.\n",
    "def append_item(item, lst=None):\n",
    "    # Check if lst is None, which means no list was provided.\n",
    "    if lst is None:\n",
    "        # If lst is None, initialize it as an empty list.\n",
    "        lst = []\n",
    "    \n",
    "    # Append the item to the list\n",
    "    lst.append(item)\n",
    "    \n",
    "    # Return the updated list\n",
    "    return lst\n",
    "\n",
    "# Calling the function and printing the results:\n",
    "\n",
    "# Case 1: Call the function without providing a list\n",
    "result1 = append_item(10)  # Creates a new list, appends 10\n",
    "print(result1)  # Output: [10]\n",
    "\n",
    "# Case 2: Call the function with an existing list\n",
    "existing_list = [1, 2, 3]\n",
    "result2 = append_item(4, existing_list)  # Appends 4 to existing_list\n",
    "print(result2)  # Output: [1, 2, 3, 4]\n",
    "print(existing_list)  # Output: [1, 2, 3, 4] (the list was modified)\n",
    "\n",
    "# Case 3: Calling the function without providing a list again\n",
    "result3 = append_item(20)  # Creates a new list, appends 20\n",
    "print(result3)  # Output: [20]\n",
    "\n",
    "# Case 4: Call again with no list, appends another item\n",
    "result4 = append_item(30)  # Creates another new list, appends 30\n",
    "print(result4)  # Output: [30]"
   ]
  },
  {
   "cell_type": "markdown",
   "metadata": {},
   "source": [
    "#### Optional values in data models."
   ]
  },
  {
   "cell_type": "code",
   "execution_count": 5,
   "metadata": {},
   "outputs": [],
   "source": [
    "user = {\"name\": \"Dhiraj\", \"nickname\": None}"
   ]
  },
  {
   "cell_type": "markdown",
   "metadata": {},
   "source": [
    "#### Signaling missing result / early exit."
   ]
  },
  {
   "cell_type": "code",
   "execution_count": 8,
   "metadata": {},
   "outputs": [
    {
     "name": "stdout",
     "output_type": "stream",
     "text": [
      "Checking number: 1\n",
      "Checking number: 3\n",
      "Checking number: 5\n",
      "Checking number: 6\n",
      "Found even number: 6\n",
      "Result: 6\n"
     ]
    }
   ],
   "source": [
    "def find_even(nums):\n",
    "    # Iterate through the list 'nums'\n",
    "    for n in nums:\n",
    "        print(f\"Checking number: {n}\")  # Print each number being checked\n",
    "        # Check if the number is even (divisible by 2 with no remainder)\n",
    "        if n % 2 == 0:\n",
    "            print(f\"Found even number: {n}\")  # Print the even number found\n",
    "            return n  # Return the first even number found\n",
    "    # If no even number was found, return None\n",
    "    print(\"No even number found.\")\n",
    "    return None\n",
    "\n",
    "# Test with a list of numbers\n",
    "nums = [1, 3, 5, 6, 7]\n",
    "result = find_even(nums)\n",
    "print(f\"Result: {result}\")  # Output: 6 (the first even number found)\n"
   ]
  },
  {
   "cell_type": "markdown",
   "metadata": {},
   "source": [
    "#### Pitfalls"
   ]
  },
  {
   "cell_type": "code",
   "execution_count": 9,
   "metadata": {},
   "outputs": [
    {
     "name": "stdout",
     "output_type": "stream",
     "text": [
      "None\n",
      "obj is None using '=='\n",
      "obj is None using 'is'\n",
      "This might be misleading, obj == None returns True\n",
      "obj is not None\n"
     ]
    }
   ],
   "source": [
    "# 1. Forgetting that functions return None if no explicit return\n",
    "def bad():\n",
    "    x = 2 + 2  # Performs some operation, but doesn't return anything\n",
    "\n",
    "# Calling the function\n",
    "result = bad()\n",
    "print(result)  # Output: None, since the function does not explicitly return anything\n",
    "\n",
    "# 2. Comparing with == (can be misleading if __eq__ is overridden)\n",
    "obj = None\n",
    "\n",
    "# First comparison with '==' works, but not preferred\n",
    "if obj == None:  # ✅ works, but not best practice\n",
    "    print(\"obj is None using '=='\")\n",
    "\n",
    "# Comparison with 'is' for identity checking, preferred and more reliable\n",
    "if obj is None:  # ✅ preferred, checks identity\n",
    "    print(\"obj is None using 'is'\")\n",
    "\n",
    "# Example of misleading behavior when using '==' with custom __eq__ method:\n",
    "class MyClass:\n",
    "    def __eq__(self, other):\n",
    "        # Custom equality check that always returns True\n",
    "        return True\n",
    "\n",
    "obj = MyClass()\n",
    "\n",
    "# Using '==' with an object that has overridden __eq__\n",
    "if obj == None:  # This will return True due to the overridden __eq__ method\n",
    "    print(\"This might be misleading, obj == None returns True\")\n",
    "\n",
    "# Using 'is' to compare identity\n",
    "if obj is None:  # This will correctly return False, because obj is not None\n",
    "    print(\"obj is None\")\n",
    "else:\n",
    "    print(\"obj is not None\")\n",
    "\n"
   ]
  },
  {
   "cell_type": "code",
   "execution_count": null,
   "metadata": {},
   "outputs": [],
   "source": []
  }
 ],
 "metadata": {
  "kernelspec": {
   "display_name": "Python 3",
   "language": "python",
   "name": "python3"
  },
  "language_info": {
   "codemirror_mode": {
    "name": "ipython",
    "version": 3
   },
   "file_extension": ".py",
   "mimetype": "text/x-python",
   "name": "python",
   "nbconvert_exporter": "python",
   "pygments_lexer": "ipython3",
   "version": "3.12.11"
  }
 },
 "nbformat": 4,
 "nbformat_minor": 5
}
