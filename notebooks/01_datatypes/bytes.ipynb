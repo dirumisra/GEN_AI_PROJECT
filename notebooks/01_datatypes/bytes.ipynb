{
 "cells": [
  {
   "cell_type": "markdown",
   "id": "14466be5",
   "metadata": {},
   "source": [
    "#### Bytes Types Deep-Dive"
   ]
  },
  {
   "cell_type": "markdown",
   "id": "02d630ed",
   "metadata": {},
   "source": [
    "Why binary types?\n",
    "- Text (str) is for human-readable data (Unicode).\n",
    "- Binary types are for raw bytes (0–255): files, images, compressed data, network packets, cryptography, protocols.\n",
    "- Key idea: don’t guess encodings; be explicit when converting between text and bytes."
   ]
  },
  {
   "cell_type": "code",
   "execution_count": 7,
   "id": "4ed260f9",
   "metadata": {},
   "outputs": [
    {
     "name": "stdout",
     "output_type": "stream",
     "text": [
      "b'HELLO'\n",
      "b'HIJ'\n",
      "b'\\xe0\\xa4\\xa8\\xe0\\xa4\\xae\\xe0\\xa4\\xb8\\xe0\\xa5\\x8d\\xe0\\xa4\\xa4\\xe0\\xa5\\x87'\n"
     ]
    }
   ],
   "source": [
    "#### bytes — immutable sequence of bytes\n",
    "# Creating bytes\n",
    "\n",
    "# --- 1. Literal with b-prefix: ASCII-only inside quotes ---\n",
    "b1 = b\"HELLO\"                     \n",
    "# b\"HELLO\" is a bytes object where each character is encoded in ASCII\n",
    "# Output: b'HELLO' → 5 bytes: 48 45 4C 4C 4F (hex)\n",
    "\n",
    "print(b1)  # b'HELLO'\n",
    "\n",
    "# --- 2. From an iterable of ints (0–255) ---\n",
    "b2 = bytes([72, 73, 74])         \n",
    "# A list of integers [72, 73, 74] is converted to bytes\n",
    "# Output: b'HIJ' → These values correspond to ASCII codes for 'H', 'I', 'J'\n",
    "\n",
    "print(b2)  # b'HIJ'\n",
    "\n",
    "# --- 3. From str via encode (specify encoding!) ---\n",
    "txt = \"नमस्ते\"  # Unicode text (not ASCII)\n",
    "# Unicode text \"नमस्ते\" (Hindi) cannot be represented directly as ASCII, \n",
    "# so we must encode it into a byte format using an appropriate encoding (UTF-8 in this case)\n",
    "\n",
    "b3 = txt.encode(\"utf-8\") \n",
    "# UTF-8 encoding converts the Unicode text into a sequence of bytes\n",
    "# Output: b'\\xe0\\xa4\\xa8\\xe0\\xa4\\xae\\xe0\\xa4\\xb8\\xe0\\xa5\\x8d\\xe0\\xa4\\xa4\\xe0\\xa5\\x87'\n",
    "# Each Unicode character is encoded into a specific byte sequence in UTF-8\n",
    "\n",
    "print(b3)  # prints: b'\\xe0\\xa4\\xa8\\xe0\\xa4\\xae\\xe0\\xa4\\xb8\\xe0\\xa5\\x8d\\xe0\\xa4\\xa4\\xe0\\xa5\\x87'\n"
   ]
  },
  {
   "cell_type": "markdown",
   "id": "08c92d8f",
   "metadata": {},
   "source": [
    "#### Accessing & slicing"
   ]
  },
  {
   "cell_type": "code",
   "execution_count": 8,
   "id": "960810c6",
   "metadata": {},
   "outputs": [
    {
     "name": "stdout",
     "output_type": "stream",
     "text": [
      "65\n",
      "b'BC'\n"
     ]
    }
   ],
   "source": [
    "# --- 1. Indexing on bytes ---\n",
    "b = b\"ABC\"\n",
    "\n",
    "x = b[0]  # Indexing returns the integer value of the byte\n",
    "# Here, b[0] is the byte for 'A', which has the integer value 65 in ASCII\n",
    "print(x)  # Output: 65\n",
    "\n",
    "# --- 2. Slicing on bytes ---\n",
    "sub = b[1:]  # Slicing returns a bytes object from index 1 to the end\n",
    "# This creates a new bytes object that excludes the first byte ('A')\n",
    "print(sub)  # Output: b'BC'\n"
   ]
  },
  {
   "cell_type": "markdown",
   "id": "5de83da2",
   "metadata": {},
   "source": [
    "#### Immutability"
   ]
  },
  {
   "cell_type": "code",
   "execution_count": 9,
   "id": "40e5a724",
   "metadata": {},
   "outputs": [
    {
     "name": "stdout",
     "output_type": "stream",
     "text": [
      "b'ABC'\n"
     ]
    }
   ],
   "source": [
    "# --- 1. Bytes are immutable ---\n",
    "b = b\"AB\"\n",
    "\n",
    "# b[0] = 90  # ❌ TypeError (bytes is immutable)\n",
    "# You cannot modify individual bytes of a bytes object, as they are immutable.\n",
    "# Uncommenting this line will raise a TypeError since b[0] cannot be assigned a new value.\n",
    "\n",
    "# --- 2. Concatenation creates a new bytes object ---\n",
    "b_new = b + b\"C\"  # Concatenate b and b'C' to create a new bytes object\n",
    "# This creates a new bytes object that is a combination of b'AB' and b'C'\n",
    "print(b_new)  # Output: b'ABC'\n"
   ]
  },
  {
   "cell_type": "markdown",
   "id": "eed19a29",
   "metadata": {},
   "source": [
    "#### Conversions & representations"
   ]
  },
  {
   "cell_type": "code",
   "execution_count": 11,
   "id": "66148419",
   "metadata": {},
   "outputs": [
    {
     "name": "stdout",
     "output_type": "stream",
     "text": [
      "[65, 66, 67]\n",
      "414243\n",
      "b'ABC'\n"
     ]
    }
   ],
   "source": [
    "# --- 1. Converting bytes to a list of integers ---\n",
    "b = b\"ABC\"\n",
    "lst = list(b)  # Convert the bytes object into a list of integer values\n",
    "# Each byte is represented by its corresponding integer value in the ASCII table\n",
    "print(lst)  # Output: [65, 66, 67]\n",
    "# ASCII values for 'A' = 65, 'B' = 66, 'C' = 67\n",
    "\n",
    "# --- 2. Hexadecimal representation ---\n",
    "h = b.hex()  # Convert the bytes object to a hexadecimal string\n",
    "# The hex() method provides a convenient way to view the byte sequence as a human-readable hex string\n",
    "print(h)  # Output: '414243'\n",
    "# Hex representation of 'A' = '41', 'B' = '42', 'C' = '43'\n",
    "\n",
    "# --- 3. Converting from hex string back to bytes ---\n",
    "b_again = bytes.fromhex(\"414243\")  # Convert the hex string back to bytes\n",
    "print(b_again)  # Output: b'ABC'\n"
   ]
  },
  {
   "cell_type": "markdown",
   "id": "f5ce817c",
   "metadata": {},
   "source": [
    "# bytearray — mutable bytes"
   ]
  },
  {
   "cell_type": "markdown",
   "id": "6633fa21",
   "metadata": {},
   "source": [
    "#### Creating bytearray"
   ]
  },
  {
   "cell_type": "code",
   "execution_count": 1,
   "id": "e45cfcf7",
   "metadata": {},
   "outputs": [
    {
     "name": "stdout",
     "output_type": "stream",
     "text": [
      "bytearray(b'ABC')\n",
      "bytearray(b'ABC')\n",
      "bytearray(b'\\x00\\x00\\x00\\x00')\n",
      "bytearray(b'ZBC')\n",
      "bytearray(b'ZBCD')\n"
     ]
    }
   ],
   "source": [
    "# --- 1. Creating bytearray from bytes ---\n",
    "ba1 = bytearray(b\"ABC\")  # Converts a bytes object into a mutable bytearray\n",
    "print(ba1)  # Output: bytearray(b'ABC')\n",
    "# This is essentially like creating a `bytes` object, but it is mutable.\n",
    "\n",
    "# --- 2. Creating bytearray from a list of integers (0–255) ---\n",
    "ba2 = bytearray([65, 66, 67])  # A list of integers representing byte values\n",
    "print(ba2)  # Output: bytearray(b'ABC')\n",
    "# List [65, 66, 67] corresponds to the ASCII values of 'A', 'B', 'C'\n",
    "\n",
    "# --- 3. Creating bytearray of a given size (initially zeroed) ---\n",
    "ba3 = bytearray(4)  # A bytearray with 4 zeroed bytes\n",
    "print(ba3)  # Output: bytearray(b'\\x00\\x00\\x00\\x00')\n",
    "# The bytearray is initialized with 4 bytes, each set to zero (b'\\x00')\n",
    "\n",
    "# --- Modifying bytearray (Mutable) ---\n",
    "ba1[0] = 90  # Modify the first byte (ASCII for 'Z')\n",
    "print(ba1)  # Output: bytearray(b'ZBC')\n",
    "\n",
    "ba1.append(68)  # Append a byte (ASCII for 'D')\n",
    "print(ba1)  # Output: bytearray(b'ZBCD')\n"
   ]
  },
  {
   "cell_type": "markdown",
   "metadata": {},
   "source": [
    "#### Mutating methods & indexing"
   ]
  },
  {
   "cell_type": "code",
   "execution_count": 2,
   "id": "0b45c17d",
   "metadata": {},
   "outputs": [
    {
     "name": "stdout",
     "output_type": "stream",
     "text": [
      "bytearray(b'ABC')\n",
      "bytearray(b'ABCDE')\n",
      "bytearray(b'ZBCDE')\n",
      "69\n",
      "bytearray(b'ZBCD')\n"
     ]
    }
   ],
   "source": [
    "# Creating a bytearray from bytes\n",
    "ba = bytearray(b\"AB\")  # Initial bytearray: b'AB'\n",
    "\n",
    "# --- 1. Append a single byte ---\n",
    "ba.append(67)  # Append byte 67 (ASCII for 'C') to the bytearray\n",
    "# Now, ba becomes b'ABC'\n",
    "print(ba)  # Output: bytearray(b'ABC')\n",
    "\n",
    "# --- 2. Extend with many bytes ---\n",
    "ba.extend(b\"DE\")  # Add multiple bytes ('D' and 'E')\n",
    "# Now, ba becomes b'ABCDE'\n",
    "print(ba)  # Output: bytearray(b'ABCDE')\n",
    "\n",
    "# --- 3. Modify an element ---\n",
    "ba[0] = 90  # Change the first byte to 90 (ASCII for 'Z')\n",
    "# Now, ba becomes b'ZBCDE'\n",
    "print(ba)  # Output: bytearray(b'ZBCDE')\n",
    "\n",
    "# --- 4. Pop (remove and return the last byte) ---\n",
    "popped = ba.pop()  # Remove and return the last byte (ASCII for 'E')\n",
    "# After popping, ba becomes b'ZBCD'\n",
    "print(popped)  # Output: 69 (ASCII value of 'E')\n",
    "print(ba)      # Output: bytearray(b'ZBCD')\n"
   ]
  },
  {
   "cell_type": "markdown",
   "metadata": {},
   "source": [
    "#### Conversions"
   ]
  },
  {
   "cell_type": "code",
   "execution_count": 3,
   "metadata": {},
   "outputs": [
    {
     "name": "stdout",
     "output_type": "stream",
     "text": [
      "b'hello'\n",
      "hello\n"
     ]
    }
   ],
   "source": [
    "# --- 1. Convert bytearray to bytes (immutable copy) ---\n",
    "ba = bytearray(b\"hello\")   # Creating a bytearray\n",
    "b = bytes(ba)              # Create an immutable copy of the bytearray (bytes)\n",
    "print(b)  # Output: b'hello'\n",
    "\n",
    "# --- 2. Convert bytearray to string (decoding) ---\n",
    "ba2 = bytearray(b\"hello\")  # Another bytearray example\n",
    "s = ba2.decode(\"utf-8\")    # Convert bytearray to string (decoding using UTF-8)\n",
    "print(s)  # Output: 'hello'\n"
   ]
  },
  {
   "cell_type": "code",
   "execution_count": null,
   "metadata": {},
   "outputs": [],
   "source": []
  }
 ],
 "metadata": {
  "kernelspec": {
   "display_name": "Python 3",
   "language": "python",
   "name": "python3"
  },
  "language_info": {
   "codemirror_mode": {
    "name": "ipython",
    "version": 3
   },
   "file_extension": ".py",
   "mimetype": "text/x-python",
   "name": "python",
   "nbconvert_exporter": "python",
   "pygments_lexer": "ipython3",
   "version": "3.12.11"
  }
 },
 "nbformat": 4,
 "nbformat_minor": 5
}
