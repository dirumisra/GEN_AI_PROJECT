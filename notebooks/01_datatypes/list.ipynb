{
 "cells": [
  {
   "cell_type": "markdown",
   "metadata": {},
   "source": [
    "#### **_What is a list_**\n",
    "\n",
    "- Mutable, ordered sequence (keeps insertion order).\n",
    "- Heterogeneous allowed, but prefer homogeneous for sanity/perf.\n",
    "- Backed by a dynamic array (over-allocates capacity to make append amortized O(1))."
   ]
  },
  {
   "cell_type": "markdown",
   "id": "6279ea57",
   "metadata": {},
   "source": [
    "#### Part 1: Beginner-Friendly Guide to list Data Type\n",
    "\n",
    "We’ll cover the following:\n",
    "\n",
    "✅ What is a list?\n",
    "\n",
    "🔧 Creating a list\n",
    "\n",
    "🧾 Accessing items\n",
    "\n",
    "🔁 Looping through lists\n",
    "\n",
    "✍️ Modifying lists\n",
    "\n",
    "➕ Adding/removing items\n",
    "\n",
    "🔍 Useful list methods\n",
    "\n",
    "📦 Nesting lists (2D lists)\n",
    "\n",
    "💡 Built-in functions with lists\n",
    "\n",
    "📚 List comprehension"
   ]
  },
  {
   "cell_type": "markdown",
   "id": "b0f09759",
   "metadata": {},
   "source": [
    "#### Python Slicing Cheat Sheet"
   ]
  },
  {
   "cell_type": "code",
   "execution_count": 85,
   "id": "4759a6da",
   "metadata": {},
   "outputs": [
    {
     "name": "stdout",
     "output_type": "stream",
     "text": [
      "[7, 6, 5, 4, 3]\n",
      "[9, 8, 7, 6, 5, 4, 3, 2, 1, 0]\n",
      "[9, 7, 5, 3, 1]\n",
      "[2, 5]\n",
      "[0, 1, 2, 99, 100, 101, 102, 5, 6, 7, 8, 9]\n",
      "[0, 1, 2, 99, 100, 55, 7, 8, 9]\n",
      "[0, 2, 100, 7, 8, 9]\n",
      "[[4, 5, 6], [7, 8, 9]]\n",
      "[[1, 3], [4, 6], [7, 9]]\n",
      "vneS\n",
      "cScv\n",
      "(1, 3)\n",
      "[9]\n",
      "[]\n",
      "[0, 100, 8]\n"
     ]
    }
   ],
   "source": [
    "lst = list(range(10))  # [0,1,2,3,4,5,6,7,8,9]\n",
    "\n",
    "# 1. Negative step (reverse slice with start/end)\n",
    "print(lst[7:2:-1])      # [7,6,5,4,3] - from index 7 down to 3, step -1\n",
    "\n",
    "# 2. Full reverse\n",
    "print(lst[::-1])         # [9,8,7,6,5,4,3,2,1,0] - entire list reversed\n",
    "\n",
    "# 3. Negative step with skip\n",
    "print(lst[9:0:-2])       # [9,7,5,3,1] - from index 9 down to 1, every 2nd element backwards\n",
    "\n",
    "# 4. Variables in slicing\n",
    "start, end, step = 2, 8, 3\n",
    "print(lst[start:end:step])  # [2,5,8] - indexes 2,5,8 stepping by 3\n",
    "\n",
    "# 5. Slice assignment (replace, expand, shrink)\n",
    "lst[3:5] = [99, 100, 101, 102]\n",
    "print(lst)              # [0,1,2,99,100,101,102,5,6,7,8,9] - replaced indexes 3 and 4 with 4 items\n",
    "\n",
    "lst[5:9] = [55]\n",
    "print(lst)              # [0,1,2,99,100,55,8,9] - replaced 4 elements with 1, shrinking list\n",
    "\n",
    "# 6. Delete slice with step\n",
    "del lst[1:7:2]\n",
    "print(lst)              # [0, 2, 99, 55, 8, 9] - removed elements at index 1,3,5\n",
    "\n",
    "# 7. Nested lists slicing\n",
    "matrix = [[1,2,3],[4,5,6],[7,8,9]]\n",
    "print(matrix[1:])                # [[4,5,6],[7,8,9]] - rows from index 1 to end\n",
    "print([row[::2] for row in matrix])  # [[1,3],[4,6],[7,9]] - every 2nd element in each row\n",
    "\n",
    "# 8. String slicing with negative indices & steps\n",
    "s = \"AdvancedSlicing\"\n",
    "print(s[2:10:2])           # 'avns' - chars at indexes 2,4,6,8\n",
    "print(s[-4::-3])           # 'icadv' - from 4th last char backwards every 3rd char\n",
    "\n",
    "# 9. Tuple slicing (immutable sequence)\n",
    "t = (0,1,2,3,4,5)\n",
    "print(t[1:5:2])            # (1,3) - tuple slice with step 2\n",
    "\n",
    "# 10. Ellipsis `...` (used in numpy arrays, not normal lists)\n",
    "# arr[..., 0] selects all elements in all dimensions except last dim at index 0\n",
    "\n",
    "# 11. Shallow copy of list via slicing\n",
    "copy_lst = lst[:]\n",
    "\n",
    "# Extras:\n",
    "# Out-of-range slices are safe:\n",
    "print(lst[5:100])          # [55,8,9] - slice goes from index 5 to end, no error if end > len(lst)\n",
    "print(lst[3:2])            # [] - empty slice, start > end with positive step\n",
    "print(lst[None:None:2])    # [0, 99, 55, 9] - step 2, start/end default to full range"
   ]
  },
  {
   "cell_type": "markdown",
   "id": "48c9c1b5",
   "metadata": {},
   "source": [
    "#### What is a List?"
   ]
  },
  {
   "cell_type": "code",
   "execution_count": 254,
   "id": "e257bd3f",
   "metadata": {},
   "outputs": [
    {
     "name": "stdout",
     "output_type": "stream",
     "text": [
      "Data type is:  <class 'list'>\n"
     ]
    }
   ],
   "source": [
    "my_list = [1, 2, 3, 4]  # This is a list containing four integers\n",
    "\n",
    "print(\"Data type is: \", type(my_list))  # This prints the data type of 'my_list'"
   ]
  },
  {
   "cell_type": "markdown",
   "id": "16478b67",
   "metadata": {},
   "source": [
    "#### Creating a List"
   ]
  },
  {
   "cell_type": "code",
   "execution_count": 255,
   "id": "86f325c1",
   "metadata": {},
   "outputs": [
    {
     "name": "stdout",
     "output_type": "stream",
     "text": [
      "It is an empty list: []\n",
      "List of strings: ['apple', 'banana', 'cherry']\n",
      "List of integers: [0, 1, 2, 3, 4]\n"
     ]
    }
   ],
   "source": [
    "empty_list = []  # An empty list (contains no elements)\n",
    "\n",
    "fruits = [\"apple\", \"banana\", \"cherry\"]  # A list of strings (fruit names)\n",
    "\n",
    "numbers = list(range(5))  # A list created using range: [0, 1, 2, 3, 4]\n",
    "\n",
    "print(\"It is an empty list:\", empty_list)     # Output: []\n",
    "print(\"List of strings:\", fruits)             # Output: ['apple', 'banana', 'cherry']\n",
    "print(\"List of integers:\", numbers)           # Output: [0, 1, 2, 3, 4]\n"
   ]
  },
  {
   "cell_type": "markdown",
   "id": "3cf5b5e8",
   "metadata": {},
   "source": [
    "#### Accessing Items in a List"
   ]
  },
  {
   "cell_type": "code",
   "execution_count": 256,
   "id": "f45261be",
   "metadata": {},
   "outputs": [
    {
     "name": "stdout",
     "output_type": "stream",
     "text": [
      "original: ['apple', 'banana', 'cherry']\n",
      "\n",
      " apple\n",
      "cherry\n",
      "banana\n",
      "banana\n"
     ]
    }
   ],
   "source": [
    "fruits = [\"apple\", \"banana\", \"cherry\"]  # A list of fruit names\n",
    "\n",
    "print(\"original:\",fruits)\n",
    "print(\"\\n\",fruits[0])   # Accesses the first element: \"apple\"\n",
    "print(fruits[-1])  # Accesses the last element: \"cherry\"\n",
    "print(fruits[1])    # banana\n",
    "print(fruits[-2])   # banana (second last item)"
   ]
  },
  {
   "cell_type": "markdown",
   "id": "ec240061",
   "metadata": {},
   "source": [
    "#### Looping Through Lists"
   ]
  },
  {
   "cell_type": "code",
   "execution_count": 257,
   "id": "6d0f73cf",
   "metadata": {},
   "outputs": [
    {
     "name": "stdout",
     "output_type": "stream",
     "text": [
      "apple\n",
      "banana\n",
      "cherry\n",
      "\n",
      "0: apple\n",
      "1: banana\n",
      "2: cherry\n"
     ]
    }
   ],
   "source": [
    "for fruit in fruits:\n",
    "    print(fruit)  # Prints each fruit in the list, one by one\n",
    "\n",
    "print()\n",
    "# Using index to access both position and value\n",
    "for i in range(len(fruits)):\n",
    "    print(f\"{i}: {fruits[i]}\")  # Prints index and corresponding fruit"
   ]
  },
  {
   "cell_type": "markdown",
   "id": "1ff2cc21",
   "metadata": {},
   "source": [
    "#### Modifying Items"
   ]
  },
  {
   "cell_type": "code",
   "execution_count": 258,
   "id": "a077472d",
   "metadata": {},
   "outputs": [
    {
     "name": "stdout",
     "output_type": "stream",
     "text": [
      "['apple', 'blueberry', 'cherry']\n"
     ]
    }
   ],
   "source": [
    "fruits[1] = \"blueberry\"  # Change the item at index 1 from \"banana\" to \"blueberry\"\n",
    "print(fruits)  # Output: ['apple', 'blueberry', 'cherry']"
   ]
  },
  {
   "cell_type": "markdown",
   "id": "d7802230",
   "metadata": {},
   "source": [
    "#### Adding/Removing Items"
   ]
  },
  {
   "cell_type": "code",
   "execution_count": 287,
   "id": "6faa84d5",
   "metadata": {},
   "outputs": [
    {
     "name": "stdout",
     "output_type": "stream",
     "text": [
      "Original list: ['apple', 'banana', 'cherry']\n",
      "After append('date'): ['apple', 'banana', 'cherry', 'date']\n",
      "After insert(1, 'avocado'): ['apple', 'avocado', 'banana', 'cherry', 'date']\n",
      "After remove('apple'): ['avocado', 'banana', 'cherry', 'date']\n",
      "After pop() (removed last): ['avocado', 'banana', 'cherry'] ; popped item: date\n",
      "After pop(0) (removed first): ['banana', 'cherry'] ; popped item: avocado\n",
      "After del fruits[0]: ['cherry']\n"
     ]
    }
   ],
   "source": [
    "fruits = [\"apple\", \"banana\", \"cherry\"]                # Initialize list with 3 fruits\n",
    "print(\"Original list:\", fruits)                        # ['apple', 'banana', 'cherry']\n",
    "\n",
    "# Add items to the list\n",
    "fruits.append(\"date\")                                  # Add \"date\" at the end of the list\n",
    "print(\"After append('date'):\", fruits)                # ['apple', 'banana', 'cherry', 'date']\n",
    "\n",
    "fruits.insert(1, \"avocado\")                            # Insert \"avocado\" at index 1 (second position)\n",
    "print(\"After insert(1, 'avocado'):\", fruits)          # ['apple', 'avocado', 'banana', 'cherry', 'date']\n",
    "\n",
    "# Remove items from the list\n",
    "fruits.remove(\"apple\")                                 # Remove the first occurrence of \"apple\" by value\n",
    "print(\"After remove('apple'):\", fruits)               # ['avocado', 'banana', 'cherry', 'date']\n",
    "\n",
    "last = fruits.pop()                                    # Remove and return the last item (\"date\")\n",
    "print(\"After pop() (removed last):\", fruits,          # ['avocado', 'banana', 'cherry']\n",
    "      \"; popped item:\", last)                           # popped item: date\n",
    "\n",
    "first = fruits.pop(0)                                  # Remove and return the first item (\"avocado\")\n",
    "print(\"After pop(0) (removed first):\", fruits,        # ['banana', 'cherry']\n",
    "      \"; popped item:\", first)                          # popped item: avocado\n",
    "\n",
    "del fruits[0]                                          # Delete the item at index 0 (\"banana\") without returning it\n",
    "print(\"After del fruits[0]:\", fruits)                  # ['cherry']"
   ]
  },
  {
   "cell_type": "markdown",
   "id": "b4a24c01",
   "metadata": {},
   "source": [
    "#### Useful List Methods"
   ]
  },
  {
   "cell_type": "code",
   "execution_count": 288,
   "id": "2214ce3a",
   "metadata": {},
   "outputs": [
    {
     "name": "stdout",
     "output_type": "stream",
     "text": [
      "After sort(): [1, 1, 3, 4, 5, 9]\n",
      "After reverse(): [9, 5, 4, 3, 1, 1]\n",
      "Index of 4: 2\n",
      "Count of 1: 2\n",
      "Length of list: 6\n",
      "Sum of items: 23\n",
      "Minimum: 1 Maximum: 9\n"
     ]
    }
   ],
   "source": [
    "nums = [3, 1, 4, 1, 5, 9]       # Initialize list of numbers\n",
    "\n",
    "nums.sort()                     # Sort the list in ascending order (in-place)\n",
    "print(\"After sort():\", nums)    # Output: [1, 1, 3, 4, 5, 9]\n",
    "\n",
    "nums.reverse()                  # Reverse the list in-place (now descending order)\n",
    "print(\"After reverse():\", nums) # Output: [9, 5, 4, 3, 1, 1]\n",
    "\n",
    "index_of_4 = nums.index(4)      # Find the index of the first occurrence of 4\n",
    "print(\"Index of 4:\", index_of_4) # Output: 2\n",
    "\n",
    "count_of_1 = nums.count(1)      # Count how many times 1 appears in the list\n",
    "print(\"Count of 1:\", count_of_1) # Output: 2\n",
    "\n",
    "length = len(nums)              # Get the number of items in the list\n",
    "print(\"Length of list:\", length) # Output: 6\n",
    "\n",
    "total = sum(nums)               # Calculate the sum of all items in the list\n",
    "print(\"Sum of items:\", total)   # Output: 23\n",
    "\n",
    "minimum = min(nums)             # Find the smallest number in the list\n",
    "maximum = max(nums)             # Find the largest number in the list\n",
    "print(\"Minimum:\", minimum, \"Maximum:\", maximum)  # Output: Minimum: 1 Maximum: 9\n"
   ]
  },
  {
   "cell_type": "markdown",
   "id": "d29c15eb",
   "metadata": {},
   "source": [
    "#### Nested Lists (2D Lists)"
   ]
  },
  {
   "cell_type": "code",
   "execution_count": 295,
   "id": "76f574cf",
   "metadata": {},
   "outputs": [
    {
     "name": "stdout",
     "output_type": "stream",
     "text": [
      "2\n",
      "\n",
      "1\n",
      "2\n",
      "3\n",
      "4\n",
      "5\n",
      "6\n"
     ]
    }
   ],
   "source": [
    "matrix = [\n",
    "    [1, 2, 3],   # First row: a list containing 3 elements\n",
    "    [4, 5, 6]    # Second row: another list containing 3 elements\n",
    "]\n",
    "\n",
    "print(matrix[0][1])  \n",
    "# Access the element at row index 0 (first row) and column index 1 (second element)\n",
    "# matrix[0] is [1, 2, 3], so matrix[0][1] is 2\n",
    "# This prints: 2\n",
    "\n",
    "print()\n",
    "# Loop through the 2D list (list of lists)\n",
    "for row in matrix:\n",
    "    # 'row' is each element of 'matrix', which itself is a list (e.g., [1, 2, 3])\n",
    "    for val in row:\n",
    "        # 'val' is each individual element inside the current 'row' list\n",
    "        print(val)  \n",
    "        # Prints the individual numbers one by one:\n",
    "        # 1, then 2, then 3 (from first row),\n",
    "        # followed by 4, 5, 6 (from second row)"
   ]
  },
  {
   "cell_type": "markdown",
   "id": "ab6e9e4f",
   "metadata": {},
   "source": [
    "#### Built-in Functions"
   ]
  },
  {
   "cell_type": "code",
   "execution_count": null,
   "id": "347a7917",
   "metadata": {},
   "outputs": [
    {
     "name": "stdout",
     "output_type": "stream",
     "text": [
      "True\n",
      "True\n"
     ]
    }
   ],
   "source": [
    "nums = [2, 4, 6]\n",
    "\n",
    "print(all(n % 2 == 0 for n in nums))  # Checks if ALL numbers are even\n",
    "\n",
    "print(any(n > 5 for n in nums))       # Checks if ANY number is greater than 5\n"
   ]
  },
  {
   "cell_type": "markdown",
   "id": "4d887a6e",
   "metadata": {},
   "source": [
    "#### More on Nesting Lists (2D Lists)"
   ]
  },
  {
   "cell_type": "code",
   "execution_count": 300,
   "id": "75e133e3",
   "metadata": {},
   "outputs": [
    {
     "name": "stdout",
     "output_type": "stream",
     "text": [
      "[' ', ' ', ' ']\n",
      "[' ', 'X', ' ']\n",
      "[' ', ' ', ' ']\n"
     ]
    }
   ],
   "source": [
    "# Example: Representing a Tic-Tac-Toe Board\n",
    "\n",
    "# Create a 3x3 board represented as a 2D list\n",
    "# Each element is a string, initially a space \" \" to represent an empty cell\n",
    "board = [\n",
    "    [\" \", \" \", \" \"],   # Row 0: 3 empty spaces\n",
    "    [\" \", \" \", \" \"],   # Row 1: 3 empty spaces\n",
    "    [\" \", \" \", \" \"]    # Row 2: 3 empty spaces\n",
    "]\n",
    "\n",
    "# Place an \"X\" in the middle of the board\n",
    "# Access the second row (index 1) and second column (index 1)\n",
    "board[1][1] = \"X\"\n",
    "\n",
    "# Print the board row by row\n",
    "for row in board:\n",
    "    print(row)    # Each row is printed as a list, showing the current state\n"
   ]
  },
  {
   "cell_type": "markdown",
   "id": "b3697b29",
   "metadata": {},
   "source": [
    "#### Optional improvement: Pretty print the board"
   ]
  },
  {
   "cell_type": "code",
   "execution_count": 302,
   "id": "fe3a4149",
   "metadata": {},
   "outputs": [
    {
     "name": "stdout",
     "output_type": "stream",
     "text": [
      " | | \n",
      "-----\n",
      " |X| \n",
      "-----\n",
      " | | \n",
      "-----\n"
     ]
    }
   ],
   "source": [
    "board = [\n",
    "    [\" \", \" \", \" \"],\n",
    "    [\" \", \"X\", \" \"],\n",
    "    [\" \", \" \", \" \"]\n",
    "]\n",
    "\n",
    "# Print the Tic-Tac-Toe board with grid lines\n",
    "for row in board:\n",
    "    print(\"|\".join(row))    # Join the elements of the row with \"|\" to separate columns\n",
    "    print(\"-\" * 5)         # Print a line of 5 dashes as a row separator\n"
   ]
  },
  {
   "cell_type": "markdown",
   "id": "350eff50",
   "metadata": {},
   "source": [
    "#### Mini Project Challenge: Student Scores"
   ]
  },
  {
   "cell_type": "code",
   "execution_count": 314,
   "id": "00fbbc88",
   "metadata": {},
   "outputs": [
    {
     "name": "stdout",
     "output_type": "stream",
     "text": [
      "Alice scored 85\n",
      "Bob scored 92\n",
      "Charlie scored 78\n",
      "David scored 90\n",
      "\n",
      "Students scoring above 80: ['Alice', 'Bob', 'David']\n",
      "\n",
      "Sorted by score:\n",
      "Bob scored 92\n",
      "David scored 90\n",
      "Alice scored 85\n",
      "Charlie scored 78\n"
     ]
    }
   ],
   "source": [
    "students = [\"Alice\", \"Bob\", \"Charlie\", \"David\"]  # List of student names\n",
    "scores = [85, 92, 78, 90]                        # Corresponding list of scores\n",
    "\n",
    "# Step 1: Pair students and their scores together using zip()\n",
    "paired = list(zip(students, scores))\n",
    "# zip() creates pairs like (\"Alice\", 85), (\"Bob\", 92), etc.\n",
    "# list() converts the zip object into a list of tuples\n",
    "\n",
    "# Step 2: Print each student's score\n",
    "for name, score in paired:\n",
    "    print(f\"{name} scored {score}\")\n",
    "# Output:\n",
    "# Alice scored 85\n",
    "# Bob scored 92\n",
    "# Charlie scored 78\n",
    "# David scored 90\n",
    "\n",
    "print()  # Print a blank line for spacing\n",
    "\n",
    "# Step 3: Create a list of students who scored above 80\n",
    "high_scorers = [name for name, score in paired if score > 80]\n",
    "print(\"Students scoring above 80:\", high_scorers)\n",
    "# This uses a list comprehension to filter and collect names\n",
    "# Output:\n",
    "# Students scoring above 80: ['Alice', 'Bob', 'David']\n",
    "\n",
    "print()  # Blank line\n",
    "\n",
    "# Step 4: Sort the paired list by score in descending order\n",
    "sorted_paired = sorted(paired, key=lambda x: x[1], reverse=True)\n",
    "# sorted() returns a new sorted list\n",
    "# key=lambda x: x[1] means sort by the second item in each tuple (the score)\n",
    "# reverse=True sorts from highest to lowest\n",
    "\n",
    "print(\"Sorted by score:\")\n",
    "for name, score in sorted_paired:\n",
    "    print(f\"{name} scored {score}\")\n",
    "# Output:\n",
    "# Bob scored 92\n",
    "# David scored 90\n",
    "# Alice scored 85\n",
    "# Charlie scored 78\n"
   ]
  },
  {
   "cell_type": "markdown",
   "id": "8e4d143a",
   "metadata": {},
   "source": [
    "#### Deep Dive: List Slicing"
   ]
  },
  {
   "cell_type": "markdown",
   "id": "8b40ff22",
   "metadata": {},
   "source": [
    "##### What is slicing?\n",
    "Slicing lets you extract a part (sub-list) of a list by specifying a start, stop, and optional step.\n",
    "- sublist = mylist[start: stop: step]"
   ]
  },
  {
   "cell_type": "code",
   "execution_count": 319,
   "id": "671e8984",
   "metadata": {},
   "outputs": [
    {
     "name": "stdout",
     "output_type": "stream",
     "text": [
      "[2, 3, 4, 5]\n",
      "[0, 1, 2, 3]\n",
      "[5, 6, 7, 8, 9]\n",
      "[0, 2, 4, 6, 8]\n",
      "[9, 8, 7, 6, 5, 4, 3, 2, 1, 0]\n",
      "[7, 6, 5, 4, 3]\n",
      "\n",
      "[10, 20, 30, 40, 50]\n",
      "[80, 90, 100]\n",
      "[10, 30, 50, 70, 90]\n",
      "[100, 90, 80, 70, 60, 50, 40, 30, 20, 10]\n",
      "[40, 50, 60, 70]\n"
     ]
    }
   ],
   "source": [
    "nums = [0, 1, 2, 3, 4, 5, 6, 7, 8, 9]\n",
    "\n",
    "print(nums[2:6])        # [2, 3, 4, 5] — elements from index 2 to 5\n",
    "print(nums[:4])          # [0, 1, 2, 3] — from start to index 3\n",
    "print(nums[5:])          # [5, 6, 7, 8, 9] — from index 5 to end\n",
    "print(nums[::2])         # [0, 2, 4, 6, 8] — every 2nd element\n",
    "print(nums[::-1])        # [9, 8, 7, 6, 5, 4, 3, 2, 1, 0] — reversed list\n",
    "print(nums[7:2:-1])      # [7, 6, 5, 4, 3] — backward slice from index 7 down to 3\n",
    "\n",
    "\n",
    "print()\n",
    "nums = [10, 20, 30, 40, 50, 60, 70, 80, 90, 100]\n",
    "\n",
    "print(nums[:5])      # [10, 20, 30, 40, 50]  first 5 elements\n",
    "print(nums[-3:])     # [80, 90, 100]         last 3 elements\n",
    "print(nums[::2])     # [10, 30, 50, 70, 90]  every 2nd element\n",
    "print(nums[::-1])    # [100, 90, 80, ..., 10] reverse list\n",
    "print(nums[3:7])     # [40, 50, 60, 70]      elements from index 3 to 6\n"
   ]
  },
  {
   "cell_type": "markdown",
   "id": "8c5a73a7",
   "metadata": {},
   "source": [
    "##### Exercise 2: Reverse every second element of a list"
   ]
  },
  {
   "cell_type": "code",
   "execution_count": 323,
   "id": "c1ee55b7",
   "metadata": {},
   "outputs": [
    {
     "name": "stdout",
     "output_type": "stream",
     "text": [
      "['f', 'd', 'b']\n"
     ]
    }
   ],
   "source": [
    "chars = ['a', 'b', 'c', 'd', 'e', 'f']\n",
    "\n",
    "result = chars[::-2]  # Slice the list starting from the end towards the beginning, stepping backwards by 2\n",
    "print(result)        # Output: ['f', 'd', 'b']\n"
   ]
  },
  {
   "cell_type": "markdown",
   "id": "5a964204",
   "metadata": {},
   "source": [
    "#### Creation, inspection, indexing, slicing"
   ]
  },
  {
   "cell_type": "code",
   "execution_count": 260,
   "id": "22f65c7e",
   "metadata": {},
   "outputs": [
    {
     "name": "stdout",
     "output_type": "stream",
     "text": [
      "Length of a: 3\n",
      "Is 2 in a? True\n",
      "First element of a: 1\n",
      "Last element of a: 3\n",
      "Sliced a[1:3]: [2, 3]\n",
      "Reversed a[::-1]: [3, 2, 1]\n"
     ]
    }
   ],
   "source": [
    "# List Creation\n",
    "a = [1, 2, 3]                      # literal: creates a list with elements 1, 2, 3\n",
    "b = list((4, 5, 6))                # from tuple/iterable (rarely needed): converts a tuple (4, 5, 6) into a list\n",
    "c = list(\"abc\")                    # iterable → list: converts string \"abc\" into a list of characters ['a', 'b', 'c']\n",
    "d = []                             # empty: creates an empty list\n",
    "\n",
    "# List Operations\n",
    "print(\"Length of a:\", len(a))      # 3: returns the length of the list 'a' (number of elements in the list)\n",
    "print(\"Is 2 in a?\", 2 in a)         # True: checks if 2 is an element of list 'a' using the 'in' operator\n",
    "\n",
    "# Accessing first and last elements\n",
    "print(\"First element of a:\", a[0])  # 1: access the first element (a[0])\n",
    "print(\"Last element of a:\", a[-1])  # 3: access the last element (a[-1])\n",
    "\n",
    "# Slicing: This creates a new list by extracting a portion of the original list\n",
    "print(\"Sliced a[1:3]:\", a[1:3])     # [2, 3]: this is the **slicing operation**\n",
    "                                   # The slice notation is [start:end], which means:\n",
    "                                   # - `start` is the index where the slice begins (inclusive)\n",
    "                                   # - `end` is the index where the slice ends (exclusive)\n",
    "                                   # So a[1:3] extracts elements starting from index 1 (inclusive) to index 3 (exclusive)\n",
    "                                   # which gives us the elements at indices 1 and 2, i.e., [2, 3].\n",
    "\n",
    "# Slicing with Negative Indices or Reversal\n",
    "print(\"Reversed a[::-1]:\", a[::-1])  # [3, 2, 1]: this is a reversal of the list using slicing\n",
    "                                   # The slicing syntax [start:end:step] allows for controlling the step between elements\n",
    "                                   # By setting the `step` to -1, it reverses the list:\n",
    "                                   # - `start` and `end` are omitted, so it takes the entire list\n",
    "                                   # - `step = -1` means it moves through the list in reverse order (from end to start)\n",
    "                                   # So, a[::-1] creates a **new list** with the elements in reverse order.\n"
   ]
  },
  {
   "cell_type": "markdown",
   "id": "e0085a18",
   "metadata": {},
   "source": [
    "#### Slice assignment (powerful & mutating)"
   ]
  },
  {
   "cell_type": "code",
   "execution_count": 261,
   "id": "43f65f10",
   "metadata": {},
   "outputs": [
    {
     "name": "stdout",
     "output_type": "stream",
     "text": [
      "Initial x: [10, 20, 30, 40]\n",
      "After x[1:3] = [99, 98, 97]: [10, 99, 98, 97, 40]\n",
      "After x[:0] = [1, 2]: [1, 2, 10, 99, 98, 97, 40]\n",
      "After x[len(x):] = [200]: [1, 2, 10, 99, 98, 97, 40, 200]\n"
     ]
    }
   ],
   "source": [
    "# Initial list\n",
    "x = [10, 20, 30, 40]\n",
    "print(\"Initial x:\", x)  # Output: [10, 20, 30, 40]\n",
    "\n",
    "# Slicing and replacing part of the list\n",
    "x[1:3] = [99, 98, 97]\n",
    "print(\"After x[1:3] = [99, 98, 97]:\", x)  \n",
    "# Output: [10, 99, 98, 97, 40] \n",
    "# Explanation: The slice x[1:3] refers to elements from index 1 to index 2 (inclusive).\n",
    "# We replace the values from index 1 to index 2 with the new list [99, 98, 97].\n",
    "# The list now becomes [10, 99, 98, 97, 40].\n",
    "\n",
    "# Adding elements at the beginning\n",
    "x[:0] = [1, 2]\n",
    "print(\"After x[:0] = [1, 2]:\", x)\n",
    "# Output: [1, 2, 10, 99, 98, 97, 40]\n",
    "# Explanation: The slice x[:0] represents the position before the first element of the list (index 0).\n",
    "# We are inserting [1, 2] at the beginning of the list. The list now becomes [1, 2, 10, 99, 98, 97, 40].\n",
    "\n",
    "# Adding an element at the end\n",
    "x[len(x):] = [200]\n",
    "print(\"After x[len(x):] = [200]:\", x)\n",
    "# Output: [1, 2, 10, 99, 98, 97, 40, 200]\n",
    "# Explanation: x[len(x):] targets the end of the list. Since len(x) gives the current length of the list,\n",
    "# this operation adds 200 at the very end. The list now becomes [1, 2, 10, 99, 98, 97, 40, 200].\n"
   ]
  },
  {
   "cell_type": "markdown",
   "id": "53078dfc",
   "metadata": {},
   "source": [
    "#### Shrinking the List with Slicing"
   ]
  },
  {
   "cell_type": "code",
   "execution_count": 262,
   "id": "f4946b6e",
   "metadata": {},
   "outputs": [
    {
     "name": "stdout",
     "output_type": "stream",
     "text": [
      "[1, 100, 5]\n"
     ]
    }
   ],
   "source": [
    "x = [1, 2, 3, 4, 5]  # Initialize list x with elements [1, 2, 3, 4, 5]\n",
    "\n",
    "# Replace elements at indices 1 to 3 with a single element\n",
    "x[1:4] = [100]  # \n",
    "               # The slice x[1:4] selects elements at indices 1, 2, and 3 (i.e., [2, 3, 4]).\n",
    "               # We are replacing this slice with the list [100], which only contains a single element.\n",
    "               # This operation removes the elements at indices 1, 2, and 3, and inserts 100 in their place.\n",
    "\n",
    "print(x)  # Output: [1, 100, 5]\n",
    "          # After the operation, the list 'x' becomes [1, 100, 5].\n",
    "          # The elements [2, 3, 4] were removed, and the list was updated with [100] at index 1."
   ]
  },
  {
   "cell_type": "markdown",
   "id": "cd246dc8",
   "metadata": {},
   "source": [
    "#### Inserting New Elements Using Slicing"
   ]
  },
  {
   "cell_type": "code",
   "execution_count": 263,
   "id": "581edbf4",
   "metadata": {},
   "outputs": [
    {
     "name": "stdout",
     "output_type": "stream",
     "text": [
      "[10, 20, 99, 98, 97, 30, 40]\n"
     ]
    }
   ],
   "source": [
    "x = [10, 20, 30, 40]  # Initialize list x with elements [10, 20, 30, 40]\n",
    "\n",
    "# Insert new elements at index 2 (between 20 and 30)\n",
    "x[2:2] = [99, 98, 97]  # \n",
    "                        # The slice x[2:2] refers to the position *between* elements at index 2 (value 30) \n",
    "                        # and index 3 (value 40), essentially inserting the new elements in the middle of the list.\n",
    "                        # Assigning the list [99, 98, 97] to this slice inserts these values at the specified position.\n",
    "                        # The slice `x[2:2]` does not replace anything, it just adds the new elements there.\n",
    "\n",
    "print(x)  # Output: [10, 20, 99, 98, 97, 30, 40]\n",
    "          # After the insertion, the list 'x' has been updated to include [99, 98, 97] between 20 and 30."
   ]
  },
  {
   "cell_type": "markdown",
   "id": "fd8a65c6",
   "metadata": {},
   "source": [
    "#### Replacing Entire List Using Slicing"
   ]
  },
  {
   "cell_type": "code",
   "execution_count": 264,
   "id": "1c1e7a04",
   "metadata": {},
   "outputs": [
    {
     "name": "stdout",
     "output_type": "stream",
     "text": [
      "[10, 20, 30]\n"
     ]
    }
   ],
   "source": [
    "x = [1, 2, 3, 4, 5]  # Initialize list x with elements [1, 2, 3, 4, 5]\n",
    "\n",
    "# Replace the entire list using slice assignment\n",
    "x[:] = [10, 20, 30]  # \n",
    "                     # `x[:]` refers to the entire list. Using slice assignment, we can replace\n",
    "                     # all the elements in the list in place. Here, we are assigning the new list \n",
    "                     # [10, 20, 30] to `x`, effectively replacing its original content.\n",
    "\n",
    "print(x)  # Output: [10, 20, 30]\n",
    "          # After the operation, the list 'x' has been updated with the new elements [10, 20, 30].\n"
   ]
  },
  {
   "cell_type": "markdown",
   "id": "401fe433",
   "metadata": {},
   "source": [
    "#### Combining Different Lists Using Slicing"
   ]
  },
  {
   "cell_type": "code",
   "execution_count": 265,
   "id": "eefa38cd",
   "metadata": {},
   "outputs": [
    {
     "name": "stdout",
     "output_type": "stream",
     "text": [
      "[1, 2, 3, 4, 5, 6]\n"
     ]
    }
   ],
   "source": [
    "x = [1, 2, 3]  # Initialize list x with elements [1, 2, 3]\n",
    "y = [4, 5, 6]  # Initialize list y with elements [4, 5, 6]\n",
    "\n",
    "# Combine lists using slicing\n",
    "x[:] = x + y  # \n",
    "             # The slice assignment `x[:]` means modifying the entire content of list 'x' in place.\n",
    "             # `x + y` creates a new list by concatenating x and y, resulting in [1, 2, 3, 4, 5, 6].\n",
    "             # This concatenated list is assigned back to `x`, which updates it to the new combined list.\n",
    "\n",
    "print(x)  # Output: [1, 2, 3, 4, 5, 6]\n",
    "          # After the operation, list x has been updated with the elements from both lists, \n",
    "          # so the output is [1, 2, 3, 4, 5, 6]."
   ]
  },
  {
   "cell_type": "markdown",
   "id": "b28d8b44",
   "metadata": {},
   "source": [
    "#### Removing Elements Using Slicing"
   ]
  },
  {
   "cell_type": "code",
   "execution_count": 266,
   "id": "2cc594b7",
   "metadata": {},
   "outputs": [
    {
     "name": "stdout",
     "output_type": "stream",
     "text": [
      "[10, 50]\n"
     ]
    }
   ],
   "source": [
    "x = [10, 20, 30, 40, 50]  # Initialize a list with values [10, 20, 30, 40, 50]\n",
    "\n",
    "# Remove elements at indices 1 to 3 (inclusive of index 1, exclusive of index 4)\n",
    "x[1:4] = []  # The slice x[1:4] selects elements from index 1 to index 3 (i.e., [20, 30, 40]).\n",
    "             # Replacing this slice with an empty list [] removes these elements.\n",
    "\n",
    "print(x)  # Output: [10, 50]\n",
    "          # After the slice operation, the list 'x' has been modified to remove [20, 30, 40].\n",
    "          # The remaining elements are [10, 50].\n",
    "\n"
   ]
  },
  {
   "cell_type": "markdown",
   "id": "bdcd323e",
   "metadata": {},
   "source": [
    "#### Reversing a Sublist"
   ]
  },
  {
   "cell_type": "code",
   "execution_count": 267,
   "id": "883a088b",
   "metadata": {},
   "outputs": [
    {
     "name": "stdout",
     "output_type": "stream",
     "text": [
      "[10, 50, 40, 30, 20]\n"
     ]
    }
   ],
   "source": [
    "x = [10, 20, 30, 40, 50]  # Initialize list x with elements [10, 20, 30, 40, 50]\n",
    "\n",
    "# Reverse the elements at indices 1 to 4\n",
    "x[1:5] = x[1:5][::-1]  # \n",
    "                       # The slice `x[1:5]` selects the elements from index 1 to index 4 (i.e., [20, 30, 40, 50]).\n",
    "                       # `x[1:5][::-1]` reverses this slice using slicing with a step of -1.\n",
    "                       # This creates the reversed list [50, 40, 30, 20].\n",
    "                       # We then assign this reversed list back to the same slice `x[1:5]`, replacing the original order.\n",
    "\n",
    "print(x)  # Output: [10, 50, 40, 30, 20]\n",
    "          # After the operation, the list 'x' is updated with the elements at indices 1 to 4 reversed,\n",
    "          # resulting in the list [10, 50, 40, 30, 20].\n"
   ]
  },
  {
   "cell_type": "markdown",
   "id": "81dce41c",
   "metadata": {},
   "source": [
    "#### Conditional Replacement"
   ]
  },
  {
   "cell_type": "code",
   "execution_count": 268,
   "id": "aff61385",
   "metadata": {},
   "outputs": [
    {
     "name": "stdout",
     "output_type": "stream",
     "text": [
      "[1, 2, 3, 100, 100]\n"
     ]
    }
   ],
   "source": [
    "x = [1, 2, 3, 4, 5]  # Initialize list x with elements [1, 2, 3, 4, 5]\n",
    "\n",
    "# Replace elements greater than 3 with 100\n",
    "x[3:] = [100] * (len(x) - 3)  # \n",
    "                               # The slice `x[3:]` selects all elements from index 3 to the end of the list (i.e., [4, 5]).\n",
    "                               # `len(x) - 3` calculates the number of elements from index 3 to the end (which is 2).\n",
    "                               # `[100] * (len(x) - 3)` creates a new list with two 100s: [100, 100].\n",
    "                               # We assign this list [100, 100] back to the slice `x[3:]`, replacing the elements 4 and 5.\n",
    "\n",
    "print(x)  # Output: [1, 2, 3, 100, 100]\n",
    "          # After the operation, the elements at indices 3 and 4 (i.e., [4, 5]) are replaced by [100, 100].\n",
    "          # The updated list becomes [1, 2, 3, 100, 100].\n"
   ]
  },
  {
   "cell_type": "markdown",
   "id": "bcad950e",
   "metadata": {},
   "source": [
    "#### Cyclic or Rotational Shifting"
   ]
  },
  {
   "cell_type": "code",
   "execution_count": 269,
   "id": "fcefb5ff",
   "metadata": {},
   "outputs": [
    {
     "name": "stdout",
     "output_type": "stream",
     "text": [
      "[4, 5, 1, 2, 3]\n"
     ]
    }
   ],
   "source": [
    "x = [1, 2, 3, 4, 5]  # Initialize list x with elements [1, 2, 3, 4, 5]\n",
    "\n",
    "# Perform a right rotation by 2 positions\n",
    "x[:] = x[-2:] + x[:-2]  # \n",
    "                        # `x[-2:]` selects the last two elements of the list (i.e., [4, 5]).\n",
    "                        # `x[:-2]` selects all elements except the last two (i.e., [1, 2, 3]).\n",
    "                        # Concatenating these two slices: `[4, 5] + [1, 2, 3]` results in [4, 5, 1, 2, 3].\n",
    "                        # This combined list is assigned back to `x[:]`, effectively rotating the list to the right by 2 positions.\n",
    "\n",
    "print(x)  # Output: [4, 5, 1, 2, 3]\n",
    "          # After the operation, the list has been rotated right by 2 positions.\n",
    "          # The last two elements [4, 5] have moved to the front,"
   ]
  },
  {
   "cell_type": "markdown",
   "id": "3454c86c",
   "metadata": {},
   "source": [
    "#### List Comprehensions with Slicing"
   ]
  },
  {
   "cell_type": "code",
   "execution_count": 270,
   "id": "7911e279",
   "metadata": {},
   "outputs": [
    {
     "name": "stdout",
     "output_type": "stream",
     "text": [
      "[1, 2, 9, 4, 25, 6]\n"
     ]
    }
   ],
   "source": [
    "# You can use list comprehensions in conjunction with slicing for complex list manipulations.\n",
    "\n",
    "x = [1, 2, 3, 4, 5, 6]  # Initialize list x with elements [1, 2, 3, 4, 5, 6]\n",
    "\n",
    "# Modify every other element (at even indices) by squaring them\n",
    "x[::2] = [i**2 for i in x[::2]]  # \n",
    "                                    # `x[::2]` selects every other element starting from index 0 (i.e., [1, 3, 5]).\n",
    "                                    # `[i**2 for i in x[::2]]` is a list comprehension that squares each of those elements.\n",
    "                                    # The result is [1, 9, 25] since 1^2 = 1, 3^2 = 9, and 5^2 = 25.\n",
    "                                    # We assign this list of squared values back to `x[::2]`, updating the selected elements in place.\n",
    "\n",
    "print(x)  # Output: [1, 2, 9, 4, 25, 6]\n",
    "          # After the operation, the elements at even indices (0, 2, 4) have been squared, \n",
    "          # so the list 'x' is updated to [1, 2, 9, 4, 25, 6]."
   ]
  },
  {
   "cell_type": "markdown",
   "id": "651df1c8",
   "metadata": {},
   "source": [
    "## Let's Try a Challenge!\n",
    "\n",
    "You are given a list of numbers representing the prices of items in a store. You need to apply the following changes:\n",
    "\n",
    "Discount: Apply a 10% discount on all items priced above $50.\n",
    "\n",
    "Reorder: Move the first 2 items in the list to the end.\n",
    "\n",
    "Clearance: Set any item priced below $10 to 0."
   ]
  },
  {
   "cell_type": "markdown",
   "id": "092ec648",
   "metadata": {},
   "source": [
    "Let's break down the solution step-by-step and solve the problem using list slicing and modification techniques we’ve discussed. Here's how we'll approach each task:\n",
    "\n",
    "##### Problem Breakdown:\n",
    "\n",
    "- Apply a 10% discount on all items priced above $50.\n",
    "\n",
    "    - We need to loop through the list and check each price.\n",
    "\n",
    "    - If the price is greater than 50, apply a 10% discount (i.e., multiply the price by 0.9).\n",
    "\n",
    "- Reorder the list:\n",
    "\n",
    "    - Move the first 2 items in the list to the end.\n",
    "\n",
    "    - You can achieve this by slicing the list into two parts: the first two elements and the rest.\n",
    "\n",
    "    - Then, concatenate the second part with the first two elements.\n",
    "\n",
    "- Clearance:\n",
    "\n",
    "    - Set any item priced below $10 to 0.\n",
    "\n",
    "    - We'll loop through the list and check each price. If it's below 10, we replace it with 0."
   ]
  },
  {
   "cell_type": "code",
   "execution_count": 271,
   "id": "00eb1d41",
   "metadata": {},
   "outputs": [
    {
     "name": "stdout",
     "output_type": "stream",
     "text": [
      "After discount: [5, 54.0, 90.0, 30, 9, 49.5, 12, 8, 72.0]\n",
      "After clearance: [90.0, 30, 0, 49.5, 12, 0, 72.0, 0, 54.0]\n"
     ]
    }
   ],
   "source": [
    "# ---------------------------------------------\n",
    "# Step 0) Sample input list of prices (numbers)\n",
    "# ---------------------------------------------\n",
    "prices = [5, 60, 100, 30, 9, 55, 12, 8, 80]\n",
    "\n",
    "# -----------------------------------------------------------\n",
    "# Step 1) Apply a 10% discount to items priced strictly > 50\n",
    "# -----------------------------------------------------------\n",
    "# Explanation:\n",
    "# - This is a list comprehension, which builds a NEW list from 'prices'.\n",
    "# - For each 'price', we use a conditional expression:\n",
    "#       price * 0.9 if price > 50 else price\n",
    "#   meaning: \"if price is greater than 50, multiply by 0.9 (i.e., 10% off),\n",
    "#             otherwise keep the price unchanged.\"\n",
    "# - Note: multiplying by 0.9 produces floats (e.g., 60 -> 54.0).\n",
    "# - This does NOT modify the original list in-place; we reassign to 'prices'.\n",
    "prices = [price * 0.9 if price > 50 else price for price in prices]\n",
    "print(\"After discount:\", prices)\n",
    "# OUTPUT:\n",
    "# After discount: [5, 54.0, 90.0, 30, 9, 49.5, 12, 8, 72.0]\n",
    "\n",
    "# -------------------------------------------------------------\n",
    "# Step 2) Move (rotate) the first 2 items to the end of the list\n",
    "# -------------------------------------------------------------\n",
    "# Explanation:\n",
    "# - Slicing basics:\n",
    "#     prices[2:]  -> all elements from index 2 to the end\n",
    "#     prices[:2]  -> the first two elements (index 0 and 1)\n",
    "# - Concatenating these slices effectively rotates the list left by 2.\n",
    "#   Example with the current list:\n",
    "#     prices (after Step 1) = [5, 54.0, 90.0, 30, 9, 49.5, 12, 8, 72.0]\n",
    "#     prices[2:] = [90.0, 30, 9, 49.5, 12, 8, 72.0]\n",
    "#     prices[:2] = [5, 54.0]\n",
    "#     combined   = [90.0, 30, 9, 49.5, 12, 8, 72.0, 5, 54.0]\n",
    "prices = prices[2:] + prices[:2]\n",
    "# (Optional) Print to verify rotation:\n",
    "# print(\"After rotation:\", prices)\n",
    "# Would show: [90.0, 30, 9, 49.5, 12, 8, 72.0, 5, 54.0]\n",
    "\n",
    "# -------------------------------------------------------\n",
    "# Step 3) Set any item priced strictly below 10 to 0\n",
    "# -------------------------------------------------------\n",
    "# Explanation:\n",
    "# - Another list comprehension that maps each value to:\n",
    "#       0 if price < 10 else price\n",
    "# - This replaces all values < 10 (e.g., 9, 8, 5) with 0.\n",
    "# - Note: you’ll now have a mix of ints and floats (e.g., 0, 54.0);\n",
    "#   Python allows mixed numeric types in a list. If you prefer consistent\n",
    "#   types, use 0.0 instead of 0.\n",
    "prices = [0 if price < 10 else price for price in prices]\n",
    "print(\"After clearance:\", prices)\n",
    "# OUTPUT:\n",
    "# After clearance: [90.0, 30, 0, 49.5, 12, 0, 72.0, 0, 54.0]\n"
   ]
  },
  {
   "cell_type": "markdown",
   "id": "8e46900e",
   "metadata": {},
   "source": [
    "#### Mutating methods (and complexity)"
   ]
  },
  {
   "cell_type": "code",
   "execution_count": 272,
   "id": "c24a7d55",
   "metadata": {},
   "outputs": [
    {
     "name": "stdout",
     "output_type": "stream",
     "text": [
      "Start: [3, 1, 2]\n",
      "After append(4): [3, 1, 2, 4]\n",
      "After extend([5,6]): [3, 1, 2, 4, 5, 6]\n",
      "After insert(0,0): [0, 3, 1, 2, 4, 5, 6]\n",
      "After remove(1): [0, 3, 2, 4, 5, 6]\n",
      "After pop(): [0, 3, 2, 4, 5]  (popped value: 6 )\n",
      "After pop(0): [3, 2, 4, 5]  (popped value: 0 )\n",
      "After clear(): []\n"
     ]
    }
   ],
   "source": [
    "# ---------------------------------------------------------\n",
    "# DEMO: Common Python list operations with complexities\n",
    "# ---------------------------------------------------------\n",
    "\n",
    "nums = [3, 1, 2]\n",
    "print(\"Start:\", nums)\n",
    "# Start: [3, 1, 2]\n",
    "\n",
    "# -----------------------------------------------------------------\n",
    "# append(x) → Add a single item to the end\n",
    "# - Complexity: O(1) amortized (fast, rarely resizes underlying array)\n",
    "# -----------------------------------------------------------------\n",
    "nums.append(4)\n",
    "print(\"After append(4):\", nums)\n",
    "# [3, 1, 2, 4]\n",
    "\n",
    "# -----------------------------------------------------------------\n",
    "# extend(iterable) → Add multiple items at once\n",
    "# - Complexity: O(k) where k = number of new items\n",
    "# - Faster than doing multiple append() in a Python loop\n",
    "# -----------------------------------------------------------------\n",
    "nums.extend([5, 6])\n",
    "print(\"After extend([5,6]):\", nums)\n",
    "# [3, 1, 2, 4, 5, 6]\n",
    "\n",
    "# -----------------------------------------------------------------\n",
    "# insert(i, x) → Insert at a given index\n",
    "# - Complexity: O(n) in worst case (all elements shift right)\n",
    "# - Avoid in tight loops for large lists\n",
    "# -----------------------------------------------------------------\n",
    "nums.insert(0, 0)\n",
    "print(\"After insert(0,0):\", nums)\n",
    "# [0, 3, 1, 2, 4, 5, 6]\n",
    "\n",
    "# -----------------------------------------------------------------\n",
    "# remove(x) → Remove the FIRST occurrence of value x\n",
    "# - Complexity: O(n) (search + shift)\n",
    "# - Raises ValueError if item not found\n",
    "# -----------------------------------------------------------------\n",
    "nums.remove(1)\n",
    "print(\"After remove(1):\", nums)\n",
    "# [0, 3, 2, 4, 5, 6]\n",
    "\n",
    "# -----------------------------------------------------------------\n",
    "# pop() → Remove and return last item\n",
    "# - Complexity: O(1)\n",
    "# - If index is given, pop(i) removes at position i (cost O(n) if not end)\n",
    "# -----------------------------------------------------------------\n",
    "v = nums.pop()\n",
    "print(\"After pop():\", nums, \" (popped value:\", v, \")\")\n",
    "# [0, 3, 2, 4, 5] (popped value: 6)\n",
    "\n",
    "# -----------------------------------------------------------------\n",
    "# pop(0) → Remove and return first element\n",
    "# - Complexity: O(n) (shifts everything left)\n",
    "# - For efficient queue behavior, prefer collections.deque\n",
    "# -----------------------------------------------------------------\n",
    "v0 = nums.pop(0)\n",
    "print(\"After pop(0):\", nums, \" (popped value:\", v0, \")\")\n",
    "# [3, 2, 4, 5] (popped value: 0)\n",
    "\n",
    "# -----------------------------------------------------------------\n",
    "# clear() → Remove all items\n",
    "# - Complexity: O(n) (must drop references for GC)\n",
    "# -----------------------------------------------------------------\n",
    "nums.clear()\n",
    "print(\"After clear():\", nums)\n",
    "# []\n"
   ]
  },
  {
   "cell_type": "markdown",
   "id": "0729e6c9",
   "metadata": {},
   "source": [
    "#### Key Difference Between append and extend\n",
    "\n",
    "- append → “Take this thing and stick it on the end as-is.”\n",
    "- extend → “Take this sequence and add its elements one by one.”"
   ]
  },
  {
   "cell_type": "code",
   "execution_count": 273,
   "id": "1a320f15",
   "metadata": {},
   "outputs": [
    {
     "name": "stdout",
     "output_type": "stream",
     "text": [
      "append: [1, 2, [10, 20]]\n",
      "extend: [1, 2, 10, 20]\n"
     ]
    }
   ],
   "source": [
    "a = [1, 2]\n",
    "b = [10, 20]\n",
    "\n",
    "# ------------------------------------------------------\n",
    "# append(x) → Adds the entire object 'x' as ONE element\n",
    "# ------------------------------------------------------\n",
    "# Here, 'b' is [10, 20]. When we append 'b', the WHOLE list\n",
    "# is added at the end as a single nested list.\n",
    "# So the final structure is:\n",
    "#   [1, 2, [10, 20]]\n",
    "# The third element is itself a list object.\n",
    "a.append(b)\n",
    "print(\"append:\", a)\n",
    "# Output: append: [1, 2, [10, 20]]\n",
    "\n",
    "\n",
    "# ------------------------------------------------------\n",
    "# extend(iterable) → Iterates through 'iterable'\n",
    "# and adds EACH element separately into the list.\n",
    "# ------------------------------------------------------\n",
    "# When we extend with b = [10, 20],\n",
    "# Python internally loops through 10 and 20,\n",
    "# and appends them individually to 'a'.\n",
    "# So the final structure is:\n",
    "#   [1, 2, 10, 20]\n",
    "# No nesting; the elements of b are merged into a.\n",
    "a = [1, 2]\n",
    "a.extend(b)\n",
    "print(\"extend:\", a)\n",
    "# Output: extend: [1, 2, 10, 20]\n"
   ]
  },
  {
   "cell_type": "markdown",
   "id": "e8fcf897",
   "metadata": {},
   "source": [
    "#### Sorting"
   ]
  },
  {
   "cell_type": "code",
   "execution_count": 274,
   "id": "cf963c3e",
   "metadata": {},
   "outputs": [
    {
     "name": "stdout",
     "output_type": "stream",
     "text": [
      "Start: [5, 2, 9, 2]\n",
      "After data.sort(): [2, 2, 5, 9]\n",
      "After data.sort(reverse=True): [9, 5, 2, 2]\n",
      "After words.sort(key=str.lower): ['Convos', 'PYTHON', 'tech']\n",
      "Original nums (unchanged): [3, 2, 1]\n",
      "New sorted list: [1, 2, 3]\n"
     ]
    }
   ],
   "source": [
    "# --------------------------------------------------------\n",
    "# Sorting examples in Python\n",
    "# --------------------------------------------------------\n",
    "\n",
    "data = [5, 2, 9, 2]\n",
    "print(\"Start:\", data)\n",
    "# Start: [5, 2, 9, 2]\n",
    "\n",
    "\n",
    "# --------------------------------------------------------\n",
    "# .sort() → In-place sort (mutates the list)\n",
    "# - Default = ascending order\n",
    "# - Returns None (not the sorted list)\n",
    "# - Complexity: O(n log n)\n",
    "# --------------------------------------------------------\n",
    "data.sort()\n",
    "print(\"After data.sort():\", data)\n",
    "# [2, 2, 5, 9]\n",
    "\n",
    "\n",
    "# --------------------------------------------------------\n",
    "# .sort(reverse=True) → In-place descending sort\n",
    "# --------------------------------------------------------\n",
    "data.sort(reverse=True)\n",
    "print(\"After data.sort(reverse=True):\", data)\n",
    "# [9, 5, 2, 2]\n",
    "\n",
    "\n",
    "# --------------------------------------------------------\n",
    "# Sorting strings with a custom key\n",
    "# key=str.lower → compare words in lowercase\n",
    "# Original casing is preserved in final list\n",
    "# --------------------------------------------------------\n",
    "words = [\"tech\", \"Convos\", \"PYTHON\"]\n",
    "words.sort(key=str.lower)\n",
    "print(\"After words.sort(key=str.lower):\", words)\n",
    "# ['Convos', 'PYTHON', 'tech']\n",
    "\n",
    "\n",
    "# --------------------------------------------------------\n",
    "# Non-mutating variant: sorted()\n",
    "# - Returns a NEW sorted list\n",
    "# - Works on ANY iterable (lists, tuples, sets, dict keys…)\n",
    "# - Does not modify the original\n",
    "# - Same complexity: O(n log n)\n",
    "# --------------------------------------------------------\n",
    "nums = [3, 2, 1]\n",
    "sorted_nums = sorted(nums)\n",
    "\n",
    "print(\"Original nums (unchanged):\", nums)\n",
    "# [3, 2, 1]\n",
    "\n",
    "print(\"New sorted list:\", sorted_nums)\n",
    "# [1, 2, 3]\n",
    "\n",
    "\n",
    "# --------------------------------------------------------\n",
    "# 🔑 Key Differences Between .sort() and sorted()\n",
    "#\n",
    "# Feature                | .sort() (method)          | sorted() (function)\n",
    "# ------------------------|---------------------------|---------------------------\n",
    "# Mutates original list?  | ✅ Yes, changes in place  | ❌ No, returns new list\n",
    "# Return value            | None                      | New sorted list\n",
    "# Works on                | Lists only                | Any iterable (list/tuple/set/etc.)\n",
    "# Performance             | Same O(n log n)           | Same O(n log n)\n",
    "# --------------------------------------------------------"
   ]
  },
  {
   "cell_type": "markdown",
   "id": "40339879",
   "metadata": {},
   "source": [
    "    Interview note: Python uses Timsort, which is stable → items with equal keys keep their original order. Enables multi-key sorting with chained sorts or tuples as keys."
   ]
  },
  {
   "cell_type": "code",
   "execution_count": 275,
   "id": "c9f6589e",
   "metadata": {},
   "outputs": [
    {
     "name": "stdout",
     "output_type": "stream",
     "text": [
      "[{'prio': 1, 'name': 'A'}, {'prio': 1, 'name': 'a'}, {'prio': 2, 'name': 'b'}]\n"
     ]
    }
   ],
   "source": [
    "# --------------------------------------------------------\n",
    "# Initial list of dictionaries (rows)\n",
    "# Each row has a \"prio\" (priority) and a \"name\"\n",
    "# --------------------------------------------------------\n",
    "rows = [\n",
    "    {\"prio\": 2, \"name\": \"b\"},\n",
    "    {\"prio\": 1, \"name\": \"A\"},\n",
    "    {\"prio\": 1, \"name\": \"a\"},\n",
    "]\n",
    "\n",
    "# --------------------------------------------------------\n",
    "# Goal:\n",
    "# Sort the list of dictionaries by TWO keys:\n",
    "#   1. First by \"prio\" (ascending by default)\n",
    "#   2. Then by \"name\", case-insensitive (so \"A\" == \"a\")\n",
    "#\n",
    "# Key idea: we can return a tuple (prio, name.lower())\n",
    "# Python will sort primarily by the first element of the tuple,\n",
    "# and if there’s a tie, it looks at the second element.\n",
    "# --------------------------------------------------------\n",
    "rows.sort(key=lambda r: (r[\"prio\"], r[\"name\"].lower()))\n",
    "\n",
    "# --------------------------------------------------------\n",
    "# Step-by-step evaluation of key function:\n",
    "#\n",
    "# For {\"prio\": 2, \"name\": \"b\"} → (2, \"b\")\n",
    "# For {\"prio\": 1, \"name\": \"A\"} → (1, \"a\")   # lower() makes it \"a\"\n",
    "# For {\"prio\": 1, \"name\": \"a\"} → (1, \"a\")\n",
    "#\n",
    "# Sorting order by tuples:\n",
    "#   (1, \"a\") → {\"prio\": 1, \"name\": \"A\"}\n",
    "#   (1, \"a\") → {\"prio\": 1, \"name\": \"a\"}\n",
    "#   (2, \"b\") → {\"prio\": 2, \"name\": \"b\"}\n",
    "#\n",
    "# So the final sorted list is:\n",
    "# [\n",
    "#   {\"prio\": 1, \"name\": \"A\"},\n",
    "#   {\"prio\": 1, \"name\": \"a\"},\n",
    "#   {\"prio\": 2, \"name\": \"b\"}\n",
    "# ]\n",
    "#\n",
    "# Note: \"A\" and \"a\" are considered equal by lowercase comparison,\n",
    "# so their original order (A then a) is preserved → Python’s sort is *stable*.\n",
    "# --------------------------------------------------------\n",
    "\n",
    "print(rows)\n",
    "# [{'prio': 1, 'name': 'A'}, {'prio': 1, 'name': 'a'}, {'prio': 2, 'name': 'b'}]\n"
   ]
  },
  {
   "cell_type": "markdown",
   "id": "4e7aa9bb",
   "metadata": {},
   "source": [
    "#### Copying, aliasing, and nested structures (big gotcha)"
   ]
  },
  {
   "cell_type": "code",
   "execution_count": 276,
   "id": "64aac9b6",
   "metadata": {},
   "outputs": [
    {
     "name": "stdout",
     "output_type": "stream",
     "text": [
      "Outer list comparison\n",
      "\n",
      "original is copy_slice:- False\n",
      "original is copy list;- False\n",
      "original is copy_method: False\n",
      "\n",
      "Inner list comparison (first item):\n",
      "original[0] is copy_slice[0]: True\n",
      "original[0] is copy_list[0]: True\n",
      "original[0] is copy_method[0]: True\n",
      "\n",
      "After modifying copy_slice[0][0] = 999:\n",
      "original: [[999, 2], [3, 4]]\n",
      "copy_slice: [[999, 2], [3, 4]]\n",
      "copy_list: [[999, 2], [3, 4]]\n",
      "copy_method: [[999, 2], [3, 4]]\n",
      "\n",
      "After replacing copy_list[1] = ['A', 'B']:\n",
      "\n",
      "original: [[999, 2], [3, 4]]\n",
      "copy_slice: [[999, 2], [3, 4]]\n",
      "copy_list: [[999, 2], ['A', 'B']]\n",
      "copy_method: [[999, 2], [3, 4]]\n"
     ]
    }
   ],
   "source": [
    "# Step 1: Original list with nested (mutable) objects\n",
    "original = [[1, 2], [3, 4]]\n",
    "\n",
    "# Step 2: Create 3 shallow copies using different methods\n",
    "copy_slice = original[:]         # Method 1: Slicing\n",
    "copy_list = list(original)       # Method 2: list() constructor\n",
    "copy_method = original.copy()    # Method 3: .copy() method\n",
    "\n",
    "# Step 3: Print memory IDs to confirm outer lists are different\n",
    "print(\"Outer list comparison\")\n",
    "print(\"\\noriginal is copy_slice:-\",original is copy_slice)\n",
    "print(\"original is copy list;-\", original is copy_list)\n",
    "print(\"original is copy_method:\", original is copy_method)\n",
    "\n",
    "# Step 4: Print memory IDs of first inner list to show they're the same\n",
    "print(\"\\nInner list comparison (first item):\")\n",
    "\n",
    "print(\"original[0] is copy_slice[0]:\", original[0] is copy_slice[0])\n",
    "print(\"original[0] is copy_list[0]:\", original[0] is copy_list[0])\n",
    "print(\"original[0] is copy_method[0]:\", original[0] is copy_method[0])\n",
    "\n",
    "\n",
    "# Step 5: Modify inner object in one of the shallow copies\n",
    "\n",
    "copy_slice[0][0] = 999  # Change the first element of the first inner list\n",
    "\n",
    "# Step 6: Print all lists to observe the effect of shared inner lists\n",
    "print(\"\\nAfter modifying copy_slice[0][0] = 999:\")\n",
    "print(\"original:\", original)\n",
    "print(\"copy_slice:\", copy_slice)\n",
    "print(\"copy_list:\", copy_list)\n",
    "print(\"copy_method:\", copy_method)\n",
    "\n",
    "# Step 7: Replace an entire inner list in copy_list\n",
    "copy_list[1] = ['A', 'B']  # Replace second inner list in copy_list only\n",
    "# Step 8: Show how this change affects only copy_list (not others)\n",
    "print(\"\\nAfter replacing copy_list[1] = ['A', 'B']:\")\n",
    "print(\"\\noriginal:\", original)        # [[999, 2], [3, 4]]\n",
    "print(\"copy_slice:\", copy_slice)    # [[999, 2], [3, 4]]\n",
    "print(\"copy_list:\", copy_list)      # [[999, 2], ['A', 'B']]\n",
    "print(\"copy_method:\", copy_method)  # [[999, 2], [3, 4]]"
   ]
  },
  {
   "cell_type": "code",
   "execution_count": 277,
   "id": "2ab34df1",
   "metadata": {},
   "outputs": [
    {
     "name": "stdout",
     "output_type": "stream",
     "text": [
      "Original list (x): [1, 2, 3, 4]\n",
      "Reference copy (y): [1, 2, 3, 4]\n",
      "Shallow copy with slice (z): [1, 2, 3, 4]\n",
      "Shallow copy with copy(): [1, 2, 3, 4]\n",
      "Shallow copy with list(): [1, 2, 3, 4]\n",
      "\n",
      "Before modification:\n",
      "Original nested list (nested): [[1, 2], [3, 4]]\n",
      "Deep copy of nested list (deep): [[1, 2], [3, 4]]\n",
      "\n",
      "After modification:\n",
      "Modified nested list (nested): [[99, 2], [3, 4]]\n",
      "Deep copy of nested list (deep): [[1, 2], [3, 4]]\n"
     ]
    },
    {
     "data": {
      "text/plain": [
       "(99, 1)"
      ]
     },
     "execution_count": 277,
     "metadata": {},
     "output_type": "execute_result"
    }
   ],
   "source": [
    "# Initial list with integers 1 to 4\n",
    "x = [1, 2, 3, 4]\n",
    "\n",
    "# 'y' is assigned a reference to the same list as 'x'.\n",
    "# So, both 'x' and 'y' point to the same memory location.\n",
    "y = x\n",
    "\n",
    "# 'z' is a slice of 'x' (a shallow copy), so it's a new list with the same elements as 'x',\n",
    "# but it's a separate object from 'x' in memory.\n",
    "z = x[:]\n",
    "\n",
    "# 'w' is created using the 'copy()' method of lists, which is also a shallow copy of 'x'.\n",
    "# Like 'z', 'w' is a new list, but it still refers to the same objects inside as 'x'.\n",
    "w = x.copy()\n",
    "\n",
    "# 'u' is created by passing 'x' to the 'list()' constructor, which returns a new list,\n",
    "# also a shallow copy of 'x'.\n",
    "u = list(x)\n",
    "\n",
    "# Print the original and copied lists to show that they are separate objects in memory\n",
    "print(\"Original list (x):\", x)\n",
    "print(\"Reference copy (y):\", y)  # Same as x, as it's just a reference\n",
    "print(\"Shallow copy with slice (z):\", z)  # A new list, but same contents as x\n",
    "print(\"Shallow copy with copy():\", w)  # A new list, but same contents as x\n",
    "print(\"Shallow copy with list():\", u)  # A new list, but same contents as x\n",
    "\n",
    "\n",
    "# Deep copy when nested:\n",
    "\n",
    "# 'copy' module is imported to use the 'deepcopy()' function for deep copying.\n",
    "import copy\n",
    "\n",
    "# A list of lists (nested list)\n",
    "nested = [[1,2],[3,4]]\n",
    "\n",
    "# 'deep' is a deep copy of 'nested', meaning it creates a new list with new inner lists.\n",
    "# Changes in the original 'nested' list will not affect 'deep'.\n",
    "\n",
    "deep  = copy.deepcopy(nested)\n",
    "\n",
    "# Print the nested and deep copied lists before modification\n",
    "\n",
    "print(\"\\nBefore modification:\")\n",
    "print(\"Original nested list (nested):\", nested)\n",
    "\n",
    "print(\"Deep copy of nested list (deep):\", deep)\n",
    "\n",
    "# Now, modifying the original nested list by changing an element.\n",
    "# 'nested[0][0]' refers to the first element of the first inner list.\n",
    "\n",
    "nested[0][0] = 99\n",
    "\n",
    "# Print the nested and deep copied lists after modification\n",
    "print(\"\\nAfter modification:\")\n",
    "print(\"Modified nested list (nested):\", nested)\n",
    "print(\"Deep copy of nested list (deep):\", deep)\n",
    "\n",
    "# Return the first element of each list to show that the deep copy is unaffected\n",
    "nested[0][0], deep[0][0]"
   ]
  },
  {
   "cell_type": "code",
   "execution_count": 278,
   "id": "f7b6bfbf",
   "metadata": {},
   "outputs": [
    {
     "name": "stdout",
     "output_type": "stream",
     "text": [
      "Original list: [[99, 2], [3, 4]]\n",
      "Shallow copy: [[99, 2], [3, 4]]\n",
      "Deep copy: [[1, 2], [3, 4]]\n"
     ]
    }
   ],
   "source": [
    "import copy\n",
    "\n",
    "# Nested list (list of lists)\n",
    "original = [[1, 2], [3, 4]]\n",
    "\n",
    "shallow_copy = original.copy()\n",
    "\n",
    "# Deep copy\n",
    "deep_copy = copy.deepcopy(original)\n",
    "\n",
    "# Modify the shallow copy's inner list\n",
    "\n",
    "shallow_copy[0][0] = 99\n",
    "\n",
    "print(\"Original list:\", original)  # This will show [99, 2], because of shared reference\n",
    "print(\"Shallow copy:\", shallow_copy)  # This will show [[99, 2], [3, 4]]\n",
    "print(\"Deep copy:\", deep_copy)  # This will remain unchanged [[1, 2], [3, 4]]"
   ]
  },
  {
   "cell_type": "code",
   "execution_count": 279,
   "id": "6121857d",
   "metadata": {},
   "outputs": [
    {
     "name": "stdout",
     "output_type": "stream",
     "text": [
      "Original data: {'users': [{'id': 1, 'name': 'Alice'}, {'id': 2, 'name': 'Bob'}]}\n",
      "Copied data: {'users': [{'id': 1, 'name': 'Charlie'}, {'id': 2, 'name': 'Bob'}]}\n"
     ]
    }
   ],
   "source": [
    "import copy\n",
    "\n",
    "original_data = {'users': [{'id': 1, 'name': 'Alice'}, {'id': 2, 'name': 'Bob'}]}\n",
    "\n",
    "# Deep copy to work on the copy without affecting original data\n",
    "data_copy = copy.deepcopy(original_data)\n",
    "\n",
    "# Modify the copied data\n",
    "data_copy['users'][0]['name'] = 'Charlie'\n",
    "\n",
    "print(\"Original data:\", original_data)  # The original data is unaffected\n",
    "print(\"Copied data:\", data_copy)  # The copy is modified\n"
   ]
  },
  {
   "cell_type": "markdown",
   "id": "16bda3d9",
   "metadata": {},
   "source": [
    "#### List multiplication & default-arg traps"
   ]
  },
  {
   "cell_type": "code",
   "execution_count": 280,
   "id": "d89e4926",
   "metadata": {},
   "outputs": [
    {
     "name": "stdout",
     "output_type": "stream",
     "text": [
      "Grid after modification (shared references):\n",
      "[[7, 0, 0], [7, 0, 0]]\n",
      "\n",
      "Grid after modification (independent lists):\n",
      "[[7, 0, 0], [0, 0, 0]]\n",
      "\n",
      "Testing 'bad' function:\n",
      "[1]\n",
      "[1, 1]\n",
      "\n",
      "Testing 'good' function:\n",
      "[1]\n",
      "[1]\n"
     ]
    }
   ],
   "source": [
    "# Multiplication replicates references (SHARED inner list!) → classic bug:\n",
    "\n",
    "grid = [[0] * 3] * 2  # Creates a list with 2 references to the same inner list\n",
    "grid[0][0] = 7         # Modify the first element of the first inner list\n",
    "print(\"Grid after modification (shared references):\")\n",
    "print(grid)  # Expect: [[7, 0, 0], [7, 0, 0]] because both rows are the same list\n",
    "\n",
    "# Correct way: new inner list per row:\n",
    "\n",
    "grid = [[0] * 3 for i in range(2)]  # Creates 2 independent lists\n",
    "grid[0][0] = 7                     # Modify the first element of the first inner list\n",
    "print(\"\\nGrid after modification (independent lists):\")\n",
    "print(grid)  # Expect: [[7, 0, 0], [0, 0, 0]] because the rows are independent\n",
    "\n",
    "# Default mutable arguments trap:\n",
    "\n",
    "def bad(acc=[]):\n",
    "    acc.append(1)\n",
    "    return acc\n",
    "\n",
    "# Test bad function\n",
    "print(\"\\nTesting 'bad' function:\")\n",
    "print(bad())  # Output: [1]\n",
    "print(bad())  # Output: [1, 1] - Same list shared across calls\n",
    "\n",
    "def good(acc=None):\n",
    "    if acc is None:\n",
    "        acc = []  # Create a new list if none is provided\n",
    "    acc.append(1)\n",
    "    return acc\n",
    "\n",
    "# Test good function\n",
    "print(\"\\nTesting 'good' function:\")\n",
    "print(good())  # Output: [1]\n",
    "print(good())  # Output: [1] - New list each time"
   ]
  },
  {
   "cell_type": "markdown",
   "id": "f0b710aa",
   "metadata": {},
   "source": [
    "#### Comprehensions & generator expressions (best practice)"
   ]
  },
  {
   "cell_type": "code",
   "execution_count": 281,
   "id": "dfd0025c",
   "metadata": {},
   "outputs": [
    {
     "name": "stdout",
     "output_type": "stream",
     "text": [
      "Squares: [1, 4, 9, 16]\n",
      "Evens: [2, 4]\n",
      "Pairs: [(0, 0), (0, 1), (0, 2), (1, 0), (1, 1), (1, 2)]\n",
      "Labels: ['odd', 'even', 'odd', 'even']\n",
      "Sum of squares from 0 to 9,999,999: 333333283333335000000\n"
     ]
    }
   ],
   "source": [
    "# Initial list of numbers\n",
    "nums = [1, 2, 3, 4]\n",
    "\n",
    "# Transform: Create a new list with squares of each number in nums\n",
    "squares = [n * n for n in nums]  # [1, 4, 9, 16]\n",
    "print(\"Squares:\", squares)\n",
    "\n",
    "# Filter: Create a new list with only the even numbers from nums\n",
    "evens = [n for n in nums if n % 2 == 0]  # [2, 4]\n",
    "print(\"Evens:\", evens)\n",
    "\n",
    "# Nested loops: Create pairs (i, j) for i in range(2) and j in range(3)\n",
    "pairs = [(i, j) for i in range(2) for j in range(3)]\n",
    "# This gives all combinations of (i, j) where i = 0 or 1 and j = 0, 1, 2\n",
    "# Result: [(0, 0), (0, 1), (0, 2), (1, 0), (1, 1), (1, 2)]\n",
    "print(\"Pairs:\", pairs)\n",
    "\n",
    "# Conditional logic in comprehension: label each number in nums as \"even\" or \"odd\"\n",
    "labels = [\"even\" if n % 2 == 0 else \"odd\" for n in nums]\n",
    "# Result: ['odd', 'even', 'odd', 'even']\n",
    "print(\"Labels:\", labels)\n",
    "\n",
    "# Generator expression: sum of squares from 0 to 9,999,999\n",
    "# This uses a generator (lazy evaluation) to avoid building a huge list in memory\n",
    "total = sum(n * n for n in range(10_000_000))\n",
    "print(\"Sum of squares from 0 to 9,999,999:\", total)\n"
   ]
  },
  {
   "cell_type": "markdown",
   "id": "ed953f84",
   "metadata": {},
   "source": [
    "#### Iteration helpers you MUST know (interview staples)"
   ]
  },
  {
   "cell_type": "code",
   "execution_count": 282,
   "id": "380aff79",
   "metadata": {},
   "outputs": [
    {
     "data": {
      "text/plain": [
       "False"
      ]
     },
     "execution_count": 282,
     "metadata": {},
     "output_type": "execute_result"
    }
   ],
   "source": [
    "# enumerate: index + value\n",
    "for i, val in enumerate([\"a\",\"b\",\"c\"],start=1):\n",
    "    pass\n",
    "\n",
    "# zip / unzip and matrix transpose\n",
    "cols = [(\"name\",\"age\"),(\"tc\",7)]\n",
    "z = list(zip(*cols))\n",
    "\n",
    "#unzip\n",
    "names, ages = zip((\"tc\",7))\n",
    "\n",
    "names, ages = zip((\"tc\",7),(\"pp\",5))\n",
    "\n",
    "# any / all\n",
    "nums = [1,2,3,4]\n",
    "all(n % 2 == 0 for n in nums)\n",
    "any(n > 10 for n in nums)"
   ]
  },
  {
   "cell_type": "markdown",
   "id": "f9ca8184",
   "metadata": {},
   "source": [
    "#### Removing while iterating (safe patterns)"
   ]
  },
  {
   "cell_type": "code",
   "execution_count": 328,
   "id": "a5075c62",
   "metadata": {},
   "outputs": [
    {
     "name": "stdout",
     "output_type": "stream",
     "text": [
      "After BAD removal: [1, 3]\n",
      "After GOOD removal with list comprehension: [1, 3]\n",
      "After GOOD removal by iterating over a copy: [1, 3]\n"
     ]
    }
   ],
   "source": [
    "# BAD: Modifying (mutating) a list while iterating over it can cause unexpected behavior,\n",
    "# such as skipping elements, because the list size and indices change during iteration.\n",
    "\n",
    "arr = [1, 2, 3, 4]\n",
    "\n",
    "for x in arr:\n",
    "    if x % 2 == 0:\n",
    "        arr.remove(x)  # This may skip some even numbers!\n",
    "\n",
    "print(\"After BAD removal:\", arr)\n",
    "\n",
    "\n",
    "# GOOD SOLUTION 1: Use list comprehension to create a new list\n",
    "# This rebuilds the list by including only the items that don't meet the condition.\n",
    "arr = [1, 2, 3, 4]  # Reset list\n",
    "\n",
    "arr = [x for x in arr if x % 2 != 0]\n",
    "\n",
    "print(\"After GOOD removal with list comprehension:\", arr)\n",
    "\n",
    "\n",
    "# GOOD SOLUTION 2: Iterate over a copy of the list (arr[:]) while modifying the original list\n",
    "# This prevents the iteration from being affected by changes to the original list.\n",
    "arr = [1, 2, 3, 4]  # Reset list\n",
    "\n",
    "for x in arr[:]:  # Iterate over a shallow copy of arr\n",
    "    if x % 2 == 0:\n",
    "        arr.remove(x)\n",
    "\n",
    "print(\"After GOOD removal by iterating over a copy:\", arr)\n"
   ]
  },
  {
   "cell_type": "markdown",
   "id": "ba6f279d",
   "metadata": {},
   "source": [
    "#### When NOT to use a list (choose better tool)"
   ]
  },
  {
   "cell_type": "code",
   "execution_count": 343,
   "id": "f3e65017",
   "metadata": {},
   "outputs": [
    {
     "name": "stdout",
     "output_type": "stream",
     "text": [
      "Unique elements using set: [1, 2, 3]\n",
      "Deque after appendleft and popleft: [1, 2, 3]\n",
      "Element popped from left: 0\n",
      "Array elements: [1, 2, 3]\n"
     ]
    }
   ],
   "source": [
    "# --------------------------------------------\n",
    "# Why do we use these libraries? What are they for?\n",
    "# --------------------------------------------\n",
    "\n",
    "# 1. Need fast membership testing and deduplication → use a set\n",
    "# -----------------------------------------------------------\n",
    "# Sets automatically remove duplicates and provide fast membership checks.\n",
    "unique = list(set([3, 1, 2, 3]))  # Remove duplicates by converting to a set\n",
    "print(\"Unique elements using set:\", unique)\n",
    "\n",
    "\n",
    "# 2. Need fast append/pop operations from the LEFT side → use collections.deque\n",
    "# ------------------------------------------------------------------------------\n",
    "from collections import deque\n",
    "\n",
    "dq = deque([1, 2, 3])    # Create a deque with initial elements\n",
    "dq.appendleft(0)         # Add 0 to the left end (fast operation)\n",
    "left_pop = dq.popleft()  # Remove and return from the left end (fast operation)\n",
    "print(\"Deque after appendleft and popleft:\", list(dq))\n",
    "print(\"Element popped from left:\", left_pop)\n",
    "\n",
    "\n",
    "# 3. Need efficient numeric arrays → use array or numpy\n",
    "# ------------------------------------------------------\n",
    "from array import array\n",
    "\n",
    "a = array(\"i\", [1, 2, 3])  # 'i' means signed integer array (compact memory)\n",
    "print(\"Array elements:\", list(a))\n"
   ]
  },
  {
   "cell_type": "markdown",
   "id": "25141f04",
   "metadata": {},
   "source": [
    "#### Sorting: advanced keys & stability tricks"
   ]
  },
  {
   "cell_type": "code",
   "execution_count": 347,
   "id": "c6bac05a",
   "metadata": {},
   "outputs": [
    {
     "name": "stdout",
     "output_type": "stream",
     "text": [
      "People sorted by case-insensitive name:\n",
      "{'name': 'john', 'city': 'mumbai'}\n",
      "{'name': 'wick', 'city': 'Mumbai'}\n",
      "\n",
      "Items sorted by status and timestamp:\n",
      "{'status': 'pending', 'ts': 1}\n",
      "{'status': 'pending', 'ts': 2}\n",
      "{'status': 'done', 'ts': 3}\n"
     ]
    }
   ],
   "source": [
    "# --------------------------------------------\n",
    "# Decorate–Sort–Undecorate via 'key'\n",
    "# --------------------------------------------\n",
    "\n",
    "# Example 1: Sort people by name (case-insensitive)\n",
    "people = [\n",
    "    {\"name\": \"john\", \"city\": \"mumbai\"},\n",
    "    {\"name\": \"wick\", \"city\": \"Mumbai\"}\n",
    "]\n",
    "\n",
    "# Sort people by 'name' ignoring case differences (stable sort)\n",
    "people.sort(key=lambda r: r[\"name\"].casefold())\n",
    "\n",
    "print(\"People sorted by case-insensitive name:\")\n",
    "for person in people:\n",
    "    print(person)\n",
    "\n",
    "\n",
    "# Example 2: Sort items by multiple keys with normalization\n",
    "\n",
    "order = {\"pending\": 0, \"running\": 1, \"done\": 2}\n",
    "items = [\n",
    "    {\"status\": \"done\", \"ts\": 3},\n",
    "    {\"status\": \"pending\", \"ts\": 2},\n",
    "    {\"status\": \"pending\", \"ts\": 1}\n",
    "]\n",
    "\n",
    "# Sort items first by status (using order dict to assign ranks), then by timestamp\n",
    "items.sort(key=lambda x: (order.get(x[\"status\"], 99), x[\"ts\"]))\n",
    "\n",
    "print(\"\\nItems sorted by status and timestamp:\")\n",
    "for item in items:\n",
    "    print(item)\n"
   ]
  },
  {
   "cell_type": "markdown",
   "id": "828bf3ce",
   "metadata": {},
   "source": [
    "#### Binary search & heaps (with lists)"
   ]
  },
  {
   "cell_type": "code",
   "execution_count": 7,
   "id": "490a506b",
   "metadata": {},
   "outputs": [
    {
     "name": "stdout",
     "output_type": "stream",
     "text": [
      "Sorted List with Bisect: [1, 2, 4, 5]\n",
      "3 Smallest Elements: [1, 2, 3]\n",
      "3 Largest Elements: [9, 7, 6]\n",
      "Popped Smallest Element from Heap: 1\n",
      "Remaining Heap: [2, 3, 7, 9, 6]\n"
     ]
    }
   ],
   "source": [
    "# Bisect: Keep a list sorted while inserting (O(n) shift, O(log n) find)\n",
    "\n",
    "import bisect\n",
    "\n",
    "# Initialize an empty list to store sorted values\n",
    "sorted_vals = []\n",
    "\n",
    "# List of elements to insert into sorted_vals\n",
    "for x in [5, 1, 4, 2]:\n",
    "    # Insert each element in sorted order using bisect.insort()\n",
    "    # bisect.insort ensures that the list remains sorted after each insertion\n",
    "    bisect.insort(sorted_vals, x)\n",
    "\n",
    "# After all insertions, sorted_vals is: [1, 2, 4, 5]\n",
    "# bisect.insort() finds the correct position for each element using binary search (O(log n)) and then inserts it.\n",
    "# However, shifting elements to accommodate the new value takes linear time (O(n)).\n",
    "\n",
    "print(\"Sorted List with Bisect:\", sorted_vals)  # Output: [1, 2, 4, 5]\n",
    "\n",
    "\n",
    "# Heapq: Priority Queue / Top-K\n",
    "\n",
    "import heapq\n",
    "\n",
    "# Data to work with\n",
    "data = [9, 1, 7, 3, 6, 2]\n",
    "\n",
    "# `heapq.nsmallest(n, iterable)` gives the n smallest elements from the iterable\n",
    "smallest3 = heapq.nsmallest(3, data)\n",
    "# `heapq.nlargest(n, iterable)` gives the n largest elements from the iterable\n",
    "largest3 = heapq.nlargest(3, data)\n",
    "\n",
    "# Output the smallest and largest 3 elements\n",
    "print(\"3 Smallest Elements:\", smallest3)  # Output: [1, 2, 3]\n",
    "print(\"3 Largest Elements:\", largest3)   # Output: [9, 7, 6]\n",
    "\n",
    "\n",
    "\n",
    "# Manual Heap Usage\n",
    "\n",
    "# Create an empty list that will serve as our heap\n",
    "heap = []\n",
    "\n",
    "# Insert elements into the heap using `heappush()`\n",
    "for x in data:\n",
    "    # `heappush()` pushes elements into the heap while maintaining the heap property\n",
    "    heapq.heappush(heap, x)\n",
    "\n",
    "# `heappop()` pops the smallest element (root of the heap)\n",
    "# Here, we pop the smallest element from the heap\n",
    "smallest_element = heapq.heappop(heap)\n",
    "\n",
    "print(\"Popped Smallest Element from Heap:\", smallest_element)  # Output: 1\n",
    "print(\"Remaining Heap:\", heap)  # Remaining elements after popping the smallest element\n",
    "\n",
    "\n",
    "\n",
    "# Summary\n",
    "\n",
    "# Bisect vs. Sort:\n",
    "# - **Use `bisect` (insort)** when you need to keep a list sorted dynamically while inserting new elements.\n",
    "#     - It uses binary search to find the correct position for each new element (O(log n)), but shifting elements to maintain order takes O(n).\n",
    "#     - This is good for **frequent insertions** where you want to avoid sorting the entire list each time.\n",
    "#     - Example: Inserting items one by one into a sorted list while maintaining order.\n",
    "# - **Use `sort()`** if you already have all the data and want to sort it all at once.\n",
    "#     - `sort()` is more efficient when you have all data and don’t need to maintain order during insertions.\n",
    "#     - Sorting a list of `n` items is O(n log n), which is faster than using `insort()` repeatedly for large datasets.\n",
    "#     - Example: Sorting a list of values once all data is collected.\n"
   ]
  },
  {
   "cell_type": "markdown",
   "id": "dfdab788",
   "metadata": {},
   "source": [
    "#### Batching, windowing, flattening (ETL must-knows)"
   ]
  },
  {
   "cell_type": "code",
   "execution_count": 8,
   "id": "9e7bd0f2",
   "metadata": {},
   "outputs": [
    {
     "name": "stdout",
     "output_type": "stream",
     "text": [
      "Flattened List: [1, 2, 3, 4, 5, 6]\n",
      "Chunks of size 3:\n",
      "[0, 1, 2]\n",
      "[3, 4, 5]\n",
      "[6, 7, 8]\n",
      "[9]\n",
      "\n",
      "Sliding windows of size 3:\n",
      "[1, 2, 3]\n",
      "[2, 3, 4]\n"
     ]
    }
   ],
   "source": [
    "from typing import Iterable, Iterator, TypeVar\n",
    "\n",
    "# Create a type variable 'T' which allows us to generalize the functions\n",
    "T = TypeVar(\"T\")\n",
    "\n",
    "# Function to split an iterable into fixed-size batches\n",
    "def chunks(it: Iterable[T], size: int) -> Iterator[list[T]]:\n",
    "    \"\"\"Yield fixed-size batches from an iterable.\"\"\"\n",
    "    \n",
    "    # 'bucket' will hold the current batch of elements (list of items of type T)\n",
    "    bucket: list[T] = []\n",
    "    \n",
    "    # Iterate over each item in the input iterable\n",
    "    for item in it:\n",
    "        bucket.append(item)  # Add the current item to the batch\n",
    "        \n",
    "        # If the batch reaches the desired size, yield (return) the batch and reset it\n",
    "        if len(bucket) == size:\n",
    "            yield bucket\n",
    "            bucket = []  # Clear the batch to start collecting a new one\n",
    "    \n",
    "    # If there are any remaining items in 'bucket' (fewer than 'size'), yield them as well\n",
    "    if bucket:\n",
    "        yield bucket\n",
    "\n",
    "# Function to create sliding windows (sub-lists) from a list\n",
    "def sliding_window(lst: list[T], k: int, step: int = 1) -> Iterator[list[T]]:\n",
    "    \"\"\"Create sliding windows over the list.\"\"\"\n",
    "    \n",
    "    # Iterate with a range starting at index 0, stopping when there's no room for a full window of size 'k'\n",
    "    # The `max(len(lst) - k + 1, 0)` ensures we stop if there's no room for another full window\n",
    "    for i in range(0, max(len(lst) - k + 1, 0), step):\n",
    "        # Yield a slice of the list (a \"window\") from index 'i' to 'i + k'\n",
    "        yield lst[i:i+k]\n",
    "\n",
    "# Example of flattening a nested list (list of lists) into a single flat list\n",
    "nested = [[1, 2], [3, 4, 5], [], [6]]\n",
    "# This list comprehension flattens the nested list: for each 'group' in 'nested', it loops through each 'x' inside that group\n",
    "flat = [x for group in nested for x in group]  \n",
    "print(\"Flattened List:\", flat)  # Output: [1, 2, 3, 4, 5, 6]\n",
    "\n",
    "# Example usage of the 'chunks' function:\n",
    "data = range(10)  # Create a range from 0 to 9\n",
    "chunk_size = 3    # We want chunks of size 3\n",
    "\n",
    "print(f\"Chunks of size {chunk_size}:\")\n",
    "# Use the 'chunks' function to break the range into chunks of 3 elements each\n",
    "for chunk in chunks(data, chunk_size):\n",
    "    print(chunk)  # Output: [0, 1, 2], [3, 4, 5], [6, 7, 8], [9]\n",
    "\n",
    "# Example usage of the 'sliding_window' function:\n",
    "lst = [1, 2, 3, 4]  # The list we want to apply the sliding window to\n",
    "window_size = 3     # We want windows of size 3\n",
    "\n",
    "print(f\"\\nSliding windows of size {window_size}:\")\n",
    "# Use the 'sliding_window' function to get sliding windows of size 3 from the list\n",
    "for window in sliding_window(lst, window_size):\n",
    "    print(window)  # Output: [1, 2, 3], [2, 3, 4]\n"
   ]
  },
  {
   "cell_type": "markdown",
   "id": "81cbc4cb",
   "metadata": {},
   "source": [
    "#### Type hints & protocols (modern Python)"
   ]
  },
  {
   "cell_type": "code",
   "execution_count": 12,
   "id": "396a7364",
   "metadata": {},
   "outputs": [
    {
     "name": "stdout",
     "output_type": "stream",
     "text": [
      "Mean: 30.0\n",
      "Reversed List: [5, 4, 3, 2, 1]\n",
      "Top Two: [20, 15]\n"
     ]
    }
   ],
   "source": [
    "# Importing abstract base classes from collections.abc module\n",
    "from collections.abc import Sequence, Iterable, MutableSequence\n",
    "\n",
    "# Define a function to calculate the mean (average) of a sequence of floats\n",
    "def mean(nums: Sequence[float]) -> float:\n",
    "    \"\"\"\n",
    "    Calculate the arithmetic mean (average) of a sequence of numbers (list, tuple, np.array, etc.).\n",
    "\n",
    "    Arguments:\n",
    "    nums -- A sequence (like a list or tuple) of float numbers.\n",
    "\n",
    "    Returns:\n",
    "    float -- The mean of the numbers in the sequence.\n",
    "    \n",
    "    Scenario:\n",
    "    This function is useful when you need to calculate the average of numbers from any ordered collection\n",
    "    (like list, tuple, or even a numpy array). It works with any iterable that supports indexing and\n",
    "    length calculation.\n",
    "    \"\"\"\n",
    "    # The sum of the numbers divided by the length of the sequence\n",
    "    return sum(nums) / len(nums)\n",
    "\n",
    "# Define a function to reverse a mutable sequence in place\n",
    "def inplace_reverse(buf: MutableSequence[int]) -> None:\n",
    "    \"\"\"\n",
    "    Reverses the input mutable sequence in place (modifies the original sequence).\n",
    "\n",
    "    Arguments:\n",
    "    buf -- A mutable sequence (such as a list) of integers.\n",
    "\n",
    "    Returns:\n",
    "    None -- This function modifies the input sequence directly.\n",
    "    \n",
    "    Scenario:\n",
    "    Useful when you need to reverse a list or another mutable sequence without creating a new object.\n",
    "    This function is intended to modify the original sequence, which is often needed for in-place\n",
    "    transformations.\n",
    "    \"\"\"\n",
    "    # The reverse() method directly modifies the list (or other mutable sequence)\n",
    "    buf.reverse()\n",
    "\n",
    "# Define a function to return the top two largest numbers from an iterable of integers\n",
    "def top_two(xs: Iterable[int]) -> list[int]:\n",
    "    \"\"\"\n",
    "    Finds the two largest numbers from an iterable (like a list, tuple, set, or generator).\n",
    "\n",
    "    Arguments:\n",
    "    xs -- An iterable of integers (can be a list, tuple, set, generator, etc.).\n",
    "\n",
    "    Returns:\n",
    "    list[int] -- A list containing the two largest numbers from the input iterable.\n",
    "    \n",
    "    Scenario:\n",
    "    This function is useful when you need to find the top two largest numbers from a collection.\n",
    "    You might use it for leaderboards, top sales values, or any situation where you need the\n",
    "    largest values in a dataset.\n",
    "    \"\"\"\n",
    "    # Sort the iterable in descending order and slice the first two elements\n",
    "    return sorted(xs, reverse=True)[:2]\n",
    "\n",
    "# Example usage of the 'mean' function\n",
    "nums_list = [10.0, 20.0, 30.0, 40.0, 50.0]\n",
    "# The mean of the numbers is calculated: (10 + 20 + 30 + 40 + 50) / 5 = 30.0\n",
    "print(f\"Mean: {mean(nums_list)}\")  # Output: 30.0\n",
    "\n",
    "# Example usage of the 'inplace_reverse' function\n",
    "data = [1, 2, 3, 4, 5]\n",
    "# Reverse the list in place, modifying the original list\n",
    "inplace_reverse(data)\n",
    "print(f\"Reversed List: {data}\")  # Output: [5, 4, 3, 2, 1]\n",
    "\n",
    "# Example usage of the 'top_two' function\n",
    "numbers = [10, 5, 8, 20, 15]\n",
    "# The two largest numbers are 20 and 15, so the function returns them in a list\n",
    "print(f\"Top Two: {top_two(numbers)}\")  # Output: [20, 15]\n"
   ]
  },
  {
   "cell_type": "markdown",
   "id": "43277447",
   "metadata": {},
   "source": [
    "#### Basic unpacking"
   ]
  },
  {
   "cell_type": "code",
   "execution_count": 17,
   "id": "7fc2d1e8",
   "metadata": {},
   "outputs": [
    {
     "name": "stdout",
     "output_type": "stream",
     "text": [
      "10 20 30\n"
     ]
    }
   ],
   "source": [
    "# Define a list 'a' with three elements\n",
    "a = [10, 20, 30]\n",
    "\n",
    "# Unpack each element of the list 'a' into its own variable\n",
    "x, y, z = a\n",
    "\n",
    "# Print the values of x, y, and z\n",
    "print(x, y, z)"
   ]
  },
  {
   "cell_type": "markdown",
   "id": "bb97b44c",
   "metadata": {},
   "source": [
    "#### Extended unpacking (*)"
   ]
  },
  {
   "cell_type": "code",
   "execution_count": 28,
   "id": "378e0ad3",
   "metadata": {},
   "outputs": [
    {
     "name": "stdout",
     "output_type": "stream",
     "text": [
      "1\n",
      "[2, 3, 4]\n",
      "5\n"
     ]
    }
   ],
   "source": [
    "# Define the list of numbers\n",
    "nums = [1, 2, 3, 4, 5]\n",
    "\n",
    "# Unpack the list into variables using extended iterable unpacking\n",
    "# 'head' gets the first element, 'body' gets the middle elements, and 'tail' gets the last element\n",
    "head, *body, tail = nums\n",
    "\n",
    "# Print the first element (head) which is 1\n",
    "print(head)   # 1\n",
    "\n",
    "# Print the middle elements (body) which is a list [2, 3, 4]\n",
    "print(body)   # [2, 3, 4]\n",
    "\n",
    "# Print the last element (tail) which is 5\n",
    "print(tail)   # 5"
   ]
  },
  {
   "cell_type": "markdown",
   "id": "5d26a373",
   "metadata": {},
   "source": [
    "#### Nested unpacking"
   ]
  },
  {
   "cell_type": "code",
   "execution_count": 36,
   "id": "6c48959d",
   "metadata": {},
   "outputs": [
    {
     "name": "stdout",
     "output_type": "stream",
     "text": [
      "Dhiraj 36\n",
      "TechConvos 15\n"
     ]
    }
   ],
   "source": [
    "# Define a list of tuples, where each tuple contains a name and an age\n",
    "nested = [(\"Dhiraj\", 36),(\"TechConvos\", 15)]\n",
    "\n",
    "for name, age in nested:\n",
    "    print(name, age)"
   ]
  },
  {
   "cell_type": "markdown",
   "id": "90800dd3",
   "metadata": {},
   "source": [
    "#### Unpacking in function calls"
   ]
  },
  {
   "cell_type": "code",
   "execution_count": 39,
   "id": "84b3ddd2",
   "metadata": {},
   "outputs": [
    {
     "name": "stdout",
     "output_type": "stream",
     "text": [
      "8\n"
     ]
    }
   ],
   "source": [
    "# Define a list called 'args' containing two integers: 3 and 5\n",
    "args = [3, 5]\n",
    "\n",
    "# Define a function 'add' that takes two parameters 'a' and 'b'\n",
    "def add(a, b):\n",
    "    # Return the sum of 'a' and 'b'\n",
    "    return a + b\n",
    "\n",
    "# Call the 'add' function using argument unpacking (*) on the 'args' list,\n",
    "# which passes the two elements of 'args' as separate arguments to 'add'.\n",
    "# The function returns the sum, which is then printed.\n",
    "print(add(*args))   # Output: 8"
   ]
  },
  {
   "cell_type": "markdown",
   "id": "d6af147e",
   "metadata": {},
   "source": [
    "#### Unpacking + merging lists"
   ]
  },
  {
   "cell_type": "code",
   "execution_count": 45,
   "id": "b127e04a",
   "metadata": {},
   "outputs": [
    {
     "name": "stdout",
     "output_type": "stream",
     "text": [
      "[1, 2, 3, 4, 5]\n"
     ]
    }
   ],
   "source": [
    "a = [1, 2, 3]  # List 'a' with three elements\n",
    "b = [4, 5]     # List 'b' with two elements\n",
    "\n",
    "# Create a new list 'merged' by unpacking all elements from 'a' and 'b'\n",
    "# The * operator takes each element from 'a' and 'b' and adds them individually into the new list\n",
    "merged = [*a, *b]\n",
    "\n",
    "print(merged)  # Output: [1, 2, 3, 4, 5]"
   ]
  },
  {
   "cell_type": "markdown",
   "id": "e48fcb33",
   "metadata": {},
   "source": [
    "#### Catch-all variable with _"
   ]
  },
  {
   "cell_type": "code",
   "execution_count": 50,
   "id": "e96761dd",
   "metadata": {},
   "outputs": [
    {
     "name": "stdout",
     "output_type": "stream",
     "text": [
      "100\n",
      "[200, 300]\n"
     ]
    }
   ],
   "source": [
    "# Unpack the list [100, 200, 300] into variables\n",
    "# 'first' gets assigned the first element of the list\n",
    "# '*_' collects the rest of the elements (200, 300) into a list, but '_' is a common throwaway variable name indicating unused data\n",
    "first, *_ = [100, 200, 300]\n",
    "\n",
    "# Print the value of 'first', which is the first element of the list\n",
    "print(first)   # Output: 100\n",
    "print(_)       # Output: [200, 300]"
   ]
  },
  {
   "cell_type": "markdown",
   "id": "217a9772",
   "metadata": {},
   "source": [
    "#### Unpacking for swapping values"
   ]
  },
  {
   "cell_type": "code",
   "execution_count": 51,
   "id": "dfc72255",
   "metadata": {},
   "outputs": [
    {
     "name": "stdout",
     "output_type": "stream",
     "text": [
      "10 5\n"
     ]
    }
   ],
   "source": [
    "# Assign initial values: a = 5, b = 10\n",
    "a, b = 5, 10\n",
    "\n",
    "# Swap the values of a and b using tuple unpacking:\n",
    "# The right side creates a tuple (b, a) → (10, 5)\n",
    "# The left side unpacks this tuple back into variables a and b\n",
    "a, b = b, a\n",
    "\n",
    "# Now, a is 10 and b is 5\n",
    "print(a, b)   # Output: 10 5\n"
   ]
  },
  {
   "cell_type": "markdown",
   "id": "9122466d",
   "metadata": {},
   "source": [
    "#### Unpacking in loops"
   ]
  },
  {
   "cell_type": "code",
   "execution_count": 52,
   "id": "26c07552",
   "metadata": {},
   "outputs": [
    {
     "name": "stdout",
     "output_type": "stream",
     "text": [
      "1 A\n",
      "2 B\n",
      "3 C\n"
     ]
    }
   ],
   "source": [
    "# 'pairs' is a list of lists, each containing a number and a letter\n",
    "pairs = [[1, \"A\"], [2, \"B\"], [3, \"C\"]]\n",
    "\n",
    "# Loop through each pair in the 'pairs' list\n",
    "for num, letter in pairs:\n",
    "    # Unpack each inner list into 'num' and 'letter' variables\n",
    "    # Then print them\n",
    "    print(num, letter)\n"
   ]
  },
  {
   "cell_type": "markdown",
   "id": "c7a77427",
   "metadata": {},
   "source": [
    "#### Unpacking dict items into lists"
   ]
  },
  {
   "cell_type": "code",
   "execution_count": 57,
   "id": "da950ae8",
   "metadata": {},
   "outputs": [
    {
     "name": "stdout",
     "output_type": "stream",
     "text": [
      "a 1\n",
      "b 2\n",
      "c 3\n",
      "Another Method\n",
      "['a', 'b', 'c']\n",
      "[1, 2, 3]\n"
     ]
    }
   ],
   "source": [
    "# A dictionary with keys as letters and values as numbers\n",
    "d = {\"a\": 1, \"b\": 2, \"c\": 3}\n",
    "\n",
    "# Loop through each key-value pair in the dictionary\n",
    "# d.items() returns an iterable of (key, value) tuples\n",
    "for k, v in d.items():\n",
    "    # Unpack each tuple into variables 'k' (key) and 'v' (value)\n",
    "    print(k, v)\n",
    "\n",
    "print(\"Another Method\")\n",
    "keys, values = zip(*d.items())\n",
    "print(list(keys))    # ['a', 'b', 'c']\n",
    "print(list(values))  # [1, 2, 3]"
   ]
  },
  {
   "cell_type": "markdown",
   "id": "b57d5b73",
   "metadata": {},
   "source": [
    "#### Practice Questions on List Methods"
   ]
  },
  {
   "cell_type": "markdown",
   "id": "29580e54",
   "metadata": {},
   "source": [
    "#### # 1. .append(x)"
   ]
  },
  {
   "cell_type": "code",
   "execution_count": 58,
   "id": "f0c42e96",
   "metadata": {},
   "outputs": [
    {
     "name": "stdout",
     "output_type": "stream",
     "text": [
      "[1, 2, 3, 4, [5, 6]]\n"
     ]
    }
   ],
   "source": [
    "nums = [1, 2, 3]\n",
    "nums.append(4)               # adds 4 at the end\n",
    "nums.append([5, 6])          # appends the WHOLE list as one element\n",
    "print(nums)                  # [1, 2, 3, 4, [5, 6]]\n",
    "# Why: .append always adds ONE object (could be int, str, list, etc.)"
   ]
  },
  {
   "cell_type": "markdown",
   "id": "37b1ca88",
   "metadata": {},
   "source": [
    "#### # 2. .extend(iterable)"
   ]
  },
  {
   "cell_type": "code",
   "execution_count": 59,
   "id": "98b35a1a",
   "metadata": {},
   "outputs": [
    {
     "name": "stdout",
     "output_type": "stream",
     "text": [
      "['a', 'b', 'c', 'd']\n",
      "['a', 'b', 'cd']\n"
     ]
    }
   ],
   "source": [
    "letters = [\"a\", \"b\"]\n",
    "letters.extend(\"cd\")         # iterates over 'c','d' → appends separately\n",
    "print(letters)               # ['a','b','c','d']\n",
    "letters = [\"a\", \"b\"]\n",
    "letters.append(\"cd\")         # appends string as ONE element\n",
    "print(letters)               # ['a','b','cd']\n",
    "# Why: extend = loop + append; append = single item"
   ]
  },
  {
   "cell_type": "markdown",
   "id": "3865cbb7",
   "metadata": {},
   "source": [
    "#### # 3. .insert(index, x)"
   ]
  },
  {
   "cell_type": "code",
   "execution_count": 69,
   "id": "c5481a70",
   "metadata": {},
   "outputs": [
    {
     "name": "stdout",
     "output_type": "stream",
     "text": [
      "[10, 15, 20, 30]\n",
      "[10, 15, 20, 30, 100]\n"
     ]
    }
   ],
   "source": [
    "nums = [10, 20, 30]           # Create a list 'nums' with three elements\n",
    "\n",
    "nums.insert(1, 15)            # Insert value 15 **before** index 1 (between 10 and 20)\n",
    "print(nums)                   # Output: [10, 15, 20, 30]\n",
    "\n",
    "nums.insert(99, 100)          # Insert value 100 at index 99\n",
    "                             # Since 99 is greater than the list length,\n",
    "                             # Python appends 100 at the **end** of the list\n",
    "print(nums)                   # Output: [10, 15, 20, 30, 100]\n"
   ]
  },
  {
   "cell_type": "markdown",
   "id": "e32f6824",
   "metadata": {},
   "source": [
    "#### # 4. .remove(x)"
   ]
  },
  {
   "cell_type": "code",
   "execution_count": 70,
   "id": "95093c1f",
   "metadata": {},
   "outputs": [
    {
     "name": "stdout",
     "output_type": "stream",
     "text": [
      "[1, 3, 2, 4]\n",
      "[1, 3, 4]\n"
     ]
    }
   ],
   "source": [
    "nums = [1, 2, 3, 2, 4]\n",
    "\n",
    "# Remove the first occurrence of the value 2 from the list\n",
    "nums.remove(2)               \n",
    "print(nums)                  \n",
    "# Output: [1, 3, 2, 4]\n",
    "# Note: only the first '2' is removed; the second '2' remains\n",
    "\n",
    "# Reset the list to original values\n",
    "nums = [1, 2, 3, 2, 4]\n",
    "\n",
    "# Remove all occurrences of the value 2 using list comprehension\n",
    "# This creates a new list including only elements not equal to 2\n",
    "nums = [n for n in nums if n != 2]\n",
    "print(nums)                  \n",
    "# Output: [1, 3, 4]\n"
   ]
  },
  {
   "cell_type": "markdown",
   "id": "b5a48604",
   "metadata": {},
   "source": [
    "#### # 5. .pop([index])"
   ]
  },
  {
   "cell_type": "code",
   "execution_count": 71,
   "id": "a5564c31",
   "metadata": {},
   "outputs": [
    {
     "name": "stdout",
     "output_type": "stream",
     "text": [
      "15\n",
      "[5, 10]\n",
      "5\n",
      "[10]\n"
     ]
    }
   ],
   "source": [
    "nums = [5, 10, 15]\n",
    "\n",
    "# pop() removes and returns the **last item** in the list by default\n",
    "print(nums.pop())            # Output: 15\n",
    "print(nums)                  # Output: [5, 10]\n",
    "\n",
    "# pop(0) removes and returns the **item at index 0** (the first item)\n",
    "print(nums.pop(0))           # Output: 5\n",
    "# Note: Removing from the start requires shifting all remaining elements to the left → O(n) time complexity\n",
    "\n",
    "print(nums)                  # Output: [10]\n"
   ]
  },
  {
   "cell_type": "markdown",
   "id": "87df2282",
   "metadata": {},
   "source": [
    "#### # 6. .clear()"
   ]
  },
  {
   "cell_type": "code",
   "execution_count": 72,
   "id": "ee1c02be",
   "metadata": {},
   "outputs": [
    {
     "name": "stdout",
     "output_type": "stream",
     "text": [
      "[]\n"
     ]
    }
   ],
   "source": [
    "nums = [1, 2, 3]\n",
    "\n",
    "nums.clear()                 # Removes all items from the existing list *in place*\n",
    "print(nums)                  # Output: []\n",
    "\n",
    "# Important difference:\n",
    "# nums.clear() empties the original list object.\n",
    "# nums = [] creates a new empty list and assigns it to the variable 'nums',\n",
    "# but any other references to the original list remain unchanged.\n"
   ]
  },
  {
   "cell_type": "markdown",
   "id": "e15a3956",
   "metadata": {},
   "source": [
    "#### # 7. .index(x)"
   ]
  },
  {
   "cell_type": "code",
   "execution_count": 73,
   "id": "2ab6d920",
   "metadata": {},
   "outputs": [
    {
     "name": "stdout",
     "output_type": "stream",
     "text": [
      "1\n",
      "[1, 3]\n"
     ]
    }
   ],
   "source": [
    "letters = [\"a\", \"b\", \"c\", \"b\"]\n",
    "\n",
    "# .index(value) returns the index of the FIRST occurrence of the value in the list\n",
    "print(letters.index(\"b\"))    # Output: 1\n",
    "\n",
    "# To find ALL indices where \"b\" appears, use list comprehension with enumerate:\n",
    "# - enumerate(letters) gives pairs of (index, value)\n",
    "# - The list comprehension collects all indices i where value v == \"b\"\n",
    "print([i for i, v in enumerate(letters) if v == \"b\"])  # Output: [1, 3]\n"
   ]
  },
  {
   "cell_type": "markdown",
   "id": "a325492d",
   "metadata": {},
   "source": [
    "#### # 8. .count(x)"
   ]
  },
  {
   "cell_type": "code",
   "execution_count": 74,
   "id": "0f6447d7",
   "metadata": {},
   "outputs": [
    {
     "name": "stdout",
     "output_type": "stream",
     "text": [
      "3\n"
     ]
    }
   ],
   "source": [
    "nums = [1, 2, 2, 2, 3]\n",
    "\n",
    "# .count(value) returns how many times 'value' appears in the list\n",
    "print(nums.count(2))         # Output: 3\n",
    "\n",
    "# Safer way to remove an item:\n",
    "# Check if the value exists before removing to avoid errors\n",
    "if 2 in nums:\n",
    "    nums.remove(2)           # removes only the first occurrence of 2\n"
   ]
  },
  {
   "cell_type": "markdown",
   "id": "81b9dd08",
   "metadata": {},
   "source": [
    "#### # 9. .sort()"
   ]
  },
  {
   "cell_type": "code",
   "execution_count": 75,
   "id": "c57d95a1",
   "metadata": {},
   "outputs": [
    {
     "name": "stdout",
     "output_type": "stream",
     "text": [
      "['convos', 'PYTHON', 'Tech']\n",
      "[(1, 'a'), (1, 'c'), (2, 'b')]\n"
     ]
    }
   ],
   "source": [
    "words = [\"Tech\", \"convos\", \"PYTHON\"]\n",
    "\n",
    "# Sort the list in-place, ignoring case by using str.lower as the key function\n",
    "words.sort(key=str.lower)\n",
    "print(words)  \n",
    "# Output: ['convos', 'PYTHON', 'Tech']\n",
    "# Explanation: all strings are compared in lowercase, so 'convos' < 'python' < 'tech'\n",
    "\n",
    "rows = [(2, \"b\"), (1, \"a\"), (1, \"c\")]\n",
    "\n",
    "# Sort the list of tuples by multiple keys using a lambda function\n",
    "# First sort by the first element of the tuple (index 0),\n",
    "# Then by the second element of the tuple (index 1)\n",
    "rows.sort(key=lambda r: (r[0], r[1]))\n",
    "print(rows)  \n",
    "# Output: [(1, 'a'), (1, 'c'), (2, 'b')]\n",
    "# Explanation: tuples with first element 1 come first, and among them, sorted by second element 'a' < 'c'\n"
   ]
  },
  {
   "cell_type": "markdown",
   "id": "62f95579",
   "metadata": {},
   "source": [
    "#### # 10. .reverse()"
   ]
  },
  {
   "cell_type": "code",
   "execution_count": 76,
   "id": "f4233da8",
   "metadata": {},
   "outputs": [
    {
     "name": "stdout",
     "output_type": "stream",
     "text": [
      "[4, 3, 2, 1]\n",
      "[4, 3, 2, 1]\n",
      "[1, 2, 3, 4]\n"
     ]
    }
   ],
   "source": [
    "nums = [1, 2, 3, 4]\n",
    "\n",
    "# Reverse the list in-place (modifies the original list)\n",
    "nums.reverse()\n",
    "print(nums)  # Output: [4, 3, 2, 1]\n",
    "\n",
    "# Difference:\n",
    "# nums.reverse() changes the list itself.\n",
    "# Using slicing with [::-1] creates a new reversed list without changing the original.\n",
    "\n",
    "# Example of slicing:\n",
    "nums = [1, 2, 3, 4]\n",
    "reversed_nums = nums[::-1]\n",
    "print(reversed_nums)  # Output: [4, 3, 2, 1]\n",
    "print(nums)           # Original list remains unchanged: [1, 2, 3, 4]\n"
   ]
  },
  {
   "cell_type": "markdown",
   "id": "ae9d9096",
   "metadata": {},
   "source": [
    "#### # 11. .copy()"
   ]
  },
  {
   "cell_type": "code",
   "execution_count": 77,
   "id": "9fedd76f",
   "metadata": {},
   "outputs": [
    {
     "name": "stdout",
     "output_type": "stream",
     "text": [
      "[[99, 2], [3, 4]]\n"
     ]
    }
   ],
   "source": [
    "a = [[1, 2], [3, 4]]\n",
    "\n",
    "# Create a shallow copy of 'a' using the list's copy() method\n",
    "b = a.copy()\n",
    "\n",
    "# Modify the first element of the first inner list in 'b'\n",
    "b[0][0] = 99\n",
    "\n",
    "# Print 'a' to see if it changed\n",
    "print(a)  \n",
    "# Output: [[99, 2], [3, 4]]\n"
   ]
  },
  {
   "cell_type": "code",
   "execution_count": 78,
   "id": "dd2f0e4a",
   "metadata": {},
   "outputs": [
    {
     "name": "stdout",
     "output_type": "stream",
     "text": [
      "[[1, 2], [3, 4]]\n",
      "[[99, 2], [3, 4]]\n"
     ]
    }
   ],
   "source": [
    "import copy\n",
    "a = [[1, 2], [3, 4]]\n",
    "b = copy.deepcopy(a)\n",
    "b[0][0] = 99\n",
    "print(a)  # Output: [[1, 2], [3, 4]]\n",
    "print(b)  # Output: [[99, 2], [3, 4]]"
   ]
  },
  {
   "cell_type": "markdown",
   "id": "5d917b23",
   "metadata": {},
   "source": [
    "#### # 12. len(list)"
   ]
  },
  {
   "cell_type": "code",
   "execution_count": 80,
   "id": "3360399b",
   "metadata": {},
   "outputs": [
    {
     "name": "stdout",
     "output_type": "stream",
     "text": [
      "3\n"
     ]
    }
   ],
   "source": [
    "nums = [[], [1, 2], 3]\n",
    "\n",
    "# len(nums) returns the number of **top-level elements** in the list\n",
    "print(len(nums))             # Output: 3"
   ]
  },
  {
   "cell_type": "markdown",
   "id": "f4b364ad",
   "metadata": {},
   "source": [
    "#### # 13. list()"
   ]
  },
  {
   "cell_type": "code",
   "execution_count": 81,
   "id": "bf24d470",
   "metadata": {},
   "outputs": [
    {
     "name": "stdout",
     "output_type": "stream",
     "text": [
      "['D', 'h', 'i', 'r', 'a', 'j']\n"
     ]
    }
   ],
   "source": [
    "chars = list(\"Dhiraj\")       # Convert the string into a list of its characters\n",
    "print(chars)                 # Output: ['D', 'h', 'i', 'r', 'a', 'j']\n"
   ]
  },
  {
   "cell_type": "markdown",
   "id": "9b54ab89",
   "metadata": {},
   "source": [
    "#### # 14. min/max/sum"
   ]
  },
  {
   "cell_type": "code",
   "execution_count": 82,
   "id": "d41e8352",
   "metadata": {},
   "outputs": [
    {
     "name": "stdout",
     "output_type": "stream",
     "text": [
      "-3 10 19\n"
     ]
    }
   ],
   "source": [
    "nums = [5, 10, -3, 7]\n",
    "\n",
    "# min(nums) returns the smallest number in the list\n",
    "# max(nums) returns the largest number in the list\n",
    "# sum(nums) returns the sum of all numbers in the list\n",
    "print(min(nums), max(nums), sum(nums))  # Output: -3 10 19\n"
   ]
  },
  {
   "cell_type": "markdown",
   "id": "a80bc6ef",
   "metadata": {},
   "source": [
    "#### # 15. del"
   ]
  },
  {
   "cell_type": "code",
   "execution_count": 83,
   "id": "f0d85a02",
   "metadata": {},
   "outputs": [
    {
     "name": "stdout",
     "output_type": "stream",
     "text": [
      "[10, 30]\n",
      "[]\n"
     ]
    }
   ],
   "source": [
    "nums = [10, 20, 30]\n",
    "\n",
    "# Delete the element at index 1 (which is 20)\n",
    "del nums[1]\n",
    "print(nums)  # Output: [10, 30]\n",
    "\n",
    "nums = [1, 2, 3]\n",
    "\n",
    "# Delete all elements in the list using slice assignment\n",
    "del nums[:]  \n",
    "print(nums)  # Output: []\n"
   ]
  },
  {
   "cell_type": "markdown",
   "id": "5e11fad5",
   "metadata": {},
   "source": [
    "#### Extra Interview Practice"
   ]
  },
  {
   "cell_type": "markdown",
   "id": "f85fc684",
   "metadata": {},
   "source": [
    "##### Remove all occurrences of x"
   ]
  },
  {
   "cell_type": "code",
   "execution_count": 86,
   "id": "eee6d3aa",
   "metadata": {},
   "outputs": [
    {
     "name": "stdout",
     "output_type": "stream",
     "text": [
      "[1, 3]\n"
     ]
    }
   ],
   "source": [
    "def remove_all(lst, x):\n",
    "    # Use list comprehension to create a new list\n",
    "    # Include only those items that are NOT equal to x\n",
    "    return [item for item in lst if item != x]\n",
    "\n",
    "print(remove_all([1, 2, 2, 3, 2], 2))  # [1, 3]"
   ]
  },
  {
   "cell_type": "markdown",
   "id": "5862ff08",
   "metadata": {},
   "source": [
    "##### Safe pop"
   ]
  },
  {
   "cell_type": "code",
   "execution_count": 87,
   "id": "e03f3cd8",
   "metadata": {},
   "outputs": [
    {
     "name": "stdout",
     "output_type": "stream",
     "text": [
      "NA\n"
     ]
    }
   ],
   "source": [
    "def safe_pop(lst, i, default=None):\n",
    "    \"\"\"\n",
    "    Attempts to pop element at index i from lst.\n",
    "    If i is out of range, returns default instead of raising an error.\n",
    "    \"\"\"\n",
    "    try:\n",
    "        return lst.pop(i)  # Try to pop element at index i\n",
    "    except IndexError:\n",
    "        return default     # If index is invalid, return default value instead\n",
    "\n",
    "# Example usage:\n",
    "print(safe_pop([1, 2], 5, default=\"NA\"))  # NA (index 5 doesn't exist, so default returned)\n"
   ]
  },
  {
   "cell_type": "markdown",
   "id": "df7a96d1",
   "metadata": {},
   "source": [
    "##### Sort list of dicts by key"
   ]
  },
  {
   "cell_type": "code",
   "execution_count": 88,
   "id": "b9ddce29",
   "metadata": {},
   "outputs": [
    {
     "name": "stdout",
     "output_type": "stream",
     "text": [
      "[{'id': 2, 'name': 'B'}, {'id': 1, 'name': 'x'}]\n"
     ]
    }
   ],
   "source": [
    "rows = [{\"id\": 1, \"name\": \"x\"}, {\"id\": 2, \"name\": \"B\"}]\n",
    "\n",
    "# Sort list of dictionaries by the \"name\" key, case-insensitive\n",
    "rows.sort(key=lambda r: r[\"name\"].lower())\n",
    "\n",
    "print(rows)  \n",
    "# Output: [{'id': 2, 'name': 'B'}, {'id': 1, 'name': 'x'}]"
   ]
  },
  {
   "cell_type": "markdown",
   "id": "50069787",
   "metadata": {},
   "source": [
    "#### Reverse without .reverse() or slicing"
   ]
  },
  {
   "cell_type": "code",
   "execution_count": 89,
   "id": "f9f545d7",
   "metadata": {},
   "outputs": [
    {
     "name": "stdout",
     "output_type": "stream",
     "text": [
      "[4, 3, 2, 1]\n"
     ]
    }
   ],
   "source": [
    "nums = [1, 2, 3, 4]\n",
    "rev = []\n",
    "\n",
    "# Loop backwards from last index to 0 (inclusive)\n",
    "for i in range(len(nums) - 1, -1, -1):\n",
    "    rev.append(nums[i])  # Append elements from nums starting at the end\n",
    "\n",
    "print(rev)  # [4, 3, 2, 1]\n"
   ]
  },
  {
   "cell_type": "code",
   "execution_count": null,
   "id": "7ca8376d",
   "metadata": {},
   "outputs": [],
   "source": []
  }
 ],
 "metadata": {
  "kernelspec": {
   "display_name": "Python 3",
   "language": "python",
   "name": "python3"
  },
  "language_info": {
   "codemirror_mode": {
    "name": "ipython",
    "version": 3
   },
   "file_extension": ".py",
   "mimetype": "text/x-python",
   "name": "python",
   "nbconvert_exporter": "python",
   "pygments_lexer": "ipython3",
   "version": "3.12.11"
  }
 },
 "nbformat": 4,
 "nbformat_minor": 5
}
