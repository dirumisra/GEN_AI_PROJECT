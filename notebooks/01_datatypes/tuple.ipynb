{
 "cells": [
  {
   "cell_type": "markdown",
   "id": "d44c0a8d",
   "metadata": {},
   "source": [
    "# What is a tuple?\n",
    "\n",
    "- A tuple is an immutable, ordered sequence type.\n",
    "- It can hold heterogeneous values (any Python objects), and preserves insertion order.\n",
    "- Immutable means: once created, the tuple’s item references cannot be changed (no item assignment, no append/remove).\n",
    "(If it contains a mutable object like a list, that inner object can still be mutated—details below.)"
   ]
  },
  {
   "cell_type": "markdown",
   "id": "bdd31933",
   "metadata": {},
   "source": [
    "##### Creating tuples"
   ]
  },
  {
   "cell_type": "code",
   "execution_count": 33,
   "id": "8d7f7937",
   "metadata": {},
   "outputs": [
    {
     "name": "stdout",
     "output_type": "stream",
     "text": [
      "t1 = (1, 2, 3)\n",
      "t2 = (4, 5, 6)\n",
      "t3 = ('a', 'b', 'c')\n",
      "\n",
      "#--- Single-element tuple (common pitfall)---\n",
      "not_a_tuple = 42\n",
      "Type of not_a_tuple: <class 'int'>\n",
      "a_single = (42,)\n",
      "Type of a_single: <class 'tuple'>\n",
      "\n",
      "# --- Empty tuple ---\n",
      "empty = ()\n",
      "empty2 = ()\n",
      "\n",
      "# --- Implicit tuple (packing) ---\n",
      "t4 = (1, 2, 3)\n"
     ]
    }
   ],
   "source": [
    "# --- Literals and constructors ---\n",
    "t1 = (1, 2, 3)                # Tuple with three integers: 1, 2, and 3\n",
    "print(\"t1 =\", t1)             # Output: t1 = (1, 2, 3)\n",
    "\n",
    "t2 = tuple([4, 5, 6])         # Converts list [4, 5, 6] to tuple (4, 5, 6)\n",
    "print(\"t2 =\", t2)             # Output: t2 = (4, 5, 6)\n",
    "\n",
    "t3 = tuple(\"abc\")             # Converts string 'abc' to tuple ('a', 'b', 'c')\n",
    "print(\"t3 =\", t3)             # Output: t3 = ('a', 'b', 'c')\n",
    "\n",
    "print(\"\\n#--- Single-element tuple (common pitfall)---\")\n",
    "\n",
    "\n",
    "not_a_tuple = (42)            # Just an int, not a tuple\n",
    "print(\"not_a_tuple =\", not_a_tuple)  # Output: not_a_tuple = 42\n",
    "print(\"Type of not_a_tuple:\", type(not_a_tuple))  # Output: <class 'int'>\n",
    "\n",
    "a_single = (42,)              # Single-element tuple (with trailing comma)\n",
    "print(\"a_single =\", a_single)  # Output: a_single = (42,)\n",
    "print(\"Type of a_single:\", type(a_single))  # Output: <class 'tuple'>\n",
    "\n",
    "print(\"\\n# --- Empty tuple ---\")\n",
    "empty = ()                    # Empty tuple literal\n",
    "print(\"empty =\", empty)       # Output: empty = ()\n",
    "empty2 = tuple()              # Empty tuple via constructor\n",
    "print(\"empty2 =\", empty2)     # Output: empty2 = ()\n",
    "\n",
    "print(\"\\n# --- Implicit tuple (packing) ---\")\n",
    "\n",
    "t4 = 1, 2, 3                  # Tuple without parentheses (commas create tuple)\n",
    "print(\"t4 =\", t4)             # Output: t4 = (1, 2, 3)\n"
   ]
  },
  {
   "cell_type": "markdown",
   "id": "48197e2a",
   "metadata": {},
   "source": [
    "##### Accessing elements (indexing, slicing)"
   ]
  },
  {
   "cell_type": "code",
   "execution_count": 34,
   "id": "6193a5bd",
   "metadata": {},
   "outputs": [
    {
     "name": "stdout",
     "output_type": "stream",
     "text": [
      "Basic - t[1:3]: (36, 'Delhi')\n",
      "Basic - t[:3]: ('Dhiraj', 36, 'Delhi')\n",
      "Basic - t[2:]: ('Delhi', 'Data & AI')\n",
      "Basic - t[:]: ('Dhiraj', 36, 'Delhi', 'Data & AI')\n",
      "Intermediate - t[::2]: ('Dhiraj', 'Delhi')\n",
      "Intermediate - t[-3:-1]: (36, 'Delhi')\n",
      "Intermediate - t[3:0:-1]: ('Data & AI', 'Delhi', 36)\n",
      "Intermediate - t[3::-1]: ('Data & AI', 'Delhi', 36, 'Dhiraj')\n",
      "Advanced - t[-1:-5:-2]: ('Data & AI', 36)\n",
      "Advanced - t[::-1]: ('Data & AI', 'Delhi', 36, 'Dhiraj')\n",
      "Advanced - t[::-2]: ('Data & AI', 36)\n",
      "Advanced - Unpacked: first = Dhiraj , middle = [36, 'Delhi'] , last = Data & AI\n"
     ]
    }
   ],
   "source": [
    "t = (\"Dhiraj\", 36, \"Delhi\", \"Data & AI\")\n",
    "\n",
    "# --- Basic Slicing ---\n",
    "# Slice from start index to stop index (stop excluded)\n",
    "basic_1 = t[1:3]              # Elements from index 1 to 2 → (36, 'Delhi')\n",
    "print(\"Basic - t[1:3]:\", basic_1)\n",
    "\n",
    "# Slice from start to a given index\n",
    "basic_2 = t[:3]               # From start to index 2 → ('Dhiraj', 36, 'Delhi')\n",
    "print(\"Basic - t[:3]:\", basic_2)\n",
    "\n",
    "# Slice from an index to end\n",
    "basic_3 = t[2:]               # From index 2 to end → ('Delhi', 'Data & AI')\n",
    "print(\"Basic - t[2:]:\", basic_3)\n",
    "\n",
    "# Slice entire tuple (copy)\n",
    "basic_4 = t[:]                # Entire tuple\n",
    "print(\"Basic - t[:]:\", basic_4)\n",
    "\n",
    "\n",
    "# --- Intermediate Slicing ---\n",
    "# Using step parameter to skip elements\n",
    "inter_1 = t[::2]              # Every 2nd element → ('Dhiraj', 'Delhi')\n",
    "print(\"Intermediate - t[::2]:\", inter_1)\n",
    "\n",
    "# Negative indexing in slice bounds\n",
    "inter_2 = t[-3:-1]            # From third last to one before last → (36, 'Delhi')\n",
    "print(\"Intermediate - t[-3:-1]:\", inter_2)\n",
    "\n",
    "# Slice backwards with negative step (partial reversal)\n",
    "inter_3 = t[3:0:-1]           # From index 3 down to 1 (stop excluded) → ('Data & AI', 'Delhi', 36)\n",
    "print(\"Intermediate - t[3:0:-1]:\", inter_3)\n",
    "\n",
    "# Slice with negative step, including first element by adjusting stop index\n",
    "inter_4 = t[3::-1]            # From index 3 down to 0 → ('Data & AI', 'Delhi', 36, 'Dhiraj')\n",
    "print(\"Intermediate - t[3::-1]:\", inter_4)\n",
    "\n",
    "\n",
    "# --- Advanced Slicing ---\n",
    "# Complex slicing with both negative indexes and steps\n",
    "adv_1 = t[-1:-5:-2]           # From last element backward, skipping every other → ('Data & AI', '36')\n",
    "print(\"Advanced - t[-1:-5:-2]:\", adv_1)\n",
    "\n",
    "# Reverse the tuple using slice (step -1)\n",
    "adv_2 = t[::-1]               # Entire tuple reversed → ('Data & AI', 'Delhi', 36, 'Dhiraj')\n",
    "print(\"Advanced - t[::-1]:\", adv_2)\n",
    "\n",
    "# Step with larger negative step (skipping elements in reverse)\n",
    "adv_3 = t[::-2]               # Reverse and skip every other element → ('Data & AI', 'Delhi')\n",
    "print(\"Advanced - t[::-2]:\", adv_3)\n",
    "\n",
    "# Combining slice with unpacking (advanced usage)\n",
    "first, *middle, last = t      # Unpack first, last, and middle elements\n",
    "print(\"Advanced - Unpacked:\", \"first =\", first, \", middle =\", middle, \", last =\", last)\n"
   ]
  },
  {
   "cell_type": "markdown",
   "id": "7ad6ecad",
   "metadata": {},
   "source": [
    "##### Tuple immutability (what it means)"
   ]
  },
  {
   "cell_type": "code",
   "execution_count": 35,
   "id": "7958c394",
   "metadata": {},
   "outputs": [
    {
     "name": "stdout",
     "output_type": "stream",
     "text": [
      "Before mutation: (1, [10, 20], 3)\n",
      "After mutation: (1, [10, 20, 30], 3)\n",
      "Before deep mutation: (1, {'a': 1})\n",
      "After deep mutation: (1, {'a': 1, 'b': 2})\n"
     ]
    }
   ],
   "source": [
    "t = (1, 2, 3)\n",
    "# t[0] = 99                  # ❌ TypeError: 'tuple' object does not support item assignment\n",
    "\n",
    "inner = [10, 20]\n",
    "t2 = (1, inner, 3)\n",
    "\n",
    "print(\"Before mutation:\", t2)  # (1, [10, 20], 3)\n",
    "\n",
    "inner.append(30)               # mutate the list inside the tuple\n",
    "print(\"After mutation:\", t2)   # (1, [10, 20, 30], 3)\n",
    "\n",
    "# Trying to replace the mutable element itself causes an error:\n",
    "# t2[1] = [40, 50]            # ❌ TypeError: 'tuple' object does not support item assignment\n",
    "\n",
    "# Demonstrating deep mutation:\n",
    "deep_inner = {\"a\": 1}\n",
    "t3 = (1, deep_inner)\n",
    "print(\"Before deep mutation:\", t3)\n",
    "\n",
    "deep_inner[\"b\"] = 2            # mutate dict inside tuple\n",
    "print(\"After deep mutation:\", t3)\n",
    "\n",
    "# Summary:\n",
    "# Tuples protect the references inside them from reassignment,\n",
    "# but the mutable objects themselves can be changed.\n"
   ]
  },
  {
   "cell_type": "markdown",
   "id": "6b53dd49",
   "metadata": {},
   "source": [
    "##### Common tuple operations (concatenation, repetition, membership)"
   ]
  },
  {
   "cell_type": "code",
   "execution_count": 41,
   "id": "e0619f61",
   "metadata": {},
   "outputs": [
    {
     "name": "stdout",
     "output_type": "stream",
     "text": [
      "Concatenation: (1, 2, 3, 4)\n",
      "Repetition: (1, 2, 1, 2, 1, 2)\n",
      "Membership test (2 in a): True\n",
      "Length of a: 2\n",
      "First element a[0]: 1\n",
      "Slice a[1:]: (2,)\n",
      "Iterating over a:\n",
      "1\n",
      "2\n",
      "Unpacked a: 1 2\n",
      "Count of 2 in d: 3\n",
      "Index of 2 in d: 1\n",
      "Is a < b? True\n",
      "Nested tuple: ((1, 2), (3, 4))\n"
     ]
    }
   ],
   "source": [
    "a = (1, 2)           # Create a tuple 'a' with two integers\n",
    "b = (3, 4)           # Create another tuple 'b' with two integers\n",
    "\n",
    "# --- Basic operations ---\n",
    "\n",
    "# Concatenate two tuples 'a' and 'b' to form a new tuple 'c'\n",
    "# This combines elements from both tuples into one longer tuple\n",
    "c = a + b             # c = (1, 2, 3, 4)\n",
    "print(\"Concatenation:\", c)\n",
    "\n",
    "# Repeat the tuple 'a' three times using multiplication operator\n",
    "# The elements of 'a' are repeated in order, three times consecutively\n",
    "d = a * 3             # d = (1, 2, 1, 2, 1, 2)\n",
    "print(\"Repetition:\", d)\n",
    "\n",
    "# Membership test: check if value 2 is present inside tuple 'a'\n",
    "flag = 2 in a         # True because 2 is an element in 'a'\n",
    "print(\"Membership test (2 in a):\", flag)\n",
    "\n",
    "# Get the number of elements in tuple 'a' using len()\n",
    "length = len(a)       # length = 2\n",
    "print(\"Length of a:\", length)\n",
    "\n",
    "\n",
    "# --- Additional basic/intermediate operations ---\n",
    "\n",
    "# Accessing element by index (indexing)\n",
    "# Indexing starts from 0, so a[0] is the first element\n",
    "print(\"First element a[0]:\", a[0])            # Output: 1\n",
    "\n",
    "# Extracting a portion of the tuple using slicing\n",
    "# a[1:] means slice starting from index 1 to the end of tuple\n",
    "print(\"Slice a[1:]:\", a[1:])                   # Output: (2,)\n",
    "\n",
    "# Iterating over tuple elements using a for-loop\n",
    "print(\"Iterating over a:\")\n",
    "for item in a:\n",
    "    print(item)                                # Outputs 1 and then 2 on separate lines\n",
    "\n",
    "# Unpacking tuple elements into variables\n",
    "# Here, first element of 'a' goes to x, second goes to y\n",
    "x, y = a\n",
    "print(\"Unpacked a:\", x, y)                     # Output: 1 2\n",
    "\n",
    "# Tuple methods: count() and index()\n",
    "\n",
    "# count(value) returns how many times 'value' occurs in tuple 'd'\n",
    "print(\"Count of 2 in d:\", d.count(2))          # Output: 3 because '2' appears 3 times in d\n",
    "\n",
    "# index(value) returns the index of first occurrence of 'value' in tuple 'd'\n",
    "print(\"Index of 2 in d:\", d.index(2))          # Output: 1 (the first 2 is at index 1)\n",
    "\n",
    "# Comparison of tuples using < operator\n",
    "# Compares element-by-element from left to right lexicographically\n",
    "print(\"Is a < b?\", a < b)                      # Output: True because 1 < 3 at index 0\n",
    "\n",
    "# Nested tuples: tuples can contain other tuples as elements\n",
    "nested = (a, b)                                # 'nested' is a tuple of two tuples\n",
    "print(\"Nested tuple:\", nested)                 # Output: ((1, 2), (3, 4))\n"
   ]
  },
  {
   "cell_type": "markdown",
   "id": "265aee62",
   "metadata": {},
   "source": [
    "##### Tuple methods: count() and index()"
   ]
  },
  {
   "cell_type": "code",
   "execution_count": 42,
   "id": "98008d5e",
   "metadata": {},
   "outputs": [
    {
     "name": "stdout",
     "output_type": "stream",
     "text": [
      "Count of 2 in t: 3\n",
      "First index of 2 in t: 1\n",
      "Index of 99 (not found): -1\n",
      "Index of 2 starting search at position 2: 2\n",
      "All indexes of 2 in t: [1, 2, 4]\n"
     ]
    }
   ],
   "source": [
    "t = (1, 2, 2, 3, 2)   # Tuple with repeated elements\n",
    "\n",
    "# --- Basic usage ---\n",
    "\n",
    "# Count how many times '2' appears in the tuple\n",
    "count_2 = t.count(2)              \n",
    "print(\"Count of 2 in t:\", count_2)    # Output: 3\n",
    "\n",
    "# Find the first index of '2' in the tuple\n",
    "index_2 = t.index(2)                \n",
    "print(\"First index of 2 in t:\", index_2)  # Output: 1\n",
    "\n",
    "\n",
    "# --- Intermediate usage ---\n",
    "\n",
    "# Handling the case where the value is not in the tuple\n",
    "try:\n",
    "    index_99 = t.index(99)  # This will raise ValueError because 99 is not in t\n",
    "except ValueError:\n",
    "    index_99 = -1           # Use -1 or any sentinel to indicate 'not found'\n",
    "print(\"Index of 99 (not found):\", index_99)  # Output: -1\n",
    "\n",
    "# Using start parameter to find '2' starting from position 2\n",
    "index_2_from_pos2 = t.index(2, 2)  \n",
    "print(\"Index of 2 starting search at position 2:\", index_2_from_pos2)  # Output: 2\n",
    "\n",
    "\n",
    "# --- Advanced usage ---\n",
    "\n",
    "# Find all indexes of '2' in the tuple\n",
    "all_indexes = []\n",
    "start = 0\n",
    "while True:\n",
    "    try:\n",
    "        pos = t.index(2, start)  # Search for '2' starting from index 'start'\n",
    "        all_indexes.append(pos)  # Save found index\n",
    "        start = pos + 1          # Move start just after the found index to find next\n",
    "    except ValueError:\n",
    "        break                    # No more occurrences, exit loop\n",
    "\n",
    "print(\"All indexes of 2 in t:\", all_indexes)  # Output: [1, 2, 4]\n"
   ]
  },
  {
   "cell_type": "markdown",
   "id": "0777093a",
   "metadata": {},
   "source": [
    "##### Packing & Unpacking (including extended *)"
   ]
  },
  {
   "cell_type": "code",
   "execution_count": 43,
   "id": "7368b65b",
   "metadata": {},
   "outputs": [
    {
     "name": "stdout",
     "output_type": "stream",
     "text": [
      "Packed tuple point: (10, 20)\n",
      "Unpacked x: 10\n",
      "Unpacked y: 20\n",
      "ID: 101\n",
      "Middle elements: ['Dhiraj', 'Team Lead']\n",
      "City: Delhi\n",
      "Tag: user\n",
      "UID: 1\n",
      "Name: pooja\n",
      "Result of add(*args): 8\n"
     ]
    }
   ],
   "source": [
    "# --- Packing (implicit) ---\n",
    "# When you separate values by commas without parentheses, Python creates a tuple automatically\n",
    "point = 10, 20                 # point is a tuple (10, 20)\n",
    "print(\"Packed tuple point:\", point)\n",
    "\n",
    "# --- Unpacking (fixed length) ---\n",
    "# You can assign tuple elements to variables by matching positions\n",
    "x, y = point                  # x = 10, y = 20\n",
    "print(\"Unpacked x:\", x)\n",
    "print(\"Unpacked y:\", y)\n",
    "\n",
    "# --- Extended unpacking with '*' ---\n",
    "# The '*' operator lets you capture multiple values in a list during unpacking\n",
    "row = (101, \"Dhiraj\", \"Team Lead\", \"Delhi\")\n",
    "\n",
    "# Here:\n",
    "# id_ gets the first value,\n",
    "# middle gets all values except first and last as a list,\n",
    "# city gets the last value\n",
    "id_, *middle, city = row\n",
    "print(\"ID:\", id_)\n",
    "print(\"Middle elements:\", middle)  # ['Dhiraj', 'Team Lead']\n",
    "print(\"City:\", city)\n",
    "\n",
    "# --- Nested unpacking ---\n",
    "# You can unpack tuples nested inside other tuples by matching structure\n",
    "record = (\"user\", (1, \"pooja\"))\n",
    "\n",
    "# tag gets 'user',\n",
    "# uid and name unpack the inner tuple (1, \"pooja\")\n",
    "tag, (uid, name) = record\n",
    "print(\"Tag:\", tag)\n",
    "print(\"UID:\", uid)\n",
    "print(\"Name:\", name)\n",
    "\n",
    "# --- Function call unpacking ---\n",
    "# You can use '*' to unpack a tuple as positional arguments when calling a function\n",
    "def add(a, b):\n",
    "    return a + b\n",
    "\n",
    "args = (3, 5)\n",
    "\n",
    "# The * expands 'args' so add(3, 5) is called\n",
    "res = add(*args)\n",
    "print(\"Result of add(*args):\", res)\n"
   ]
  },
  {
   "cell_type": "markdown",
   "id": "8cb2b39d",
   "metadata": {},
   "source": [
    "##### Tuples as dictionary keys (and set members)"
   ]
  },
  {
   "cell_type": "code",
   "execution_count": 44,
   "id": "4c3c8938",
   "metadata": {},
   "outputs": [
    {
     "name": "stdout",
     "output_type": "stream",
     "text": [
      "19000000\n"
     ]
    }
   ],
   "source": [
    "# A dictionary with keys as tuples (country code, city name)\n",
    "population = {\n",
    "    (\"IN\", \"Delhi\"): 19_000_000,     # Key is tuple ('IN', 'Delhi'), value is population\n",
    "    (\"IN\", \"Mumbai\"): 21_000_000,\n",
    "    (\"US\", \"NYC\"):   18_800_000,\n",
    "}\n",
    "\n",
    "# Access the population of Delhi, India by using the tuple key\n",
    "print(population[(\"IN\", \"Delhi\")])  # Output: 19000000\n",
    "\n",
    "\n",
    "# --- Important details about using tuples as dictionary keys ---\n",
    "\n",
    "# Dictionaries require keys to be hashable (immutable and with a consistent hash value).\n",
    "\n",
    "# Tuples are hashable only if ALL their elements are hashable.\n",
    "# Strings and integers are hashable, so ('IN', 'Delhi') works as a key.\n",
    "\n",
    "# Avoid using mutable objects (like lists or dicts) inside tuple keys,\n",
    "# because mutable objects are NOT hashable and will raise TypeError.\n",
    "\n",
    "# Example: this would raise an error because lists are mutable and unhashable:\n",
    "# population = {\n",
    "#     (\"IN\", [\"Delhi\"]): 19000000  # ❌ TypeError: unhashable type: 'list'\n",
    "# }\n"
   ]
  },
  {
   "cell_type": "markdown",
   "id": "4d2783d1",
   "metadata": {},
   "source": [
    "##### Returning multiple values from functions (tuples shine)"
   ]
  },
  {
   "cell_type": "code",
   "execution_count": 45,
   "id": "077ae049",
   "metadata": {},
   "outputs": [
    {
     "name": "stdout",
     "output_type": "stream",
     "text": [
      "Min: 10\n",
      "Max: 30\n",
      "Avg: 20.0\n"
     ]
    }
   ],
   "source": [
    "def min_max_avg(nums: tuple[int, ...]) -> tuple[int, int, float]:\n",
    "    \"\"\"\n",
    "    Calculate the minimum, maximum, and average of a tuple of integers.\n",
    "\n",
    "    Parameters:\n",
    "    nums (tuple[int, ...]): A tuple containing integers (variable length, indicated by ...)\n",
    "\n",
    "    Returns:\n",
    "    tuple[int, int, float]: A tuple containing:\n",
    "        - minimum value (int)\n",
    "        - maximum value (int)\n",
    "        - average value (float)\n",
    "    \"\"\"\n",
    "\n",
    "    # Compute minimum value in nums using built-in min()\n",
    "    mn = min(nums)\n",
    "\n",
    "    # Compute maximum value in nums using built-in max()\n",
    "    mx = max(nums)\n",
    "\n",
    "    # Compute average by summing all elements and dividing by count\n",
    "    avg = sum(nums) / len(nums)\n",
    "\n",
    "    # Return results as a tuple (implicit packing)\n",
    "    return mn, mx, avg\n",
    "\n",
    "\n",
    "# Call function with a tuple of integers\n",
    "mm = min_max_avg((10, 20, 30))\n",
    "\n",
    "# Unpack the returned tuple into individual variables\n",
    "mn, mx, avg = mm\n",
    "\n",
    "# Print results\n",
    "print(\"Min:\", mn)     # Output: 10\n",
    "print(\"Max:\", mx)     # Output: 30\n",
    "print(\"Avg:\", avg)    # Output: 20.0\n"
   ]
  },
  {
   "cell_type": "markdown",
   "id": "f6cea13b",
   "metadata": {},
   "source": [
    "##### Nested tuples / mixing types"
   ]
  },
  {
   "cell_type": "code",
   "execution_count": 47,
   "id": "654aa3af",
   "metadata": {},
   "outputs": [
    {
     "name": "stdout",
     "output_type": "stream",
     "text": [
      "Country code: IN\n",
      "City: Delhi\n",
      "Order ID: order-42\n",
      "Price of item-1: 299.0\n"
     ]
    }
   ],
   "source": [
    "# --- Complex tuple with mixed types ---\n",
    "complex_rec = (\n",
    "    \"order-42\",                                # String: order ID\n",
    "    (\"item-1\", 2, 299.0),                      # Tuple: item name, quantity, price\n",
    "    (\"item-2\", 1, 499.0),                      # Another item tuple\n",
    "    {                                          # Dictionary with shipping info\n",
    "        \"shipping\": \"express\",\n",
    "        \"address\": (\"IN\", \"Delhi\", 110001)    # Nested tuple inside dictionary value\n",
    "    },\n",
    ")\n",
    "\n",
    "# --- Accessing elements in a complex nested tuple/dict structure ---\n",
    "\n",
    "# Retrieve the country code by accessing:\n",
    "# 1) 4th element of complex_rec (index 3): the dict\n",
    "# 2) 'address' key inside that dict: a tuple\n",
    "# 3) First element of the address tuple (index 0): country code string\n",
    "country_code = complex_rec[3][\"address\"][0]\n",
    "print(\"Country code:\", country_code)   # Output: 'IN'\n",
    "\n",
    "# You can similarly access other nested data:\n",
    "city = complex_rec[3][\"address\"][1]       # 'Delhi'\n",
    "order_id = complex_rec[0]                  # 'order-42'\n",
    "item1_price = complex_rec[1][2]            # 299.0\n",
    "\n",
    "print(\"City:\", city)\n",
    "print(\"Order ID:\", order_id)\n",
    "print(\"Price of item-1:\", item1_price)\n"
   ]
  },
  {
   "cell_type": "markdown",
   "id": "0d976ac5",
   "metadata": {},
   "source": [
    "#### Conversions (tuple ↔︎ list/set/str)"
   ]
  },
  {
   "cell_type": "code",
   "execution_count": 17,
   "id": "369fde0f",
   "metadata": {},
   "outputs": [
    {
     "name": "stdout",
     "output_type": "stream",
     "text": [
      "DataType is: <class 'tuple'>\n",
      "DataType is: <class 'list'>\n",
      "DataType is: <class 'list'>\n",
      "DataType is: <class 'tuple'>\n",
      "{1, 2, 3}\n",
      "DataType is: <class 'set'>\n",
      "chars = ('A', 'B')\n",
      "DataType is: <class 'tuple'>\n",
      "back = AB\n",
      "DataType is: <class 'str'>\n"
     ]
    }
   ],
   "source": [
    "# Convert tuple to list\n",
    "t = (1, 2, 3)  # Define a tuple\n",
    "print(\"DataType is:\", type(t))  # Print the data type of t (should be <class 'tuple'>)\n",
    "\n",
    "lst = list(t)  # Convert the tuple to a list\n",
    "print(\"DataType is:\", type(lst))  # Print the data type of lst (should be <class 'list'>)\n",
    "\n",
    "# Convert list to tuple\n",
    "lst2 = [\"a\", \"b\", \"c\"]  # Define a list\n",
    "print(\"DataType is:\", type(lst2))  # Print the data type of lst2 (should be <class 'list'>)\n",
    "\n",
    "t2 = tuple(lst2)  # Convert the list to a tuple\n",
    "print(\"DataType is:\", type(t2))  # Print the data type of t2 (should be <class 'tuple'>)\n",
    "\n",
    "# Convert tuple with duplicates to a set to remove duplicates (tuple → set (dedupe + unordered))\n",
    "t3 = (1, 2, 2, 3)  # Define a tuple with duplicate elements\n",
    "s3 = set(t3)  # Convert the tuple to a set (sets automatically remove duplicates)\n",
    "\n",
    "print(s3)  # Print the set (should be {1, 2, 3})\n",
    "\n",
    "print(\"DataType is:\", type(s3))  # Print the data type of s3 (should be <class 'set'>)\n",
    "\n",
    "# Convert string to tuple of characters\n",
    "chars = tuple(\"AB\")  # Each character in the string becomes an element in the tuple\n",
    "print(\"chars =\", chars)  # Output: ('A', 'B')\n",
    "print(\"DataType is:\", type(chars))  # Output: <class 'tuple'>\n",
    "\n",
    "# Convert tuple of characters back to string\n",
    "back = \"\".join(chars)  # Join the tuple elements (must all be strings) into a single string\n",
    "print(\"back =\", back)  # Output: 'AB'\n",
    "print(\"DataType is:\", type(back))  # Output: <class 'str'>\n"
   ]
  },
  {
   "cell_type": "markdown",
   "id": "a46d11fe",
   "metadata": {},
   "source": [
    "#### Performance & memory (tuple vs list)"
   ]
  },
  {
   "cell_type": "code",
   "execution_count": 31,
   "id": "3b46cecb",
   "metadata": {},
   "outputs": [
    {
     "name": "stdout",
     "output_type": "stream",
     "text": [
      "Memory size of tuple (bytes): 64\n",
      "Memory size of list (bytes): 88\n",
      "Tuple creation time (1,000,000 runs): 0.0251736999489367\n",
      "List creation time  (1,000,000 runs): 0.044670899980701506\n"
     ]
    }
   ],
   "source": [
    "import sys\n",
    "import timeit\n",
    "\n",
    "# Define a tuple and a list with the same elements\n",
    "t = (1, 2, 3)\n",
    "l = [1, 2, 3]\n",
    "\n",
    "# Compare memory usage of tuple vs list\n",
    "print(\"Memory size of tuple (bytes):\", sys.getsizeof(t))  # Typically smaller (fixed size, immutable)\n",
    "print(\"Memory size of list (bytes):\", sys.getsizeof(l))   # Slightly larger (dynamic array with overhead)\n",
    "\n",
    "# Micro-benchmark: creation time of tuple vs list (may vary by system and Python version)\n",
    "tuple_creation_time = timeit.timeit(\"t=(1,2,3,4,5)\", number=1_000_000)\n",
    "list_creation_time = timeit.timeit(\"l=[1,2,3,4,5]\", number=1_000_000)\n",
    "\n",
    "print(\"Tuple creation time (1,000,000 runs):\", tuple_creation_time)\n",
    "print(\"List creation time  (1,000,000 runs):\", list_creation_time)\n"
   ]
  },
  {
   "cell_type": "markdown",
   "id": "cdc7a20d",
   "metadata": {},
   "source": [
    "#### Advanced: namedtuple, comparisons, and mutability caveats"
   ]
  },
  {
   "cell_type": "code",
   "execution_count": 39,
   "id": "e673fc6d",
   "metadata": {},
   "outputs": [
    {
     "name": "stdout",
     "output_type": "stream",
     "text": [
      "Dot access: p.x = 10 , p.y = 20\n",
      "Index access: p[0] = 10 , p[1] = 20\n"
     ]
    }
   ],
   "source": [
    "from collections import namedtuple\n",
    "\n",
    "# Define a lightweight, immutable class-like structure using namedtuple\n",
    "# This creates a new class called 'Point' with two fields: 'x' and 'y'\n",
    "Point = namedtuple(\"Point\", [\"x\", \"y\"])\n",
    "\n",
    "# Create an instance of the Point namedtuple with x=10 and y=20\n",
    "p = Point(10, 20)\n",
    "\n",
    "# Access fields using dot notation (like attributes in a class)\n",
    "print(\"Dot access: p.x =\", p.x, \", p.y =\", p.y)  # Output: p.x = 10 , p.y = 20\n",
    "\n",
    "# Access fields using index notation (like a regular tuple)\n",
    "print(\"Index access: p[0] =\", p[0], \", p[1] =\", p[1])  # Output: p[0] = 10 , p[1] = 20\n",
    "\n",
    "# Attempting to modify a field will raise an error because namedtuples are immutable\n",
    "# Uncommenting the following line will raise: AttributeError: can't set attribute\n",
    "# p.x = 99  # ❌ Immutable like a tuple\n",
    "\n",
    "# Why use namedtuple:\n",
    "# --------------------\n",
    "# ✅ Cleaner and more readable than a regular tuple (you can name fields)\n",
    "# ✅ No need to write boilerplate class code\n",
    "# ✅ Fields are self-documenting — e.g., 'x' and 'y' are more meaningful than ind\n"
   ]
  },
  {
   "cell_type": "markdown",
   "id": "c194c6c2",
   "metadata": {},
   "source": [
    "#### Common errors/pitfalls (and fixes)"
   ]
  },
  {
   "cell_type": "code",
   "execution_count": 40,
   "id": "25e130ba",
   "metadata": {},
   "outputs": [],
   "source": [
    "# 1) Single-element tuple missing comma\n",
    "x = (42)           # ❌ int, not tuple\n",
    "x = (42,)          # ✅ single-element tuple\n",
    "\n",
    "# 2) Mutating a tuple\n",
    "t = (1, 2)\n",
    "# t.append(3)      # ❌ AttributeError\n",
    "# t[0] = 99        # ❌ TypeError\n",
    "t = t + (3,)       # ✅ create a new tuple (concatenate)\n",
    "\n",
    "# 3) Using tuple as dict key but containing a list\n",
    "# d = {(1, [2,3]): \"bad\"}    # ❌ TypeError: unhashable type: 'list'\n",
    "d = {(1, 2, 3): \"ok\"}        # ✅ all elements hashable\n",
    "\n",
    "# 4) Comparing tuples with mixed incomparable types (Py3)\n",
    "# (1, \"a\") < (1, 2)          # ❌ TypeError (str vs int)\n"
   ]
  },
  {
   "cell_type": "markdown",
   "id": "cf6ba2f4",
   "metadata": {},
   "source": [
    "#### Mini practice set (with answers inline)"
   ]
  },
  {
   "cell_type": "code",
   "execution_count": 41,
   "id": "3157277c",
   "metadata": {},
   "outputs": [],
   "source": [
    "# Q1: Create a single-element tuple with value 7\n",
    "t = (7,)               # ✅"
   ]
  },
  {
   "cell_type": "code",
   "execution_count": null,
   "id": "bf354c61",
   "metadata": {},
   "outputs": [
    {
     "name": "stdout",
     "output_type": "stream",
     "text": [
      "Name: Delhi\n",
      "Age: 34\n",
      "City: Mumbai\n",
      "Original tuple: ('Delhi', 34, 'Mumbai')\n",
      "Country code: IN\n",
      "Pincode: 110001\n",
      "Middle values (discarded): ['Mumbai', 'MH']\n"
     ]
    }
   ],
   "source": [
    "# Q2: Unpack this tuple into three variables\n",
    "\n",
    "# Define a tuple with three elements\n",
    "rec = (\"Delhi\", 34, \"Mumbai\")\n",
    "\n",
    "# Unpack the tuple into three variables\n",
    "name, age, city = rec  # Each variable receives one element in order\n",
    "\n",
    "# Now you can use the variables separately\n",
    "print(\"Name:\", name)   # Output: Delhi\n",
    "print(\"Age:\", age)     # Output: 34\n",
    "print(\"City:\", city)   # Output: Mumbai\n",
    "\n",
    "# Just printing the original tuple\n",
    "print(\"Original tuple:\", rec)  # Output: ('Delhi', 34, 'Mumbai')\n",
    "\n",
    "\n"
   ]
  },
  {
   "cell_type": "code",
   "execution_count": 45,
   "id": "fa68f34d",
   "metadata": {},
   "outputs": [
    {
     "name": "stdout",
     "output_type": "stream",
     "text": [
      "Country code: IN\n",
      "Pincode: 110001\n",
      "Middle values (discarded): ['Mumbai', 'MH']\n"
     ]
    }
   ],
   "source": [
    "# Q3: Use extended unpacking to get first and last element from the tuple\n",
    "\n",
    "row = (\"IN\", \"Mumbai\", \"MH\", 110001)\n",
    "\n",
    "# Extended unpacking using the * (star) operator\n",
    "country, *_, pincode = row\n",
    "\n",
    "# 'country' gets the first element\n",
    "# 'pincode' gets the last element\n",
    "# '*_' (a throwaway variable) collects the middle elements (\"Mumbai\", \"MH\")\n",
    "\n",
    "print(\"Country code:\", country)   # Output: IN\n",
    "print(\"Pincode:\", pincode)       # Output: 110001\n",
    "print(\"Middle values (discarded):\", _)  # Output: ['Mumbai', 'MH']\n"
   ]
  },
  {
   "cell_type": "code",
   "execution_count": 46,
   "id": "f379093e",
   "metadata": {},
   "outputs": [
    {
     "name": "stdout",
     "output_type": "stream",
     "text": [
      "Price in Mumbai: 99.5\n",
      "Price in Delhi: 89.0\n"
     ]
    }
   ],
   "source": [
    "# Q4: Use a tuple as a key in a dictionary to represent a composite key\n",
    "\n",
    "prices = {\n",
    "    (\"IN\", \"Mumbai\"): 99.5,\n",
    "    (\"IN\", \"Delhi\"):  89.0\n",
    "}\n",
    "\n",
    "# Accessing a value using a tuple key\n",
    "print(\"Price in Mumbai:\", prices[(\"IN\", \"Mumbai\")])  # Output: 99.5\n",
    "print(\"Price in Delhi:\", prices[(\"IN\", \"Delhi\")])    # Output: 89.0\n"
   ]
  },
  {
   "cell_type": "code",
   "execution_count": 47,
   "id": "6a47c7b2",
   "metadata": {},
   "outputs": [
    {
     "name": "stdout",
     "output_type": "stream",
     "text": [
      "Original list: ['x', 'y', 'z']\n",
      "Converted tuple: ('x', 'y', 'z')\n"
     ]
    }
   ],
   "source": [
    "# Q5: Convert a mutable list into an immutable tuple\n",
    "\n",
    "lst = [\"x\", \"y\", \"z\"]  # A list (mutable)\n",
    "t = tuple(lst)         # Convert to a tuple (immutable)\n",
    "\n",
    "print(\"Original list:\", lst)  # Output: ['x', 'y', 'z']\n",
    "print(\"Converted tuple:\", t)  # Output: ('x', 'y', 'z')\n"
   ]
  },
  {
   "cell_type": "code",
   "execution_count": 48,
   "id": "5cc04648",
   "metadata": {},
   "outputs": [
    {
     "name": "stdout",
     "output_type": "stream",
     "text": [
      "User ID: 1\n",
      "User Name: Dhiraj\n",
      "User ID (index): 1\n",
      "User Name (index): Dhiraj\n"
     ]
    }
   ],
   "source": [
    "# Q6: Use namedtuple for better readability and structured data\n",
    "\n",
    "from collections import namedtuple\n",
    "\n",
    "# Define a namedtuple class 'User' with fields 'id' and 'name'\n",
    "User = namedtuple(\"User\", [\"id\", \"name\"])\n",
    "\n",
    "# Create an instance of User\n",
    "u = User(1, \"Dhiraj\")\n",
    "\n",
    "# Access fields by name, which is more readable than tuple indexing\n",
    "print(\"User ID:\", u.id)     # Output: 1\n",
    "print(\"User Name:\", u.name) # Output: Dhiraj\n",
    "\n",
    "# You can still use tuple-style indexing if you want:\n",
    "print(\"User ID (index):\", u[0])   # Output: 1\n",
    "print(\"User Name (index):\", u[1]) # Output: Dhiraj\n",
    "\n",
    "# namedtuple provides immutability (fields cannot be changed)\n",
    "# u.id = 2  # ❌ AttributeError: can't set attribute\n"
   ]
  },
  {
   "cell_type": "code",
   "execution_count": null,
   "id": "72fbb233",
   "metadata": {},
   "outputs": [],
   "source": []
  }
 ],
 "metadata": {
  "kernelspec": {
   "display_name": "Python 3",
   "language": "python",
   "name": "python3"
  },
  "language_info": {
   "codemirror_mode": {
    "name": "ipython",
    "version": 3
   },
   "file_extension": ".py",
   "mimetype": "text/x-python",
   "name": "python",
   "nbconvert_exporter": "python",
   "pygments_lexer": "ipython3",
   "version": "3.12.11"
  }
 },
 "nbformat": 4,
 "nbformat_minor": 5
}
