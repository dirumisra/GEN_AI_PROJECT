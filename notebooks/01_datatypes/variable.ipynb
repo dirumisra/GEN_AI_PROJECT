{
 "cells": [
  {
   "cell_type": "markdown",
   "id": "357fd503",
   "metadata": {},
   "source": [
    "#### 🐍 Python Variables — Complete Guide"
   ]
  },
  {
   "cell_type": "markdown",
   "metadata": {},
   "source": [
    "What is a variable?\n",
    "- A name that refers to an object in memory.\n",
    "- Variables don’t store values directly; they store references to objects."
   ]
  },
  {
   "cell_type": "code",
   "execution_count": 1,
   "id": "02d4766d",
   "metadata": {},
   "outputs": [
    {
     "name": "stdout",
     "output_type": "stream",
     "text": [
      "x = 10\n",
      "y = 10\n",
      "x is y: True\n",
      "x = 20\n",
      "y = 10\n",
      "x is y: False\n"
     ]
    }
   ],
   "source": [
    "# 'x' refers to an integer object 10\n",
    "x = 10          # x points to the integer object 10 in memory\n",
    "\n",
    "# 'y' is assigned the value of 'x', so now 'y' also refers to the same object (10)\n",
    "y = x           # y points to the same object 10 as x does\n",
    "\n",
    "# Let's print the values of x and y\n",
    "print(f\"x = {x}\")  # Output: x = 10\n",
    "print(f\"y = {y}\")  # Output: y = 10\n",
    "\n",
    "# Checking if both x and y point to the same object (identity check)\n",
    "print(f\"x is y: {x is y}\")  # Output: True, because both x and y refer to the same object\n",
    "\n",
    "# Modifying x and checking if y changes (since integers are immutable)\n",
    "x = 20          # Now x points to a new object 20, but y still refers to the old object 10\n",
    "\n",
    "print(f\"x = {x}\")  # Output: x = 20\n",
    "print(f\"y = {y}\")  # Output: y = 10\n",
    "\n",
    "# Checking identity again after x has been modified\n",
    "print(f\"x is y: {x is y}\")  # Output: False, because x now points to a new object (20), not 10\n"
   ]
  },
  {
   "cell_type": "markdown",
   "metadata": {},
   "source": [
    "Variable naming rules\n",
    "- Letters, numbers, underscores.\n",
    "- Must not start with a number.\n",
    "- Case-sensitive (age, Age, AGE are different)."
   ]
  },
  {
   "cell_type": "code",
   "execution_count": 2,
   "metadata": {},
   "outputs": [
    {
     "name": "stdout",
     "output_type": "stream",
     "text": [
      "x2 = 5\n",
      "my_var = 10\n",
      "valid_var1 = 100\n",
      "valid_var2 = 200\n",
      "value_3 = 300\n",
      "_my_var = 400\n",
      "var123 = 500\n"
     ]
    }
   ],
   "source": [
    "# 1. Invalid variable name: starting with a number\n",
    "# 2x = 5  # This will raise a SyntaxError because variable names can't start with a number.\n",
    "\n",
    "# Correct way:\n",
    "x2 = 5  # Valid because the variable name starts with a letter or an underscore.\n",
    "print(f\"x2 = {x2}\")\n",
    "\n",
    "# 2. Invalid variable name: using a hyphen\n",
    "# my-var = 10  # This will raise a SyntaxError because hyphens are interpreted as subtraction operators.\n",
    "\n",
    "# Correct way:\n",
    "my_var = 10  # Valid because underscores can be used to separate words.\n",
    "print(f\"my_var = {my_var}\")\n",
    "\n",
    "# Summary:\n",
    "# Variable names:\n",
    "# - Cannot start with a number\n",
    "# - Cannot contain hyphens, spaces, or other special characters\n",
    "# - Can contain letters (a-z, A-Z), numbers (0-9), and underscores (_)\n",
    "\n",
    "# Examples of valid variable names:\n",
    "valid_var1 = 100      # Valid: starts with a letter\n",
    "valid_var2 = 200      # Valid: starts with a letter\n",
    "value_3 = 300         # Valid: contains an underscore\n",
    "_my_var = 400         # Valid: starts with an underscore\n",
    "var123 = 500          # Valid: contains numbers but doesn't start with one\n",
    "\n",
    "print(f\"valid_var1 = {valid_var1}\")\n",
    "print(f\"valid_var2 = {valid_var2}\")\n",
    "print(f\"value_3 = {value_3}\")\n",
    "print(f\"_my_var = {_my_var}\")\n",
    "print(f\"var123 = {var123}\")\n"
   ]
  },
  {
   "cell_type": "markdown",
   "metadata": {},
   "source": [
    "Dynamic typing\n",
    "- Python is dynamically typed → you don’t declare types; they’re inferred at runtime."
   ]
  },
  {
   "cell_type": "code",
   "execution_count": 3,
   "metadata": {},
   "outputs": [
    {
     "name": "stdout",
     "output_type": "stream",
     "text": [
      "x = 5, type(x) = <class 'int'>\n",
      "x = hello, type(x) = <class 'str'>\n"
     ]
    }
   ],
   "source": [
    "# Initially, 'x' is assigned an integer value\n",
    "x = 5           # 'x' is now of type 'int' and holds the value 5\n",
    "\n",
    "# Printing the type of 'x' and its value\n",
    "print(f\"x = {x}, type(x) = {type(x)}\")  # Output: x = 5, type(x) = <class 'int'>\n",
    "\n",
    "# Now, 'x' is reassigned to a string value\n",
    "x = \"hello\"     # 'x' is now of type 'str' and holds the value \"hello\"\n",
    "\n",
    "# Printing the new type and value of 'x'\n",
    "print(f\"x = {x}, type(x) = {type(x)}\")  # Output: x = hello, type(x) = <class 'str'>\n",
    "\n",
    "# Summary:\n",
    "# - In Python, variables are dynamically typed. This means that the type of a variable is determined\n",
    "#   by the value assigned to it.\n",
    "# - A variable can change types throughout its lifecycle, as shown here. Initially, 'x' was an integer, \n",
    "#   and later it became a string.\n"
   ]
  },
  {
   "cell_type": "markdown",
   "metadata": {},
   "source": [
    "Multiple assignments"
   ]
  },
  {
   "cell_type": "code",
   "execution_count": 4,
   "metadata": {},
   "outputs": [
    {
     "name": "stdout",
     "output_type": "stream",
     "text": [
      "a = 1, b = 2, c = 3\n",
      "x = 0, y = 0, z = 0\n",
      "x is y: True\n",
      "y is z: True\n"
     ]
    }
   ],
   "source": [
    "# 1. Unpacking assignment: This allows you to assign values to multiple variables at once\n",
    "a, b, c = 1, 2, 3  # 'a' gets 1, 'b' gets 2, and 'c' gets 3\n",
    "\n",
    "# Printing the values of 'a', 'b', and 'c' after unpacking\n",
    "print(f\"a = {a}, b = {b}, c = {c}\")  # Output: a = 1, b = 2, c = 3\n",
    "\n",
    "# 2. Multiple assignment: This assigns the same value to multiple variables in one line\n",
    "x = y = z = 0  # 'x', 'y', and 'z' all point to the same object (0)\n",
    "\n",
    "# Printing the values of 'x', 'y', and 'z'\n",
    "print(f\"x = {x}, y = {y}, z = {z}\")  # Output: x = 0, y = 0, z = 0\n",
    "\n",
    "# Verifying if all three variables point to the same object in memory\n",
    "print(f\"x is y: {x is y}\")  # Output: True (all variables point to the same object)\n",
    "print(f\"y is z: {y is z}\")  # Output: True (all variables point to the same object)\n",
    "\n",
    "# Summary:\n",
    "# - **Unpacking**: When you unpack a tuple or list into variables, each variable gets its corresponding value.\n",
    "# - **Multiple assignment**: When you assign the same value to multiple variables in one line, they all refer to the same object in memory.\n",
    "#   - For example, in the case of immutable types (like integers), all three variables point to the same integer object (0).\n"
   ]
  },
  {
   "cell_type": "markdown",
   "metadata": {},
   "source": [
    "Variable scope\n",
    "- Local → inside a function.\n",
    "- Global → defined at top-level.\n",
    "- Nonlocal → refers to variable in enclosing function (not global)."
   ]
  },
  {
   "cell_type": "code",
   "execution_count": 6,
   "metadata": {},
   "outputs": [
    {
     "name": "stdout",
     "output_type": "stream",
     "text": [
      "num: 11, count: 1\n",
      "7\n",
      "1\n"
     ]
    }
   ],
   "source": [
    "# Global variable declaration\n",
    "count = 0  # Global variable, accessible throughout the entire program\n",
    "\n",
    "def outer():\n",
    "    # Enclosing (nonlocal) variable\n",
    "    num = 10  # num is in the enclosing scope (outer function)\n",
    "    \n",
    "    def inner():\n",
    "        # nonlocal keyword modifies a variable from the enclosing (but non-global) scope\n",
    "        nonlocal num  # Tells Python to use the num from the enclosing function (outer)\n",
    "        \n",
    "        # global keyword modifies a variable from the global scope\n",
    "        global count  # Tells Python to use the global variable 'count' defined outside this function\n",
    "        \n",
    "        # Modify num (from the enclosing scope) and count (from the global scope)\n",
    "        num += 1  # Increments num by 1\n",
    "        count += 1  # Increments the global count by 1\n",
    "        \n",
    "        # Print the modified values of num and count\n",
    "        print(f\"num: {num}, count: {count}\")  # This will print the updated values of num and count\n",
    "    \n",
    "    # Call the inner function\n",
    "    inner()\n",
    "\n",
    "# Call the outer function, which calls the inner function\n",
    "outer()  # Expected Output: num: 11, count: 1\n",
    "\n",
    "# ---- Explanation of Concepts ----\n",
    "# 1. `nonlocal`: Used to refer to a variable in the enclosing (but non-global) scope.\n",
    "#    - Example: When we use nonlocal num in the inner function, we are modifying num from the outer function.\n",
    "#    - When to use: Use `nonlocal` when you need to modify a variable in the enclosing scope (usually a parent function).\n",
    "#    - Pros: \n",
    "#       - Useful in closures or nested functions where inner functions need to modify variables from the outer function.\n",
    "#       - Avoids the creation of a new local variable in the inner function.\n",
    "#    - Cons:\n",
    "#       - Can make code harder to read if many nested functions are involved.\n",
    "#       - Can be confusing when you have several nested functions modifying the same variable.\n",
    "\n",
    "# 2. `global`: Used to refer to a variable in the global scope.\n",
    "#    - Example: When we use global count, we are modifying the global variable count.\n",
    "#    - When to use: Use `global` when you need to modify a variable defined in the global scope (outside any function).\n",
    "#    - Pros:\n",
    "#       - Easy to share state between multiple functions.\n",
    "#       - Simple to implement when you need a global state, like a counter or a configuration value.\n",
    "#    - Cons:\n",
    "#       - Makes code harder to maintain and debug as the state is shared across multiple functions.\n",
    "#       - May lead to unintended side effects since global variables can be modified from anywhere in the program.\n",
    "\n",
    "# ---- Additional Examples ----\n",
    "# Example of using `nonlocal` to modify a variable in the enclosing scope:\n",
    "def outer():\n",
    "    num = 5  # Variable in the enclosing scope\n",
    "    \n",
    "    def inner():\n",
    "        nonlocal num  # Refers to 'num' from the outer function\n",
    "        num += 2  # Modify 'num' from the outer function\n",
    "        return num  # Returns the modified value of 'num'\n",
    "    \n",
    "    return inner()\n",
    "\n",
    "print(outer())  # Output: 7 (num is modified by inner function)\n",
    "\n",
    "# Example of using `global` to modify a global variable:\n",
    "counter = 0  # Global variable\n",
    "\n",
    "def increment():\n",
    "    global counter  # Modify the global counter\n",
    "    counter += 1  # Increment the global counter by 1\n",
    "\n",
    "increment()  # Increment counter\n",
    "print(counter)  # Output: 1 (global counter has been incremented)\n",
    "\n",
    "# ---- Conclusion ----\n",
    "# - `nonlocal` is best used when you need to modify a variable from an enclosing scope (e.g., in nested functions or closures).\n",
    "# - `global` is useful when you need to modify a global variable, but it should be used cautiously to avoid unexpected behavior and side effects.\n",
    "# - Both keywords can lead to more complex code, so use them judiciously and understand their impact on your program's state.\n",
    "\n"
   ]
  },
  {
   "cell_type": "markdown",
   "metadata": {},
   "source": [
    "Constants\n",
    "- Python has no true constants.\n",
    "- Convention: use UPPERCASE."
   ]
  },
  {
   "cell_type": "code",
   "execution_count": null,
   "metadata": {},
   "outputs": [],
   "source": [
    "# Defining constants\n",
    "PI = 3.14159        # A constant representing the value of PI\n",
    "MAX_USERS = 100     # Maximum number of users allowed in the system"
   ]
  },
  {
   "cell_type": "markdown",
   "metadata": {},
   "source": [
    "Deleting variables"
   ]
  },
  {
   "cell_type": "code",
   "execution_count": 8,
   "metadata": {},
   "outputs": [],
   "source": [
    "x = 100        # Assigning the value 100 to the variable 'x'\n",
    "del x          # Deleting the variable 'x' from memory\n",
    "# print(x)     # ❌ NameError: name 'x' is not defined"
   ]
  },
  {
   "cell_type": "markdown",
   "metadata": {},
   "source": [
    "Mutable vs Immutable variables"
   ]
  },
  {
   "cell_type": "code",
   "execution_count": 10,
   "metadata": {},
   "outputs": [
    {
     "name": "stdout",
     "output_type": "stream",
     "text": [
      "hello\n",
      "hello world\n",
      "[1, 2, 3, 4]\n",
      "[1, 2, 3, 4]\n"
     ]
    }
   ],
   "source": [
    "# Immutable: Strings\n",
    "string1 = \"hello\"\n",
    "string2 = string1\n",
    "string2 += \" world\"   # This creates a new string object for 'string2'\n",
    "\n",
    "print(string1)  # \"hello\" (unchanged)\n",
    "print(string2)  # \"hello world\" (new object)\n",
    "\n",
    "# Mutable: List\n",
    "list1 = [1, 2, 3]\n",
    "list2 = list1\n",
    "list2.append(4)   # Modifies the original list object\n",
    "\n",
    "print(list1)  # [1, 2, 3, 4] (list is modified)\n",
    "print(list2)  # [1, 2, 3, 4] (same list object)\n"
   ]
  },
  {
   "cell_type": "markdown",
   "metadata": {},
   "source": [
    "Global vs local pitfalls"
   ]
  },
  {
   "cell_type": "code",
   "execution_count": 11,
   "metadata": {},
   "outputs": [
    {
     "name": "stdout",
     "output_type": "stream",
     "text": [
      "10\n"
     ]
    }
   ],
   "source": [
    "x = 5  # Global variable 'x' is defined outside of any function\n",
    "\n",
    "def change():\n",
    "    # print(x)  # ❌ This line will cause an error if uncommented!\n",
    "    global x  # Using the 'global' keyword tells Python that 'x' is the global variable\n",
    "    x = 10  # Modifies the global 'x' variable\n",
    "\n",
    "change()  # Calls the 'change' function\n",
    "print(x)  # Output: 10, the global 'x' has been modified by the 'change' function\n"
   ]
  },
  {
   "cell_type": "markdown",
   "metadata": {},
   "source": [
    "Special variables\n",
    "- _ → last evaluated expression in REPL.\n",
    "- __name__ → \"__main__\" when script runs directly.\n",
    "- __file__ → current file name."
   ]
  },
  {
   "cell_type": "code",
   "execution_count": 17,
   "metadata": {},
   "outputs": [
    {
     "name": "stdout",
     "output_type": "stream",
     "text": [
      "Last result: 15\n",
      "Running directly\n",
      "Script is run directly\n",
      "Current working directory: c:\\Users\\dhira\\Desktop\\GEN_AI_PROJECT\\notebooks\\01_datatypes\n",
      "Data file path: c:\\Users\\dhira\\Desktop\\GEN_AI_PROJECT\\notebooks\\01_datatypes\\data.txt\n"
     ]
    }
   ],
   "source": [
    "# Special variables in Python\n",
    "\n",
    "# 1. _ (Underscore): Last evaluated expression in REPL\n",
    "# In an interactive Python shell, _ holds the result of the last expression evaluated.\n",
    "# This is only available in the REPL (interactive shell). If you're using a regular script, this doesn't work.\n",
    "\n",
    "# Example:\n",
    "# In a REPL, you could do something like:\n",
    "# 5 + 10       # 15\n",
    "# _            # The last evaluated result is 15\n",
    "# _ * 2        # Reuse the last result, multiply by 2\n",
    "\n",
    "# But in a regular script, _ does not store the result automatically.\n",
    "# If you want to mimic this behavior in a script, you'd have to manually store results.\n",
    "\n",
    "last_result = 5 + 10\n",
    "print(\"Last result:\", last_result)  # This is equivalent to using _ in REPL.\n",
    "\n",
    "# 2. __name__: Script execution context\n",
    "# __name__ helps to distinguish if a script is being run directly or imported as a module.\n",
    "# It is set to \"__main__\" if the script is executed directly.\n",
    "\n",
    "# Example 1: If the script is run directly\n",
    "if __name__ == \"__main__\": \n",
    "    print(\"Running directly\")\n",
    "\n",
    "# Example 2: If the script is imported as a module\n",
    "# When this script is imported into another script, __name__ will be the name of the module (not \"__main__\").\n",
    "# This check prevents some code from being executed when the script is imported as a module.\n",
    "\n",
    "import sys\n",
    "if __name__ == \"__main__\": \n",
    "    print(\"Script is run directly\")\n",
    "else:\n",
    "    print(f\"Imported as {__name__} into another script\")\n",
    "\n",
    "# 3. __file__: Path to the current script file (only works in scripts, not in interactive environments like Jupyter)\n",
    "\n",
    "import os\n",
    "\n",
    "# In an interactive environment like Jupyter, __file__ won't work.\n",
    "# Instead, you can use the current working directory to mimic this behavior.\n",
    "\n",
    "current_dir = os.getcwd()  # Get the current working directory (instead of __file__)\n",
    "print(\"Current working directory:\", current_dir)\n",
    "\n",
    "# Example: Accessing a file relative to the current working directory\n",
    "data_file = os.path.join(current_dir, 'data.txt')  # This would look for a 'data.txt' file in the current directory.\n",
    "print(\"Data file path:\", data_file)\n",
    "\n",
    "# Summary of special variables:\n",
    "# - _ : Last evaluated result (useful in REPL but needs manual handling in regular scripts)\n",
    "# - __name__ : Identifies if script is run directly or imported\n",
    "# - __file__ : Path to the current script (not available in interactive environments, use os.getcwd() instead)\n"
   ]
  },
  {
   "cell_type": "markdown",
   "metadata": {},
   "source": [
    "### Practice Tasks"
   ]
  },
  {
   "cell_type": "markdown",
   "metadata": {},
   "source": [
    "Swap two variables without a temporary variable"
   ]
  },
  {
   "cell_type": "code",
   "execution_count": 18,
   "metadata": {},
   "outputs": [
    {
     "name": "stdout",
     "output_type": "stream",
     "text": [
      "a: 10, b: 5\n"
     ]
    }
   ],
   "source": [
    "# Swap two variables without using a temporary variable\n",
    "a = 5\n",
    "b = 10\n",
    "\n",
    "# Swapping\n",
    "a, b = b, a\n",
    "\n",
    "print(f\"a: {a}, b: {b}\")  # Output: a: 10, b: 5\n"
   ]
  },
  {
   "cell_type": "markdown",
   "metadata": {},
   "source": [
    "Write a function that modifies a global variable using global\n",
    " - In Python, you can modify a global variable inside a function using the global keyword."
   ]
  },
  {
   "cell_type": "code",
   "execution_count": 19,
   "metadata": {},
   "outputs": [
    {
     "name": "stdout",
     "output_type": "stream",
     "text": [
      "1\n"
     ]
    }
   ],
   "source": [
    "# Global variable\n",
    "count = 0\n",
    "\n",
    "# Function that modifies the global variable\n",
    "def increment():\n",
    "    global count  # Declare 'count' as global\n",
    "    count += 1\n",
    "\n",
    "increment()\n",
    "print(count)  # Output: 1\n"
   ]
  },
  {
   "cell_type": "markdown",
   "metadata": {},
   "source": [
    "Demonstrate the difference between mutable and immutable variable assignment\n",
    "- Immutable types (like int, str, tuple) cannot be changed after their creation.\n",
    "- Mutable types (like list, dict, set) can be changed in place."
   ]
  },
  {
   "cell_type": "code",
   "execution_count": 20,
   "metadata": {},
   "outputs": [
    {
     "name": "stdout",
     "output_type": "stream",
     "text": [
      "x: 10, y: 15\n",
      "lst1: [1, 2, 3, 4], lst2: [1, 2, 3, 4]\n"
     ]
    }
   ],
   "source": [
    "# Immutable example (int)\n",
    "x = 10\n",
    "y = x  # y points to the same object\n",
    "y += 5  # This creates a new object for 'y'\n",
    "print(f\"x: {x}, y: {y}\")  # Output: x: 10, y: 15\n",
    "\n",
    "# Mutable example (list)\n",
    "lst1 = [1, 2, 3]\n",
    "lst2 = lst1  # Both lst1 and lst2 point to the same list object\n",
    "lst2.append(4)  # Modify the list in place\n",
    "print(f\"lst1: {lst1}, lst2: {lst2}\")  # Output: lst1: [1, 2, 3, 4], lst2: [1, 2, 3, 4]\n"
   ]
  },
  {
   "cell_type": "markdown",
   "metadata": {},
   "source": [
    "Create a nested function that modifies a variable from the enclosing scope using nonlocal\n",
    "- The nonlocal keyword allows you to modify variables from the enclosing scope (not global, but outer function)."
   ]
  },
  {
   "cell_type": "code",
   "execution_count": 21,
   "metadata": {},
   "outputs": [
    {
     "name": "stdout",
     "output_type": "stream",
     "text": [
      "Modified num in outer: 15\n"
     ]
    }
   ],
   "source": [
    "# Nested function modifying variable from enclosing scope\n",
    "def outer():\n",
    "    num = 10  # Enclosing variable\n",
    "\n",
    "    def inner():\n",
    "        nonlocal num  # Access and modify the enclosing scope variable\n",
    "        num += 5\n",
    "\n",
    "    inner()\n",
    "    print(f\"Modified num in outer: {num}\")  # Output: 15\n",
    "\n",
    "outer()\n"
   ]
  },
  {
   "cell_type": "markdown",
   "metadata": {},
   "source": [
    "Delete a variable and handle the NameError gracefully\n",
    "- You can delete a variable using the del keyword, and you can catch the NameError using a try-except block."
   ]
  },
  {
   "cell_type": "code",
   "execution_count": 22,
   "metadata": {},
   "outputs": [
    {
     "name": "stdout",
     "output_type": "stream",
     "text": [
      "Error: name 'x' is not defined\n"
     ]
    }
   ],
   "source": [
    "# Deleting a variable\n",
    "x = 10\n",
    "del x\n",
    "\n",
    "try:\n",
    "    print(x)  # Trying to access a deleted variable\n",
    "except NameError as e:\n",
    "    print(f\"Error: {e}\")  # Output: Error: name 'x' is not defined\n"
   ]
  },
  {
   "cell_type": "markdown",
   "metadata": {},
   "source": [
    "Show why reusing built-in names (like list) is a bad practice\n",
    "- Reusing built-in names (like list, str, dict, etc.) can lead to unintended behavior because it overwrites the built-in type or function."
   ]
  },
  {
   "cell_type": "code",
   "execution_count": 23,
   "metadata": {},
   "outputs": [
    {
     "name": "stdout",
     "output_type": "stream",
     "text": [
      "Error: 'list' object is not callable\n"
     ]
    }
   ],
   "source": [
    "# Reusing built-in name 'list'\n",
    "list = [1, 2, 3]  # Reassigns the name 'list' to a list object\n",
    "\n",
    "# Now, trying to use 'list' as the built-in function won't work\n",
    "try:\n",
    "    new_list = list()  # This will raise an error since 'list' is now a list object, not the built-in function\n",
    "except TypeError as e:\n",
    "    print(f\"Error: {e}\")  # Output: Error: 'list' object is not callable\n"
   ]
  },
  {
   "cell_type": "code",
   "execution_count": 24,
   "metadata": {},
   "outputs": [
    {
     "name": "stdout",
     "output_type": "stream",
     "text": [
      "Swapped: a = 10, b = 5\n",
      "Global count: 1\n",
      "x: 10, y: 11\n",
      "lst1: [1, 2, 3], lst2: [1, 2, 3]\n",
      "Modified num in outer: 15\n",
      "Error: name 'x' is not defined\n",
      "Error: 'list' object is not callable\n"
     ]
    }
   ],
   "source": [
    "# 1. Swap two variables without a temporary variable\n",
    "a = 5\n",
    "b = 10\n",
    "a, b = b, a\n",
    "print(f\"Swapped: a = {a}, b = {b}\")  # Output: Swapped: a = 10, b = 5\n",
    "\n",
    "# 2. Modify a global variable using global\n",
    "count = 0\n",
    "def increment():\n",
    "    global count  # Declare 'count' as global\n",
    "    count += 1\n",
    "increment()\n",
    "print(f\"Global count: {count}\")  # Output: Global count: 1\n",
    "\n",
    "# 3. Demonstrate mutable vs immutable\n",
    "# Immutable\n",
    "x = 10\n",
    "y = x  # y points to the same object\n",
    "y += 1  # This creates a new object for 'y'\n",
    "print(f\"x: {x}, y: {y}\")  # Output: x: 10, y: 11\n",
    "\n",
    "# Mutable\n",
    "lst1 = [1, 2]\n",
    "lst2 = lst1\n",
    "lst2.append(3)\n",
    "print(f\"lst1: {lst1}, lst2: {lst2}\")  # Output: lst1: [1, 2, 3], lst2: [1, 2, 3]\n",
    "\n",
    "# 4. Nested function modifying enclosing variable using nonlocal\n",
    "def outer():\n",
    "    num = 10\n",
    "    def inner():\n",
    "        nonlocal num\n",
    "        num += 5\n",
    "    inner()\n",
    "    print(f\"Modified num in outer: {num}\")  # Output: Modified num in outer: 15\n",
    "\n",
    "outer()\n",
    "\n",
    "# 5. Delete variable and handle NameError gracefully\n",
    "x = 10\n",
    "del x\n",
    "try:\n",
    "    print(x)\n",
    "except NameError as e:\n",
    "    print(f\"Error: {e}\")  # Output: Error: name 'x' is not defined\n",
    "\n",
    "# 6. Reusing built-in names\n",
    "list = [1, 2, 3]\n",
    "try:\n",
    "    new_list = list()  # This will raise an error\n",
    "except TypeError as e:\n",
    "    print(f\"Error: {e}\")  # Output: Error: 'list' object is not callable\n"
   ]
  },
  {
   "cell_type": "code",
   "execution_count": null,
   "metadata": {},
   "outputs": [],
   "source": []
  }
 ],
 "metadata": {
  "kernelspec": {
   "display_name": "Python 3",
   "language": "python",
   "name": "python3"
  },
  "language_info": {
   "codemirror_mode": {
    "name": "ipython",
    "version": 3
   },
   "file_extension": ".py",
   "mimetype": "text/x-python",
   "name": "python",
   "nbconvert_exporter": "python",
   "pygments_lexer": "ipython3",
   "version": "3.12.11"
  }
 },
 "nbformat": 4,
 "nbformat_minor": 5
}
