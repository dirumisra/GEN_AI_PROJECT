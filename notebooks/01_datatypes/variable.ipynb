{
 "cells": [
  {
   "cell_type": "markdown",
   "id": "357fd503",
   "metadata": {},
   "source": [
    "#### Variables in Python\n",
    "- Definition: A variable is a named location used to store data in memory."
   ]
  },
  {
   "cell_type": "code",
   "execution_count": null,
   "id": "264162c5",
   "metadata": {},
   "outputs": [],
   "source": []
  },
  {
   "cell_type": "code",
   "execution_count": null,
   "id": "bb74371e",
   "metadata": {},
   "outputs": [],
   "source": []
  },
  {
   "cell_type": "code",
   "execution_count": null,
   "id": "eee5b360",
   "metadata": {},
   "outputs": [],
   "source": []
  },
  {
   "cell_type": "markdown",
   "id": "5839ee57",
   "metadata": {},
   "source": [
    "#### Variable Naming Rules\n",
    "\n",
    "- Must start with a letter or underscore (_)\n",
    "- Can contain letters, numbers, and underscores\n",
    "- Case sensitive (myVar ≠ myvar)\n",
    "- Cannot use Python keywords"
   ]
  },
  {
   "cell_type": "markdown",
   "id": "d89d50c1",
   "metadata": {},
   "source": []
  },
  {
   "cell_type": "code",
   "execution_count": null,
   "id": "80c0efc5",
   "metadata": {},
   "outputs": [],
   "source": []
  },
  {
   "cell_type": "code",
   "execution_count": null,
   "id": "e2a64bb9",
   "metadata": {},
   "outputs": [],
   "source": []
  },
  {
   "cell_type": "code",
   "execution_count": null,
   "id": "151cb4d5",
   "metadata": {},
   "outputs": [],
   "source": []
  },
  {
   "cell_type": "markdown",
   "id": "ca74962c",
   "metadata": {},
   "source": [
    "#### Assigning Values to Variables\n",
    "\n",
    "- Single assignment: a = 5\n",
    "- Multiple assignment: a, b = 10, 20"
   ]
  },
  {
   "cell_type": "code",
   "execution_count": null,
   "id": "93878a5c",
   "metadata": {},
   "outputs": [],
   "source": []
  },
  {
   "cell_type": "code",
   "execution_count": null,
   "id": "96196476",
   "metadata": {},
   "outputs": [],
   "source": []
  },
  {
   "cell_type": "code",
   "execution_count": null,
   "id": "cb4b9c36",
   "metadata": {},
   "outputs": [],
   "source": []
  },
  {
   "cell_type": "markdown",
   "id": "e8eb9530",
   "metadata": {},
   "source": [
    "### Variable Types (Dynamic Typing)\n",
    "- Variables can hold data of any type, and type can change dynamically."
   ]
  },
  {
   "cell_type": "code",
   "execution_count": null,
   "id": "84677131",
   "metadata": {},
   "outputs": [],
   "source": []
  },
  {
   "cell_type": "code",
   "execution_count": null,
   "id": "3faa3b14",
   "metadata": {},
   "outputs": [],
   "source": []
  },
  {
   "cell_type": "markdown",
   "id": "b25988ee",
   "metadata": {},
   "source": [
    "#### Constants (by convention)\n",
    "\n",
    "- Python does not have true constants, but uppercase variable names are used to indicate constants.\n",
    "- Example: PI = 3.14159"
   ]
  },
  {
   "cell_type": "markdown",
   "id": "8c1f8846",
   "metadata": {},
   "source": []
  },
  {
   "cell_type": "code",
   "execution_count": null,
   "id": "afedc63b",
   "metadata": {},
   "outputs": [],
   "source": []
  },
  {
   "cell_type": "code",
   "execution_count": null,
   "id": "14df403c",
   "metadata": {},
   "outputs": [],
   "source": []
  },
  {
   "cell_type": "markdown",
   "id": "d01aa4c0",
   "metadata": {},
   "source": [
    "#### Best Practices\n",
    "\n",
    "- Use meaningful variable names.\n",
    "- Avoid single letter variables except in loops or simple counters.\n",
    "- Use snake_case for variable names (e.g., user_name)."
   ]
  },
  {
   "cell_type": "markdown",
   "id": "b393f15c",
   "metadata": {},
   "source": []
  },
  {
   "cell_type": "code",
   "execution_count": null,
   "id": "31c0a0a3",
   "metadata": {},
   "outputs": [],
   "source": []
  },
  {
   "cell_type": "markdown",
   "id": "0bbb605e",
   "metadata": {},
   "source": [
    "#### Exercises\n",
    "\n",
    "- Create variables of different types.\n",
    "- Try reassigning variables.\n",
    "- Test invalid variable names."
   ]
  }
 ],
 "metadata": {
  "kernelspec": {
   "display_name": "Python 3",
   "language": "python",
   "name": "python3"
  },
  "language_info": {
   "codemirror_mode": {
    "name": "ipython",
    "version": 3
   },
   "file_extension": ".py",
   "mimetype": "text/x-python",
   "name": "python",
   "nbconvert_exporter": "python",
   "pygments_lexer": "ipython3",
   "version": "3.12.11"
  }
 },
 "nbformat": 4,
 "nbformat_minor": 5
}
