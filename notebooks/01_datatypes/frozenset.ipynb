{
 "cells": [
  {
   "cell_type": "markdown",
   "metadata": {},
   "source": [
    "# IFrozen sets (immutable sets)"
   ]
  },
  {
   "cell_type": "code",
   "execution_count": 3,
   "id": "b3ca20be",
   "metadata": {},
   "outputs": [
    {
     "name": "stdout",
     "output_type": "stream",
     "text": [
      "frozenset({1, 2, 3})\n",
      "{frozenset({1, 2, 3}): 'immutable'}\n"
     ]
    }
   ],
   "source": [
    "# Creating a frozenset (an immutable set)\n",
    "fs = frozenset([1, 2, 3])\n",
    "\n",
    "# Trying to add an element will raise an error because frozensets are immutable\n",
    "# fs.add(4)               # ❌ AttributeError: 'frozenset' object has no attribute 'add'\n",
    "\n",
    "print(fs)                 # Output: frozenset({1, 2, 3})\n",
    "\n",
    "# --- Use case: frozensets can be used as dictionary keys or elements of sets ---\n",
    "# Because they are immutable and hashable, unlike regular sets\n",
    "\n",
    "d = {fs: \"immutable\"}\n",
    "print(d)                  # Output: {frozenset({1, 2, 3}): 'immutable'}\n"
   ]
  },
  {
   "cell_type": "code",
   "execution_count": null,
   "id": "b2b2c708",
   "metadata": {},
   "outputs": [],
   "source": [
    "lst = [1,2,3,4,]\n",
    "\n",
    "un = set(lst)\n",
    "\n",
    "\n",
    "lstb = list(un)"
   ]
  },
  {
   "cell_type": "code",
   "execution_count": null,
   "id": "d47746c8",
   "metadata": {},
   "outputs": [],
   "source": []
  }
 ],
 "metadata": {
  "kernelspec": {
   "display_name": "Python 3",
   "language": "python",
   "name": "python3"
  },
  "language_info": {
   "codemirror_mode": {
    "name": "ipython",
    "version": 3
   },
   "file_extension": ".py",
   "mimetype": "text/x-python",
   "name": "python",
   "nbconvert_exporter": "python",
   "pygments_lexer": "ipython3",
   "version": "3.12.11"
  }
 },
 "nbformat": 4,
 "nbformat_minor": 5
}
