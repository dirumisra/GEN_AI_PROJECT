{
 "cells": [
  {
   "cell_type": "markdown",
   "metadata": {},
   "source": [
    "# 🐍 Python Numeric Types — Complete Guide"
   ]
  },
  {
   "cell_type": "markdown",
   "id": "98abc279",
   "metadata": {},
   "source": [
    "Integers (int)\n",
    "- Whole numbers (positive, negative, zero).\n",
    "- In Python, integers have unlimited precision (only limited by memory).\n",
    "- Supports binary, octal, hex literals."
   ]
  },
  {
   "cell_type": "code",
   "execution_count": 1,
   "id": "191388e8",
   "metadata": {},
   "outputs": [
    {
     "name": "stdout",
     "output_type": "stream",
     "text": [
      "99999999999999999999999999980000000000000000000000000001\n",
      "10 10 10\n"
     ]
    }
   ],
   "source": [
    "# --- Basic integers ---\n",
    "a = 42         # A normal positive integer\n",
    "b = -17        # A negative integer\n",
    "zero = 0       # Zero\n",
    "\n",
    "# You can do all standard arithmetic operations with these\n",
    "# e.g., a + b → 42 + (-17) = 25\n",
    "\n",
    "# --- Arbitrary precision ---\n",
    "# Python integers have arbitrary precision, meaning they can grow as big as needed\n",
    "big = 9999999999999999999999999999  # Very large number\n",
    "print(big * big)  # No overflow; Python handles huge integers automatically\n",
    "\n",
    "# Output: 99999999999999999999999999980000000000000000000000000001\n",
    "\n",
    "# In languages like C or Java, this might overflow unless you use special types\n",
    "# In Python, integers automatically switch from fixed-size to big integer under the hood\n",
    "\n",
    "# --- Different bases ---\n",
    "\n",
    "# Binary (base 2) - prefix with 0b\n",
    "bin_num = 0b1010      # Equals 10 in decimal\n",
    "\n",
    "# Octal (base 8) - prefix with 0o\n",
    "oct_num = 0o12        # Equals 10 in decimal (1*8 + 2)\n",
    "\n",
    "# Hexadecimal (base 16) - prefix with 0x\n",
    "hex_num = 0xA         # Equals 10 in decimal\n",
    "\n",
    "print(bin_num, oct_num, hex_num)  # Output: 10 10 10\n"
   ]
  },
  {
   "cell_type": "markdown",
   "id": "03248297",
   "metadata": {},
   "source": [
    "Floats (float)\n",
    "- Represent real numbers with decimal points (IEEE 754 double precision).\n",
    "- Approximate → can’t always represent decimals exactly.\n",
    "- Supports scientific notation."
   ]
  },
  {
   "cell_type": "code",
   "execution_count": 4,
   "id": "2e3f9b5d",
   "metadata": {},
   "outputs": [
    {
     "name": "stdout",
     "output_type": "stream",
     "text": [
      "12300.0\n",
      "0.3\n"
     ]
    }
   ],
   "source": [
    "# --- Floats (floating-point numbers) ---\n",
    "pi = 3.14159           # Standard float (approximation of π)\n",
    "neg = -2.5             # Negative float\n",
    "sci = 1.23e4           # Scientific notation: 1.23 × 10^4 → 12300.0\n",
    "\n",
    "print(sci)             # Output: 12300.0\n",
    "\n",
    "# --- Decimal module for exact decimal arithmetic ---\n",
    "from decimal import Decimal\n",
    "print(Decimal(\"0.1\") + Decimal(\"0.2\"))   # 0.3 (exact)"
   ]
  },
  {
   "cell_type": "markdown",
   "id": "46853639",
   "metadata": {},
   "source": [
    "Complex Numbers (complex)\n",
    "- Form: a + bj (j = imaginary unit).\n",
    "- real and imag attributes.\n",
    "- Built-in support for math operations."
   ]
  },
  {
   "cell_type": "code",
   "execution_count": 8,
   "id": "f3b547f5",
   "metadata": {},
   "outputs": [
    {
     "name": "stdout",
     "output_type": "stream",
     "text": [
      "Real part of z1: 2.0\n",
      "Imag part of z1: 3.0\n",
      "Addition (z1 + z2): (3-1j)\n",
      "Multiplication (z1 * z2): (14-5j)\n",
      "Magnitude |z1|: 3.605551275463989\n",
      "z3 from complex(): (5-2j)\n"
     ]
    }
   ],
   "source": [
    "# --- Complex Numbers in Python ---\n",
    "\n",
    "z1 = 2 + 3j\n",
    "z2 = 1 - 4j\n",
    "\n",
    "# --- Attributes ---\n",
    "print(\"Real part of z1:\", z1.real)    # 2.0\n",
    "print(\"Imag part of z1:\", z1.imag)    # 3.0\n",
    "\n",
    "# --- Operations ---\n",
    "print(\"Addition (z1 + z2):\", z1 + z2)      # (3 - 1j)\n",
    "print(\"Multiplication (z1 * z2):\", z1 * z2)  # (14 - 5j)\n",
    "print(\"Magnitude |z1|:\", abs(z1))         # sqrt(2^2 + 3^2) = 3.60555...\n",
    "\n",
    "# --- Using complex() constructor ---\n",
    "z3 = complex(5, -2)\n",
    "print(\"z3 from complex():\", z3)         # (5 - 2j)\n"
   ]
  },
  {
   "cell_type": "markdown",
   "id": "5963b1c8",
   "metadata": {},
   "source": [
    "Booleans (bool)\n",
    "- Subclass of int.\n",
    "- Only two values: True, False.\n",
    "- Internally → True == 1, False == 0."
   ]
  },
  {
   "cell_type": "code",
   "execution_count": 10,
   "id": "47619aa3",
   "metadata": {},
   "outputs": [
    {
     "name": "stdout",
     "output_type": "stream",
     "text": [
      "True\n",
      "2\n",
      "0\n",
      "True\n",
      "False\n"
     ]
    }
   ],
   "source": [
    "flag = True\n",
    "\n",
    "# --- Type checking ---\n",
    "print(isinstance(flag, bool))   # ✅ True — 'flag' is a boolean value\n",
    "# bool is a subclass of int, so isinstance(flag, int) is also True\n",
    "\n",
    "# --- Boolean arithmetic (since bool is a subclass of int) ---\n",
    "print(True + True)              # ✅ 2 → True is treated as 1\n",
    "print(False * 10)               # ✅ 0 → False is treated as 0\n",
    "\n",
    "# This allows simple tricks like:\n",
    "# sum([True, False, True]) → 2\n",
    "\n",
    "# --- Comparisons produce boolean values ---\n",
    "print(5 > 3)        # ✅ True\n",
    "print(2 == 3)       # ✅ False\n",
    "# Any expression using >, <, ==, !=, etc. returns a bool"
   ]
  },
  {
   "cell_type": "markdown",
   "id": "808bc732",
   "metadata": {},
   "source": [
    "#### Type conversions"
   ]
  },
  {
   "cell_type": "code",
   "execution_count": 12,
   "id": "68f9bdf4",
   "metadata": {},
   "outputs": [
    {
     "name": "stdout",
     "output_type": "stream",
     "text": [
      "True\n",
      "2\n",
      "0\n",
      "True\n",
      "False\n"
     ]
    }
   ],
   "source": [
    "# --- Boolean Basics in Python ---\n",
    "\n",
    "flag = True                      # Boolean value (can be True or False)\n",
    "\n",
    "# --- Type Checking ---\n",
    "print(isinstance(flag, bool))   # True\n",
    "# 'flag' is a boolean — True\n",
    "# Note: bool is a subclass of int, so:\n",
    "# isinstance(flag, int) would also return True\n",
    "\n",
    "# --- Boolean Arithmetic ---\n",
    "print(True + True)              # 2\n",
    "# True is treated as 1, so 1 + 1 = 2\n",
    "\n",
    "print(False * 10)               # 0\n",
    "# False is treated as 0, so 0 * 10 = 0\n",
    "\n",
    "# This works because:\n",
    "# bool is a subclass of int → True == 1, False == 0\n",
    "\n",
    "# --- Comparisons produce bools ---\n",
    "print(5 > 3)        # True  → because 5 is greater than 3\n",
    "print(2 == 3)       # False → because 2 is not equal to 3\n",
    "\n",
    "# These expressions return boolean values (True or False)\n"
   ]
  },
  {
   "cell_type": "markdown",
   "id": "f6890f8c",
   "metadata": {},
   "source": [
    "#### Built-in functions with numbers\n"
   ]
  },
  {
   "cell_type": "code",
   "execution_count": 13,
   "id": "5058636d",
   "metadata": {},
   "outputs": [
    {
     "name": "stdout",
     "output_type": "stream",
     "text": [
      "4\n",
      "11\n",
      "-7\n",
      "10\n",
      "7\n",
      "8\n",
      "(3, 2)\n"
     ]
    }
   ],
   "source": [
    "# --- Built-in Numeric Functions in Python ---\n",
    "\n",
    "nums = [3, -7, 5, 10]\n",
    "\n",
    "print(len(nums))         # 4\n",
    "# Returns the number of elements in the list\n",
    "\n",
    "print(sum(nums))         # 11\n",
    "# Adds all numbers: 3 + (-7) + 5 + 10 = 11\n",
    "\n",
    "print(min(nums))         # -7\n",
    "# Returns the smallest number in the list\n",
    "\n",
    "print(max(nums))         # 10\n",
    "# Returns the largest number in the list\n",
    "\n",
    "print(abs(-7))           # 7\n",
    "# Absolute value (removes the minus sign)\n",
    "\n",
    "print(pow(2, 3))         # 8\n",
    "# 2 raised to the power 3 → 2**3 = 8\n",
    "\n",
    "print(divmod(17, 5))     # (3, 2)\n",
    "# Returns a tuple: (quotient, remainder)\n",
    "# 17 divided by 5 → 3 remainder 2\n"
   ]
  },
  {
   "cell_type": "markdown",
   "id": "a6b0f9a3",
   "metadata": {},
   "source": [
    "#### Math module (extra functionality)"
   ]
  },
  {
   "cell_type": "code",
   "execution_count": 14,
   "id": "15aa4f48",
   "metadata": {},
   "outputs": [
    {
     "name": "stdout",
     "output_type": "stream",
     "text": [
      "4.0\n",
      "120\n",
      "3\n",
      "4\n",
      "12\n",
      "True\n"
     ]
    }
   ],
   "source": [
    "import math\n",
    "\n",
    "# --- math module functions ---\n",
    "\n",
    "print(math.sqrt(16))       # 4.0\n",
    "# Square root of 16\n",
    "\n",
    "print(math.factorial(5))   # 120\n",
    "# 5! = 5 × 4 × 3 × 2 × 1\n",
    "\n",
    "print(math.floor(3.7))     # 3\n",
    "# Rounds down to the nearest whole number\n",
    "\n",
    "print(math.ceil(3.1))      # 4\n",
    "# Rounds up to the nearest whole number\n",
    "\n",
    "print(math.gcd(24, 36))    # 12\n",
    "# Greatest common divisor of 24 and 36\n",
    "\n",
    "print(math.isclose(0.1 + 0.2, 0.3))  # True\n",
    "# Returns True if numbers are close within a small tolerance\n",
    "# Useful for comparing floats with potential rounding errors\n"
   ]
  },
  {
   "cell_type": "markdown",
   "id": "93ebd5ed",
   "metadata": {},
   "source": [
    "#### Random module (useful in practice)"
   ]
  },
  {
   "cell_type": "code",
   "execution_count": 15,
   "id": "696c0ac5",
   "metadata": {},
   "outputs": [
    {
     "name": "stdout",
     "output_type": "stream",
     "text": [
      "0.7541442940701982\n",
      "2\n",
      "10\n",
      "[9, 98, 88, 34, 62]\n"
     ]
    }
   ],
   "source": [
    "import random\n",
    "\n",
    "# --- Generate random float in [0.0, 1.0) ---\n",
    "print(random.random())       \n",
    "# Example output: 0.37444887175646646\n",
    "# Returns a random float >= 0 and < 1\n",
    "\n",
    "# --- Generate random integer between two endpoints (inclusive) ---\n",
    "print(random.randint(1, 6))  \n",
    "# Example output: 4\n",
    "# Returns an integer N such that 1 <= N <= 6\n",
    "\n",
    "# --- Pick a random element from a list ---\n",
    "print(random.choice([10, 20, 30]))  \n",
    "# Example output: 20\n",
    "# Randomly selects one item from the given list\n",
    "\n",
    "# --- Pick multiple unique random elements from a sequence ---\n",
    "print(random.sample(range(100), 5))  \n",
    "# Example output: [5, 23, 54, 17, 92]\n",
    "# Randomly picks 5 unique numbers from 0 to 99\n"
   ]
  },
  {
   "cell_type": "markdown",
   "id": "203e8c28",
   "metadata": {},
   "source": [
    "#### Pitfalls"
   ]
  },
  {
   "cell_type": "code",
   "execution_count": 16,
   "id": "ceed13f5",
   "metadata": {},
   "outputs": [
    {
     "name": "stdout",
     "output_type": "stream",
     "text": [
      "2.5\n",
      "2\n",
      "False\n",
      "3\n",
      "1001\n"
     ]
    }
   ],
   "source": [
    "# --- 1. Division behavior ---\n",
    "print(5 / 2)       # 2.5\n",
    "# Standard division (/) always returns a float, even if it divides evenly\n",
    "\n",
    "print(5 // 2)      # 2\n",
    "# Floor division (//) returns the integer quotient by rounding down\n",
    "\n",
    "# --- 2. Floats are not exact due to binary representation ---\n",
    "print(0.1 + 0.2 == 0.3)   # False\n",
    "# Because of floating-point precision issues, this equality check fails\n",
    "# Use math.isclose() or decimal.Decimal for accurate comparisons\n",
    "\n",
    "# --- 3. Casting errors with int() ---\n",
    "# int(\"3.14\")      # ❌ Raises ValueError\n",
    "# int() requires a string representing a whole number (no decimals)\n",
    "# Correct way:\n",
    "print(int(float(\"3.14\")))  # 3\n",
    "\n",
    "# --- 4. Large integers are supported but slower ---\n",
    "big = 10**1000\n",
    "print(len(str(big)))      # 1001 digits\n",
    "# Python handles arbitrarily large integers without overflow\n",
    "# But operations on huge integers are slower than on small ints"
   ]
  },
  {
   "cell_type": "markdown",
   "id": "871e4f1a",
   "metadata": {},
   "source": [
    "#### Practice Tasks"
   ]
  },
  {
   "cell_type": "code",
   "execution_count": 17,
   "id": "318b615d",
   "metadata": {},
   "outputs": [
    {
     "name": "stdout",
     "output_type": "stream",
     "text": [
      "Recursive factorial(5): 120\n",
      "math.factorial(5): 120\n",
      "True\n",
      "Sum: 12, Min: -20, Max: 15, Average: 2.40\n",
      "Positives: 3, Negatives: 1\n",
      "Lottery numbers: [27, 49, 34, 42, 14]\n",
      "Sum: (6+2j)\n",
      "Product: (11+10j)\n",
      "Magnitude of z1: 3.61\n",
      "Magnitude of z2: 4.12\n",
      "25°C in Fahrenheit: 77.0\n",
      "Is 29 prime? True\n",
      "Is 100 prime? False\n"
     ]
    }
   ],
   "source": [
    "import math\n",
    "import random\n",
    "\n",
    "# 1. Factorial: using math.factorial and recursion\n",
    "def factorial_recursive(n):\n",
    "    if n == 0 or n == 1:\n",
    "        return 1\n",
    "    else:\n",
    "        return n * factorial_recursive(n - 1)\n",
    "\n",
    "def factorial_math(n):\n",
    "    return math.factorial(n)\n",
    "\n",
    "print(f\"Recursive factorial(5): {factorial_recursive(5)}\")\n",
    "print(f\"math.factorial(5): {factorial_math(5)}\")\n",
    "\n",
    "# 2. Safely check if two floats are approximately equal\n",
    "def floats_approx_equal(a, b, rel_tol=1e-9, abs_tol=0.0):\n",
    "    return math.isclose(a, b, rel_tol=rel_tol, abs_tol=abs_tol)\n",
    "\n",
    "print(floats_approx_equal(0.1 + 0.2, 0.3))  # True\n",
    "\n",
    "# 3. Given nums list:\n",
    "nums = [10, -20, 15, 0, 7]\n",
    "\n",
    "total_sum = sum(nums)\n",
    "minimum = min(nums)\n",
    "maximum = max(nums)\n",
    "average = total_sum / len(nums)\n",
    "\n",
    "positives = sum(1 for x in nums if x > 0)\n",
    "negatives = sum(1 for x in nums if x < 0)\n",
    "\n",
    "print(f\"Sum: {total_sum}, Min: {minimum}, Max: {maximum}, Average: {average:.2f}\")\n",
    "print(f\"Positives: {positives}, Negatives: {negatives}\")\n",
    "\n",
    "# 4. Generate 5 unique random lottery numbers between 1 and 50\n",
    "lottery_numbers = random.sample(range(1, 51), 5)\n",
    "print(f\"Lottery numbers: {lottery_numbers}\")\n",
    "\n",
    "# 5. Complex numbers: create, sum, product, magnitude\n",
    "z1 = complex(2, 3)\n",
    "z2 = complex(4, -1)\n",
    "\n",
    "print(f\"Sum: {z1 + z2}\")\n",
    "print(f\"Product: {z1 * z2}\")\n",
    "print(f\"Magnitude of z1: {abs(z1):.2f}\")\n",
    "print(f\"Magnitude of z2: {abs(z2):.2f}\")\n",
    "\n",
    "# 6. Celsius to Fahrenheit with rounding\n",
    "def celsius_to_fahrenheit(c):\n",
    "    f = (c * 9/5) + 32\n",
    "    return round(f, 2)\n",
    "\n",
    "print(f\"25°C in Fahrenheit: {celsius_to_fahrenheit(25)}\")\n",
    "\n",
    "# 7. Efficient is_prime using math.sqrt\n",
    "def is_prime(n):\n",
    "    if n <= 1:\n",
    "        return False\n",
    "    if n <= 3:\n",
    "        return True\n",
    "    if n % 2 == 0 or n % 3 == 0:\n",
    "        return False\n",
    "\n",
    "    # Only test up to sqrt(n), check numbers of form 6k ± 1\n",
    "    limit = int(math.sqrt(n)) + 1\n",
    "    for i in range(5, limit, 6):\n",
    "        if n % i == 0 or n % (i + 2) == 0:\n",
    "            return False\n",
    "    return True\n",
    "\n",
    "print(f\"Is 29 prime? {is_prime(29)}\")\n",
    "print(f\"Is 100 prime? {is_prime(100)}\")\n"
   ]
  },
  {
   "cell_type": "code",
   "execution_count": null,
   "id": "e19c2998",
   "metadata": {},
   "outputs": [],
   "source": []
  }
 ],
 "metadata": {
  "kernelspec": {
   "display_name": "Python 3",
   "language": "python",
   "name": "python3"
  },
  "language_info": {
   "codemirror_mode": {
    "name": "ipython",
    "version": 3
   },
   "file_extension": ".py",
   "mimetype": "text/x-python",
   "name": "python",
   "nbconvert_exporter": "python",
   "pygments_lexer": "ipython3",
   "version": "3.12.11"
  }
 },
 "nbformat": 4,
 "nbformat_minor": 5
}
