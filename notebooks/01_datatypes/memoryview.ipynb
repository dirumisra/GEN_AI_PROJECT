{
 "cells": [
  {
   "cell_type": "markdown",
   "id": "2423dc58",
   "metadata": {},
   "source": [
    "# memoryview — zero-copy views over binary data\n",
    "- Lets you slice and share views of an existing bytes-like object without copying.\n",
    "- Big performance win for large files/buffers."
   ]
  },
  {
   "cell_type": "markdown",
   "id": "b3a6ba6c",
   "metadata": {},
   "source": [
    "#### Creating & slicing a view"
   ]
  },
  {
   "cell_type": "code",
   "execution_count": 1,
   "id": "737900ce",
   "metadata": {},
   "outputs": [
    {
     "name": "stdout",
     "output_type": "stream",
     "text": [
      "<memory at 0x000001C7F65559C0>\n",
      "b'CDEFG'\n",
      "bytearray(b'ABXDEFGHIJ')\n"
     ]
    }
   ],
   "source": [
    "# --- 1. Create a bytearray (mutable backing buffer) ---\n",
    "data = bytearray(b\"ABCDEFGHIJ\")   # A mutable bytearray object (b'ABCDEFGHIJ')\n",
    "\n",
    "# --- 2. Create a memoryview (no copy) ---\n",
    "mv = memoryview(data)             # A memoryview object (views the bytearray without copying it)\n",
    "print(mv)  # Output: <memory at 0x7f8d40056c40>\n",
    "\n",
    "# --- 3. Slice the memoryview (viewing part of the data) ---\n",
    "slice_mv = mv[2:7]                # View a slice of the bytearray (bytes 'CDEFG')\n",
    "print(bytes(slice_mv))            # Materialize the slice as bytes for printing\n",
    "# Output: b'CDEFG'\n",
    "\n",
    "# --- 4. Mutating through the view affects the original bytearray ---\n",
    "slice_mv[0] = ord('X')            # Change the first byte ('C') to 'X'\n",
    "print(data)                       # The original bytearray is modified\n",
    "# Output: bytearray(b'ABXDEFGHIJ')\n"
   ]
  },
  {
   "cell_type": "markdown",
   "id": "847a0070",
   "metadata": {},
   "source": [
    "#### Casting (advanced; for structured binary)"
   ]
  },
  {
   "cell_type": "code",
   "execution_count": 8,
   "id": "173521e6",
   "metadata": {},
   "outputs": [
    {
     "name": "stdout",
     "output_type": "stream",
     "text": [
      "[0, 1, 2, 3, 4, 5]\n",
      "File 'large_file.bin' not found!\n",
      "File 'large_file.bin' not found!\n",
      "[256, 770, 1284]\n"
     ]
    }
   ],
   "source": [
    "# --- 1. Create a bytearray and memoryview ---\n",
    "mv = memoryview(bytearray([0, 1, 2, 3, 4, 5]))  # Creating a memoryview over a bytearray\n",
    "# The bytearray contains [0, 1, 2, 3, 4, 5]\n",
    "\n",
    "# --- 2. Cast memoryview to unsigned bytes ('B') ---\n",
    "mv_u8 = mv.cast('B')  # View as unsigned bytes ('B' format code in struct)\n",
    "print(list(mv_u8))  # Output: [0, 1, 2, 3, 4, 5]\n",
    "\n",
    "# --- Example: Reading a large binary file ---\n",
    "try:\n",
    "    with open(\"large_file.bin\", \"rb\") as f:\n",
    "        data = f.read()  # Read the entire file as bytes\n",
    "        mv = memoryview(data)  # Create a memoryview (no copy)\n",
    "\n",
    "        # Now you can slice the memoryview to process parts of the data\n",
    "        slice_mv = mv[100:200]  # View bytes from index 100 to 199\n",
    "        print(bytes(slice_mv))  # Print this slice as bytes\n",
    "except FileNotFoundError:\n",
    "    print(\"File 'large_file.bin' not found!\")\n",
    "\n",
    "# --- Why Use memoryview? ---\n",
    "# 1. **Memory Efficiency**: `memoryview` does not copy the data, it provides access to the original data.\n",
    "# 2. **Performance**: It avoids memory copies, improving speed when working with large files or data.\n",
    "# 3. **Efficient Slicing**: You can slice data without allocating new memory, and it gives direct access to the data.\n",
    "\n",
    "# --- Example of partial file processing ---\n",
    "chunk_size = 1024  # 1 KB chunks\n",
    "try:\n",
    "    with open(\"large_file.bin\", \"rb\") as f:\n",
    "        # Traditional method if walrus operator isn't supported\n",
    "        chunk = f.read(chunk_size)\n",
    "        while chunk:\n",
    "            mv = memoryview(chunk)  # Create a memoryview for each chunk\n",
    "            slice_mv = mv[100:200]  # Process part of each chunk\n",
    "            print(bytes(slice_mv))\n",
    "            chunk = f.read(chunk_size)  # Read the next chunk\n",
    "except FileNotFoundError:\n",
    "    print(\"File 'large_file.bin' not found!\")\n",
    "\n",
    "# --- Casting and Processing ---\n",
    "# You can also cast the memoryview to different types (e.g., 2-byte integers):\n",
    "mv_int16 = mv.cast('h')  # View as 2-byte signed short integers\n",
    "print(list(mv_int16))  # Print as 2-byte integers"
   ]
  },
  {
   "cell_type": "markdown",
   "id": "b7fcf50e",
   "metadata": {},
   "source": [
    "# Text ↔ Bytes (encodings) — super important"
   ]
  },
  {
   "cell_type": "code",
   "execution_count": 12,
   "id": "daa1501d",
   "metadata": {},
   "outputs": [
    {
     "name": "stdout",
     "output_type": "stream",
     "text": [
      "b'Caf\\xc3\\xa9'\n",
      "Café\n",
      "Encoding error: 'ascii' codec can't encode character '\\xe9' in position 3: ordinal not in range(128)\n",
      "Café\n",
      "Café\n"
     ]
    }
   ],
   "source": [
    "# --- Text (str) → Bytes: encode() ---\n",
    "s = \"Café\"  # A string containing special characters (like 'é')\n",
    "# Encoding the string 's' into bytes using UTF-8 encoding\n",
    "b = s.encode(\"utf-8\")  # The result is a bytes object: b'Caf\\xc3\\xa9'\n",
    "# UTF-8 encoding converts the character 'é' to the byte sequence '\\xc3\\xa9'.\n",
    "print(b)  # Output: b'Caf\\xc3\\xa9'\n",
    "\n",
    "# --- Bytes → Text: decode() ---\n",
    "# Now, we want to convert the bytes back into a string.\n",
    "s2 = b.decode(\"utf-8\")  # Decoding the bytes back to the original string \"Café\"\n",
    "print(s2)  # Output: \"Café\"\n",
    "\n",
    "# --- Pitfall: Encoding Mismatch ---\n",
    "# If we try to encode a string containing characters that are not part of the specified encoding (ASCII), we get an error.\n",
    "try:\n",
    "    # Encoding the string 'Café' using ASCII will fail because 'é' is not part of ASCII\n",
    "    b_bad = s.encode(\"ascii\")  # This raises a UnicodeEncodeError\n",
    "except UnicodeEncodeError as e:\n",
    "    # Catch the error and print a helpful message\n",
    "    print(\"Encoding error:\", e)\n",
    "    # Output: Encoding error: 'ascii' codec can't encode character 'é' in position 3: ordinal not in range(128)\n",
    "\n",
    "# --- Robust Decoding ---\n",
    "# What if the byte data we're trying to decode might not be valid UTF-8? We can handle this gracefully.\n",
    "b_maybe_utf8 = b\"Caf\\xc3\\xa9\"  # These are valid UTF-8 bytes representing the string \"Café\"\n",
    "\n",
    "# Trying to decode it using UTF-8. If decoding fails (due to invalid characters), it replaces them with the replacement character '�'.\n",
    "s3 = b_maybe_utf8.decode(\"utf-8\", errors=\"replace\")  # The 'replace' strategy replaces invalid byte sequences with '�'\n",
    "print(s3)  # Output: \"Caf�\"  # '�' is the replacement character for invalid bytes\n",
    "\n",
    "# Alternatively, you could use `errors=\"ignore\"` to silently ignore the invalid bytes:\n",
    "s4 = b_maybe_utf8.decode(\"utf-8\", errors=\"ignore\")\n",
    "print(s4)  # Output: \"Caf\"  # The invalid byte is ignored, so it becomes just \"Caf\"\n"
   ]
  },
  {
   "cell_type": "markdown",
   "id": "bca5c9f9",
   "metadata": {},
   "source": [
    "#### Working with files (binary mode)"
   ]
  },
  {
   "cell_type": "code",
   "execution_count": 11,
   "id": "49be4ae4",
   "metadata": {},
   "outputs": [
    {
     "name": "stdout",
     "output_type": "stream",
     "text": [
      "89504e470d0a1a0a\n"
     ]
    }
   ],
   "source": [
    "# --- Write binary data to a file ---\n",
    "# Here, we're creating a simple binary payload. \n",
    "# For example, the first 8 bytes represent the PNG file signature (header).\n",
    "payload = b\"\\x89PNG\\r\\n\\x1a\\n\"  # PNG file header in raw binary format.\n",
    "\n",
    "# Opening a file named \"out.bin\" in binary write mode ('wb').\n",
    "# The 'wb' mode means \"write binary\". \n",
    "# This ensures that the file is opened in binary mode, which is necessary for writing non-text data.\n",
    "with open(\"out.bin\", \"wb\") as f:\n",
    "    # Write the binary data (payload) to the file.\n",
    "    # The f.write() method writes the raw bytes to the file.\n",
    "    f.write(payload)\n",
    "\n",
    "# --- Read binary data from a file ---\n",
    "# Now, we'll read the binary data back from the file we just wrote.\n",
    "with open(\"out.bin\", \"rb\") as f:  \n",
    "    # Open the file in 'rb' mode (read binary).\n",
    "    # This is crucial to ensure we're reading binary data exactly as it was written, byte for byte.\n",
    "    \n",
    "    # Read the entire content of the file.\n",
    "    # f.read() reads all the data in the file and returns it as a bytes object.\n",
    "    # 'data' will now hold the binary content of the file (as bytes).\n",
    "    data = f.read()  # type: bytes  # 'data' is a bytes object containing the binary data.\n",
    "\n",
    "# You can now work with 'data', which contains the binary content of the file.\n",
    "# For example, you can process it or print the contents in hexadecimal:\n",
    "print(data.hex())\n"
   ]
  },
  {
   "cell_type": "markdown",
   "id": "3f25dbbd",
   "metadata": {},
   "source": [
    "#### Protocols / struct packing (bonus)"
   ]
  },
  {
   "cell_type": "code",
   "execution_count": 13,
   "id": "60286305",
   "metadata": {},
   "outputs": [
    {
     "name": "stdout",
     "output_type": "stream",
     "text": [
      "(513, 65536, b'A')\n"
     ]
    }
   ],
   "source": [
    "import struct\n",
    "\n",
    "# --- Pack: unsigned short, unsigned int, char  → little-endian '<' ---\n",
    "# struct.pack formats and packs Python values into a binary format. \n",
    "# The format string <H I c specifies the layout of the packed data:\n",
    "#   <  : little-endian (byte order)\n",
    "#   H  : unsigned short (2 bytes)\n",
    "#   I  : unsigned int (4 bytes)\n",
    "#   c  : char (1 byte, single character)\n",
    "\n",
    "# Packing the values:\n",
    "#   - 513 (unsigned short, 2 bytes)\n",
    "#   - 65536 (unsigned int, 4 bytes)\n",
    "#   - b\"A\" (char, 1 byte, the byte representation of 'A')\n",
    "\n",
    "packet = struct.pack(\"<H I c\", 513, 65536, b\"A\")\n",
    "# The resulting 'packet' is a bytes object containing the binary representation of the data.\n",
    "\n",
    "# --- Unpack back to Python values ---\n",
    "# struct.unpack does the reverse of struct.pack: it takes a binary string and unpacks it into Python values.\n",
    "# The format string <H I c tells struct how to interpret the byte data:\n",
    "#   - <  : little-endian (byte order)\n",
    "#   - H  : unsigned short (2 bytes)\n",
    "#   - I  : unsigned int (4 bytes)\n",
    "#   - c  : char (1 byte, single character)\n",
    "\n",
    "# Unpacking the packed binary data:\n",
    "fields = struct.unpack(\"<H I c\", packet)  # (513, 65536, b'A')\n",
    "\n",
    "# Output the unpacked values\n",
    "print(fields)  # Output: (513, 65536, b'A')\n"
   ]
  },
  {
   "cell_type": "markdown",
   "id": "5ac599a1",
   "metadata": {},
   "source": [
    "Pitfalls & best practices\n",
    "- Don’t treat bytes like str:\n",
    "- bytes indexing returns int, not 1-byte bytes.\n",
    "- Many str methods don’t exist on bytes (though there are some like .find, .split).\n",
    "- Always specify encodings when converting between text and bytes (\"utf-8\" is common).\n",
    "- No unhashable items: set/dict keys can be bytes, but not bytearray (mutable).\n",
    "- Copy vs view: slicing bytes allocates a new object; slicing a memoryview does not.\n",
    "- Use bytearray for in-place edits; use bytes for fixed/immutable data.\n",
    "- Large I/O: prefer memoryview slices to avoid copies."
   ]
  },
  {
   "cell_type": "markdown",
   "id": "41789383",
   "metadata": {},
   "source": [
    "#### Practical scenarios\n",
    "- ETL: detect file type by magic number (signature)"
   ]
  },
  {
   "cell_type": "code",
   "execution_count": 14,
   "id": "252f39c1",
   "metadata": {},
   "outputs": [
    {
     "name": "stdout",
     "output_type": "stream",
     "text": [
      "png\n"
     ]
    }
   ],
   "source": [
    "def sniff_type(blob: bytes) -> str:\n",
    "    # PNG starts with: 89 50 4E 47 0D 0A 1A 0A\n",
    "    if blob.startswith(b\"\\x89PNG\\r\\n\\x1a\\n\"):\n",
    "        return \"png\"\n",
    "    # ZIP/Office files start with 'PK'\n",
    "    if blob[:2] == b\"PK\":\n",
    "        return \"zip\"\n",
    "    return \"unknown\"\n",
    "\n",
    "# Example:\n",
    "print(sniff_type(b\"\\x89PNG\\r\\n\\x1a\\n...\"))  # 'png'\n"
   ]
  },
  {
   "cell_type": "markdown",
   "id": "3995d150",
   "metadata": {},
   "source": [
    "#### Incrementally parsing a large buffer (zero-copy)"
   ]
  },
  {
   "cell_type": "code",
   "execution_count": 15,
   "id": "4d135d52",
   "metadata": {},
   "outputs": [
    {
     "name": "stdout",
     "output_type": "stream",
     "text": [
      "b'HEADER' b'PAYLOAD' b'CRC'\n"
     ]
    }
   ],
   "source": [
    "buf = bytearray(b\"HEADER|PAYLOAD|CRC\")\n",
    "view = memoryview(buf)\n",
    "\n",
    "# Split by '|' without copying big chunks repeatedly\n",
    "sep = ord('|')\n",
    "first_sep = view.tobytes().find(sep)        # materialize for .find; or roll your own scan\n",
    "header = view[:first_sep]                    # view over header\n",
    "rest = view[first_sep+1:]\n",
    "\n",
    "second_sep = rest.tobytes().find(sep)\n",
    "payload = rest[:second_sep]                  # view over payload\n",
    "crc = rest[second_sep+1:]                    # view over crc\n",
    "\n",
    "# Convert just the parts you need:\n",
    "print(bytes(header), bytes(payload), bytes(crc))\n"
   ]
  },
  {
   "cell_type": "markdown",
   "id": "5d2714ce",
   "metadata": {},
   "source": [
    "#### Build binary payload mutable → finalize immutable"
   ]
  },
  {
   "cell_type": "code",
   "execution_count": 18,
   "id": "df32be3a",
   "metadata": {},
   "outputs": [],
   "source": [
    "# --- Step 1: Create an empty bytearray ---\n",
    "ba = bytearray()  # 'bytearray()' creates an empty bytearray object.\n",
    "# Bytearrays are mutable sequences of bytes, meaning we can modify their contents.\n",
    "\n",
    "# --- Step 2: Extend the bytearray with a bytes literal ---\n",
    "ba.extend(b\"HEAD\")  # The 'extend()' method adds the bytes of the literal 'b\"HEAD\"' to the bytearray.\n",
    "# This means we add the bytes corresponding to the string \"HEAD\" (ASCII values: H=72, E=69, A=65, D=68).\n",
    "# After this step, 'ba' contains the byte sequence: b\"HEAD\"\n",
    "\n",
    "# --- Step 3: Append a single byte ---\n",
    "ba.append(0x00)  # The 'append()' method adds a single byte to the end of the bytearray.\n",
    "# Here, we are appending the byte 0x00 (a null byte).\n",
    "# This represents a \"flag\" byte or separator, depending on the context.\n",
    "# After this step, 'ba' now contains the byte sequence: b\"HEAD\\x00\"\n",
    "\n",
    "# --- Step 4: Extend the bytearray with more data ---\n",
    "ba.extend(b\"DATA\")  # The 'extend()' method adds the bytes of the literal 'b\"DATA\"' to the bytearray.\n",
    "# This means we append the bytes corresponding to the string \"DATA\" (ASCII values: D=68, A=65, T=84, A=65).\n",
    "# After this step, 'ba' contains the byte sequence: b\"HEAD\\x00DATA\"\n",
    "\n",
    "# --- Step 5: Freeze the bytearray into an immutable bytes object ---\n",
    "final = bytes(ba)  # The 'bytes()' constructor converts the bytearray 'ba' into an immutable 'bytes' object.\n",
    "# 'final' is now a bytes object that holds the same content but cannot be modified.\n",
    "# The content of 'final' is: b\"HEAD\\x00DATA\"\n"
   ]
  },
  {
   "cell_type": "markdown",
   "id": "78c158e6",
   "metadata": {},
   "source": [
    "Quick reference (what to use when)\n",
    "- I need to read/write raw files / sockets: bytes (immutable) or bytearray (mutable).\n",
    "- I need to modify parts of a large buffer in-place: bytearray + memoryview.\n",
    "- I need to minimize copies / slice big buffers: memoryview.\n",
    "- I need to store as dict/set keys: use bytes (immutable, hashable).\n",
    "- I have text: keep it as str; encode/decode at boundaries."
   ]
  },
  {
   "cell_type": "markdown",
   "id": "cf7061ce",
   "metadata": {},
   "source": [
    "# Practice tasks"
   ]
  },
  {
   "cell_type": "markdown",
   "id": "20a0988e",
   "metadata": {},
   "source": [
    "#### Encoding/Decoding"
   ]
  },
  {
   "cell_type": "code",
   "execution_count": 22,
   "id": "5cc0a52e",
   "metadata": {},
   "outputs": [
    {
     "name": "stdout",
     "output_type": "stream",
     "text": [
      "b'Caf\\xc3\\xa9 \\xe2\\x80\\x93 \\xe0\\xa4\\xa8\\xe0\\xa4\\xae\\xe0\\xa4\\xb8\\xe0\\xa5\\x8d\\xe0\\xa4\\xa4\\xe0\\xa5\\x87'\n",
      "Café – नमस्ते\n"
     ]
    }
   ],
   "source": [
    "# Task: Given the string \"Café – नमस्ते\", encode it to UTF-8 bytes, then decode it back to a string.\n",
    "\n",
    "# Encoding to UTF-8 bytes\n",
    "s = \"Café – नमस्ते\"\n",
    "encoded_utf8 = s.encode(\"utf-8\")\n",
    "print(encoded_utf8)  # Output: b'Caf\\xc3\\xa9 \\xe2\\x80\\x93 \\xe0\\xa8\\xa8\\xe0\\xa4\\xae\\xe0\\xa4\\xb8\\xe0\\xa5\\x8d\\xe0\\xa4\\xa4\\xe0\\xa5\\x87'\n",
    "\n",
    "# Decoding back to string\n",
    "decoded_str = encoded_utf8.decode(\"utf-8\")\n",
    "print(decoded_str)  # Output: Café – नमस्ते"
   ]
  },
  {
   "cell_type": "markdown",
   "id": "3e98a24e",
   "metadata": {},
   "source": [
    "#### Try encoding with ASCII and handle the error gracefully."
   ]
  },
  {
   "cell_type": "code",
   "execution_count": 23,
   "id": "7be4b38e",
   "metadata": {},
   "outputs": [
    {
     "name": "stdout",
     "output_type": "stream",
     "text": [
      "Encoding error: 'ascii' codec can't encode character '\\xe9' in position 3: ordinal not in range(128)\n"
     ]
    }
   ],
   "source": [
    "try:\n",
    "    encoded_ascii = s.encode(\"ascii\")  # ❌ 'é' and other characters are not in ASCII\n",
    "except UnicodeEncodeError as e:\n",
    "    print(f\"Encoding error: {e}\")  # Output: Encoding error: 'ascii' codec can't encode character 'é' in position 3: ordinal not in range(128)\n"
   ]
  },
  {
   "cell_type": "markdown",
   "id": "e6a11cbe",
   "metadata": {},
   "source": [
    "#### Convert b\"Hello\" to a hex string, then reconstruct the same bytes using fromhex."
   ]
  },
  {
   "cell_type": "code",
   "execution_count": 24,
   "id": "d5765353",
   "metadata": {},
   "outputs": [
    {
     "name": "stdout",
     "output_type": "stream",
     "text": [
      "48656c6c6f\n",
      "b'Hello'\n"
     ]
    }
   ],
   "source": [
    "# Convert bytes to hex string\n",
    "hex_string = b\"Hello\".hex()\n",
    "print(hex_string)  # Output: '48656c6c6f'\n",
    "\n",
    "# Reconstruct bytes from hex string\n",
    "reconstructed_bytes = bytes.fromhex(hex_string)\n",
    "print(reconstructed_bytes)  # Output: b'Hello'"
   ]
  },
  {
   "cell_type": "markdown",
   "id": "b451240a",
   "metadata": {},
   "source": [
    "#### Bytearray Edits"
   ]
  },
  {
   "cell_type": "markdown",
   "id": "11d925f4",
   "metadata": {},
   "source": [
    "#### Task: Start with bytearray(b\"abcdef\"), replace b\"cd\" with b\"XY\", append b\"!!\", and convert to bytes."
   ]
  },
  {
   "cell_type": "code",
   "execution_count": 25,
   "id": "20049187",
   "metadata": {},
   "outputs": [
    {
     "name": "stdout",
     "output_type": "stream",
     "text": [
      "bytearray(b'abXYef')\n",
      "bytearray(b'abXYef!!')\n",
      "b'abXYef!!'\n"
     ]
    }
   ],
   "source": [
    "# Create bytearray\n",
    "ba = bytearray(b\"abcdef\")\n",
    "\n",
    "# Replace 'cd' with 'XY' using slice assignment\n",
    "ba[2:4] = b\"XY\"\n",
    "print(ba)  # Output: bytearray(b'abXYef')\n",
    "\n",
    "# Append '!!' to the bytearray\n",
    "ba.extend(b\"!!\")\n",
    "print(ba)  # Output: bytearray(b'abXYef!!')\n",
    "\n",
    "# Convert to bytes\n",
    "final_bytes = bytes(ba)\n",
    "print(final_bytes)  # Output: b'abXYef!!'\n"
   ]
  },
  {
   "cell_type": "markdown",
   "id": "d6d4f90c",
   "metadata": {},
   "source": [
    "#### Memoryview Slicing\n",
    "- Task: Create data = bytearray(b\"0123456789\"), make a memoryview slice for positions 3..7, and set them to b\"ABCD\" via the view. Verify the original buffer changed."
   ]
  },
  {
   "cell_type": "code",
   "execution_count": 32,
   "id": "b0eb9122",
   "metadata": {},
   "outputs": [
    {
     "name": "stdout",
     "output_type": "stream",
     "text": [
      "Length mismatch between slice and new data.\n"
     ]
    }
   ],
   "source": [
    "# Create a bytearray\n",
    "data = bytearray(b\"0123456789\")\n",
    "\n",
    "# Create a memoryview slice for positions 3..7 (inclusive of index 3, exclusive of index 8)\n",
    "mv = memoryview(data)[3:8]  # Slice from 3 to 7 (inclusive of index 3, exclusive of index 8)\n",
    "\n",
    "# Ensure the slice length matches\n",
    "if len(mv) == len(b\"ABCD\"):  # Length of mv should be 4 bytes (same as b\"ABCD\")\n",
    "    mv[:] = b\"ABCD\"\n",
    "    print(data)  # Output: bytearray(b'012ABCD789')\n",
    "else:\n",
    "    print(\"Length mismatch between slice and new data.\")\n",
    "\n",
    "# Verify the original data changed\n",
    "# '012' remains unchanged; '34567' has been replaced with 'ABCD'\n"
   ]
  },
  {
   "cell_type": "markdown",
   "id": "caa7d1f6",
   "metadata": {},
   "source": [
    "#### Binary File Header\n",
    "- Task: Write the PNG header to header.bin in binary mode. Read it back and confirm sniff_type() returns \"png\"."
   ]
  },
  {
   "cell_type": "code",
   "execution_count": 45,
   "id": "9777469b",
   "metadata": {},
   "outputs": [
    {
     "name": "stdout",
     "output_type": "stream",
     "text": [
      "application/octet-stream\n"
     ]
    }
   ],
   "source": [
    "import magic\n",
    "\n",
    "# PNG header in binary (first 8 bytes)\n",
    "png_header = b'\\x89PNG\\r\\n\\x1a\\n'\n",
    "\n",
    "# Write the PNG header to a file in binary mode\n",
    "with open(\"header.bin\", \"wb\") as f:\n",
    "    f.write(png_header)\n",
    "\n",
    "# Read back the header from the file\n",
    "with open(\"header.bin\", \"rb\") as f:\n",
    "    header = f.read()\n",
    "\n",
    "# Using the 'magic' library to sniff the file type\n",
    "try:\n",
    "    # Initialize magic to detect MIME type\n",
    "    magic_obj = magic.Magic(mime=True)\n",
    "    file_type = magic_obj.from_buffer(header)  # Read MIME type from buffer\n",
    "    print(file_type)  # Expected Output: 'image/png'\n",
    "except AttributeError as e:\n",
    "    print(f\"AttributeError: {e}. It seems like 'magic' may not be working correctly.\")\n",
    "except Exception as e:\n",
    "    print(f\"An error occurred: {e}\")"
   ]
  },
  {
   "cell_type": "markdown",
   "id": "2a89a881",
   "metadata": {},
   "source": [
    "#### Struct Pack/Unpack\n",
    "- Task: Pack three values: uint16=2025, uint32=123456, char='Z' in little-endian, then unpack and verify the values are identical."
   ]
  },
  {
   "cell_type": "code",
   "execution_count": 42,
   "id": "8d30f0da",
   "metadata": {},
   "outputs": [
    {
     "name": "stdout",
     "output_type": "stream",
     "text": [
      "b'\\xe9\\x07@\\xe2\\x01\\x00Z'\n",
      "(2025, 123456, b'Z')\n"
     ]
    }
   ],
   "source": [
    "import struct\n",
    "\n",
    "# Pack the values (uint16=2025, uint32=123456, char='Z') in little-endian format\n",
    "packed_data = struct.pack(\"<H I c\", 2025, 123456, b\"Z\")\n",
    "print(packed_data)  # Output: b'\\xe1\\x07\\x40\\xe2\\x01\\x00Z'\n",
    "\n",
    "# Unpack the packed data\n",
    "unpacked_data = struct.unpack(\"<H I c\", packed_data)\n",
    "print(unpacked_data)  # Output: (2025, 123456, b'Z')\n",
    "\n",
    "# Verify values\n",
    "assert unpacked_data == (2025, 123456, b'Z')\n"
   ]
  },
  {
   "cell_type": "markdown",
   "id": "c771038b",
   "metadata": {},
   "source": [
    "#### Zero-Copy Parsing\n",
    "- Task: Given buf = bytearray(b\"id=42;name=Dhiraj;role=Lead\"), use memoryview slicing to extract the value after each = without copying the whole string."
   ]
  },
  {
   "cell_type": "code",
   "execution_count": 41,
   "id": "d95af4ea",
   "metadata": {},
   "outputs": [
    {
     "name": "stdout",
     "output_type": "stream",
     "text": [
      "b'42'\n",
      "b'Dhiraj'\n",
      "b'Lead'\n"
     ]
    }
   ],
   "source": [
    "# Create the bytearray\n",
    "buf = bytearray(b\"id=42;name=Dhiraj;role=Lead\")\n",
    "\n",
    "# Create a memoryview over the bytearray\n",
    "mv = memoryview(buf)\n",
    "\n",
    "# Convert memoryview to bytes for easier manipulation\n",
    "buf_bytes = bytes(mv)\n",
    "\n",
    "# Extract value after 'id=' (start after the first '=' and stop at the first ';')\n",
    "id_start = buf_bytes.find(b\"id=\") + 3\n",
    "id_end = buf_bytes.find(b\";\", id_start)\n",
    "id_value = buf_bytes[id_start:id_end]\n",
    "print(id_value)  # Output: b'42'\n",
    "\n",
    "# Extract value after 'name=' (start after the second '=' and stop at the second ';')\n",
    "name_start = buf_bytes.find(b\"name=\") + 5\n",
    "name_end = buf_bytes.find(b\";\", name_start)\n",
    "name_value = buf_bytes[name_start:name_end]\n",
    "print(name_value)  # Output: b'Dhiraj'\n",
    "\n",
    "# Extract value after 'role=' (start after the third '=' and stop at the end)\n",
    "role_start = buf_bytes.find(b\"role=\") + 5\n",
    "role_value = buf_bytes[role_start:]\n",
    "print(role_value)  # Output: b'Lead'\n"
   ]
  }
 ],
 "metadata": {
  "kernelspec": {
   "display_name": "Python 3",
   "language": "python",
   "name": "python3"
  },
  "language_info": {
   "codemirror_mode": {
    "name": "ipython",
    "version": 3
   },
   "file_extension": ".py",
   "mimetype": "text/x-python",
   "name": "python",
   "nbconvert_exporter": "python",
   "pygments_lexer": "ipython3",
   "version": "3.12.11"
  }
 },
 "nbformat": 4,
 "nbformat_minor": 5
}
