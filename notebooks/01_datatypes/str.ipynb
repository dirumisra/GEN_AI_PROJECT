{
 "cells": [
  {
   "cell_type": "markdown",
   "metadata": {},
   "source": [
    "#### Strings (text)\n",
    "\n",
    "What a string is : Immutable sequence of Unicode code points."
   ]
  },
  {
   "cell_type": "markdown",
   "id": "87299a2e",
   "metadata": {},
   "source": [
    "##### Essential creation & inspection"
   ]
  },
  {
   "cell_type": "code",
   "execution_count": null,
   "id": "b826ac96",
   "metadata": {},
   "outputs": [
    {
     "name": "stdout",
     "output_type": "stream",
     "text": [
      "variable length is: > 18\n",
      "\n",
      "First Char of variable :> H\n",
      "nLast char of variable : > !\n",
      "llo, \n",
      "Reverse char of variable: > !sovnoChceT ,olleH\n"
     ]
    }
   ],
   "source": [
    "s = \"Hello, TechConvos!\"\n",
    "\n",
    "# length\n",
    "len(s)\n",
    "print(\"variable length is: >\", len(s))\n",
    "\n",
    "# indexing\n",
    "print(\"\\nFirst Char of variable :>\", s[0])\n",
    "print(\"nLast char of variable : >\", s[-1])\n",
    "\n",
    "# slicing, reverse\n",
    "# syntax of slicing Start:End:interval\n",
    "print(s[2:7])\n",
    "\n",
    "print(\"Reverse char of variable: >\",s[::-1])"
   ]
  },
  {
   "cell_type": "markdown",
   "id": "594e7325",
   "metadata": {},
   "source": [
    "#### Trimming & normalizing whitespace"
   ]
  },
  {
   "cell_type": "code",
   "execution_count": 84,
   "id": "0df0c941",
   "metadata": {},
   "outputs": [
    {
     "name": "stdout",
     "output_type": "stream",
     "text": [
      "No Space in left : > 0\n",
      "No Space in right : > 0\n",
      "\n",
      "Number of space in left : > 2\n",
      "Number of Space in right : > 2\n",
      "Dhiraj     Mishra\n",
      "Dhiraj     Mishra\n"
     ]
    }
   ],
   "source": [
    "name = \"Dhiraj     Mishra\"               # Input string with multiple spaces between words\n",
    "left_strip = \"  Tech Convos\"             # String with leading space\n",
    "right_strip = \"Tech Convos  \"            # String with trailing space\n",
    "\n",
    "\n",
    "#  Calculate the length of leading and trailing spaces for 'name'\n",
    "lef_space_cal = len(name) - len(name.lstrip())      # Number of spaces at the beginning of name variable \n",
    "right_space_cal = len(name) - len(name.rstrip())    # Number of spaces at the end of name variable \n",
    "\n",
    "print(\"No Space in left : >\", lef_space_cal)\n",
    "print(\"No Space in right : >\",right_space_cal)\n",
    "\n",
    "\n",
    "#  Calculate the length of leading and trailing spaces for 'left_strip'\n",
    "lef_strip_space_cal = len(left_strip) - len(left_strip.lstrip())        # Leading spaces for leftstrip\n",
    "right_strip_space_cal = len(right_strip) - len(right_strip.rstrip())    # Trailing spaces for right_strip\n",
    "\n",
    "print(\"\\nNumber of space in left : >\", lef_strip_space_cal)\n",
    "print(\"Number of Space in right : >\", right_strip_space_cal)\n",
    "\n",
    "\n",
    "# Strings with left and right padding preserved\n",
    "left_padded_name = \" \" * lef_space_cal + name\n",
    "right_padded_name = name + \" \" * right_space_cal\n",
    "\n",
    "\n",
    "print(left_padded_name)\n",
    "print(right_padded_name)\n",
    "\n"
   ]
  },
  {
   "cell_type": "code",
   "execution_count": null,
   "id": "a7d1b3c3",
   "metadata": {},
   "outputs": [],
   "source": []
  },
  {
   "cell_type": "code",
   "execution_count": null,
   "metadata": {},
   "outputs": [],
   "source": []
  },
  {
   "cell_type": "code",
   "execution_count": null,
   "id": "f4646640",
   "metadata": {},
   "outputs": [],
   "source": []
  }
 ],
 "metadata": {
  "kernelspec": {
   "display_name": "Python 3",
   "language": "python",
   "name": "python3"
  },
  "language_info": {
   "codemirror_mode": {
    "name": "ipython",
    "version": 3
   },
   "file_extension": ".py",
   "mimetype": "text/x-python",
   "name": "python",
   "nbconvert_exporter": "python",
   "pygments_lexer": "ipython3",
   "version": "3.12.11"
  }
 },
 "nbformat": 4,
 "nbformat_minor": 5
}
