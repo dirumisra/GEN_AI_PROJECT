{
 "cells": [
  {
   "cell_type": "markdown",
   "metadata": {},
   "source": [
    "#### Strings (text)\n",
    "\n",
    "What a string is : Immutable sequence of Unicode code points."
   ]
  },
  {
   "cell_type": "markdown",
   "id": "87299a2e",
   "metadata": {},
   "source": [
    "##### Essential creation & inspection"
   ]
  },
  {
   "cell_type": "code",
   "execution_count": null,
   "id": "b826ac96",
   "metadata": {},
   "outputs": [
    {
     "name": "stdout",
     "output_type": "stream",
     "text": [
      "variable length is: > 18\n",
      "\n",
      "First Char of variable :> H\n",
      "nLast char of variable : > !\n",
      "llo, \n",
      "Reverse char of variable: > !sovnoChceT ,olleH\n"
     ]
    }
   ],
   "source": [
    "s = \"Hello, TechConvos!\"\n",
    "\n",
    "# length\n",
    "len(s)\n",
    "print(\"variable length is: >\", len(s))\n",
    "\n",
    "# indexing\n",
    "print(\"\\nFirst Char of variable :>\", s[0])\n",
    "print(\"nLast char of variable : >\", s[-1])\n",
    "\n",
    "# slicing, reverse\n",
    "# syntax of slicing Start:End:interval\n",
    "print(s[2:7])\n",
    "\n",
    "print(\"Reverse char of variable: >\",s[::-1])"
   ]
  },
  {
   "cell_type": "markdown",
   "id": "594e7325",
   "metadata": {},
   "source": [
    "#### Trimming & normalizing whitespace"
   ]
  },
  {
   "cell_type": "code",
   "execution_count": 82,
   "id": "0df0c941",
   "metadata": {},
   "outputs": [
    {
     "name": "stdout",
     "output_type": "stream",
     "text": [
      "=== ORIGINAL STRINGS ===\n",
      "\n",
      "name :>  'Dhiraj     Mishra'\n",
      "leftstrip ' Tech Convos'\n",
      "right_tstrip 'Tech Convos '\n",
      "\n",
      "===Space Count====\n",
      "Left spaces in 'name': 0\n",
      "Right spaces in 'name': 0\n",
      "Left spaces in 'leftstrip': 1\n",
      "Right spaces in 'right_strip': 1\n",
      "\n",
      "=== NORMALIZED NAME ===\n",
      "Original length: > 17\n",
      "Cleaned Length: > 13\n",
      "Cleaned output: > Dhiraj Mishra\n",
      "\n",
      "=== TRIMMED STRINGS ===\n",
      "Trimmed 'name': 'Dhiraj     Mishra'\n",
      "Trimmed 'leftstrip': 'Tech Convos'\n",
      "Trimmed 'right_strip': 'Tech Convos'\n",
      "\n",
      "=== STRINGS WITH PRESERVED PADDING ===\n",
      "Left-padded 'name': 'Dhiraj     Mishra'\n",
      "Right-padded 'name': 'Dhiraj     Mishra'\n",
      "Left-padded 'leftstrip': '  Tech Convos'\n",
      "Right-padded 'right_strip': 'Tech Convos  '\n"
     ]
    }
   ],
   "source": [
    "# STRING MANIPULATION & WHITESPACE HANDLING IN PYTHON\n",
    "# ----------------------------------------------\n",
    "# Define three strings with different spacing issues\n",
    "\n",
    "name = \"Dhiraj     Mishra\"        # This string has multiple spaces **between** the words.\n",
    "leftstrip = \" Tech Convos\"        # This string has one leading space at the beginning.\n",
    "right_strip = \"Tech Convos \"      # This string has one trailing space at the end.\n",
    "\n",
    "# -----------------------------------------------------\n",
    "# STEP 1: CALCULATE LEADING AND TRAILING SPACES\n",
    "\n",
    "# Count how many spaces are on the **left side** (leading) of 'name'\n",
    "# len(name) gives total length, len(name.lstrip()) removes leading spaces\n",
    "left_space_name =  len(name) - len(name.lstrip())\n",
    "\n",
    "# Count how many spaces are on the **right side** (trailing) of 'name'\n",
    "right_space_name = len(name) - len(name.rstrip())\n",
    "\n",
    "# Repeat the same logic for 'leftstrip'\n",
    "lspace_leftstrip = len(leftstrip) - len(leftstrip.lstrip())\n",
    "\n",
    "# Repeat the same logic for 'righttstrip'\n",
    "\n",
    "rspace_rstrip = len(right_strip) - len(right_strip.rstrip())\n",
    "\n",
    "# PRINT ORIGINAL STRINGS (with repr to show hidden spaces)\n",
    "print(\"=== ORIGINAL STRINGS ===\\n\")\n",
    "print(\"name :> \", repr(name))           # repr() shows the string with quotes and visible spaces\n",
    "print(\"leftstrip\", repr(leftstrip))     # Useful for debugging leading/trailing whitespace\n",
    "print(\"right_tstrip\", repr(right_strip))\n",
    "\n",
    "# DISPLAY COUNT OF SPACES\n",
    "\n",
    "print(\"\\n===Space Count====\")\n",
    "print(\"Left spaces in 'name':\", left_space_name)\n",
    "print(\"Right spaces in 'name':\", right_space_name)\n",
    "\n",
    "print(\"Left spaces in 'leftstrip':\", lspace_leftstrip)\n",
    "print(\"Right spaces in 'right_strip':\", rspace_rstrip )\n",
    "\n",
    "\n",
    "# NORMALIZE 'name' (Collapse multiple spaces to a single space)\n",
    "# name.split() splits string into words (splits on ANY whitespace)\n",
    "# \" \".join(...) joins the words with **a single space**\n",
    "\n",
    "clean_name = \" \".join(name.split())\n",
    "\n",
    "print(\"\\n=== NORMALIZED NAME ===\")\n",
    "\n",
    "print(\"Original length: >\", len(name))\n",
    "print(\"Cleaned Length: >\", len(clean_name))\n",
    "print(\"Cleaned output: >\",clean_name)\n",
    "\n",
    "#  STRIP SPACES FROM STRINGS\n",
    "# .strip() removes spaces from both ends\n",
    "trimed_name = name.strip()\n",
    "\n",
    "\n",
    "# .strip() works the same for the other strings\n",
    "trimed_leftstrip = leftstrip.strip()\n",
    "trimed_rightstrip = right_strip.strip()\n",
    "\n",
    "\n",
    "print(\"\\n=== TRIMMED STRINGS ===\")\n",
    "print(\"Trimmed 'name':\", repr(trimed_name))               # No leading/trailing spaces\n",
    "print(\"Trimmed 'leftstrip':\", repr(trimed_leftstrip))     # Should remove 1 leading space\n",
    "print(\"Trimmed 'right_strip':\", repr(trimed_rightstrip))  # Should remove 1 trailing space\n",
    "\n",
    "# RECONSTRUCT STRINGS WITH PRESERVED PADDING\n",
    "\n",
    "# Recreate the left-padded version of 'name' by prepending the counted spaces\n",
    "\n",
    "left_padded_name = \" \" * left_space_name + name\n",
    "\n",
    "\n",
    "# Do the same for 'leftstrip' and 'right_strip'\n",
    "left_padded_leftstrip = \" \" * lspace_leftstrip + leftstrip\n",
    "right_padded_rightstrip = right_strip + \" \" * rspace_rstrip\n",
    "\n",
    "print(\"\\n=== STRINGS WITH PRESERVED PADDING ===\")\n",
    "print(\"Left-padded 'name':\", repr(left_padded_name))\n",
    "print(\"Right-padded 'name':\", repr(right_padded_name))\n",
    "print(\"Left-padded 'leftstrip':\", repr(left_padded_leftstrip))\n",
    "print(\"Right-padded 'right_strip':\", repr(right_padded_rightstrip))"
   ]
  },
  {
   "cell_type": "markdown",
   "id": "8ee0076b",
   "metadata": {},
   "source": [
    "#### Splitting (your key request) & joining"
   ]
  },
  {
   "cell_type": "code",
   "execution_count": 11,
   "id": "bdb068b3",
   "metadata": {},
   "outputs": [
    {
     "name": "stdout",
     "output_type": "stream",
     "text": [
      "['Python', 'for', 'Data', '&', 'BI']\n"
     ]
    }
   ],
   "source": [
    "text = \"Python   for   Data   &   BI\"\n",
    "token = text.split()  # ['Python', 'for', 'Data', '&', 'BI']\n",
    "\n",
    "print(token)\n"
   ]
  },
  {
   "cell_type": "markdown",
   "id": "f41aef51",
   "metadata": {},
   "source": [
    "#### Split on a specific delimiter"
   ]
  },
  {
   "cell_type": "code",
   "execution_count": 18,
   "id": "077acdeb",
   "metadata": {},
   "outputs": [
    {
     "name": "stdout",
     "output_type": "stream",
     "text": [
      "['Dhiraj', 'Mishra', 'Team Lead']\n",
      "C:\n",
      "olist_orders.csv\n",
      "['C:', 'Data', 'Raw', 'olist_orders.csv']\n"
     ]
    }
   ],
   "source": [
    "# Step 1: Define the full file path as a string\n",
    "path = \"C:/Data/Raw/olist_orders.csv\"\n",
    "\n",
    "# Step 2: Split the path string at each \"/\" to separate the components\n",
    "# This will create a list of parts: drive letter, folders, and the filename\n",
    "paths = path.split(\"/\")   # Output: ['C:', 'Data', 'Raw', 'olist_orders.csv']\n",
    "\n",
    "# Step 3: Use unpacking to extract the first and last elements from the list\n",
    "# root      -> 'C:'        (the drive letter or root folder)\n",
    "# *_        -> ['Data', 'Raw'] (the middle folders, ignored here with _)\n",
    "# filename  -> 'olist_orders.csv' (the actual file name at the end of the path)\n",
    "root, *_, filename = paths\n",
    "\n",
    "# Step 4: Define a string that simulates a row of data, with fields separated by \"|\"\n",
    "row = \"Dhiraj|Mishra|Team Lead\"\n",
    "\n",
    "# Step 5: Split the row at the \"|\" symbol to get a list of individual fields\n",
    "# Output: ['Dhiraj', 'Mishra', 'Team Lead']\n",
    "# (Although you’re not storing the result here, this line splits the row)\n",
    "print(row.split(\"|\"))\n",
    "\n",
    "# Step 6: Print the extracted root (e.g., 'C:')\n",
    "print(root)\n",
    "\n",
    "# Step 7: Print the extracted filename (e.g., 'olist_orders.csv')\n",
    "print(filename)\n",
    "\n",
    "# Step 8: Print the full list of path parts\n",
    "# Output: ['C:', 'Data', 'Raw', 'olist_orders.csv']\n",
    "print(paths)\n"
   ]
  },
  {
   "cell_type": "markdown",
   "id": "157c4131",
   "metadata": {},
   "source": [
    "#### Limit splits (performance & control)"
   ]
  },
  {
   "cell_type": "code",
   "execution_count": 5,
   "id": "7be22934",
   "metadata": {},
   "outputs": [
    {
     "name": "stdout",
     "output_type": "stream",
     "text": [
      "id=42\n",
      "name=Dhiraj;role=Team Lead;dept=BI\n"
     ]
    }
   ],
   "source": [
    "record = \"id=42;name=Dhiraj;role=Team Lead;dept=BI\"\n",
    "\n",
    "first, rest = record.split(\";\",1)  # split only once (left to right)\n",
    "\n",
    "\n",
    "# first: 'id=42', rest: 'name=Dhiraj;role=Team Lead;dept=BI'\n",
    "\n",
    "\n",
    "print(first)\n",
    "print(rest)"
   ]
  },
  {
   "cell_type": "markdown",
   "id": "99000519",
   "metadata": {},
   "source": [
    "#### Right split (useful for filenames, trailing fields)"
   ]
  },
  {
   "cell_type": "code",
   "execution_count": 11,
   "id": "bc079aac",
   "metadata": {},
   "outputs": [
    {
     "name": "stdout",
     "output_type": "stream",
     "text": [
      "report.2025.08.26.final\n",
      "csv\n"
     ]
    }
   ],
   "source": [
    "# Assign the filename as a string\n",
    "fname = \"report.2025.08.26.final.csv\"\n",
    "\n",
    "# Split the filename from the right at the last '.' to separate the extension\n",
    "# 'rsplit(\".\", 1)' means: split from the right, only once\n",
    "# This will return ['report.2025.08.26.final', 'csv']\n",
    "base, ext = fname.rsplit(\".\", 1)\n",
    "\n",
    "# Print the base part of the filename (everything before the last dot)\n",
    "print(base)\n",
    "print(ext)\n",
    "# Print the extension (everything after the last dot"
   ]
  },
  {
   "cell_type": "markdown",
   "id": "ac4c109e",
   "metadata": {},
   "source": [
    "#### Lines handling (robust across OS)"
   ]
  },
  {
   "cell_type": "code",
   "execution_count": 15,
   "id": "13ca8946",
   "metadata": {},
   "outputs": [
    {
     "name": "stdout",
     "output_type": "stream",
     "text": [
      "line1\n",
      "line2\n",
      "line3\n"
     ]
    }
   ],
   "source": [
    "# Define a string with mixed newline characters (\\r\\n and \\n)\n",
    "doc = \"line1\\r\\nline2\\nline3\"\n",
    "\n",
    "# Split the string into lines, handling all newline types\n",
    "lines = doc.splitlines()\n",
    "\n",
    "# Print the original string (will display as 3 lines)\n",
    "print(doc)"
   ]
  },
  {
   "cell_type": "markdown",
   "id": "12c4c123",
   "metadata": {},
   "source": [
    "#### Re‑join tokens — the fast way to build strings"
   ]
  },
  {
   "cell_type": "code",
   "execution_count": 22,
   "id": "ddfed85a",
   "metadata": {},
   "outputs": [
    {
     "data": {
      "text/plain": [
       "'Python | Data | Fabric | Snowflake'"
      ]
     },
     "execution_count": 22,
     "metadata": {},
     "output_type": "execute_result"
    }
   ],
   "source": [
    "words = [\"Python\", \"Data\", \"Fabric\", \"Snowflake\"]\n",
    "\" | \".join(words)              # 'Python | Data | Fabric | Snowflake'\n",
    "# Best approach: accumulate pieces in a list, ''.join(pieces) at the end."
   ]
  },
  {
   "cell_type": "markdown",
   "id": "178fecba",
   "metadata": {},
   "source": [
    "#### Searching & replacing"
   ]
  },
  {
   "cell_type": "code",
   "execution_count": 63,
   "id": "172225fa",
   "metadata": {},
   "outputs": [
    {
     "name": "stdout",
     "output_type": "stream",
     "text": [
      "10\n",
      "Fabric with Python and Snowflake\n"
     ]
    }
   ],
   "source": [
    "# Assign a string to the variable 's'\n",
    "s = \"Power BI with Python and Snowflake\"\n",
    "\n",
    "# Find the index of the first occurrence of the character 'i'\n",
    "# Returns the index (0-based), or -1 if not found\n",
    "search_output = s.find('i')\n",
    "\n",
    "# Print the index where 'i' first appears in the string\n",
    "print(search_output)\n",
    "\n",
    "# Replace the substring \"Power BI\" with \"Fabric\" in 's'\n",
    "# This returns a new string; 's' itself is not modified\n",
    "replace_output = s.replace(\"Power BI\", \"Fabric\")\n",
    "\n",
    "# Print the modified string\n",
    "print(replace_output)"
   ]
  },
  {
   "cell_type": "markdown",
   "id": "e249d15e",
   "metadata": {},
   "source": [
    "#### Case handling (for normalization)"
   ]
  },
  {
   "cell_type": "code",
   "execution_count": 83,
   "id": "76702a25",
   "metadata": {},
   "outputs": [
    {
     "name": "stdout",
     "output_type": "stream",
     "text": [
      "original str : >  USER@EXAMPLE.COM\n",
      "Lowercase email: user@example.com\n",
      "Lowered: straße\n",
      "Casefolded: strasse\n"
     ]
    }
   ],
   "source": [
    "# Original email string in uppercase\n",
    "email = \"USER@EXAMPLE.COM\"\n",
    "\n",
    "# Convert the email to lowercase using .lower()\n",
    "# This is useful for case-insensitive comparisons or deduplication (e.g. treating 'User@Example.com' and 'user@example.com' as the same)\n",
    "email_lower = email.lower()\n",
    "\n",
    "# Print the normalized lowercase email\n",
    "print(\"original str : > \", email)\n",
    "print(\"Lowercase email:\", email_lower)  # Output: user@example.com\n",
    "\n",
    "# --- International Case Handling Example ---\n",
    "\n",
    "# Suppose we are working with a string containing international characters\n",
    "# For example, the German letter \"ß\" (sharp S) which should be treated like \"ss\" in comparisons\n",
    "german_word = \"straße\"\n",
    "\n",
    "# Using .lower() — basic lowercase conversion (won't change ß)\n",
    "lowered = german_word.lower()\n",
    "\n",
    "# Using .casefold() — more aggressive and Unicode-aware\n",
    "# It converts ß → ss, which is more appropriate for case-insensitive comparisons in some languages\n",
    "folded = german_word.casefold()\n",
    "\n",
    "# Print results to show the difference\n",
    "print(\"Lowered:\", lowered)    # Output: straße\n",
    "print(\"Casefolded:\", folded)  # Output: strasse\n"
   ]
  },
  {
   "cell_type": "markdown",
   "id": "858c4cfc",
   "metadata": {},
   "source": [
    "#### Formatting (f‑strings: best approach)"
   ]
  },
  {
   "cell_type": "code",
   "execution_count": 99,
   "id": "371068c9",
   "metadata": {},
   "outputs": [
    {
     "name": "stdout",
     "output_type": "stream",
     "text": [
      "DHIRAJ - TEAM LEAD @ MASTEK 2025\n"
     ]
    }
   ],
   "source": [
    "# Assign the user's name to a variable\n",
    "user = 'dhiraj'\n",
    "\n",
    "# Assign the user's role to a variable\n",
    "role = 'team lead'\n",
    "\n",
    "# Assign the year to a variable\n",
    "year = 2025\n",
    "\n",
    "# Convert 'Mastek' to uppercase using .upper()\n",
    "msg = f\"{user.upper()} - {role.upper()} @ {'Mastek'.upper()} {year}\"\n",
    "\n",
    "# Print the final message\n",
    "print(msg)\n"
   ]
  },
  {
   "cell_type": "markdown",
   "id": "63fa9371",
   "metadata": {},
   "source": [
    "#### Validation & parsing (digits, alpha, etc.)"
   ]
  },
  {
   "cell_type": "code",
   "execution_count": null,
   "id": "dbba3c40",
   "metadata": {},
   "outputs": [
    {
     "name": "stdout",
     "output_type": "stream",
     "text": [
      "True\n",
      "False\n",
      "True\n",
      "False\n",
      "True\n",
      "False\n",
      "True\n",
      "False\n"
     ]
    }
   ],
   "source": [
    "# --- isdigit() ---\n",
    "# Only digits → returns True\n",
    "print(\"12345\".isdigit())    # True\n",
    "\n",
    "# Contains a letter → returns False\n",
    "print(\"123a5\".isdigit())    # False\n",
    "\n",
    "\n",
    "# --- isalpha() ---\n",
    "# Only letters → returns True\n",
    "print(\"abcXYZ\".isalpha())   # True\n",
    "\n",
    "# Contains a number → returns False\n",
    "print(\"abc123\".isalpha())   # False\n",
    "\n",
    "# --- isalnum() ---\n",
    "# Letters and numbers only → returns True\n",
    "print(\"abc123\".isalnum())   # True\n",
    "\n",
    "# Contains a space → returns False\n",
    "print(\"abc 123\".isalnum())  # False\n",
    "\n",
    "\n",
    "# --- isspace() ---\n",
    "# Only spaces → returns True\n",
    "print(\"   \".isspace())      # True\n",
    "\n",
    "# Contains a tab and a letter → returns False\n",
    "print(\" \\ta\".isspace())     # False\n"
   ]
  },
  {
   "cell_type": "markdown",
   "id": "e10fb23b",
   "metadata": {},
   "source": [
    "#### Cleaning data (ETL‑style string scenarios)\n",
    "\n",
    "_A) Normalize names (spaces, case, punctuation)_"
   ]
  },
  {
   "cell_type": "code",
   "execution_count": 115,
   "id": "b83f0292",
   "metadata": {},
   "outputs": [
    {
     "name": "stdout",
     "output_type": "stream",
     "text": [
      "Dhiraj Mishra\n",
      "John Doe\n",
      "Alice O'Connor\n",
      "Elon Musk\n",
      "Mary Anne\n"
     ]
    }
   ],
   "source": [
    "def normalize_name(raw: str) -> str:\n",
    "    \"\"\"\n",
    "    Normalize user-entered names:\n",
    "    - Remove leading/trailing/multiple spaces\n",
    "    - Fix inconsistent capitalization (e.g., dHiRaJ -> Dhiraj)\n",
    "    Steps:\n",
    "    1. raw.split() breaks the string into words, removing extra spaces\n",
    "    2. \" \".join(...) joins words back with single spaces\n",
    "    3. .title() capitalizes the first letter of each word\n",
    "    \"\"\"\n",
    "    core = \" \".join(raw.split())     # Remove extra/multiple spaces\n",
    "    return core.title()              # Capitalize each word correctly\n",
    "\n",
    "\n",
    "# Example inputs (messy names)\n",
    "name1 = \"   dHiRaJ   mIsHrA   \"\n",
    "name2 = \"JOHN    doe\"\n",
    "name3 = \"  alice   o'connor  \"\n",
    "name4 = \"eLon    MUsK\"\n",
    "name5 = \"  mAry     AnnE  \"\n",
    "\n",
    "# Normalize each name using the function\n",
    "print(normalize_name(name1))  # Output: Dhiraj Mishra\n",
    "print(normalize_name(name2))  # Output: John Doe\n",
    "print(normalize_name(name3))  # Output: Alice O'Connor\n",
    "print(normalize_name(name4))  # Output: Elon Musk\n",
    "print(normalize_name(name5))  # Output: Mary Anne\n"
   ]
  },
  {
   "cell_type": "markdown",
   "id": "988db0b2",
   "metadata": {},
   "source": [
    "_B) Extract domain from email_"
   ]
  },
  {
   "cell_type": "code",
   "execution_count": 117,
   "id": "c1ea6ee4",
   "metadata": {},
   "outputs": [
    {
     "name": "stdout",
     "output_type": "stream",
     "text": [
      "example.com\n",
      "None\n",
      "None\n",
      "sub.domain.com\n",
      "example.co.uk\n"
     ]
    }
   ],
   "source": [
    "def email_domain(email: str) -> str | None:\n",
    "    email = email.strip()                      # Remove leading/trailing spaces\n",
    "    if '@' not in email or email.count(\"@\") != 1:  # Check for exactly one '@'\n",
    "        return None                            # Return None if invalid email\n",
    "    _, domain = email.rsplit(\"@\", 1)           # Split from right at '@' to get domain\n",
    "    return domain.lower()                       # Return domain in lowercase\n",
    "\n",
    "# Test cases to check the function behavior\n",
    "print(email_domain(\" User@Example.COM \"))   # Output: example.com (valid email)\n",
    "print(email_domain(\"no-at-symbol\"))          # Output: None (missing '@')\n",
    "print(email_domain(\"wrong@@example.com\"))    # Output: None (more than one '@')\n",
    "print(email_domain(\"admin@Sub.Domain.COM\"))  # Output: sub.domain.com (valid email)\n",
    "print(email_domain(\"   alice@Example.co.uk \"))  # Output: example.co.uk (valid email)"
   ]
  },
  {
   "cell_type": "markdown",
   "id": "4c27d01a",
   "metadata": {},
   "source": [
    "_C) Robust CSV line split (when fields may contain commas)_"
   ]
  },
  {
   "cell_type": "code",
   "execution_count": 123,
   "id": "e6cb9466",
   "metadata": {},
   "outputs": [
    {
     "name": "stdout",
     "output_type": "stream",
     "text": [
      "['name', 'age', 'city']\n",
      "['Alice', '30', 'New York']\n",
      "['Bob', '25', 'Los Angeles']\n"
     ]
    }
   ],
   "source": [
    "import csv\n",
    "from io import StringIO\n",
    "\n",
    "line = \"name,age,city\\nAlice,30,New York\\nBob,25,Los Angeles\"  # CSV data in a string\n",
    "\n",
    "reader = csv.reader(StringIO(line))  # Convert string to file-like object, then parse CSV\n",
    "\n",
    "for row in reader:\n",
    "    print(row)  # Prints each row as a list of values"
   ]
  },
  {
   "cell_type": "markdown",
   "id": "9150dcaa",
   "metadata": {},
   "source": [
    "_D) File path utilities (use pathlib, best approach)_"
   ]
  },
  {
   "cell_type": "code",
   "execution_count": null,
   "id": "bee5d3cd",
   "metadata": {},
   "outputs": [
    {
     "name": "stdout",
     "output_type": "stream",
     "text": [
      "olist_orders.csv\n",
      "olist_orders\n",
      ".csv\n",
      "C:\\Data\\Raw\n"
     ]
    }
   ],
   "source": [
    "from pathlib import Path  # Import Path class from pathlib module\n",
    "\n",
    "p = Path(r\"C:\\Data\\Raw\\olist_orders.csv\")  # Create a Path object representing the file path\n",
    "\n",
    "print(p.name)    # 'olist_orders.csv'   --> The file name with extension\n",
    "print(p.stem)    # 'olist_orders'       --> The file name without the extension\n",
    "print(p.suffix)  # '.csv'               --> The file extension (including the dot)\n",
    "print(p.parent)  # WindowsPath('C:/Data/Raw') --> The directory path containing the file"
   ]
  },
  {
   "cell_type": "markdown",
   "id": "8c244a18",
   "metadata": {},
   "source": [
    "#### Encoding / decoding (text ↔ bytes)"
   ]
  },
  {
   "cell_type": "code",
   "execution_count": 131,
   "id": "e0055736",
   "metadata": {},
   "outputs": [
    {
     "name": "stdout",
     "output_type": "stream",
     "text": [
      "नमस्ते, TechConvos!\n",
      "b'\\xe0\\xa4\\xa8\\xe0\\xa4\\xae\\xe0\\xa4\\xb8\\xe0\\xa5\\x8d\\xe0\\xa4\\xa4\\xe0\\xa5\\x87, TechConvos!'\n",
      "नमस्ते, TechConvos!\n"
     ]
    }
   ],
   "source": [
    "data = \"नमस्ते, TechConvos!\"       # Original string containing Unicode characters (Hindi + English)\n",
    "\n",
    "b = data.encode(\"utf-8\")           # Convert the string into bytes using UTF-8 encoding\n",
    "                                  # Bytes are necessary for writing data to disk or sending over a network\n",
    "\n",
    "txt = b.decode(\"utf-8\")            # Convert the bytes back to a string using UTF-8 decoding\n",
    "                                  # This restores the original text from the bytes\n",
    "\n",
    "# Note:\n",
    "# Always specify the encoding (like 'utf-8') when reading/writing files or streams,\n",
    "# especially when sharing data between different systems,\n",
    "# to avoid corruption or misinterpretation of characters.\n",
    "\n",
    "\n",
    "print(data)    # Prints: नमस्ते, TechConvos!\n",
    "print(b)       # Prints: b'\\xe0\\xa4\\xa8\\xe0\\xa\\\n",
    "         #             4\\xae\\xe0\\xa4\\xb8\\xe0\\xa4\\xa4\\xe0\\xa5\\x87, TechConvos!'\n",
    "print(txt)     # Prints: नमस्ते, TechConvos!\n"
   ]
  },
  {
   "cell_type": "markdown",
   "id": "579de496",
   "metadata": {},
   "source": [
    "#### Regex (for advanced splitting/parsing)"
   ]
  },
  {
   "cell_type": "code",
   "execution_count": null,
   "id": "3462a9d3",
   "metadata": {},
   "outputs": [],
   "source": []
  },
  {
   "cell_type": "code",
   "execution_count": null,
   "id": "fe053058",
   "metadata": {},
   "outputs": [],
   "source": []
  }
 ],
 "metadata": {
  "kernelspec": {
   "display_name": "Python 3",
   "language": "python",
   "name": "python3"
  },
  "language_info": {
   "codemirror_mode": {
    "name": "ipython",
    "version": 3
   },
   "file_extension": ".py",
   "mimetype": "text/x-python",
   "name": "python",
   "nbconvert_exporter": "python",
   "pygments_lexer": "ipython3",
   "version": "3.12.11"
  }
 },
 "nbformat": 4,
 "nbformat_minor": 5
}
