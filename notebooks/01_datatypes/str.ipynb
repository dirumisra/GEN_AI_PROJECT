{
 "cells": [
  {
   "cell_type": "markdown",
   "metadata": {},
   "source": [
    "#### Strings (text)\n",
    "\n",
    "What a string is : Immutable sequence of Unicode code points."
   ]
  },
  {
   "cell_type": "markdown",
   "id": "87299a2e",
   "metadata": {},
   "source": [
    "##### Essential creation & inspection"
   ]
  },
  {
   "cell_type": "code",
   "execution_count": null,
   "id": "b826ac96",
   "metadata": {},
   "outputs": [
    {
     "name": "stdout",
     "output_type": "stream",
     "text": [
      "variable length is: > 18\n",
      "\n",
      "First Char of variable :> H\n",
      "nLast char of variable : > !\n",
      "llo, \n",
      "Reverse char of variable: > !sovnoChceT ,olleH\n"
     ]
    }
   ],
   "source": [
    "s = \"Hello, TechConvos!\"\n",
    "\n",
    "# length\n",
    "len(s)\n",
    "print(\"variable length is: >\", len(s))\n",
    "\n",
    "# indexing\n",
    "print(\"\\nFirst Char of variable :>\", s[0])\n",
    "print(\"nLast char of variable : >\", s[-1])\n",
    "\n",
    "# slicing, reverse\n",
    "# syntax of slicing Start:End:interval\n",
    "print(s[2:7])\n",
    "\n",
    "print(\"Reverse char of variable: >\",s[::-1])"
   ]
  },
  {
   "cell_type": "markdown",
   "id": "594e7325",
   "metadata": {},
   "source": [
    "#### Trimming & normalizing whitespace"
   ]
  },
  {
   "cell_type": "code",
   "execution_count": 82,
   "id": "0df0c941",
   "metadata": {},
   "outputs": [
    {
     "name": "stdout",
     "output_type": "stream",
     "text": [
      "=== ORIGINAL STRINGS ===\n",
      "\n",
      "name :>  'Dhiraj     Mishra'\n",
      "leftstrip ' Tech Convos'\n",
      "right_tstrip 'Tech Convos '\n",
      "\n",
      "===Space Count====\n",
      "Left spaces in 'name': 0\n",
      "Right spaces in 'name': 0\n",
      "Left spaces in 'leftstrip': 1\n",
      "Right spaces in 'right_strip': 1\n",
      "\n",
      "=== NORMALIZED NAME ===\n",
      "Original length: > 17\n",
      "Cleaned Length: > 13\n",
      "Cleaned output: > Dhiraj Mishra\n",
      "\n",
      "=== TRIMMED STRINGS ===\n",
      "Trimmed 'name': 'Dhiraj     Mishra'\n",
      "Trimmed 'leftstrip': 'Tech Convos'\n",
      "Trimmed 'right_strip': 'Tech Convos'\n",
      "\n",
      "=== STRINGS WITH PRESERVED PADDING ===\n",
      "Left-padded 'name': 'Dhiraj     Mishra'\n",
      "Right-padded 'name': 'Dhiraj     Mishra'\n",
      "Left-padded 'leftstrip': '  Tech Convos'\n",
      "Right-padded 'right_strip': 'Tech Convos  '\n"
     ]
    }
   ],
   "source": [
    "# STRING MANIPULATION & WHITESPACE HANDLING IN PYTHON\n",
    "# ----------------------------------------------\n",
    "# Define three strings with different spacing issues\n",
    "\n",
    "name = \"Dhiraj     Mishra\"        # This string has multiple spaces **between** the words.\n",
    "leftstrip = \" Tech Convos\"        # This string has one leading space at the beginning.\n",
    "right_strip = \"Tech Convos \"      # This string has one trailing space at the end.\n",
    "\n",
    "# -----------------------------------------------------\n",
    "# STEP 1: CALCULATE LEADING AND TRAILING SPACES\n",
    "\n",
    "# Count how many spaces are on the **left side** (leading) of 'name'\n",
    "# len(name) gives total length, len(name.lstrip()) removes leading spaces\n",
    "left_space_name =  len(name) - len(name.lstrip())\n",
    "\n",
    "# Count how many spaces are on the **right side** (trailing) of 'name'\n",
    "right_space_name = len(name) - len(name.rstrip())\n",
    "\n",
    "# Repeat the same logic for 'leftstrip'\n",
    "lspace_leftstrip = len(leftstrip) - len(leftstrip.lstrip())\n",
    "\n",
    "# Repeat the same logic for 'righttstrip'\n",
    "\n",
    "rspace_rstrip = len(right_strip) - len(right_strip.rstrip())\n",
    "\n",
    "# PRINT ORIGINAL STRINGS (with repr to show hidden spaces)\n",
    "print(\"=== ORIGINAL STRINGS ===\\n\")\n",
    "print(\"name :> \", repr(name))           # repr() shows the string with quotes and visible spaces\n",
    "print(\"leftstrip\", repr(leftstrip))     # Useful for debugging leading/trailing whitespace\n",
    "print(\"right_tstrip\", repr(right_strip))\n",
    "\n",
    "# DISPLAY COUNT OF SPACES\n",
    "\n",
    "print(\"\\n===Space Count====\")\n",
    "print(\"Left spaces in 'name':\", left_space_name)\n",
    "print(\"Right spaces in 'name':\", right_space_name)\n",
    "\n",
    "print(\"Left spaces in 'leftstrip':\", lspace_leftstrip)\n",
    "print(\"Right spaces in 'right_strip':\", rspace_rstrip )\n",
    "\n",
    "\n",
    "# NORMALIZE 'name' (Collapse multiple spaces to a single space)\n",
    "# name.split() splits string into words (splits on ANY whitespace)\n",
    "# \" \".join(...) joins the words with **a single space**\n",
    "\n",
    "clean_name = \" \".join(name.split())\n",
    "\n",
    "print(\"\\n=== NORMALIZED NAME ===\")\n",
    "\n",
    "print(\"Original length: >\", len(name))\n",
    "print(\"Cleaned Length: >\", len(clean_name))\n",
    "print(\"Cleaned output: >\",clean_name)\n",
    "\n",
    "#  STRIP SPACES FROM STRINGS\n",
    "# .strip() removes spaces from both ends\n",
    "trimed_name = name.strip()\n",
    "\n",
    "\n",
    "# .strip() works the same for the other strings\n",
    "trimed_leftstrip = leftstrip.strip()\n",
    "trimed_rightstrip = right_strip.strip()\n",
    "\n",
    "\n",
    "print(\"\\n=== TRIMMED STRINGS ===\")\n",
    "print(\"Trimmed 'name':\", repr(trimed_name))               # No leading/trailing spaces\n",
    "print(\"Trimmed 'leftstrip':\", repr(trimed_leftstrip))     # Should remove 1 leading space\n",
    "print(\"Trimmed 'right_strip':\", repr(trimed_rightstrip))  # Should remove 1 trailing space\n",
    "\n",
    "# RECONSTRUCT STRINGS WITH PRESERVED PADDING\n",
    "\n",
    "# Recreate the left-padded version of 'name' by prepending the counted spaces\n",
    "\n",
    "left_padded_name = \" \" * left_space_name + name\n",
    "\n",
    "\n",
    "# Do the same for 'leftstrip' and 'right_strip'\n",
    "left_padded_leftstrip = \" \" * lspace_leftstrip + leftstrip\n",
    "right_padded_rightstrip = right_strip + \" \" * rspace_rstrip\n",
    "\n",
    "print(\"\\n=== STRINGS WITH PRESERVED PADDING ===\")\n",
    "print(\"Left-padded 'name':\", repr(left_padded_name))\n",
    "print(\"Right-padded 'name':\", repr(right_padded_name))\n",
    "print(\"Left-padded 'leftstrip':\", repr(left_padded_leftstrip))\n",
    "print(\"Right-padded 'right_strip':\", repr(right_padded_rightstrip))"
   ]
  },
  {
   "cell_type": "code",
   "execution_count": null,
   "id": "bdb068b3",
   "metadata": {},
   "outputs": [],
   "source": []
  },
  {
   "cell_type": "code",
   "execution_count": null,
   "id": "077acdeb",
   "metadata": {},
   "outputs": [],
   "source": []
  },
  {
   "cell_type": "code",
   "execution_count": null,
   "id": "7be22934",
   "metadata": {},
   "outputs": [],
   "source": []
  }
 ],
 "metadata": {
  "kernelspec": {
   "display_name": "Python 3",
   "language": "python",
   "name": "python3"
  },
  "language_info": {
   "codemirror_mode": {
    "name": "ipython",
    "version": 3
   },
   "file_extension": ".py",
   "mimetype": "text/x-python",
   "name": "python",
   "nbconvert_exporter": "python",
   "pygments_lexer": "ipython3",
   "version": "3.12.11"
  }
 },
 "nbformat": 4,
 "nbformat_minor": 5
}
