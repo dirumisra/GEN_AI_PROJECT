{
 "cells": [
  {
   "cell_type": "markdown",
   "metadata": {},
   "source": [
    "# 🐍 Python dict Data Type — Complete Guide\n",
    "\n",
    "What is a Dictionary?\n",
    "- A dict is a mutable, unordered collection of key → value pairs.\n",
    "- Keys must be hashable (immutable types: numbers, strings, tuples of immutables).\n",
    "- Values can be any type (including lists, dicts, sets).\n",
    "- Average lookup, insertion, deletion is O(1) (hash table under the hood)."
   ]
  },
  {
   "cell_type": "code",
   "execution_count": 16,
   "id": "5f1bcb8d",
   "metadata": {},
   "outputs": [
    {
     "name": "stdout",
     "output_type": "stream",
     "text": [
      "d1: {}\n",
      "d2: {}\n",
      "d3: {'name': 'Dhiraj', 'age': 36, 'city': 'Delhi'}\n",
      "d4: {'name': 'Pooja', 'age': 34}\n",
      "d5: {'a': 1, 'b': 2}\n",
      "d6: {'x': 10, 'y': 20, 'z': 30}\n"
     ]
    }
   ],
   "source": [
    "# --- Empty dict ---\n",
    "d1 = {}\n",
    "print(\"d1:\", d1)           # Output: d1: {}\n",
    "\n",
    "d2 = dict()\n",
    "print(\"d2:\", d2)           # Output: d2: {}\n",
    "\n",
    "# --- Dictionary with values ---\n",
    "d3 = {\"name\": \"Dhiraj\", \"age\": 36, \"city\": \"Delhi\"}\n",
    "print(\"d3:\", d3)           # Output: d3: {'name': 'Dhiraj', 'age': 36, 'city': 'Delhi'}\n",
    "\n",
    "# --- Using dict() with keyword arguments ---\n",
    "d4 = dict(name=\"Pooja\", age=34)\n",
    "print(\"d4:\", d4)           # Output: d4: {'name': 'Pooja', 'age': 34}\n",
    "\n",
    "# --- From list of tuples ---\n",
    "pairs = [(\"a\", 1), (\"b\", 2)]\n",
    "d5 = dict(pairs)\n",
    "print(\"d5:\", d5)           # Output: d5: {'a': 1, 'b': 2}\n",
    "\n",
    "# --- From zip of two lists ---\n",
    "keys = [\"x\", \"y\", \"z\"]\n",
    "values = [10, 20, 30]\n",
    "d6 = dict(zip(keys, values))\n",
    "print(\"d6:\", d6)           # Output: d6: {'x': 10, 'y': 20, 'z': 30}"
   ]
  },
  {
   "cell_type": "markdown",
   "id": "59c91701",
   "metadata": {},
   "source": [
    "#### Accessing Dictionary Values"
   ]
  },
  {
   "cell_type": "code",
   "execution_count": 20,
   "id": "12bad8af",
   "metadata": {},
   "outputs": [
    {
     "name": "stdout",
     "output_type": "stream",
     "text": [
      "Dhiraj\n",
      "None\n",
      "0\n"
     ]
    }
   ],
   "source": [
    "person = {\"name\": \"Dhiraj\", \"role\": \"Team Lead\"}\n",
    "\n",
    "# Direct access by key (raises KeyError if key not found)\n",
    "print(person[\"name\"])      # Output: Dhiraj\n",
    "# print(person[\"salary\"])  # ❌ This would raise KeyError because 'salary' is missing\n",
    "\n",
    "# --- Safe access using .get() method ---\n",
    "\n",
    "print(person.get(\"salary\"))        # Output: None (returns None if key not found)\n",
    "print(person.get(\"salary\", 0))     # Output: 0 (returns default value if key not found)\n"
   ]
  },
  {
   "cell_type": "markdown",
   "id": "1c01d6bd",
   "metadata": {},
   "source": [
    "#### Modifying Dictionaries"
   ]
  },
  {
   "cell_type": "code",
   "execution_count": 29,
   "id": "eab1884c",
   "metadata": {},
   "outputs": [
    {
     "name": "stdout",
     "output_type": "stream",
     "text": [
      "{'a': 99, 'b': 2, 'c': 3}\n",
      "3\n",
      "{}\n"
     ]
    }
   ],
   "source": [
    "d = {\"a\": 1, \"b\": 2}\n",
    "\n",
    "# --- Add or update ---\n",
    "d[\"c\"] = 3                 # Add a new key-value pair\n",
    "d[\"a\"] = 99                # Update the value of existing key 'a'\n",
    "print(d)                   # Output: {'a': 99, 'b': 2, 'c': 3}\n",
    "\n",
    "# --- Delete keys ---\n",
    "del d[\"b\"]                 # Remove key 'b' from dictionary\n",
    "# del d[\"z\"]               # ❌ Would raise KeyError since 'z' does not exist\n",
    "\n",
    "val = d.pop(\"c\")           # Remove key 'c' and return its value\n",
    "print(val)                 # Output: 3\n",
    "\n",
    "# d.pop(\"z\", \"not found\")  # Safe pop with default if key doesn't exist (uncomment to test)\n",
    "\n",
    "d.clear()                  # Remove all entries from dictionary\n",
    "print(d)                   # Output: {}\n"
   ]
  },
  {
   "cell_type": "markdown",
   "id": "c7e88024",
   "metadata": {},
   "source": [
    "#### Dictionary Methods"
   ]
  },
  {
   "cell_type": "code",
   "execution_count": 48,
   "id": "d72fed2d",
   "metadata": {},
   "outputs": [
    {
     "name": "stdout",
     "output_type": "stream",
     "text": [
      "dict_keys(['id', 'name', 'skills'])\n",
      "dict_values([1, 'Dhiraj', ['Python', 'SQL']])\n",
      "dict_items([('id', 1), ('name', 'Dhiraj'), ('skills', ['Python', 'SQL'])])\n",
      "skills ['Python', 'SQL']\n",
      "{'id': 1, 'name': 'Dhiraj'}\n",
      "{'theme': 'dark'}\n",
      "{'x': 1, 'y': 99, 'z': 3}\n"
     ]
    }
   ],
   "source": [
    "user = {\"id\": 1, \"name\": \"Dhiraj\", \"skills\": [\"Python\", \"SQL\"]}\n",
    "\n",
    "# .keys() returns a dynamic view of all keys in the dictionary\n",
    "print(user.keys())         # Output: dict_keys(['id', 'name', 'skills'])\n",
    "\n",
    "# .values() returns a dynamic view of all values\n",
    "print(user.values())       # Output: dict_values([1, 'Dhiraj', ['Python', 'SQL']])\n",
    "\n",
    "# .items() returns a dynamic view of (key, value) pairs\n",
    "print(user.items())        # Output: dict_items([('id', 1), ('name', 'Dhiraj'), ('skills', ['Python', 'SQL'])])\n",
    "\n",
    "# --- Pop item ---\n",
    "k, v = user.popitem()      # Removes and returns the last inserted (key, value) pair (LIFO order since Python 3.7)\n",
    "print(k, v)                # Output: skills ['Python', 'SQL']\n",
    "print(user)                # Now 'skills' key is removed\n",
    "\n",
    "# --- setdefault ---\n",
    "config = {}\n",
    "config.setdefault(\"theme\", \"dark\")   # Adds key 'theme' with value 'dark' only if it doesn't exist\n",
    "print(config)                        # Output: {'theme': 'dark'}\n",
    "\n",
    "# --- update ---\n",
    "a = {\"x\": 1, \"y\": 2}\n",
    "b = {\"y\": 99, \"z\": 3}\n",
    "a.update(b)                         # Merge dictionary b into a; updates values for duplicate keys\n",
    "print(a)                           # Output: {'x': 1, 'y': 99, 'z': 3}\n"
   ]
  },
  {
   "cell_type": "markdown",
   "id": "45f8879f",
   "metadata": {},
   "source": [
    "#### Iterating Through Dictionaries"
   ]
  },
  {
   "cell_type": "code",
   "execution_count": 55,
   "id": "de390949",
   "metadata": {},
   "outputs": [
    {
     "name": "stdout",
     "output_type": "stream",
     "text": [
      "name Pooja\n",
      "age 34\n",
      "name → Pooja\n",
      "age → 34\n",
      "Pooja\n",
      "34\n"
     ]
    }
   ],
   "source": [
    "person = {\"name\": \"Pooja\", \"age\": 34}\n",
    "\n",
    "# Iterate over keys (default iteration over dict is keys)\n",
    "for key in person:\n",
    "    print(key, person[key])\n",
    "# Output:\n",
    "# name Pooja\n",
    "# age 34\n",
    "\n",
    "# Iterate over key-value pairs using .items()\n",
    "for k, v in person.items():\n",
    "    print(f\"{k} → {v}\")\n",
    "# Output:\n",
    "# name → Pooja\n",
    "# age → 34\n",
    "\n",
    "# Iterate over values only using .values()\n",
    "for val in person.values():\n",
    "    print(val)\n",
    "# Output:\n",
    "# Pooja\n",
    "# 34\n"
   ]
  },
  {
   "cell_type": "markdown",
   "id": "44e6e923",
   "metadata": {},
   "source": [
    "#### Nested Dictionaries"
   ]
  },
  {
   "cell_type": "code",
   "execution_count": 58,
   "id": "ad1f13e3",
   "metadata": {},
   "outputs": [
    {
     "name": "stdout",
     "output_type": "stream",
     "text": [
      "Python\n",
      "Unknown\n"
     ]
    }
   ],
   "source": [
    "users = {\n",
    "    \"u1\": {\"name\": \"Dhiraj\", \"skills\": [\"Python\", \"Power BI\"]},\n",
    "    \"u2\": {\"name\": \"Pooja\", \"skills\": [\"SQL\", \"AI\"]}\n",
    "}\n",
    "\n",
    "# Access nested value: first skill of user \"u1\"\n",
    "print(users[\"u1\"][\"skills\"][0])     # Output: Python\n",
    "\n",
    "# --- Safe access using get() to avoid KeyError ---\n",
    "# users.get(\"u3\", {}) returns an empty dict if \"u3\" not found,\n",
    "# then .get(\"name\", \"Unknown\") returns \"Unknown\" if \"name\" key missing\n",
    "print(users.get(\"u3\", {}).get(\"name\", \"Unknown\"))  # Output: Unknown\n"
   ]
  },
  {
   "cell_type": "markdown",
   "id": "1249935b",
   "metadata": {},
   "source": [
    "#### Dictionary Comprehensions"
   ]
  },
  {
   "cell_type": "code",
   "execution_count": 8,
   "id": "68015cf0",
   "metadata": {},
   "outputs": [
    {
     "name": "stdout",
     "output_type": "stream",
     "text": [
      "{'apple': 5, 'ant': 3}\n"
     ]
    }
   ],
   "source": [
    "# Dictionary comprehension to create a dictionary where the keys are numbers\n",
    "# from 0 to 4 and the values are the square of those numbers.\n",
    "square = {x: x**2 for x in range(5)}  \n",
    "# Output will be: {0: 0, 1: 1, 2: 4, 3: 9, 4: 16}\n",
    "\n",
    "# In the next section, we are swapping the keys and values of the original dictionary.\n",
    "# This is done by iterating over the dictionary items and flipping them using {v: k} for each key-value pair.\n",
    "d = {\"a\": 1, \"b\": 2}\n",
    "inverse = {v: k for k, v in d.items()}  \n",
    "# The result will be a new dictionary where the original values become keys and \n",
    "# the original keys become values: {1: 'a', 2: 'b'}\n",
    "\n",
    "# Now we have a list of words and want to create a dictionary with words starting with \"a\" \n",
    "# as the keys, and the length of those words as the corresponding values.\n",
    "words = [\"apple\", \"ant\", \"bat\"]\n",
    "\n",
    "# Dictionary comprehension to filter only words that start with \"a\"\n",
    "# For each word in the list `words`, if the word starts with \"a\", \n",
    "# the word itself becomes the key and its length becomes the value.\n",
    "a_words = {w: len(w) for w in words if w.startswith(\"a\")}\n",
    "\n",
    "# This will only include \"apple\" and \"ant\" since they start with 'a'\n",
    "# The result will be: {'apple': 5, 'ant': 3}\n",
    "\n",
    "print(a_words)"
   ]
  },
  {
   "cell_type": "markdown",
   "id": "4dbbacbd",
   "metadata": {},
   "source": [
    "#### Merging Dictionaries (Python 3.9+)"
   ]
  },
  {
   "cell_type": "code",
   "execution_count": 14,
   "id": "7b64b79b",
   "metadata": {},
   "outputs": [
    {
     "name": "stdout",
     "output_type": "stream",
     "text": [
      "{'a': 1, 'b': 99, 'c': 3}\n"
     ]
    }
   ],
   "source": [
    "# Dictionary d1 contains keys \"a\" and \"b\" with values 1 and 2 respectively.\n",
    "d1 = {\"a\": 1, \"b\": 2}\n",
    "\n",
    "# Dictionary d2 contains keys \"b\" and \"c\" with values 99 and 3 respectively.\n",
    "d2 = {\"b\": 99, \"c\": 3}\n",
    "\n",
    "# The `|` operator is used to merge two dictionaries. \n",
    "# If there are overlapping keys (like \"b\" in this case), \n",
    "# the value from the second dictionary (d2) will overwrite the value from the first dictionary (d1).\n",
    "merged = d1 | d2\n",
    "# The result will be: {'a': 1, 'b': 99, 'c': 3}\n",
    "# - 'a' from d1 remains 1.\n",
    "# - 'b' from d1 (value 2) is overwritten by 'b' from d2 (value 99).\n",
    "# - 'c' from d2 is added because it wasn't in d1.\n",
    "\n",
    "# The `|=` operator updates the first dictionary (d1) in place with the contents of the second dictionary (d2).\n",
    "d1 |= d2\n",
    "# After this operation, d1 will be updated to: {'a': 1, 'b': 99, 'c': 3}\n",
    "# - 'b' in d1 is updated to 99, and 'c' is added to d1 from d2.\n",
    "# - The original value of 'b' in d1 (2) is replaced with the value from d2 (99).\n",
    "\n",
    "# Now d1 is modified in place. If you print it:\n",
    "print(d1)  # Output: {'a': 1, 'b': 99, 'c': 3}\n"
   ]
  },
  {
   "cell_type": "code",
   "execution_count": 15,
   "id": "36b6f3fe",
   "metadata": {},
   "outputs": [
    {
     "name": "stdout",
     "output_type": "stream",
     "text": [
      "{'a': 1, 'b': 99, 'c': 3}\n"
     ]
    }
   ],
   "source": [
    "# Example with update()\n",
    "d1 = {\"a\": 1, \"b\": 2}\n",
    "d2 = {\"b\": 99, \"c\": 3}\n",
    "\n",
    "# Merging d2 into d1 (in-place operation)\n",
    "d1.update(d2)\n",
    "\n",
    "# After merging, d1 is updated to:\n",
    "print(d1)  # Output: {'a': 1, 'b': 99, 'c': 3}\n",
    "\n"
   ]
  },
  {
   "cell_type": "code",
   "execution_count": 16,
   "id": "8c7e8217",
   "metadata": {},
   "outputs": [
    {
     "name": "stdout",
     "output_type": "stream",
     "text": [
      "{'a': 1, 'b': 99, 'c': 3}\n"
     ]
    }
   ],
   "source": [
    "# Example with dictionary unpacking\n",
    "d1 = {\"a\": 1, \"b\": 2}\n",
    "d2 = {\"b\": 99, \"c\": 3}\n",
    "\n",
    "# Merging d1 and d2 into a new dictionary\n",
    "merged = {**d1, **d2}\n",
    "\n",
    "# After merging, merged will be:\n",
    "print(merged)  # Output: {'a': 1, 'b': 99, 'c': 3}\n"
   ]
  },
  {
   "cell_type": "code",
   "execution_count": 17,
   "id": "6e49884b",
   "metadata": {},
   "outputs": [
    {
     "name": "stdout",
     "output_type": "stream",
     "text": [
      "{'b': 2, 'c': 3, 'a': 1}\n",
      "ChainMap({'a': 1, 'b': 2}, {'b': 99, 'c': 3})\n"
     ]
    }
   ],
   "source": [
    "from collections import ChainMap\n",
    "\n",
    "d1 = {\"a\": 1, \"b\": 2}\n",
    "d2 = {\"b\": 99, \"c\": 3}\n",
    "\n",
    "# ChainMap doesn't merge dictionaries physically but allows you to access values from both in order\n",
    "merged = ChainMap(d1, d2)\n",
    "\n",
    "# After merging, ChainMap will provide a merged view:\n",
    "print(dict(merged))  # Output: {'a': 1, 'b': 2, 'c': 3}\n",
    "\n",
    "# If you print merged, notice the order of keys (d1 is checked first, then d2):\n",
    "print(merged)  # Output: ChainMap({'a': 1, 'b': 2}, {'b': 99, 'c': 3})\n"
   ]
  },
  {
   "cell_type": "code",
   "execution_count": 18,
   "id": "b4ca7ade",
   "metadata": {},
   "outputs": [
    {
     "name": "stdout",
     "output_type": "stream",
     "text": [
      "{'a': 1, 'b': 99, 'c': 3}\n"
     ]
    }
   ],
   "source": [
    "from itertools import chain\n",
    "\n",
    "d1 = {\"a\": 1, \"b\": 2}\n",
    "d2 = {\"b\": 99, \"c\": 3}\n",
    "\n",
    "# Merge dictionaries using itertools.chain (flattening dict items into pairs)\n",
    "merged = dict(chain(d1.items(), d2.items()))\n",
    "\n",
    "# After merging, merged will be:\n",
    "print(merged)  # Output: {'a': 1, 'b': 99, 'c': 3}\n"
   ]
  },
  {
   "cell_type": "markdown",
   "id": "700953f2",
   "metadata": {},
   "source": [
    "#### Dictionary Views (live updates)"
   ]
  },
  {
   "cell_type": "code",
   "execution_count": 19,
   "id": "20f892fa",
   "metadata": {},
   "outputs": [
    {
     "name": "stdout",
     "output_type": "stream",
     "text": [
      "dict_keys(['x', 'y'])\n"
     ]
    }
   ],
   "source": [
    "# Initial dictionary with one key-value pair\n",
    "d = {\"x\": 1}\n",
    "\n",
    "# Get a view of the dictionary's keys. \n",
    "# The variable `keys` will hold a view of the dictionary's keys.\n",
    "keys = d.keys()\n",
    "\n",
    "# Add a new key-value pair to the dictionary.\n",
    "d[\"y\"] = 2\n",
    "\n",
    "# Print the keys view. Since dictionary views are dynamic,\n",
    "# it reflects the changes made to the dictionary (the newly added key 'y').\n",
    "print(keys)  # Output: dict_keys(['x', 'y'])  → reflects changes\n"
   ]
  },
  {
   "cell_type": "markdown",
   "id": "acec95c8",
   "metadata": {},
   "source": [
    "#### Common Patterns"
   ]
  },
  {
   "cell_type": "code",
   "execution_count": 38,
   "id": "b0dcda02",
   "metadata": {},
   "outputs": [
    {
     "name": "stdout",
     "output_type": "stream",
     "text": [
      "{'data': 3, 'python': 1, 'ai': 1}\n",
      "{'IN': ['Delhi', 'Mumbai'], 'US': ['NY']}\n",
      "{1: 'a', 2: 'b'}\n"
     ]
    }
   ],
   "source": [
    "sentence = \"data data python ai data\"\n",
    "\n",
    "# Initialize an empty dictionary to store word frequencies\n",
    "freq = {}\n",
    "\n",
    "# Split the sentence into words and iterate through them\n",
    "for word in sentence.split():\n",
    "    # Use dict.get() to handle missing keys\n",
    "    # If the word doesn't exist in freq, get() returns 0\n",
    "    # We then increment the count by 1\n",
    "    freq[word] = freq.get(word, 0) + 1\n",
    "\n",
    "# Output the frequency dictionary\n",
    "print(freq)  # Output: {'data': 3, 'python': 1, 'ai': 1}\n",
    "\n",
    "\n",
    "rows = [(\"IN\", \"Delhi\"), (\"IN\", \"Mumbai\"), (\"US\", \"NY\")]\n",
    "\n",
    "# Initialize an empty dictionary to store grouped cities\n",
    "grouped = {}\n",
    "\n",
    "# Iterate through the list of (country, city) pairs\n",
    "for country, city in rows:\n",
    "    # setdefault ensures that if the country key does not exist,\n",
    "    # it's initialized with an empty list\n",
    "    # Then, we append the city to the list\n",
    "    grouped.setdefault(country, []).append(city)\n",
    "\n",
    "# Output the grouped dictionary\n",
    "print(grouped)  # Output: {'IN': ['Delhi', 'Mumbai'], 'US': ['NY']}\n",
    "\n",
    "\n",
    "d = {\"a\": 1, \"b\": 2}\n",
    "\n",
    "# Invert keys and values using a dictionary comprehension\n",
    "# Each value becomes a key, and each key becomes a value\n",
    "inv = {v: k for k, v in d.items()}\n",
    "\n",
    "print(inv)  # Output: {1: 'a', 2: 'b'}\n",
    "\n",
    "\n"
   ]
  },
  {
   "cell_type": "markdown",
   "id": "bac38c69",
   "metadata": {},
   "source": [
    "#### Advanced: collections helpers"
   ]
  },
  {
   "cell_type": "code",
   "execution_count": 44,
   "id": "7418d921",
   "metadata": {},
   "outputs": [
    {
     "name": "stdout",
     "output_type": "stream",
     "text": [
      "defaultdict(<class 'list'>, {'a': [1]})\n",
      "Counter({'a': 3, 'n': 2, 'b': 1})\n",
      "OrderedDict({'b': 2, 'a': 1})\n"
     ]
    }
   ],
   "source": [
    "from collections import defaultdict, Counter, OrderedDict\n",
    "\n",
    "# 1. defaultdict: automatically creates default values for missing keys\n",
    "dd = defaultdict(list)  # Create a defaultdict where each missing key defaults to an empty list\n",
    "\n",
    "dd[\"a\"].append(1)       # 'a' key is missing, so an empty list is created automatically, then 1 is appended\n",
    "print(dd)               # Output: defaultdict(<class 'list'>, {'a': [1]})\n",
    "# Unlike a normal dict, defaultdict avoids KeyError by creating default values on the fly\n",
    "\n",
    "# 2. Counter: specialized dict for counting hashable objects (frequencies)\n",
    "c = Counter(\"banana\")   # Counts the frequency of each character in the string \"banana\"\n",
    "print(c)                # Output: Counter({'a': 3, 'n': 2, 'b': 1})\n",
    "# You can also use Counter for counting items in lists, tuples, etc.\n",
    "\n",
    "# 3. OrderedDict: dictionary that remembers the insertion order of keys\n",
    "# Note: Since Python 3.7+, normal dicts preserve insertion order,\n",
    "# but OrderedDict has extra methods like move_to_end()\n",
    "od = OrderedDict([(\"a\", 1), (\"b\", 2)])  # Create an OrderedDict with two key-value pairs\n",
    "\n",
    "od.move_to_end(\"a\")      # Moves the key 'a' to the end of the order\n",
    "print(od)               # Output: OrderedDict([('b', 2), ('a', 1)])\n",
    "# Useful if you want to reorder keys after creation, e.g., for LRU caches or similar use cases\n"
   ]
  },
  {
   "cell_type": "markdown",
   "id": "2a1c7f2f",
   "metadata": {},
   "source": [
    "#### Pitfalls"
   ]
  },
  {
   "cell_type": "code",
   "execution_count": 45,
   "id": "2a8d2d76",
   "metadata": {},
   "outputs": [
    {
     "name": "stdout",
     "output_type": "stream",
     "text": [
      "Error: unhashable type: 'list'\n",
      "{'x': 2}\n"
     ]
    }
   ],
   "source": [
    "# 1. Using mutable keys ❌\n",
    "try:\n",
    "    bad = {[1,2]: \"oops\"}    # list is unhashable\n",
    "except TypeError as e:\n",
    "    print(\"Error:\", e)\n",
    "\n",
    "# 2. Iterating and modifying ❌\n",
    "d = {\"a\":1,\"b\":2}\n",
    "# for k in d: d.pop(k)      # RuntimeError\n",
    "# Solution: iterate on copy → for k in list(d): del d[k]\n",
    "\n",
    "# 3. Duplicate keys → last one wins\n",
    "dup = {\"x\":1, \"x\":2}\n",
    "print(dup)                  # {'x':2}\n"
   ]
  },
  {
   "cell_type": "markdown",
   "id": "6f6e6267",
   "metadata": {},
   "source": [
    "#### Practice Tasks"
   ]
  },
  {
   "cell_type": "markdown",
   "id": "186707e1",
   "metadata": {},
   "source": [
    "#### Create and update student marks dictionary"
   ]
  },
  {
   "cell_type": "code",
   "execution_count": 46,
   "id": "f6133bd1",
   "metadata": {},
   "outputs": [
    {
     "name": "stdout",
     "output_type": "stream",
     "text": [
      "{'Alice': 85, 'Bob': 95, 'Charlie': 78, 'Diana': 88}\n"
     ]
    }
   ],
   "source": [
    "# Create dictionary of students and marks\n",
    "students = {\"Alice\": 85, \"Bob\": 90, \"Charlie\": 78}\n",
    "\n",
    "# Update marks for one student\n",
    "students[\"Bob\"] = 95\n",
    "\n",
    "# Add a new student\n",
    "students[\"Diana\"] = 88\n",
    "\n",
    "print(students)\n",
    "# Output: {'Alice': 85, 'Bob': 95, 'Charlie': 78, 'Diana': 88}"
   ]
  },
  {
   "cell_type": "markdown",
   "id": "1f99d533",
   "metadata": {},
   "source": [
    "#### Invert employee → department dict to department → list of employees"
   ]
  },
  {
   "cell_type": "code",
   "execution_count": 47,
   "id": "bd8f495e",
   "metadata": {},
   "outputs": [
    {
     "name": "stdout",
     "output_type": "stream",
     "text": [
      "{'HR': ['John', 'Doe'], 'Engineering': ['Jane', 'Alice']}\n"
     ]
    }
   ],
   "source": [
    "employees = {\"John\": \"HR\", \"Jane\": \"Engineering\", \"Doe\": \"HR\", \"Alice\": \"Engineering\"}\n",
    "\n",
    "# Invert dict, grouping employees by department\n",
    "dept_employees = {}\n",
    "\n",
    "for emp, dept in employees.items():\n",
    "    dept_employees.setdefault(dept, []).append(emp)\n",
    "\n",
    "print(dept_employees)\n",
    "# Output: {'HR': ['John', 'Doe'], 'Engineering': ['Jane', 'Alice']}"
   ]
  },
  {
   "cell_type": "markdown",
   "id": "c4119539",
   "metadata": {},
   "source": [
    "#### Dict comprehension to map words to their lengths from a sentence"
   ]
  },
  {
   "cell_type": "code",
   "execution_count": 48,
   "id": "8e2315f7",
   "metadata": {},
   "outputs": [
    {
     "name": "stdout",
     "output_type": "stream",
     "text": [
      "{'Python': 6, 'programming': 11, 'is': 2, 'fun': 3}\n"
     ]
    }
   ],
   "source": [
    "sentence = \"Python programming is fun\"\n",
    "\n",
    "word_lengths = {word: len(word) for word in sentence.split()}\n",
    "\n",
    "print(word_lengths)\n",
    "# Output: {'Python': 6, 'programming': 11, 'is': 2, 'fun': 3}\n"
   ]
  },
  {
   "cell_type": "markdown",
   "id": "1097ee83",
   "metadata": {},
   "source": [
    "#### Function to merge two dicts, preferring values from the second"
   ]
  },
  {
   "cell_type": "code",
   "execution_count": 49,
   "id": "50481b73",
   "metadata": {},
   "outputs": [
    {
     "name": "stdout",
     "output_type": "stream",
     "text": [
      "{'a': 1, 'b': 99, 'c': 3}\n"
     ]
    }
   ],
   "source": [
    "def merge_dicts(d1, d2):\n",
    "    # Create a new dict copying d1, then update with d2's keys & values (overwriting if overlapping)\n",
    "    merged = d1.copy()\n",
    "    merged.update(d2)\n",
    "    return merged\n",
    "\n",
    "# Example usage\n",
    "d1 = {'a': 1, 'b': 2}\n",
    "d2 = {'b': 99, 'c': 3}\n",
    "\n",
    "print(merge_dicts(d1, d2))\n",
    "# Output: {'a': 1, 'b': 99, 'c': 3}\n"
   ]
  },
  {
   "cell_type": "markdown",
   "id": "5589fcc0",
   "metadata": {},
   "source": [
    "#### Count frequency of characters in a string using dict.get() (no Counter)"
   ]
  },
  {
   "cell_type": "code",
   "execution_count": 50,
   "id": "a3470902",
   "metadata": {},
   "outputs": [
    {
     "name": "stdout",
     "output_type": "stream",
     "text": [
      "{'h': 1, 'e': 1, 'l': 3, 'o': 2, ' ': 1, 'w': 1, 'r': 1, 'd': 1}\n"
     ]
    }
   ],
   "source": [
    "text = \"hello world\"\n",
    "freq = {}\n",
    "\n",
    "for ch in text:\n",
    "    freq[ch] = freq.get(ch, 0) + 1\n",
    "\n",
    "print(freq)\n",
    "# Example output: {'h': 1, 'e': 1, 'l': 3, 'o': 2, ' ': 1, 'w': 1, 'r': 1, 'd': 1}\n"
   ]
  },
  {
   "cell_type": "markdown",
   "id": "31e0c047",
   "metadata": {},
   "source": [
    "#### Use defaultdict to group cities by country"
   ]
  },
  {
   "cell_type": "code",
   "execution_count": 51,
   "id": "f7f4ed53",
   "metadata": {},
   "outputs": [
    {
     "name": "stdout",
     "output_type": "stream",
     "text": [
      "{'USA': ['NY', 'LA'], 'India': ['Delhi', 'Mumbai']}\n"
     ]
    }
   ],
   "source": [
    "from collections import defaultdict\n",
    "\n",
    "pairs = [(\"USA\", \"NY\"), (\"India\", \"Delhi\"), (\"USA\", \"LA\"), (\"India\", \"Mumbai\")]\n",
    "\n",
    "grouped = defaultdict(list)\n",
    "\n",
    "for country, city in pairs:\n",
    "    grouped[country].append(city)\n",
    "\n",
    "print(dict(grouped))\n",
    "# Output: {'USA': ['NY', 'LA'], 'India': ['Delhi', 'Mumbai']}\n"
   ]
  },
  {
   "cell_type": "markdown",
   "id": "d1946644",
   "metadata": {},
   "source": [
    "#### Use .popitem() to implement simple stack with dicts"
   ]
  },
  {
   "cell_type": "code",
   "execution_count": 52,
   "id": "00e70a90",
   "metadata": {},
   "outputs": [
    {
     "name": "stdout",
     "output_type": "stream",
     "text": [
      "2 third\n",
      "1 second\n",
      "{0: 'first'}\n"
     ]
    }
   ],
   "source": [
    "stack = {}\n",
    "\n",
    "# Push items with keys as indices (simulate stack)\n",
    "stack[0] = \"first\"\n",
    "stack[1] = \"second\"\n",
    "stack[2] = \"third\"\n",
    "\n",
    "# Pop last item inserted (like a stack pop)\n",
    "key, value = stack.popitem()\n",
    "print(key, value)  # Output: 2 third\n",
    "\n",
    "# Pop another\n",
    "key, value = stack.popitem()\n",
    "print(key, value)  # Output: 1 second\n",
    "\n",
    "print(stack)  # Remaining items in stack: {0: 'first'}\n"
   ]
  },
  {
   "cell_type": "markdown",
   "id": "418275ed",
   "metadata": {},
   "source": [
    "#### Safe nested lookup: get_nested(d, keys, default)"
   ]
  },
  {
   "cell_type": "code",
   "execution_count": 54,
   "id": "4647c351",
   "metadata": {},
   "outputs": [
    {
     "name": "stdout",
     "output_type": "stream",
     "text": [
      "42\n",
      "-1\n"
     ]
    }
   ],
   "source": [
    "def get_nested(d, keys, default=None):\n",
    "    current = d\n",
    "    for key in keys:\n",
    "        if isinstance(current, dict) and key in current:\n",
    "            current = current[key]\n",
    "        else:\n",
    "            return default\n",
    "    return current\n",
    "\n",
    "# Example usage:\n",
    "nested_dict = {'a': {'b': {'c': 42}}}\n",
    "\n",
    "print(get_nested(nested_dict, ['a', 'b', 'c']))      # Output: 42\n",
    "print(get_nested(nested_dict, ['a', 'x', 'c'], -1))  # Output: -1 (key 'x' missing)"
   ]
  },
  {
   "cell_type": "code",
   "execution_count": null,
   "id": "01930b36",
   "metadata": {},
   "outputs": [],
   "source": []
  }
 ],
 "metadata": {
  "kernelspec": {
   "display_name": "Python 3",
   "language": "python",
   "name": "python3"
  },
  "language_info": {
   "codemirror_mode": {
    "name": "ipython",
    "version": 3
   },
   "file_extension": ".py",
   "mimetype": "text/x-python",
   "name": "python",
   "nbconvert_exporter": "python",
   "pygments_lexer": "ipython3",
   "version": "3.12.11"
  }
 },
 "nbformat": 4,
 "nbformat_minor": 5
}
