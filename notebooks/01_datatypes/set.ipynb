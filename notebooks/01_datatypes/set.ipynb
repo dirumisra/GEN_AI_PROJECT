{
 "cells": [
  {
   "cell_type": "markdown",
   "metadata": {},
   "source": [
    "# 🐍 Python set Data Type — Complete Guide\n",
    "\n",
    "- Unordered collection of unique elements.\n",
    "- Mutable (you can add/remove items).\n",
    "- No duplicate values allowed.\n",
    "- Elements must be hashable (numbers, strings, tuples of immutables). Lists/dicts cannot be inside sets."
   ]
  },
  {
   "cell_type": "markdown",
   "id": "68bc95e6",
   "metadata": {},
   "source": [
    "#### Creating sets"
   ]
  },
  {
   "cell_type": "code",
   "execution_count": 4,
   "id": "7ed54d58",
   "metadata": {},
   "outputs": [
    {
     "name": "stdout",
     "output_type": "stream",
     "text": [
      "<class 'set'>\n",
      "<class 'dict'>\n",
      "{1, 2, 3}\n",
      "{1, 2, 3}\n",
      "{'a', 'b', 'n'}\n"
     ]
    }
   ],
   "source": [
    "# --- Creating an Empty Set ---\n",
    "\n",
    "s1 = set()           # ✅ Correct way to create an empty set\n",
    "print(type(s1))      # <class 'set'>\n",
    "\n",
    "# s2 = {}            # ❌ This creates an empty dictionary, NOT a set\n",
    "print(type({}))      # <class 'dict'>\n",
    "\n",
    "# --- Creating a Set with Values ---\n",
    "\n",
    "s2 = {1, 2, 3, 3}   # Duplicates are automatically removed in sets\n",
    "print(s2)            # Output: {1, 2, 3}\n",
    "\n",
    "# Sets are unordered collections of unique elements.\n",
    "\n",
    "# --- Creating Sets from Iterables ---\n",
    "\n",
    "s3 = set([1, 2, 2, 3])    # From a list: duplicates removed, order not guaranteed\n",
    "print(s3)                 # Output: {1, 2, 3}\n",
    "\n",
    "s4 = set(\"banana\")        # From a string: characters become elements, duplicates removed\n",
    "print(s4)                 # Output: {'b', 'a', 'n'} (order may vary)\n",
    "\n",
    "# Note: Sets do not preserve insertion order (before Python 3.7). From Python 3.7+, they preserve insertion order but should not be relied upon for ordering.\n"
   ]
  },
  {
   "cell_type": "markdown",
   "id": "76e2f7da",
   "metadata": {},
   "source": [
    "#### Properties of sets\n",
    "- Unordered → no indexing or slicing.\n",
    "- Unique elements → duplicates auto-dropped.\n",
    "- Mutable → add/remove items.\n",
    "- Unhashable elements not allowed → you can’t put lists/dicts inside a set."
   ]
  },
  {
   "cell_type": "code",
   "execution_count": 27,
   "id": "56a0e139",
   "metadata": {},
   "outputs": [
    {
     "name": "stdout",
     "output_type": "stream",
     "text": [
      "1\n",
      "2\n",
      "3\n",
      "Error: unhashable type: 'list'\n"
     ]
    }
   ],
   "source": [
    "s = {1, 2, 3}\n",
    "\n",
    "# Sets are unordered collections and do NOT support indexing or slicing\n",
    "# print(s[0])          # ❌ TypeError: 'set' object is not subscriptable\n",
    "\n",
    "# You cannot access elements of a set by index because sets don't have order\n",
    "# To access elements, you can iterate over the set instead:\n",
    "for element in s:\n",
    "    print(element)     # Prints each element, order not guaranteed\n",
    "\n",
    "# --- Trying to create a set with an unhashable element ---\n",
    "\n",
    "try:\n",
    "    bad = {1, [2, 3]}  # ❌ TypeError because lists are unhashable (mutable)\n",
    "except TypeError as e:\n",
    "    print(\"Error:\", e)  # Output: unhashable type: 'list'"
   ]
  },
  {
   "cell_type": "markdown",
   "id": "b5573f56",
   "metadata": {},
   "source": [
    "#### Membership test"
   ]
  },
  {
   "cell_type": "code",
   "execution_count": 28,
   "id": "dd858673",
   "metadata": {},
   "outputs": [
    {
     "name": "stdout",
     "output_type": "stream",
     "text": [
      "True\n",
      "True\n",
      "True\n"
     ]
    }
   ],
   "source": [
    "nums = {1, 2, 3}\n",
    "\n",
    "# Check if an element is in the set\n",
    "print(2 in nums)         # Output: True\n",
    "\n",
    "# Check if an element is NOT in the set\n",
    "print(5 not in nums)     # Output: True\n",
    "\n",
    "# --- Why use sets for membership tests? ---\n",
    "# Sets provide average O(1) time complexity for membership tests,\n",
    "# which means they are much faster than lists, especially for large collections.\n",
    "\n",
    "# Example: If you used a list, membership test is O(n)\n",
    "lst = [1, 2, 3]\n",
    "print(2 in lst)          # True, but slower for large lists\n"
   ]
  },
  {
   "cell_type": "markdown",
   "id": "f3f02c7c",
   "metadata": {},
   "source": [
    "#### Set algebra (union, intersection, difference, symmetric difference)"
   ]
  },
  {
   "cell_type": "code",
   "execution_count": 43,
   "id": "05d63b20",
   "metadata": {},
   "outputs": [
    {
     "name": "stdout",
     "output_type": "stream",
     "text": [
      "{1, 2, 3, 4, 5}\n",
      "{1, 2, 3, 4, 5}\n",
      "{3}\n",
      "{3}\n",
      "{1, 2}\n",
      "{4, 5}\n",
      "{1, 2}\n",
      "{1, 2, 4, 5}\n",
      "{1, 2, 4, 5}\n"
     ]
    }
   ],
   "source": [
    "a = {1, 2, 3}\n",
    "b = {3, 4, 5}\n",
    "\n",
    "# --- Union (all unique elements from both sets) ---\n",
    "print(a | b)           # Output: {1, 2, 3, 4, 5}\n",
    "print(a.union(b))      # Same as above\n",
    "\n",
    "# Explanation:\n",
    "# Union combines all elements in 'a' and 'b', but no duplicates.\n",
    "\n",
    "# --- Intersection (elements common to both sets) ---\n",
    "print(a & b)           # Output: {3}\n",
    "print(a.intersection(b))  # Same as above\n",
    "\n",
    "# Explanation:\n",
    "# Intersection returns only elements present in both 'a' and 'b'.\n",
    "\n",
    "# --- Difference (elements in one set but NOT in the other) ---\n",
    "print(a - b)           # Output: {1, 2}  (in 'a' but not in 'b')\n",
    "print(b - a)           # Output: {4, 5}  (in 'b' but not in 'a')\n",
    "print(a.difference(b))  # Same as a - b\n",
    "\n",
    "# Explanation:\n",
    "# Difference gives elements unique to the first set.\n",
    "\n",
    "# --- Symmetric difference (elements in either set, but NOT both) ---\n",
    "print(a ^ b)           # Output: {1, 2, 4, 5}\n",
    "print(a.symmetric_difference(b))  # Same as above\n",
    "\n",
    "# Explanation:\n",
    "# Symmetric difference returns elements that are in either 'a' or 'b' but not in both."
   ]
  },
  {
   "cell_type": "markdown",
   "id": "ce4b7b68",
   "metadata": {},
   "source": [
    "#### Subset, superset, disjoint checks"
   ]
  },
  {
   "cell_type": "code",
   "execution_count": 50,
   "id": "4a2b25ec",
   "metadata": {},
   "outputs": [
    {
     "name": "stdout",
     "output_type": "stream",
     "text": [
      "True\n",
      "True\n",
      "True\n",
      "True\n",
      "True\n"
     ]
    }
   ],
   "source": [
    "x = {1, 2}\n",
    "y = {1, 2, 3, 4}\n",
    "\n",
    "# --- Subset checks ---\n",
    "print(x <= y)            # True — all elements of x are in y (x is a subset of y)\n",
    "print(x.issubset(y))     # Same as above, more explicit method\n",
    "\n",
    "# --- Superset checks ---\n",
    "print(y >= x)            # True — y contains all elements of x (y is a superset of x)\n",
    "print(y.issuperset(x))   # Same as above, more explicit method\n",
    "\n",
    "# --- Disjoint sets ---\n",
    "a = {1, 2}\n",
    "b = {3, 4}\n",
    "print(a.isdisjoint(b))   # True — no elements in common between a and b\n"
   ]
  },
  {
   "cell_type": "markdown",
   "id": "5fc393a2",
   "metadata": {},
   "source": [
    "#### Iterating through sets"
   ]
  },
  {
   "cell_type": "code",
   "execution_count": 52,
   "id": "04d6d3cf",
   "metadata": {},
   "outputs": [
    {
     "name": "stdout",
     "output_type": "stream",
     "text": [
      "apple\n",
      "banana\n",
      "cherry\n"
     ]
    }
   ],
   "source": [
    "s = {\"apple\", \"banana\", \"cherry\"}\n",
    "\n",
    "# Iterating over a set\n",
    "for item in s:\n",
    "    print(item)\n",
    "\n",
    "# Output example (order may vary):\n",
    "# banana\n",
    "# apple\n",
    "# cherry"
   ]
  },
  {
   "cell_type": "markdown",
   "id": "74bf7a42",
   "metadata": {},
   "source": [
    "#### Conversion (list, tuple, string ↔ set)"
   ]
  },
  {
   "cell_type": "code",
   "execution_count": 53,
   "id": "69fd57b9",
   "metadata": {},
   "outputs": [
    {
     "name": "stdout",
     "output_type": "stream",
     "text": [
      "{1, 2, 3, 4}\n",
      "[1, 2, 3, 4]\n",
      "{'h', 'o', 'e', 'l'}\n",
      "ehlo\n"
     ]
    }
   ],
   "source": [
    "lst = [1, 2, 2, 3, 4]\n",
    "\n",
    "# Convert list to set to remove duplicates (deduplication)\n",
    "unique = set(lst)        # {1, 2, 3, 4}\n",
    "print(unique)\n",
    "\n",
    "# Convert back to list (order may change since sets are unordered)\n",
    "back_to_list = list(unique)\n",
    "print(back_to_list)\n",
    "\n",
    "# --- Working with strings and sets ---\n",
    "\n",
    "s = set(\"hello\")         # Convert string to set of unique characters {'h', 'e', 'l', 'o'}\n",
    "print(s)\n",
    "\n",
    "# Convert set back to string by joining sorted characters\n",
    "back_to_str = \"\".join(sorted(s))  # 'ehlo'\n",
    "print(back_to_str)\n"
   ]
  },
  {
   "cell_type": "markdown",
   "id": "57c1bc69",
   "metadata": {},
   "source": [
    "#### Advanced use cases"
   ]
  },
  {
   "cell_type": "code",
   "execution_count": 55,
   "id": "308766ce",
   "metadata": {},
   "outputs": [
    {
     "name": "stdout",
     "output_type": "stream",
     "text": [
      "[1, 2, 3, 4]\n",
      "{'alex'}\n",
      "{1, 4}\n"
     ]
    }
   ],
   "source": [
    "# 1. Deduplicate a list while preserving the original order\n",
    "def dedupe(lst):\n",
    "    seen = set()   # To track items we've already encountered\n",
    "    out = []       # Output list with unique items in order\n",
    "    for x in lst:\n",
    "        if x not in seen:\n",
    "            seen.add(x)   # Mark this item as seen\n",
    "            out.append(x) # Append it to output only once\n",
    "    return out\n",
    "\n",
    "print(dedupe([1, 2, 2, 3, 1, 4]))  # Output: [1, 2, 3, 4]\n",
    "# Explanation: Unlike using set(), this function keeps the first occurrence order.\n",
    "\n",
    "# 2. Find common users between two datasets using set intersection\n",
    "users1 = {\"dhiraj\", \"pooja\", \"alex\"}\n",
    "users2 = {\"alex\", \"maria\"}\n",
    "\n",
    "print(users1 & users2)  # Output: {'alex'}\n",
    "# Explanation: '&' returns elements common to both sets.\n",
    "\n",
    "# 3. Detect missing items by set difference\n",
    "all_ids = {1, 2, 3, 4, 5}  # Complete set of IDs expected\n",
    "present = {2, 3, 5}        # IDs actually present\n",
    "\n",
    "missing = all_ids - present  # IDs missing from present\n",
    "print(missing)               # Output: {1, 4}\n",
    "# Explanation: '-' returns items in first set but not in second.\n"
   ]
  },
  {
   "cell_type": "markdown",
   "id": "f31f89f1",
   "metadata": {},
   "source": [
    "#### Pitfalls"
   ]
  },
  {
   "cell_type": "code",
   "execution_count": 56,
   "id": "de7bc81a",
   "metadata": {},
   "outputs": [
    {
     "name": "stdout",
     "output_type": "stream",
     "text": [
      "Error: unhashable type: 'list'\n",
      "1\n",
      "{2, 3}\n"
     ]
    }
   ],
   "source": [
    "# 1. Empty set literal\n",
    "s = {}            # ❌ This creates an empty dictionary, NOT a set!\n",
    "s = set()         # ✅ Correct way to create an empty set\n",
    "\n",
    "# 2. Unhashable elements cannot be added to a set\n",
    "try:\n",
    "    bad = {[1, 2], 3}   # ❌ Raises TypeError because list is unhashable (mutable)\n",
    "except TypeError as e:\n",
    "    print(\"Error:\", e)  # Output: unhashable type: 'list'\n",
    "\n",
    "# 3. Non-deterministic pop()\n",
    "s = {1, 2, 3}\n",
    "print(s.pop())    # Removes and returns an arbitrary element (order is unpredictable)\n",
    "print(s)          # Remaining elements in the set\n"
   ]
  },
  {
   "cell_type": "code",
   "execution_count": null,
   "id": "be98c61a",
   "metadata": {},
   "outputs": [],
   "source": []
  }
 ],
 "metadata": {
  "kernelspec": {
   "display_name": "Python 3",
   "language": "python",
   "name": "python3"
  },
  "language_info": {
   "codemirror_mode": {
    "name": "ipython",
    "version": 3
   },
   "file_extension": ".py",
   "mimetype": "text/x-python",
   "name": "python",
   "nbconvert_exporter": "python",
   "pygments_lexer": "ipython3",
   "version": "3.12.11"
  }
 },
 "nbformat": 4,
 "nbformat_minor": 5
}
