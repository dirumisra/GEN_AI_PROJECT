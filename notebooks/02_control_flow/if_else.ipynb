{
 "cells": [
  {
   "cell_type": "markdown",
   "metadata": {},
   "source": [
    "### 🐍 Python Control Flow — Part 1: Conditional Statements"
   ]
  },
  {
   "cell_type": "code",
   "execution_count": 4,
   "id": "dcd1a883",
   "metadata": {},
   "outputs": [
    {
     "name": "stdout",
     "output_type": "stream",
     "text": [
      "x is greater than 5\n"
     ]
    }
   ],
   "source": [
    "# Initial value assignment to the variable `x`\n",
    "x = 10  \n",
    "\n",
    "# `if` statement - control flow structure that checks whether a condition is true or false\n",
    "if x > 5:                        # condition → must evaluate to True or False\n",
    "    # If the condition `x > 5` is true, the code inside the block (indentation) will run\n",
    "    print(\"x is greater than 5\")  # This line is executed if x > 5 is True\n"
   ]
  },
  {
   "cell_type": "markdown",
   "metadata": {},
   "source": [
    "### if - else"
   ]
  },
  {
   "cell_type": "code",
   "execution_count": 20,
   "metadata": {},
   "outputs": [
    {
     "name": "stdout",
     "output_type": "stream",
     "text": [
      "Eligible to vote\n"
     ]
    }
   ],
   "source": [
    "try:\n",
    "    # Assigning the value from user input to the variable `age`\n",
    "    age = int(input(\"Enter the age: \"))  # Converts the input into an integer\n",
    "\n",
    "    # The `if` statement checks whether the condition `age >= 18` is true or false\n",
    "    if age >= 18:\n",
    "        # This block will execute if `age >= 18` is True (i.e., if the person is 18 or older)\n",
    "        print(\"Eligible to vote\")  # Prints if the person is 18 or older\n",
    "    else:\n",
    "        # This block will execute if `age >= 18` is False (i.e., if the person is younger than 18)\n",
    "        print(\"Not eligible\")  # Prints if the person is younger than 18\n",
    "\n",
    "except ValueError:\n",
    "    print(\"Please enter a valid age number\")  # Catches invalid input, like non-numeric values"
   ]
  },
  {
   "cell_type": "markdown",
   "metadata": {},
   "source": [
    "### if-elif-else"
   ]
  },
  {
   "cell_type": "code",
   "execution_count": 21,
   "metadata": {},
   "outputs": [
    {
     "name": "stdout",
     "output_type": "stream",
     "text": [
      "Grade D\n"
     ]
    }
   ],
   "source": [
    "try:\n",
    "    # Assigning marks via user input (if needed)\n",
    "    marks = int(input(\"Enter the marks: \"))  # Converts the input into an integer\n",
    "\n",
    "    # The `if-elif-else` structure checks multiple conditions to assign grades\n",
    "    if marks >= 90:                    # If marks are 90 or above\n",
    "        print(\"Grade A\")               # This will print for marks >= 90\n",
    "    elif marks >= 75:                  # If marks are between 75 and 89 (inclusive)\n",
    "        print(\"Grade B\")               # This will print for marks >= 75 and < 90\n",
    "    elif marks >= 60:                  # If marks are between 60 and 74 (inclusive)\n",
    "        print(\"Grade C\")               # This will print for marks >= 60 and < 75\n",
    "    else:                              # If marks are below 60\n",
    "        print(\"Grade D\")               # This will print for marks < 60\n",
    "\n",
    "except ValueError:\n",
    "    print(\"Please enter a valid number for marks.\")  # Handles non-numeric input\n"
   ]
  },
  {
   "cell_type": "markdown",
   "metadata": {},
   "source": [
    "### Nested if (less recommended if too deep)"
   ]
  },
  {
   "cell_type": "code",
   "execution_count": 25,
   "metadata": {},
   "outputs": [
    {
     "name": "stdout",
     "output_type": "stream",
     "text": [
      "Positive odd\n"
     ]
    }
   ],
   "source": [
    "# Assigning value to x\n",
    "x = 15  \n",
    "\n",
    "# The first `if` checks if x is greater than 0\n",
    "if x > 0:   \n",
    "    # Inside the `if`, another `if` checks whether x is an even number\n",
    "    if x % 2 == 0:   # `x % 2 == 0` checks if x is divisible by 2 with no remainder (even number)\n",
    "        print(\"Positive even\")  # If x is even, this will print\n",
    "    else:\n",
    "        print(\"Positive odd\")   # If x is not even (odd), this will print\n"
   ]
  },
  {
   "cell_type": "markdown",
   "metadata": {},
   "source": [
    "Truthy & Falsy Values\n",
    "- In conditions, Python treats some values as False automatically:\n",
    "    - False, None, 0, 0.0, 0j\n",
    "    - Empty: \"\", [], {}, set(), range(0)\n",
    "\n",
    "- Everything else is Truthy."
   ]
  },
  {
   "cell_type": "code",
   "execution_count": 28,
   "metadata": {},
   "outputs": [
    {
     "name": "stdout",
     "output_type": "stream",
     "text": [
      "Empty\n"
     ]
    }
   ],
   "source": [
    "# Initialize an empty list\n",
    "items = []\n",
    "\n",
    "# Check if the list is truthy or falsy\n",
    "if items:                # Empty list → falsy\n",
    "    print(\"Not empty\")   # This block would run if the list is not empty (truthy)\n",
    "else:\n",
    "    print(\"Empty\")       # This block runs when the list is empty (falsy)\n"
   ]
  },
  {
   "cell_type": "markdown",
   "metadata": {},
   "source": [
    "### Ternary Conditional Operator"
   ]
  },
  {
   "cell_type": "code",
   "execution_count": 31,
   "metadata": {},
   "outputs": [
    {
     "name": "stdout",
     "output_type": "stream",
     "text": [
      "Adult\n"
     ]
    }
   ],
   "source": [
    "age = 20  # Assigning the age value\n",
    "\n",
    "# Using the ternary conditional operator to check if the person is an adult or a minor\n",
    "status = \"Adult\" if age >= 18 else \"Minor\"  # If age is 18 or more, status is 'Adult', otherwise it's 'Minor'\n",
    "\n",
    "# Print the result\n",
    "print(status)  # This will print 'Adult' because age is 20\n"
   ]
  },
  {
   "cell_type": "markdown",
   "metadata": {},
   "source": [
    "### match-case (Python 3.10+)\n",
    "- Structural pattern matching (like switch in other languages)."
   ]
  },
  {
   "cell_type": "code",
   "execution_count": 38,
   "metadata": {},
   "outputs": [
    {
     "name": "stdout",
     "output_type": "stream",
     "text": [
      "System stopping.....\n"
     ]
    }
   ],
   "source": [
    "command = 'stop'  # Assigning the value 'stop' to the variable 'command'\n",
    "\n",
    "# Using the match statement to check the value of 'command'\n",
    "match command:\n",
    "    case \"start\":  # If the command is 'start'\n",
    "        print(\"System Starting......\")  # This line will execute if the command is 'start'\n",
    "    case \"stop\":   # If the command is 'stop'\n",
    "        print(\"System stopping.....\")  # This line will execute if the command is 'stop'\n",
    "    case _:        # The underscore (_) is a wildcard that matches any value not previously matched\n",
    "        print(\"Unknown Command\")  # This will execute if 'command' doesn't match 'start' or 'stop'"
   ]
  },
  {
   "cell_type": "markdown",
   "metadata": {},
   "source": [
    "### With multiple matches:"
   ]
  },
  {
   "cell_type": "code",
   "execution_count": 39,
   "metadata": {},
   "outputs": [
    {
     "name": "stdout",
     "output_type": "stream",
     "text": [
      "Client Error\n"
     ]
    }
   ],
   "source": [
    "status = 404  # Assigning the value 404 to the 'status' variable\n",
    "\n",
    "# Using the match statement to check different status codes\n",
    "match status:\n",
    "    case 200 | 201:  # If the status is either 200 or 201 (Success codes)\n",
    "        print(\"Success\")  # This will print if the status is either 200 or 201\n",
    "    case 400 | 404:  # If the status is either 400 or 404 (Client Error codes)\n",
    "        print(\"Client Error\")  # This will print if the status is either 400 or 404\n",
    "    case 500:  # If the status is 500 (Server Error code)\n",
    "        print(\"Server Error\")  # This will print if the status is 500\n"
   ]
  },
  {
   "cell_type": "markdown",
   "metadata": {},
   "source": [
    "### Common Pitfalls"
   ]
  },
  {
   "cell_type": "code",
   "execution_count": 40,
   "metadata": {},
   "outputs": [
    {
     "name": "stdout",
     "output_type": "stream",
     "text": [
      "Five\n",
      "x is between 10 and 20\n",
      "x is between 20 and 30\n",
      "The length of the string is between 3 and 10\n"
     ]
    }
   ],
   "source": [
    "# 1. Using '=' instead of '==' (Assignment vs Comparison)\n",
    "x = 5\n",
    "# if x = 5:   # ❌ SyntaxError (Assignment, not comparison)\n",
    "if x == 5:    # ✅ comparison (Correct way)\n",
    "    print(\"Five\")\n",
    "\n",
    "# 2. Chained comparisons (Pythonic)\n",
    "x = 15\n",
    "if 10 < x < 20:    # ✅ more readable (chained comparison)\n",
    "    print(\"x is between 10 and 20\")\n",
    "\n",
    "# Additional Example with Chained Comparisons\n",
    "x = 25\n",
    "if 20 < x < 30:    # ✅ cleaner and Pythonic way to check if x is between 20 and 30\n",
    "    print(\"x is between 20 and 30\")\n",
    "\n",
    "# More examples with strings\n",
    "s = \"Hello\"\n",
    "if 3 < len(s) < 10:    # ✅ Pythonic way to check if the string length is between 3 and 10\n",
    "    print(\"The length of the string is between 3 and 10\")\n",
    "\n",
    "# Example to demonstrate the error with '=' in condition:\n",
    "# x = 5\n",
    "# if x = 5:   # ❌ This would raise a SyntaxError\n",
    "#     print(\"Five\")  # Uncommenting this line would result in a SyntaxError\n"
   ]
  },
  {
   "cell_type": "markdown",
   "metadata": {},
   "source": [
    "### Task"
   ]
  },
  {
   "cell_type": "markdown",
   "metadata": {},
   "source": [
    "Check if a Number is Positive, Negative, or Zero"
   ]
  },
  {
   "cell_type": "code",
   "execution_count": 44,
   "metadata": {},
   "outputs": [
    {
     "name": "stdout",
     "output_type": "stream",
     "text": [
      "Positive\n"
     ]
    }
   ],
   "source": [
    "try:\n",
    "    # Task 1: Check if the number is positive, negative, or zero\n",
    "    num = int(input(\"Enter a number: \"))\n",
    "\n",
    "    if num > 0:\n",
    "        print(\"Positive\")\n",
    "    elif num < 0:\n",
    "        print(\"Negative\")\n",
    "    else:\n",
    "        print(\"Zero\")\n",
    "except ValueError:\n",
    "    print(\"Enter Valid Number\")"
   ]
  },
  {
   "cell_type": "markdown",
   "metadata": {},
   "source": [
    "Classify a Person’s Age"
   ]
  },
  {
   "cell_type": "code",
   "execution_count": 45,
   "metadata": {},
   "outputs": [
    {
     "name": "stdout",
     "output_type": "stream",
     "text": [
      "Adult\n"
     ]
    }
   ],
   "source": [
    "try:\n",
    "    # Task 2: Classify a person’s age\n",
    "    age = int(input(\"Enter the age: \"))\n",
    "\n",
    "    if age < 13:\n",
    "        print(\"Child\")\n",
    "    elif 13 <= age <= 19:\n",
    "        print(\"Teen\")\n",
    "    elif 20 <= age <= 59:\n",
    "        print(\"Adult\")\n",
    "    else:\n",
    "        print(\"Senior\")\n",
    "except ValueError:\n",
    "    print(\"Enter Valid age\")"
   ]
  },
  {
   "cell_type": "markdown",
   "metadata": {},
   "source": [
    "Check if a Given Year is a Leap Year"
   ]
  },
  {
   "cell_type": "code",
   "execution_count": 46,
   "metadata": {},
   "outputs": [
    {
     "name": "stdout",
     "output_type": "stream",
     "text": [
      "2023 is not a Leap Year\n"
     ]
    }
   ],
   "source": [
    "try:\n",
    "    # Task 3: Check if the given year is a leap year\n",
    "    year = int(input(\"Enter a year: \"))\n",
    "\n",
    "    if (year % 4 == 0 and year % 100 != 0) or (year % 400 == 0):\n",
    "        print(f\"{year} is a Leap Year\")\n",
    "    else:\n",
    "        print(f\"{year} is not a Leap Year\")\n",
    "except ValueError:\n",
    "    print(\"Enter Valid Leap Year\")\n"
   ]
  },
  {
   "cell_type": "markdown",
   "metadata": {},
   "source": [
    "Username and Password Validation"
   ]
  },
  {
   "cell_type": "code",
   "execution_count": 52,
   "metadata": {},
   "outputs": [
    {
     "name": "stdout",
     "output_type": "stream",
     "text": [
      "Success\n"
     ]
    }
   ],
   "source": [
    "try:\n",
    "    # Task 4: Username and password validation\n",
    "    user_name = input(\"Enter UserName: \")\n",
    "    password = input(\"Enter Password: \")\n",
    "\n",
    "    # Hardcoded credentials for simplicity\n",
    "    correct_username = \"admin\"\n",
    "    correct_password = \"321\"\n",
    "\n",
    "    if user_name == correct_username and \\\n",
    "        password == correct_password:\n",
    "        print(\"Success\")\n",
    "    else:\n",
    "        print(\"Try Again\")\n",
    "\n",
    "except ValueError:\n",
    "    print(\"Provide Valid Credentials\")"
   ]
  },
  {
   "cell_type": "markdown",
   "metadata": {},
   "source": [
    "Rewrite a Nested If into a Flattened Version Using and/or"
   ]
  },
  {
   "cell_type": "code",
   "execution_count": 53,
   "metadata": {},
   "outputs": [
    {
     "name": "stdout",
     "output_type": "stream",
     "text": [
      "x is greater than 5 and y is greater than 15\n"
     ]
    }
   ],
   "source": [
    "# Nested if example\n",
    "x = 10\n",
    "y = 20\n",
    "\n",
    "if x > 5:\n",
    "    if y > 15:\n",
    "        print(\"x is greater than 5 and y is greater than 15\")\n"
   ]
  },
  {
   "cell_type": "code",
   "execution_count": 56,
   "metadata": {},
   "outputs": [
    {
     "name": "stdout",
     "output_type": "stream",
     "text": [
      "x is greater than 5 and y is greater than 15\n"
     ]
    }
   ],
   "source": [
    "\n",
    "# Flattened version using 'and'\n",
    "x = 10\n",
    "y = 20\n",
    "\n",
    "if x > 5 and y > 15:\n",
    "    print(\"x is greater than 5 and y is greater than 15\")\n"
   ]
  },
  {
   "cell_type": "markdown",
   "metadata": {},
   "source": [
    "Simple Calculator Using match-case for Operations"
   ]
  },
  {
   "cell_type": "code",
   "execution_count": 58,
   "metadata": {},
   "outputs": [
    {
     "name": "stdout",
     "output_type": "stream",
     "text": [
      "Provide valid value\n"
     ]
    }
   ],
   "source": [
    "try:\n",
    "    # Task 6: Simple calculator using match-case for operations\n",
    "    def calculator(a, b, operation):\n",
    "        match operation:\n",
    "            case \"add\":\n",
    "                return a + b\n",
    "            case \"subtract\":\n",
    "                return a - b\n",
    "            case \"multiply\":\n",
    "                return a * b\n",
    "            case \"divide\":\n",
    "                if b != 0:\n",
    "                    return a / b\n",
    "                else:\n",
    "                    return \"Cannot divide by zero\"\n",
    "            case _:\n",
    "                return \"Invalid operation\"\n",
    "\n",
    "    # Example usage:\n",
    "    num1 = int(input(\"Enter first number: \"))\n",
    "    num2 = int(input(\"Enter second number: \"))\n",
    "    operation = input(\"Enter operation (add, subtract, multiply, divide): \")\n",
    "\n",
    "    result = calculator(num1, num2, operation)\n",
    "    print(\"Result:\", result)\n",
    "except ValueError:\n",
    "    print(\"Provide valid value\")\n"
   ]
  },
  {
   "cell_type": "code",
   "execution_count": null,
   "metadata": {},
   "outputs": [
    {
     "name": "stdout",
     "output_type": "stream",
     "text": [
      "a: 10, b: 5\n"
     ]
    }
   ],
   "source": [
    "# Swap two variables without using a temporary variable\n",
    "a = 5\n",
    "b = 10\n",
    "\n",
    "# Swapping\n",
    "a, b = b, a\n",
    "\n",
    "print(f\"a: {a}, b: {b}\")  # Output: a: 10, b: 5\n"
   ]
  },
  {
   "cell_type": "markdown",
   "metadata": {},
   "source": [
    "### 🐍 Python Control Flow — Part 2: for Loops\n",
    "- for loop (iterate over sequences, ranges, dicts, sets).\n",
    "- while loop (runs until condition is false).\n",
    "- Loop controls → break, continue, pass.\n",
    "- Loop else clause (unique to Python).\n",
    "- Helpers → range(), enumerate(), zip(), any(), all().\n",
    "- Common pitfalls + best practices.\n",
    "- Practice tasks (FizzBuzz, prime check, flatten list, etc.)."
   ]
  },
  {
   "cell_type": "markdown",
   "metadata": {},
   "source": [
    "Basic for loop"
   ]
  },
  {
   "cell_type": "code",
   "execution_count": 60,
   "metadata": {},
   "outputs": [
    {
     "name": "stdout",
     "output_type": "stream",
     "text": [
      "10\n",
      "20\n",
      "30\n"
     ]
    }
   ],
   "source": [
    "# Iterate over a list\n",
    "nums = [10, 20, 30]\n",
    "\n",
    "# Loop through each element in the list `nums`\n",
    "for n in nums:\n",
    "    print(n)\n"
   ]
  },
  {
   "cell_type": "markdown",
   "metadata": {},
   "source": [
    "Looping over a string"
   ]
  },
  {
   "cell_type": "code",
   "execution_count": 73,
   "metadata": {},
   "outputs": [
    {
     "name": "stdout",
     "output_type": "stream",
     "text": [
      "t-e-c-h-c-o-n-v-o-s-"
     ]
    }
   ],
   "source": [
    "word = \"techconvos\"\n",
    "\n",
    "# Loop through each character in the string `word`\n",
    "for character in word:\n",
    "    print(character, end=\"-\")  # Prints each character followed by a hyphen\n"
   ]
  },
  {
   "cell_type": "markdown",
   "metadata": {},
   "source": [
    "Looping with range()"
   ]
  },
  {
   "cell_type": "code",
   "execution_count": 81,
   "metadata": {},
   "outputs": [
    {
     "name": "stdout",
     "output_type": "stream",
     "text": [
      "0 1 2 3 4 \n",
      "2-4-6-8-"
     ]
    }
   ],
   "source": [
    "# Using range(start, stop, step)\n",
    "for i in range(5):            # Iterates from 0 to 4 (5 is exclusive)\n",
    "    print(i,end =\" \")\n",
    "print()\n",
    "for i in range(2, 10, 2):     # Iterates from 2 to 8, stepping by 2\n",
    "    print(i,end=\"-\")\n"
   ]
  },
  {
   "cell_type": "markdown",
   "metadata": {},
   "source": [
    "Looping with index + value (enumerate)"
   ]
  },
  {
   "cell_type": "code",
   "execution_count": 86,
   "metadata": {},
   "outputs": [
    {
     "name": "stdout",
     "output_type": "stream",
     "text": [
      "1 red\n",
      "2 green\n",
      "3 blue\n"
     ]
    }
   ],
   "source": [
    "# List of colors\n",
    "colors = [\"red\", \"green\", \"blue\"]\n",
    "\n",
    "# The `enumerate()` function returns both the index and value of each item in the list.\n",
    "# We use `start=1` to start the index from 1 instead of the default 0.\n",
    "# This will give us an enumeration starting at 1 for more natural output (like item numbering).\n",
    "\n",
    "for i, color in enumerate(colors, start=1):\n",
    "    # `i` will hold the index (starting from 1) and `color` will hold the color at that index\n",
    "    # `i` represents the position of the color in the list\n",
    "    # `color` represents the actual color value from the list `colors`\n",
    "    print(i, color)  # Print the index followed by the color\n"
   ]
  },
  {
   "cell_type": "markdown",
   "metadata": {},
   "source": [
    "Looping over a dictionary"
   ]
  },
  {
   "cell_type": "code",
   "execution_count": 91,
   "metadata": {},
   "outputs": [
    {
     "name": "stdout",
     "output_type": "stream",
     "text": [
      "name Dhiraj\n",
      "age 36\n",
      "\n",
      "name → Dhiraj\n",
      "age → 36\n"
     ]
    }
   ],
   "source": [
    "# A dictionary `person` containing information about a person\n",
    "person = {\"name\": \"Dhiraj\", \"age\": 36}\n",
    "\n",
    "# First loop: Iterate over the dictionary keys\n",
    "# The `for` loop iterates over each key in the dictionary\n",
    "for key in person:               \n",
    "    # The key represents the current key in the dictionary\n",
    "    # We access the value using the key: `person[key]`\n",
    "    print(key, person[key])      # Print the key and its corresponding value\n",
    "print()\n",
    "# Second loop: Iterate over both keys and values using `.items()`\n",
    "# The `.items()` method returns key-value pairs in the form of a tuple\n",
    "for k, v in person.items():       \n",
    "    # `k` is the key, and `v` is the value associated with the key\n",
    "    print(f\"{k} → {v}\")          # Print the key-value pair in the form: key → value\n",
    "\n"
   ]
  },
  {
   "cell_type": "markdown",
   "metadata": {},
   "source": [
    "Looping over a set"
   ]
  },
  {
   "cell_type": "code",
   "execution_count": 97,
   "metadata": {},
   "outputs": [
    {
     "name": "stdout",
     "output_type": "stream",
     "text": [
      "banana\n",
      "apple\n",
      "cherry\n"
     ]
    }
   ],
   "source": [
    "# A set `s` containing three fruits\n",
    "s = {\"apple\", \"banana\", \"cherry\"}\n",
    "\n",
    "# Loop through each item in the set\n",
    "for item in s:\n",
    "    # `item` will represent the current element in the set\n",
    "    # Since sets do not maintain order, the items will be printed in arbitrary order\n",
    "    print(item)  # The order of output is not guaranteed due to the nature of sets\n"
   ]
  },
  {
   "cell_type": "markdown",
   "metadata": {},
   "source": [
    "Nested loops"
   ]
  },
  {
   "cell_type": "code",
   "execution_count": 104,
   "metadata": {},
   "outputs": [
    {
     "name": "stdout",
     "output_type": "stream",
     "text": [
      "1 2 3 4 5 6 "
     ]
    }
   ],
   "source": [
    "# A 2D list (matrix) with two rows and three columns\n",
    "matrix = [[1, 2, 3], [4, 5, 6]]\n",
    "\n",
    "# Outer loop: Iterate over each row in the matrix\n",
    "for row in matrix:\n",
    "    # Inner loop: Iterate over each value in the current row\n",
    "    for val in row:\n",
    "        # `val` represents the current element in the row\n",
    "        # `end=\" \"` ensures the values are printed in the same line with a space in between\n",
    "        print(val, end=\" \")\n"
   ]
  },
  {
   "cell_type": "markdown",
   "metadata": {},
   "source": [
    "Loop unpacking"
   ]
  },
  {
   "cell_type": "code",
   "execution_count": 110,
   "metadata": {},
   "outputs": [
    {
     "name": "stdout",
     "output_type": "stream",
     "text": [
      "1 a\n",
      "2 b\n",
      "3 c\n"
     ]
    }
   ],
   "source": [
    "# A list of tuples, where each tuple contains a number and a character\n",
    "pairs = [(1, \"a\"), (2, \"b\"), (3, \"c\")]\n",
    "\n",
    "# Loop through each tuple in the list\n",
    "# Inside the loop, the tuple will be unpacked into two variables: `num` and `char`\n",
    "for num, char in pairs:       \n",
    "    # `num` will hold the first element of each tuple (the number)\n",
    "    # `char` will hold the second element of each tuple (the character)\n",
    "    print(num, char)           # Print the unpacked values: num and char\n"
   ]
  },
  {
   "cell_type": "markdown",
   "metadata": {},
   "source": [
    "for loop with else\n",
    "- Runs the else block only if loop completes without break."
   ]
  },
  {
   "cell_type": "code",
   "execution_count": 113,
   "metadata": {},
   "outputs": [
    {
     "name": "stdout",
     "output_type": "stream",
     "text": [
      "All numbers are even\n"
     ]
    }
   ],
   "source": [
    "nums = [2, 4, 6, 8]  # A list of numbers\n",
    "\n",
    "# Iterate through the list\n",
    "for n in nums:\n",
    "    if n % 2 != 0:  # Check if the number is odd (not divisible by 2)\n",
    "        print(\"Found odd number:\", n)  # Print if an odd number is found\n",
    "        break  # Exit the loop as soon as an odd number is found\n",
    "else:\n",
    "    # This block runs only if the loop completes without encountering a 'break'\n",
    "    print(\"All numbers are even\")  # Prints this message if no odd number is found\n"
   ]
  },
  {
   "cell_type": "markdown",
   "metadata": {},
   "source": [
    "### 🐍 Python Control Flow — Part 3: while Loops"
   ]
  },
  {
   "cell_type": "markdown",
   "metadata": {},
   "source": [
    "Basic while loop\n",
    "- Runs as long as the condition is True."
   ]
  },
  {
   "cell_type": "code",
   "execution_count": 115,
   "metadata": {},
   "outputs": [
    {
     "name": "stdout",
     "output_type": "stream",
     "text": [
      "1\n",
      "2\n",
      "3\n",
      "4\n",
      "5\n"
     ]
    }
   ],
   "source": [
    "# 1. Basic while loop example\n",
    "\n",
    "count = 1  # Initialize the counter to 1\n",
    "\n",
    "# The `while` loop will continue as long as the condition `count <= 5` is true\n",
    "while count <= 5:  # Check if the counter is less than or equal to 5\n",
    "    print(count)  # Print the current value of `count`\n",
    "    \n",
    "    count += 1  # Increment `count` by 1 after each iteration to avoid an infinite loop\n",
    "\n",
    "# Output:\n",
    "# 1\n",
    "# 2\n",
    "# 3\n",
    "# 4\n",
    "# 5\n"
   ]
  },
  {
   "cell_type": "markdown",
   "metadata": {},
   "source": [
    "Infinite while loop"
   ]
  },
  {
   "cell_type": "code",
   "execution_count": 119,
   "metadata": {},
   "outputs": [],
   "source": [
    "# 1. Infinite loop with break condition\n",
    "\n",
    "# The `while True` creates an infinite loop that will continue until explicitly broken.\n",
    "while True:  # This loop will run indefinitely unless the `break` statement is encountered.\n",
    "    # Asking the user for input on each iteration.\n",
    "    cmd = input(\"Enter q to quit: \")  # Prompt the user to input a command.\n",
    "    \n",
    "    # If the user types 'q', the loop will break and stop.\n",
    "    if cmd == \"q\":  # Check if the input is 'q', which indicates the user wants to quit.\n",
    "        break  # Exit the loop if the user typed 'q'.\n",
    "    \n",
    "    # If the input is anything other than 'q', this line will be executed.\n",
    "    print(\"You typed:\", cmd)  # Print the user's input.\n",
    "\n",
    "# Once the loop is broken, the program will exit and no more commands will be processed."
   ]
  },
  {
   "cell_type": "markdown",
   "metadata": {},
   "source": [
    "while...else\n",
    "- The else block runs only if loop finishes normally (no break)."
   ]
  },
  {
   "cell_type": "code",
   "execution_count": 123,
   "metadata": {},
   "outputs": [
    {
     "name": "stdout",
     "output_type": "stream",
     "text": [
      "1\n",
      "2\n",
      "3\n",
      "Loop finished without break\n"
     ]
    }
   ],
   "source": [
    "# 1. Example of `while` loop with `else` clause\n",
    "\n",
    "x = 1  # Initialize the counter variable `x` to 1\n",
    "\n",
    "# The `while` loop will run as long as the condition `x <= 3` is true\n",
    "while x <= 3:\n",
    "    print(x)   # Print the current value of `x`\n",
    "    x += 1     # Increment `x` by 1 after each iteration\n",
    "\n",
    "# The `else` block will be executed after the `while` loop finishes (only if no `break` occurred)\n",
    "else:\n",
    "    print(\"Loop finished without break\")  # This will run once the loop completes normally\n",
    "\n",
    "# Output:\n",
    "# 1\n",
    "# 2\n",
    "# 3\n",
    "# Loop finished without break\n"
   ]
  },
  {
   "cell_type": "code",
   "execution_count": 130,
   "metadata": {},
   "outputs": [
    {
     "name": "stdout",
     "output_type": "stream",
     "text": [
      "1\n",
      "2\n"
     ]
    }
   ],
   "source": [
    "# 1. Example of `while` loop with `break` statement and `else`\n",
    "\n",
    "x = 1  # Initialize the counter variable `x` to 1\n",
    "\n",
    "# The `while` loop will run as long as the condition `x <= 3` is true\n",
    "while x <= 3:\n",
    "    print(x)   # Print the current value of `x`\n",
    "    if x == 2:  # Check if `x` is 2\n",
    "        break  # If `x` is 2, break the loop immediately (exit the loop)\n",
    "    x += 1  # Increment `x` by 1 after each iteration\n",
    "\n",
    "# The `else` block will execute if the loop terminates **normally** (without a `break`)\n",
    "else:\n",
    "    print(\"This will NOT run (loop broke)\")  # This will NOT be printed because the loop breaks"
   ]
  },
  {
   "cell_type": "markdown",
   "metadata": {},
   "source": [
    "Nested while loops"
   ]
  },
  {
   "cell_type": "code",
   "execution_count": 131,
   "metadata": {},
   "outputs": [
    {
     "name": "stdout",
     "output_type": "stream",
     "text": [
      "i=1, j=1\n",
      "i=1, j=2\n",
      "i=2, j=1\n",
      "i=2, j=2\n",
      "i=3, j=1\n",
      "i=3, j=2\n"
     ]
    }
   ],
   "source": [
    "# Outer loop: controls the value of `i`\n",
    "i = 1  # Initialize `i` to 1\n",
    "\n",
    "# The outer loop runs while `i` is less than or equal to 3\n",
    "while i <= 3:\n",
    "    j = 1  # Initialize `j` to 1 at the start of each outer loop iteration\n",
    "    \n",
    "    # Inner loop: controls the value of `j`\n",
    "    while j <= 2:\n",
    "        print(f\"i={i}, j={j}\")  # Print the current values of `i` and `j`\n",
    "        j += 1  # Increment `j` by 1 to move to the next iteration of the inner loop\n",
    "    \n",
    "    i += 1  # Increment `i` by 1 to move to the next iteration of the outer loop\n"
   ]
  },
  {
   "cell_type": "markdown",
   "metadata": {},
   "source": [
    "Common pitfalls"
   ]
  },
  {
   "cell_type": "code",
   "execution_count": 133,
   "metadata": {},
   "outputs": [
    {
     "name": "stdout",
     "output_type": "stream",
     "text": [
      "0\n",
      "1\n",
      "2\n",
      "3\n",
      "4\n",
      "5\n",
      "4\n",
      "3\n",
      "2\n",
      "1\n"
     ]
    }
   ],
   "source": [
    "# 1. Forgetting to update variable → infinite loop\n",
    "\n",
    "# Example of infinite loop due to not updating the loop variable `x`\n",
    "x = 0  # Initialize x to 0\n",
    "\n",
    "# The loop will run indefinitely because `x` is never updated inside the loop\n",
    "# while x < 5:  # ❌ Infinite loop\n",
    "#     print(x)  # This will print `x` endlessly without stopping\n",
    "\n",
    "# Solution: Update `x` inside the loop to avoid an infinite loop\n",
    "x = 0  # Reinitialize `x`\n",
    "while x < 5:  # Loop runs while x is less than 5\n",
    "    print(x)  # Print the current value of `x`\n",
    "    x += 1     # Increment `x` to ensure the loop eventually stops\n",
    "\n",
    "\n",
    "# 2. Modifying condition inside loop incorrectly\n",
    "\n",
    "count = 5  # Initialize count to 5\n",
    "\n",
    "# The loop runs while `count` is not zero\n",
    "while count:  # Equivalent to `while count != 0` (count is Truthy as long as it's non-zero)\n",
    "    print(count)  # Print the current value of `count`\n",
    "    count -= 1    # Decrement count by 1 after each iteration\n"
   ]
  },
  {
   "cell_type": "markdown",
   "metadata": {},
   "source": [
    "### 🐍 Python Control Flow — Part 4: Loop Controls (break, continue, pass)"
   ]
  },
  {
   "cell_type": "markdown",
   "metadata": {},
   "source": [
    "break → exit loop immediately"
   ]
  },
  {
   "cell_type": "code",
   "execution_count": 134,
   "metadata": {},
   "outputs": [
    {
     "name": "stdout",
     "output_type": "stream",
     "text": [
      "Odd number: 5\n"
     ]
    }
   ],
   "source": [
    "# List of numbers\n",
    "nums = [2, 4, 5, 6]\n",
    "\n",
    "# Iterate over each number in the list `nums`\n",
    "for n in nums:\n",
    "    # Check if the number is odd (i.e., n % 2 != 0)\n",
    "    if n % 2 != 0:\n",
    "        print(\"Odd number:\", n)  # Print the odd number\n",
    "        break  # Exit the loop when the first odd number is found\n",
    "else:\n",
    "    # This block will run only if the loop completes **without** hitting a `break` statement\n",
    "    print(\"All numbers were even\")  # This will not run because the loop will break at the first odd number\n"
   ]
  },
  {
   "cell_type": "markdown",
   "metadata": {},
   "source": [
    "continue → skip current iteration"
   ]
  },
  {
   "cell_type": "code",
   "execution_count": 135,
   "metadata": {},
   "outputs": [
    {
     "name": "stdout",
     "output_type": "stream",
     "text": [
      "1\n",
      "2\n",
      "4\n",
      "5\n"
     ]
    }
   ],
   "source": [
    "# Iterate over the range of numbers from 1 to 5 (inclusive)\n",
    "for i in range(1, 6):\n",
    "    # If `i` is 3, skip the current iteration (continue to the next iteration)\n",
    "    if i == 3:\n",
    "        continue  # This will skip the print statement for `i == 3`\n",
    "    \n",
    "    # This prints the value of `i` for all numbers except 3\n",
    "    print(i)\n",
    "\n",
    "# Output: 1 2 4 5\n"
   ]
  },
  {
   "cell_type": "markdown",
   "metadata": {},
   "source": [
    "pass → placeholder (do nothing)\n",
    "- Keeps code syntactically correct when a statement is required but no action needed."
   ]
  },
  {
   "cell_type": "code",
   "execution_count": 136,
   "metadata": {},
   "outputs": [
    {
     "name": "stdout",
     "output_type": "stream",
     "text": [
      "Processing: 3\n",
      "Processing: 4\n"
     ]
    }
   ],
   "source": [
    "# Iterate over the range of numbers from 0 to 4 (inclusive)\n",
    "for i in range(5):\n",
    "    # If i is less than 3, do nothing for now (use pass as a placeholder)\n",
    "    if i < 3:\n",
    "        pass  # ❓ Placeholder to be implemented later (no action taken here)\n",
    "    \n",
    "    # When i is 3 or greater, print the processing message\n",
    "    else:\n",
    "        print(\"Processing:\", i)  # This prints \"Processing:\" followed by the value of i\n",
    "\n",
    "# Output:\n",
    "# Processing: 3\n",
    "# Processing: 4\n"
   ]
  },
  {
   "cell_type": "markdown",
   "metadata": {},
   "source": [
    "Combining break and continue"
   ]
  },
  {
   "cell_type": "code",
   "execution_count": 137,
   "metadata": {},
   "outputs": [
    {
     "name": "stdout",
     "output_type": "stream",
     "text": [
      "10.0\n",
      "Negative found, stopping\n"
     ]
    }
   ],
   "source": [
    "# List of numbers to iterate over\n",
    "nums = [10, -5, 0, 7]\n",
    "\n",
    "# Iterate over each number in the list `nums`\n",
    "for n in nums:\n",
    "    # If the current number is 0, skip to the next iteration (to avoid division by zero)\n",
    "    if n == 0:\n",
    "        continue  # Skip zero, don’t divide by zero\n",
    "    \n",
    "    # If the current number is negative, stop the loop\n",
    "    if n < 0:\n",
    "        print(\"Negative found, stopping\")  # Print a message when a negative number is found\n",
    "        break  # Exit the loop immediately when a negative number is encountered\n",
    "    \n",
    "    # Otherwise, perform the division and print the result\n",
    "    print(100 / n)  # Divide 100 by the number and print the result\n"
   ]
  },
  {
   "cell_type": "markdown",
   "metadata": {},
   "source": [
    "### 🐍 Python Control Flow — Part 5: Iteration Helpers"
   ]
  },
  {
   "cell_type": "markdown",
   "metadata": {},
   "source": [
    "range() → generate number sequences\n",
    "- Produces an immutable sequence of integers (lazy, memory-efficient).\n",
    "- Used heavily in for loops."
   ]
  },
  {
   "cell_type": "code",
   "execution_count": 139,
   "metadata": {},
   "outputs": [
    {
     "name": "stdout",
     "output_type": "stream",
     "text": [
      "0 1 2 3 4 2 4 6 8 5 4 3 2 1 [0, 1, 2]\n"
     ]
    }
   ],
   "source": [
    "# range(stop) → 0 to stop-1\n",
    "# The loop will run from 0 to 4 (because `range(5)` produces [0, 1, 2, 3, 4])\n",
    "for i in range(5):\n",
    "    print(i, end=\" \")  # Output: 0 1 2 3 4 (printed in one line)\n",
    "\n",
    "# range(start, stop, step)\n",
    "# The loop will run from 2 to 8 (exclusive), with a step of 2\n",
    "# `range(2, 10, 2)` produces [2, 4, 6, 8]\n",
    "for i in range(2, 10, 2):\n",
    "    print(i, end=\" \")  # Output: 2 4 6 8 (printed in one line)\n",
    "\n",
    "# Negative step\n",
    "# The loop will start from 5 and go down to 1 (exclusive), with a step of -1\n",
    "# `range(5, 0, -1)` produces [5, 4, 3, 2, 1]\n",
    "for i in range(5, 0, -1):\n",
    "    print(i, end=\" \")  # Output: 5 4 3 2 1 (printed in one line)\n",
    "\n",
    "# Convert range to list for debugging\n",
    "# This converts the range object into a list for visualization/debugging\n",
    "print(list(range(3)))  # Output: [0, 1, 2]\n"
   ]
  },
  {
   "cell_type": "markdown",
   "metadata": {},
   "source": [
    "enumerate() → index + value\n",
    "- Lets you loop with both index and item at once."
   ]
  },
  {
   "cell_type": "code",
   "execution_count": 140,
   "metadata": {},
   "outputs": [
    {
     "name": "stdout",
     "output_type": "stream",
     "text": [
      "1 red\n",
      "2 green\n",
      "3 blue\n"
     ]
    }
   ],
   "source": [
    "# List of colors\n",
    "colors = [\"red\", \"green\", \"blue\"]\n",
    "\n",
    "# Iterate over the list `colors` with `enumerate` to get both index and value\n",
    "# `start=1` means the index will start from 1 instead of the default 0\n",
    "for i, color in enumerate(colors, start=1):\n",
    "    # Print the index (i) and the corresponding color\n",
    "    print(i, color)  # Output: 1 red, 2 green, 3 blue\n"
   ]
  },
  {
   "cell_type": "markdown",
   "metadata": {},
   "source": [
    "zip() → parallel iteration\n",
    "- Combines multiple iterables into tuples."
   ]
  },
  {
   "cell_type": "code",
   "execution_count": 141,
   "metadata": {},
   "outputs": [
    {
     "name": "stdout",
     "output_type": "stream",
     "text": [
      "Alice → 85\n",
      "Bob → 90\n",
      "Charlie → 95\n"
     ]
    }
   ],
   "source": [
    "# List of names and corresponding scores\n",
    "names = [\"Alice\", \"Bob\", \"Charlie\"]\n",
    "scores = [85, 90, 95]\n",
    "\n",
    "# Use zip() to combine two lists (names and scores) element by element\n",
    "# `zip(names, scores)` pairs each name with its corresponding score\n",
    "for name, score in zip(names, scores):\n",
    "    # Print each name and its corresponding score\n",
    "    print(name, \"→\", score)  # Output: Alice → 85, Bob → 90, Charlie → 95\n"
   ]
  },
  {
   "cell_type": "markdown",
   "metadata": {},
   "source": [
    "any() / all() → truth checks\n",
    "- any(iterable) → True if at least one element is truthy.\n",
    "- all(iterable) → True if all elements are truthy."
   ]
  },
  {
   "cell_type": "code",
   "execution_count": 142,
   "metadata": {},
   "outputs": [
    {
     "name": "stdout",
     "output_type": "stream",
     "text": [
      "True\n",
      "False\n",
      "True\n",
      "False\n"
     ]
    }
   ],
   "source": [
    "# List of numbers\n",
    "nums = [0, 1, 2, 0]\n",
    "\n",
    "# Check if any value in the list is truthy (non-zero or non-None)\n",
    "print(any(nums))   # True  (because 1 or 2 are truthy, meaning non-zero)\n",
    "# Explanation:\n",
    "# The `any()` function returns `True` if at least one element in the list is truthy.\n",
    "# Since both 1 and 2 are truthy (non-zero), `any(nums)` returns `True`.\n",
    "\n",
    "# Check if all values in the list are truthy (non-zero or non-None)\n",
    "print(all(nums))   # False (because 0 is falsy)\n",
    "# Explanation:\n",
    "# The `all()` function returns `True` only if all elements in the list are truthy.\n",
    "# Since 0 is falsy (because 0 evaluates to `False`), `all(nums)` returns `False`.\n",
    "\n",
    "# Practical examples: Checking conditions in lists\n",
    "\n",
    "# List of marks\n",
    "marks = [65, 70, 80]\n",
    "\n",
    "# Check if all marks are greater than or equal to 50 (pass condition)\n",
    "print(all(m >= 50 for m in marks))   # True (all passed)\n",
    "# Explanation:\n",
    "# The `all()` function checks if all marks are greater than or equal to 50.\n",
    "# Since all the marks are greater than or equal to 50 (65, 70, 80), `all(m >= 50 for m in marks)` returns `True`.\n",
    "\n",
    "# Check if any mark is greater than 90 (topper condition)\n",
    "print(any(m > 90 for m in marks))    # False (no topper)\n",
    "# Explanation:\n",
    "# The `any()` function checks if any mark is greater than 90.\n",
    "# Since there is no mark greater than 90, `any(m > 90 for m in marks)` returns `False`.\n"
   ]
  },
  {
   "cell_type": "markdown",
   "metadata": {},
   "source": [
    "Combining helpers"
   ]
  },
  {
   "cell_type": "code",
   "execution_count": 143,
   "metadata": {},
   "outputs": [
    {
     "name": "stdout",
     "output_type": "stream",
     "text": [
      "1. A: 70 → Pass\n",
      "2. B: 45 → Fail\n",
      "3. C: 90 → Pass\n"
     ]
    }
   ],
   "source": [
    "# List of student names\n",
    "students = [\"A\", \"B\", \"C\"]\n",
    "# List of corresponding marks\n",
    "marks = [70, 45, 90]\n",
    "\n",
    "# Iterate over the students and marks together using zip(), with an index starting from 1\n",
    "for i, (name, mark) in enumerate(zip(students, marks), start=1):\n",
    "    # Using a conditional expression to check if the student has passed or failed\n",
    "    status = \"Pass\" if mark >= 50 else \"Fail\"\n",
    "    # Print the student number, name, mark, and status (Pass/Fail)\n",
    "    print(f\"{i}. {name}: {mark} → {status}\")\n"
   ]
  },
  {
   "cell_type": "code",
   "execution_count": null,
   "metadata": {},
   "outputs": [],
   "source": []
  }
 ],
 "metadata": {
  "kernelspec": {
   "display_name": "Python 3",
   "language": "python",
   "name": "python3"
  },
  "language_info": {
   "codemirror_mode": {
    "name": "ipython",
    "version": 3
   },
   "file_extension": ".py",
   "mimetype": "text/x-python",
   "name": "python",
   "nbconvert_exporter": "python",
   "pygments_lexer": "ipython3",
   "version": "3.12.11"
  }
 },
 "nbformat": 4,
 "nbformat_minor": 5
}
