{
 "cells": [
  {
   "cell_type": "markdown",
   "id": "03ee8599",
   "metadata": {},
   "source": [
    "### 🐍 Python Control Flow —: Comprehensions"
   ]
  },
  {
   "cell_type": "markdown",
   "id": "9ebc540f",
   "metadata": {},
   "source": [
    "List Comprehension\n",
    "- Shortcut for creating lists from iterables."
   ]
  },
  {
   "cell_type": "code",
   "execution_count": 4,
   "id": "7b9fa5d2",
   "metadata": {},
   "outputs": [
    {
     "name": "stdout",
     "output_type": "stream",
     "text": [
      "[0, 1, 4, 9, 16]\n",
      "[0, 1, 4, 9, 16]\n"
     ]
    }
   ],
   "source": [
    "# Normal loop to calculate squares\n",
    "squares = []            # Initialize an empty list to store the squares\n",
    "for i in range(5):      # Loop through the numbers from 0 to 4 (range(5))\n",
    "    squares.append(i * i)  # Append the square of the current number to the list\n",
    "\n",
    "print(squares)          # Output: [0, 1, 4, 9, 16]\n",
    "\n",
    "# List comprehension to calculate squares\n",
    "squares = [i * i for i in range(5)]  # More compact version using list comprehension\n",
    "# [expression for item in iterable]\n",
    "# expression: i * i (square of each i)\n",
    "# item: i (each value from the iterable range(5))\n",
    "# iterable: range(5) (values from 0 to 4)\n",
    "\n",
    "print(squares)          # Output: [0, 1, 4, 9, 16]"
   ]
  },
  {
   "cell_type": "markdown",
   "id": "c18ffff4",
   "metadata": {},
   "source": [
    "With Condition (if)"
   ]
  },
  {
   "cell_type": "code",
   "execution_count": 8,
   "id": "a9b66fa4",
   "metadata": {},
   "outputs": [
    {
     "name": "stdout",
     "output_type": "stream",
     "text": [
      "[2, 4]\n"
     ]
    }
   ],
   "source": [
    "# List of numbers\n",
    "nums = [1, 2, 3, 4, 5]\n",
    "\n",
    "# List comprehension to filter even numbers\n",
    "evens = [n for n in nums if n % 2 == 0]   # Iterates over nums and includes n if n is even (n % 2 == 0)\n",
    "\n",
    "# Print the list of even numbers\n",
    "print(evens)  # Output: [2, 4]\n"
   ]
  },
  {
   "cell_type": "markdown",
   "id": "065a2640",
   "metadata": {},
   "source": [
    "If–Else in Comprehension"
   ]
  },
  {
   "cell_type": "code",
   "execution_count": 9,
   "id": "6012ed26",
   "metadata": {},
   "outputs": [
    {
     "name": "stdout",
     "output_type": "stream",
     "text": [
      "['Odd', 'Even', 'Odd', 'Even', 'Odd']\n"
     ]
    }
   ],
   "source": [
    "# List comprehension to classify numbers as 'Even' or 'Odd'\n",
    "status = [\"Even\" if n % 2 == 0 else \"Odd\" for n in range(1, 6)]\n",
    "\n",
    "# Print the result\n",
    "print(status)  # Output: ['Odd', 'Even', 'Odd', 'Even', 'Odd']\n"
   ]
  },
  {
   "cell_type": "markdown",
   "id": "e022a7c0",
   "metadata": {},
   "source": [
    "Nested Comprehensions"
   ]
  },
  {
   "cell_type": "code",
   "execution_count": 16,
   "id": "e0dc5224",
   "metadata": {},
   "outputs": [
    {
     "name": "stdout",
     "output_type": "stream",
     "text": [
      "[1, 2, 3, 4, 5, 6]\n",
      "[(1, 4), (1, 5), (2, 4), (2, 5), (3, 4), (3, 5)]\n"
     ]
    }
   ],
   "source": [
    "# Matrix with two rows\n",
    "matrix = [[1, 2, 3], [4, 5, 6]]\n",
    "\n",
    "# Flatten the matrix using a list comprehension\n",
    "flat = [num for row in matrix for num in row]  \n",
    "# This iterates through each row and then through each number in the row to create a flattened list\n",
    "\n",
    "print(flat)  # Output: [1, 2, 3, 4, 5, 6]\n",
    "\n",
    "# Creating pairs using a nested list comprehension\n",
    "pairs = [(x, y) for x in [1, 2, 3] for y in [4, 5]]\n",
    "# This creates a list of tuples by pairing each element from the first list [1, 2, 3] with each element from the second list [4, 5]\n",
    "\n",
    "print(pairs)  # Output: [(1, 4), (1, 5), (2, 4), (2, 5), (3, 4), (3, 5)]"
   ]
  },
  {
   "cell_type": "markdown",
   "id": "5465d0d0",
   "metadata": {},
   "source": [
    "### Set Comprehension"
   ]
  },
  {
   "cell_type": "code",
   "execution_count": 17,
   "id": "c74a7ce5",
   "metadata": {},
   "outputs": [
    {
     "name": "stdout",
     "output_type": "stream",
     "text": [
      "{'apple', 'cherry', 'banana'}\n"
     ]
    }
   ],
   "source": [
    "# List with duplicate words\n",
    "words = [\"apple\", \"banana\", \"apple\", \"cherry\"]\n",
    "\n",
    "# Set comprehension to remove duplicates and keep unique words\n",
    "unique = {w for w in words}  \n",
    "# A set is an unordered collection of unique elements, so duplicates are automatically removed.\n",
    "\n",
    "# Print the set of unique words\n",
    "print(unique)  # Output: {'banana', 'cherry', 'apple'}\n"
   ]
  },
  {
   "cell_type": "markdown",
   "id": "e197ef25",
   "metadata": {},
   "source": [
    "### Dict Comprehension"
   ]
  },
  {
   "cell_type": "code",
   "execution_count": 18,
   "id": "1b943466",
   "metadata": {},
   "outputs": [
    {
     "name": "stdout",
     "output_type": "stream",
     "text": [
      "{1: 1, 2: 4, 3: 9, 4: 16}\n",
      "{'a': 3, 'b': 1, 'n': 2}\n"
     ]
    }
   ],
   "source": [
    "# List of numbers\n",
    "nums = [1, 2, 3, 4]\n",
    "\n",
    "# Dictionary comprehension to create a mapping of each number to its square\n",
    "squares = {n: n*n for n in nums}  \n",
    "# This creates a dictionary where the key is each number 'n', and the value is 'n*n' (the square of n)\n",
    "\n",
    "# Print the dictionary of squares\n",
    "print(squares)  # Output: {1: 1, 2: 4, 3: 9, 4: 16}\n",
    "\n",
    "# String text\n",
    "text = \"banana\"\n",
    "\n",
    "# Dictionary comprehension to count the frequency of each character in the string\n",
    "freq = {ch: text.count(ch) for ch in set(text)}  \n",
    "# The `set(text)` removes duplicates and allows iteration over unique characters in the text.\n",
    "# `text.count(ch)` counts how many times each character appears in the string.\n",
    "\n",
    "# Print the dictionary of character frequencies\n",
    "print(freq)  # Output: {'b': 1, 'n': 2, 'a': 3}\n"
   ]
  },
  {
   "cell_type": "markdown",
   "id": "fe5b0cfa",
   "metadata": {},
   "source": [
    "## Practical Examples"
   ]
  },
  {
   "cell_type": "code",
   "execution_count": 25,
   "id": "4468f9c3",
   "metadata": {},
   "outputs": [
    {
     "name": "stdout",
     "output_type": "stream",
     "text": [
      "{'A': 85, 'C': 72}\n",
      "{1: 'x', 2: 'y'}\n"
     ]
    }
   ],
   "source": [
    "# Dictionary of student marks\n",
    "marks = {\"A\": 85, \"B\": 40, \"C\": 72}\n",
    "\n",
    "# Dictionary comprehension to filter students who passed (marks >= 50)\n",
    "passed = {k: v for k, v in marks.items() if v >= 50}  \n",
    "# This iterates through the items in the `marks` dictionary.\n",
    "# It checks if the value (marks) is greater than or equal to 50. If true, it includes the item in the new dictionary.\n",
    "\n",
    "# Print the dictionary of students who passed\n",
    "print(passed)  # Output: {'A': 85, 'C': 72}\n",
    "\n",
    "# Original dictionary\n",
    "d = {\"x\": 1, \"y\": 2}\n",
    "\n",
    "# Inverting the dictionary using dictionary comprehension\n",
    "inv = {v: k for k, v in d.items()}  \n",
    "# This reverses the keys and values of the dictionary.\n",
    "# The original keys become values, and the original values become keys.\n",
    "\n",
    "# Print the inverted dictionary\n",
    "print(inv)  # Output: {1: 'x', 2: 'y'}\n"
   ]
  },
  {
   "cell_type": "markdown",
   "id": "f01bb8d0",
   "metadata": {},
   "source": [
    "### Advanced: Nested If with Comprehensions"
   ]
  },
  {
   "cell_type": "code",
   "execution_count": 27,
   "id": "155bef06",
   "metadata": {},
   "outputs": [
    {
     "name": "stdout",
     "output_type": "stream",
     "text": [
      "[0, 6, 12, 18]\n"
     ]
    }
   ],
   "source": [
    "# Create a range of numbers from 0 to 19\n",
    "nums = range(20)\n",
    "\n",
    "# List comprehension with multiple conditions\n",
    "filtered = [n for n in nums if n % 2 == 0 if n % 3 == 0]  \n",
    "# This filters out numbers in the range that are divisible by both 2 and 3.\n",
    "# `n % 2 == 0` checks for even numbers, and `n % 3 == 0` checks for multiples of 3.\n",
    "\n",
    "# Print the filtered list\n",
    "print(filtered)  # Output: [0, 6, 12, 18]\n"
   ]
  },
  {
   "cell_type": "markdown",
   "id": "4417b1b5",
   "metadata": {},
   "source": [
    "### Pitfalls"
   ]
  },
  {
   "cell_type": "code",
   "execution_count": 29,
   "id": "58332d04",
   "metadata": {},
   "outputs": [
    {
     "name": "stdout",
     "output_type": "stream",
     "text": [
      "0\n",
      "1\n",
      "2\n"
     ]
    },
    {
     "data": {
      "text/plain": [
       "[None, None, None]"
      ]
     },
     "execution_count": 29,
     "metadata": {},
     "output_type": "execute_result"
    }
   ],
   "source": [
    "# 1. Overusing comprehensions → unreadable\n",
    "# This creates a list of all possible products of x, y, and z in the range 0 to 4.\n",
    "nested = [x * y * z for x in range(5) for y in range(5) for z in range(5)]\n",
    "# While this works, it is hard to read and understand at a glance.\n",
    "# It's better to use normal loops when the logic is complex or involves nested iterations.\n",
    "\n",
    "# 2. Avoid side-effects (like print inside comprehension)\n",
    "# This list comprehension calls `print()` for each number in the range 0 to 2.\n",
    "[print(x) for x in range(3)]  # works but not Pythonic\n",
    "# This works, but it's not recommended. List comprehensions should be used for generating lists, not for side-effects.\n",
    "# It's considered bad practice because it leads to unnecessary creation of a list that isn't used."
   ]
  },
  {
   "cell_type": "code",
   "execution_count": null,
   "id": "5e1a90f6",
   "metadata": {},
   "outputs": [],
   "source": []
  }
 ],
 "metadata": {
  "kernelspec": {
   "display_name": "Python 3",
   "language": "python",
   "name": "python3"
  },
  "language_info": {
   "codemirror_mode": {
    "name": "ipython",
    "version": 3
   },
   "file_extension": ".py",
   "mimetype": "text/x-python",
   "name": "python",
   "nbconvert_exporter": "python",
   "pygments_lexer": "ipython3",
   "version": "3.12.11"
  }
 },
 "nbformat": 4,
 "nbformat_minor": 5
}
