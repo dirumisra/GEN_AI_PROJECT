{
 "cells": [
  {
   "cell_type": "markdown",
   "metadata": {},
   "source": [
    "### 🐍 Python Control Flow - : for Loops\n",
    "- for loop (iterate over sequences, ranges, dicts, sets).\n",
    "- while loop (runs until condition is false).\n",
    "- Loop controls → break, continue, pass.\n",
    "- Loop else clause (unique to Python).\n",
    "- Helpers → range(), enumerate(), zip(), any(), all().\n",
    "- Common pitfalls + best practices.\n",
    "- Practice tasks (FizzBuzz, prime check, flatten list, etc.)."
   ]
  },
  {
   "cell_type": "markdown",
   "metadata": {},
   "source": [
    "Basic for loop"
   ]
  },
  {
   "cell_type": "code",
   "execution_count": 60,
   "metadata": {},
   "outputs": [
    {
     "name": "stdout",
     "output_type": "stream",
     "text": [
      "10\n",
      "20\n",
      "30\n"
     ]
    }
   ],
   "source": [
    "# Iterate over a list\n",
    "nums = [10, 20, 30]\n",
    "\n",
    "# Loop through each element in the list `nums`\n",
    "for n in nums:\n",
    "    print(n)\n"
   ]
  },
  {
   "cell_type": "markdown",
   "metadata": {},
   "source": [
    "Looping over a string"
   ]
  },
  {
   "cell_type": "code",
   "execution_count": 73,
   "metadata": {},
   "outputs": [
    {
     "name": "stdout",
     "output_type": "stream",
     "text": [
      "t-e-c-h-c-o-n-v-o-s-"
     ]
    }
   ],
   "source": [
    "word = \"techconvos\"\n",
    "\n",
    "# Loop through each character in the string `word`\n",
    "for character in word:\n",
    "    print(character, end=\"-\")  # Prints each character followed by a hyphen\n"
   ]
  },
  {
   "cell_type": "markdown",
   "metadata": {},
   "source": [
    "Looping with range()"
   ]
  },
  {
   "cell_type": "code",
   "execution_count": 81,
   "metadata": {},
   "outputs": [
    {
     "name": "stdout",
     "output_type": "stream",
     "text": [
      "0 1 2 3 4 \n",
      "2-4-6-8-"
     ]
    }
   ],
   "source": [
    "# Using range(start, stop, step)\n",
    "for i in range(5):            # Iterates from 0 to 4 (5 is exclusive)\n",
    "    print(i,end =\" \")\n",
    "print()\n",
    "for i in range(2, 10, 2):     # Iterates from 2 to 8, stepping by 2\n",
    "    print(i,end=\"-\")\n"
   ]
  },
  {
   "cell_type": "markdown",
   "metadata": {},
   "source": [
    "Looping with index + value (enumerate)"
   ]
  },
  {
   "cell_type": "code",
   "execution_count": 86,
   "metadata": {},
   "outputs": [
    {
     "name": "stdout",
     "output_type": "stream",
     "text": [
      "1 red\n",
      "2 green\n",
      "3 blue\n"
     ]
    }
   ],
   "source": [
    "# List of colors\n",
    "colors = [\"red\", \"green\", \"blue\"]\n",
    "\n",
    "# The `enumerate()` function returns both the index and value of each item in the list.\n",
    "# We use `start=1` to start the index from 1 instead of the default 0.\n",
    "# This will give us an enumeration starting at 1 for more natural output (like item numbering).\n",
    "\n",
    "for i, color in enumerate(colors, start=1):\n",
    "    # `i` will hold the index (starting from 1) and `color` will hold the color at that index\n",
    "    # `i` represents the position of the color in the list\n",
    "    # `color` represents the actual color value from the list `colors`\n",
    "    print(i, color)  # Print the index followed by the color\n"
   ]
  },
  {
   "cell_type": "markdown",
   "metadata": {},
   "source": [
    "Looping over a dictionary"
   ]
  },
  {
   "cell_type": "code",
   "execution_count": 91,
   "metadata": {},
   "outputs": [
    {
     "name": "stdout",
     "output_type": "stream",
     "text": [
      "name Dhiraj\n",
      "age 36\n",
      "\n",
      "name → Dhiraj\n",
      "age → 36\n"
     ]
    }
   ],
   "source": [
    "# A dictionary `person` containing information about a person\n",
    "person = {\"name\": \"Dhiraj\", \"age\": 36}\n",
    "\n",
    "# First loop: Iterate over the dictionary keys\n",
    "# The `for` loop iterates over each key in the dictionary\n",
    "for key in person:               \n",
    "    # The key represents the current key in the dictionary\n",
    "    # We access the value using the key: `person[key]`\n",
    "    print(key, person[key])      # Print the key and its corresponding value\n",
    "print()\n",
    "# Second loop: Iterate over both keys and values using `.items()`\n",
    "# The `.items()` method returns key-value pairs in the form of a tuple\n",
    "for k, v in person.items():       \n",
    "    # `k` is the key, and `v` is the value associated with the key\n",
    "    print(f\"{k} → {v}\")          # Print the key-value pair in the form: key → value\n",
    "\n"
   ]
  },
  {
   "cell_type": "markdown",
   "metadata": {},
   "source": [
    "Looping over a set"
   ]
  },
  {
   "cell_type": "code",
   "execution_count": 97,
   "metadata": {},
   "outputs": [
    {
     "name": "stdout",
     "output_type": "stream",
     "text": [
      "banana\n",
      "apple\n",
      "cherry\n"
     ]
    }
   ],
   "source": [
    "# A set `s` containing three fruits\n",
    "s = {\"apple\", \"banana\", \"cherry\"}\n",
    "\n",
    "# Loop through each item in the set\n",
    "for item in s:\n",
    "    # `item` will represent the current element in the set\n",
    "    # Since sets do not maintain order, the items will be printed in arbitrary order\n",
    "    print(item)  # The order of output is not guaranteed due to the nature of sets\n"
   ]
  },
  {
   "cell_type": "markdown",
   "metadata": {},
   "source": [
    "Nested loops"
   ]
  },
  {
   "cell_type": "code",
   "execution_count": 104,
   "metadata": {},
   "outputs": [
    {
     "name": "stdout",
     "output_type": "stream",
     "text": [
      "1 2 3 4 5 6 "
     ]
    }
   ],
   "source": [
    "# A 2D list (matrix) with two rows and three columns\n",
    "matrix = [[1, 2, 3], [4, 5, 6]]\n",
    "\n",
    "# Outer loop: Iterate over each row in the matrix\n",
    "for row in matrix:\n",
    "    # Inner loop: Iterate over each value in the current row\n",
    "    for val in row:\n",
    "        # `val` represents the current element in the row\n",
    "        # `end=\" \"` ensures the values are printed in the same line with a space in between\n",
    "        print(val, end=\" \")\n"
   ]
  },
  {
   "cell_type": "markdown",
   "metadata": {},
   "source": [
    "Loop unpacking"
   ]
  },
  {
   "cell_type": "code",
   "execution_count": 110,
   "metadata": {},
   "outputs": [
    {
     "name": "stdout",
     "output_type": "stream",
     "text": [
      "1 a\n",
      "2 b\n",
      "3 c\n"
     ]
    }
   ],
   "source": [
    "# A list of tuples, where each tuple contains a number and a character\n",
    "pairs = [(1, \"a\"), (2, \"b\"), (3, \"c\")]\n",
    "\n",
    "# Loop through each tuple in the list\n",
    "# Inside the loop, the tuple will be unpacked into two variables: `num` and `char`\n",
    "for num, char in pairs:       \n",
    "    # `num` will hold the first element of each tuple (the number)\n",
    "    # `char` will hold the second element of each tuple (the character)\n",
    "    print(num, char)           # Print the unpacked values: num and char\n"
   ]
  },
  {
   "cell_type": "markdown",
   "metadata": {},
   "source": [
    "for loop with else\n",
    "- Runs the else block only if loop completes without break."
   ]
  },
  {
   "cell_type": "code",
   "execution_count": 113,
   "metadata": {},
   "outputs": [
    {
     "name": "stdout",
     "output_type": "stream",
     "text": [
      "All numbers are even\n"
     ]
    }
   ],
   "source": [
    "nums = [2, 4, 6, 8]  # A list of numbers\n",
    "\n",
    "# Iterate through the list\n",
    "for n in nums:\n",
    "    if n % 2 != 0:  # Check if the number is odd (not divisible by 2)\n",
    "        print(\"Found odd number:\", n)  # Print if an odd number is found\n",
    "        break  # Exit the loop as soon as an odd number is found\n",
    "else:\n",
    "    # This block runs only if the loop completes without encountering a 'break'\n",
    "    print(\"All numbers are even\")  # Prints this message if no odd number is found\n"
   ]
  },
  {
   "cell_type": "markdown",
   "metadata": {},
   "source": [
    "### 🐍 Python Control Flow — Part 3: while Loops"
   ]
  },
  {
   "cell_type": "markdown",
   "metadata": {},
   "source": [
    "Basic while loop\n",
    "- Runs as long as the condition is True."
   ]
  },
  {
   "cell_type": "code",
   "execution_count": 115,
   "metadata": {},
   "outputs": [
    {
     "name": "stdout",
     "output_type": "stream",
     "text": [
      "1\n",
      "2\n",
      "3\n",
      "4\n",
      "5\n"
     ]
    }
   ],
   "source": [
    "# 1. Basic while loop example\n",
    "\n",
    "count = 1  # Initialize the counter to 1\n",
    "\n",
    "# The `while` loop will continue as long as the condition `count <= 5` is true\n",
    "while count <= 5:  # Check if the counter is less than or equal to 5\n",
    "    print(count)  # Print the current value of `count`\n",
    "    \n",
    "    count += 1  # Increment `count` by 1 after each iteration to avoid an infinite loop\n",
    "\n",
    "# Output:\n",
    "# 1\n",
    "# 2\n",
    "# 3\n",
    "# 4\n",
    "# 5\n"
   ]
  },
  {
   "cell_type": "markdown",
   "metadata": {},
   "source": [
    "Infinite while loop"
   ]
  },
  {
   "cell_type": "code",
   "execution_count": 119,
   "metadata": {},
   "outputs": [],
   "source": [
    "# 1. Infinite loop with break condition\n",
    "\n",
    "# The `while True` creates an infinite loop that will continue until explicitly broken.\n",
    "while True:  # This loop will run indefinitely unless the `break` statement is encountered.\n",
    "    # Asking the user for input on each iteration.\n",
    "    cmd = input(\"Enter q to quit: \")  # Prompt the user to input a command.\n",
    "    \n",
    "    # If the user types 'q', the loop will break and stop.\n",
    "    if cmd == \"q\":  # Check if the input is 'q', which indicates the user wants to quit.\n",
    "        break  # Exit the loop if the user typed 'q'.\n",
    "    \n",
    "    # If the input is anything other than 'q', this line will be executed.\n",
    "    print(\"You typed:\", cmd)  # Print the user's input.\n",
    "\n",
    "# Once the loop is broken, the program will exit and no more commands will be processed."
   ]
  },
  {
   "cell_type": "markdown",
   "metadata": {},
   "source": [
    "while...else\n",
    "- The else block runs only if loop finishes normally (no break)."
   ]
  },
  {
   "cell_type": "code",
   "execution_count": 123,
   "metadata": {},
   "outputs": [
    {
     "name": "stdout",
     "output_type": "stream",
     "text": [
      "1\n",
      "2\n",
      "3\n",
      "Loop finished without break\n"
     ]
    }
   ],
   "source": [
    "# 1. Example of `while` loop with `else` clause\n",
    "\n",
    "x = 1  # Initialize the counter variable `x` to 1\n",
    "\n",
    "# The `while` loop will run as long as the condition `x <= 3` is true\n",
    "while x <= 3:\n",
    "    print(x)   # Print the current value of `x`\n",
    "    x += 1     # Increment `x` by 1 after each iteration\n",
    "\n",
    "# The `else` block will be executed after the `while` loop finishes (only if no `break` occurred)\n",
    "else:\n",
    "    print(\"Loop finished without break\")  # This will run once the loop completes normally\n",
    "\n",
    "# Output:\n",
    "# 1\n",
    "# 2\n",
    "# 3\n",
    "# Loop finished without break\n"
   ]
  },
  {
   "cell_type": "code",
   "execution_count": 130,
   "metadata": {},
   "outputs": [
    {
     "name": "stdout",
     "output_type": "stream",
     "text": [
      "1\n",
      "2\n"
     ]
    }
   ],
   "source": [
    "# 1. Example of `while` loop with `break` statement and `else`\n",
    "\n",
    "x = 1  # Initialize the counter variable `x` to 1\n",
    "\n",
    "# The `while` loop will run as long as the condition `x <= 3` is true\n",
    "while x <= 3:\n",
    "    print(x)   # Print the current value of `x`\n",
    "    if x == 2:  # Check if `x` is 2\n",
    "        break  # If `x` is 2, break the loop immediately (exit the loop)\n",
    "    x += 1  # Increment `x` by 1 after each iteration\n",
    "\n",
    "# The `else` block will execute if the loop terminates **normally** (without a `break`)\n",
    "else:\n",
    "    print(\"This will NOT run (loop broke)\")  # This will NOT be printed because the loop breaks"
   ]
  },
  {
   "cell_type": "markdown",
   "metadata": {},
   "source": [
    "Nested while loops"
   ]
  },
  {
   "cell_type": "code",
   "execution_count": 131,
   "metadata": {},
   "outputs": [
    {
     "name": "stdout",
     "output_type": "stream",
     "text": [
      "i=1, j=1\n",
      "i=1, j=2\n",
      "i=2, j=1\n",
      "i=2, j=2\n",
      "i=3, j=1\n",
      "i=3, j=2\n"
     ]
    }
   ],
   "source": [
    "# Outer loop: controls the value of `i`\n",
    "i = 1  # Initialize `i` to 1\n",
    "\n",
    "# The outer loop runs while `i` is less than or equal to 3\n",
    "while i <= 3:\n",
    "    j = 1  # Initialize `j` to 1 at the start of each outer loop iteration\n",
    "    \n",
    "    # Inner loop: controls the value of `j`\n",
    "    while j <= 2:\n",
    "        print(f\"i={i}, j={j}\")  # Print the current values of `i` and `j`\n",
    "        j += 1  # Increment `j` by 1 to move to the next iteration of the inner loop\n",
    "    \n",
    "    i += 1  # Increment `i` by 1 to move to the next iteration of the outer loop\n"
   ]
  },
  {
   "cell_type": "markdown",
   "metadata": {},
   "source": [
    "Common pitfalls"
   ]
  },
  {
   "cell_type": "code",
   "execution_count": 133,
   "metadata": {},
   "outputs": [
    {
     "name": "stdout",
     "output_type": "stream",
     "text": [
      "0\n",
      "1\n",
      "2\n",
      "3\n",
      "4\n",
      "5\n",
      "4\n",
      "3\n",
      "2\n",
      "1\n"
     ]
    }
   ],
   "source": [
    "# 1. Forgetting to update variable → infinite loop\n",
    "\n",
    "# Example of infinite loop due to not updating the loop variable `x`\n",
    "x = 0  # Initialize x to 0\n",
    "\n",
    "# The loop will run indefinitely because `x` is never updated inside the loop\n",
    "# while x < 5:  # ❌ Infinite loop\n",
    "#     print(x)  # This will print `x` endlessly without stopping\n",
    "\n",
    "# Solution: Update `x` inside the loop to avoid an infinite loop\n",
    "x = 0  # Reinitialize `x`\n",
    "while x < 5:  # Loop runs while x is less than 5\n",
    "    print(x)  # Print the current value of `x`\n",
    "    x += 1     # Increment `x` to ensure the loop eventually stops\n",
    "\n",
    "\n",
    "# 2. Modifying condition inside loop incorrectly\n",
    "\n",
    "count = 5  # Initialize count to 5\n",
    "\n",
    "# The loop runs while `count` is not zero\n",
    "while count:  # Equivalent to `while count != 0` (count is Truthy as long as it's non-zero)\n",
    "    print(count)  # Print the current value of `count`\n",
    "    count -= 1    # Decrement count by 1 after each iteration\n"
   ]
  },
  {
   "cell_type": "markdown",
   "metadata": {},
   "source": [
    "### 🐍 Python Control Flow — Part 4: Loop Controls (break, continue, pass)"
   ]
  },
  {
   "cell_type": "markdown",
   "metadata": {},
   "source": [
    "break → exit loop immediately"
   ]
  },
  {
   "cell_type": "code",
   "execution_count": 134,
   "metadata": {},
   "outputs": [
    {
     "name": "stdout",
     "output_type": "stream",
     "text": [
      "Odd number: 5\n"
     ]
    }
   ],
   "source": [
    "# List of numbers\n",
    "nums = [2, 4, 5, 6]\n",
    "\n",
    "# Iterate over each number in the list `nums`\n",
    "for n in nums:\n",
    "    # Check if the number is odd (i.e., n % 2 != 0)\n",
    "    if n % 2 != 0:\n",
    "        print(\"Odd number:\", n)  # Print the odd number\n",
    "        break  # Exit the loop when the first odd number is found\n",
    "else:\n",
    "    # This block will run only if the loop completes **without** hitting a `break` statement\n",
    "    print(\"All numbers were even\")  # This will not run because the loop will break at the first odd number\n"
   ]
  },
  {
   "cell_type": "markdown",
   "metadata": {},
   "source": [
    "continue → skip current iteration"
   ]
  },
  {
   "cell_type": "code",
   "execution_count": 135,
   "metadata": {},
   "outputs": [
    {
     "name": "stdout",
     "output_type": "stream",
     "text": [
      "1\n",
      "2\n",
      "4\n",
      "5\n"
     ]
    }
   ],
   "source": [
    "# Iterate over the range of numbers from 1 to 5 (inclusive)\n",
    "for i in range(1, 6):\n",
    "    # If `i` is 3, skip the current iteration (continue to the next iteration)\n",
    "    if i == 3:\n",
    "        continue  # This will skip the print statement for `i == 3`\n",
    "    \n",
    "    # This prints the value of `i` for all numbers except 3\n",
    "    print(i)\n",
    "\n",
    "# Output: 1 2 4 5\n"
   ]
  },
  {
   "cell_type": "markdown",
   "metadata": {},
   "source": [
    "pass → placeholder (do nothing)\n",
    "- Keeps code syntactically correct when a statement is required but no action needed."
   ]
  },
  {
   "cell_type": "code",
   "execution_count": 136,
   "metadata": {},
   "outputs": [
    {
     "name": "stdout",
     "output_type": "stream",
     "text": [
      "Processing: 3\n",
      "Processing: 4\n"
     ]
    }
   ],
   "source": [
    "# Iterate over the range of numbers from 0 to 4 (inclusive)\n",
    "for i in range(5):\n",
    "    # If i is less than 3, do nothing for now (use pass as a placeholder)\n",
    "    if i < 3:\n",
    "        pass  # ❓ Placeholder to be implemented later (no action taken here)\n",
    "    \n",
    "    # When i is 3 or greater, print the processing message\n",
    "    else:\n",
    "        print(\"Processing:\", i)  # This prints \"Processing:\" followed by the value of i\n",
    "\n",
    "# Output:\n",
    "# Processing: 3\n",
    "# Processing: 4\n"
   ]
  },
  {
   "cell_type": "markdown",
   "metadata": {},
   "source": [
    "Combining break and continue"
   ]
  },
  {
   "cell_type": "code",
   "execution_count": 137,
   "metadata": {},
   "outputs": [
    {
     "name": "stdout",
     "output_type": "stream",
     "text": [
      "10.0\n",
      "Negative found, stopping\n"
     ]
    }
   ],
   "source": [
    "# List of numbers to iterate over\n",
    "nums = [10, -5, 0, 7]\n",
    "\n",
    "# Iterate over each number in the list `nums`\n",
    "for n in nums:\n",
    "    # If the current number is 0, skip to the next iteration (to avoid division by zero)\n",
    "    if n == 0:\n",
    "        continue  # Skip zero, don’t divide by zero\n",
    "    \n",
    "    # If the current number is negative, stop the loop\n",
    "    if n < 0:\n",
    "        print(\"Negative found, stopping\")  # Print a message when a negative number is found\n",
    "        break  # Exit the loop immediately when a negative number is encountered\n",
    "    \n",
    "    # Otherwise, perform the division and print the result\n",
    "    print(100 / n)  # Divide 100 by the number and print the result\n"
   ]
  },
  {
   "cell_type": "markdown",
   "metadata": {},
   "source": [
    "### 🐍 Python Control Flow — Part 5: Iteration Helpers"
   ]
  },
  {
   "cell_type": "markdown",
   "metadata": {},
   "source": [
    "range() → generate number sequences\n",
    "- Produces an immutable sequence of integers (lazy, memory-efficient).\n",
    "- Used heavily in for loops."
   ]
  },
  {
   "cell_type": "code",
   "execution_count": 139,
   "metadata": {},
   "outputs": [
    {
     "name": "stdout",
     "output_type": "stream",
     "text": [
      "0 1 2 3 4 2 4 6 8 5 4 3 2 1 [0, 1, 2]\n"
     ]
    }
   ],
   "source": [
    "# range(stop) → 0 to stop-1\n",
    "# The loop will run from 0 to 4 (because `range(5)` produces [0, 1, 2, 3, 4])\n",
    "for i in range(5):\n",
    "    print(i, end=\" \")  # Output: 0 1 2 3 4 (printed in one line)\n",
    "\n",
    "# range(start, stop, step)\n",
    "# The loop will run from 2 to 8 (exclusive), with a step of 2\n",
    "# `range(2, 10, 2)` produces [2, 4, 6, 8]\n",
    "for i in range(2, 10, 2):\n",
    "    print(i, end=\" \")  # Output: 2 4 6 8 (printed in one line)\n",
    "\n",
    "# Negative step\n",
    "# The loop will start from 5 and go down to 1 (exclusive), with a step of -1\n",
    "# `range(5, 0, -1)` produces [5, 4, 3, 2, 1]\n",
    "for i in range(5, 0, -1):\n",
    "    print(i, end=\" \")  # Output: 5 4 3 2 1 (printed in one line)\n",
    "\n",
    "# Convert range to list for debugging\n",
    "# This converts the range object into a list for visualization/debugging\n",
    "print(list(range(3)))  # Output: [0, 1, 2]\n"
   ]
  },
  {
   "cell_type": "markdown",
   "metadata": {},
   "source": [
    "enumerate() → index + value\n",
    "- Lets you loop with both index and item at once."
   ]
  },
  {
   "cell_type": "code",
   "execution_count": 140,
   "metadata": {},
   "outputs": [
    {
     "name": "stdout",
     "output_type": "stream",
     "text": [
      "1 red\n",
      "2 green\n",
      "3 blue\n"
     ]
    }
   ],
   "source": [
    "# List of colors\n",
    "colors = [\"red\", \"green\", \"blue\"]\n",
    "\n",
    "# Iterate over the list `colors` with `enumerate` to get both index and value\n",
    "# `start=1` means the index will start from 1 instead of the default 0\n",
    "for i, color in enumerate(colors, start=1):\n",
    "    # Print the index (i) and the corresponding color\n",
    "    print(i, color)  # Output: 1 red, 2 green, 3 blue\n"
   ]
  },
  {
   "cell_type": "markdown",
   "metadata": {},
   "source": [
    "zip() → parallel iteration\n",
    "- Combines multiple iterables into tuples."
   ]
  },
  {
   "cell_type": "code",
   "execution_count": 141,
   "metadata": {},
   "outputs": [
    {
     "name": "stdout",
     "output_type": "stream",
     "text": [
      "Alice → 85\n",
      "Bob → 90\n",
      "Charlie → 95\n"
     ]
    }
   ],
   "source": [
    "# List of names and corresponding scores\n",
    "names = [\"Alice\", \"Bob\", \"Charlie\"]\n",
    "scores = [85, 90, 95]\n",
    "\n",
    "# Use zip() to combine two lists (names and scores) element by element\n",
    "# `zip(names, scores)` pairs each name with its corresponding score\n",
    "for name, score in zip(names, scores):\n",
    "    # Print each name and its corresponding score\n",
    "    print(name, \"→\", score)  # Output: Alice → 85, Bob → 90, Charlie → 95\n"
   ]
  },
  {
   "cell_type": "markdown",
   "metadata": {},
   "source": [
    "any() / all() → truth checks\n",
    "- any(iterable) → True if at least one element is truthy.\n",
    "- all(iterable) → True if all elements are truthy."
   ]
  },
  {
   "cell_type": "code",
   "execution_count": 142,
   "metadata": {},
   "outputs": [
    {
     "name": "stdout",
     "output_type": "stream",
     "text": [
      "True\n",
      "False\n",
      "True\n",
      "False\n"
     ]
    }
   ],
   "source": [
    "# List of numbers\n",
    "nums = [0, 1, 2, 0]\n",
    "\n",
    "# Check if any value in the list is truthy (non-zero or non-None)\n",
    "print(any(nums))   # True  (because 1 or 2 are truthy, meaning non-zero)\n",
    "# Explanation:\n",
    "# The `any()` function returns `True` if at least one element in the list is truthy.\n",
    "# Since both 1 and 2 are truthy (non-zero), `any(nums)` returns `True`.\n",
    "\n",
    "# Check if all values in the list are truthy (non-zero or non-None)\n",
    "print(all(nums))   # False (because 0 is falsy)\n",
    "# Explanation:\n",
    "# The `all()` function returns `True` only if all elements in the list are truthy.\n",
    "# Since 0 is falsy (because 0 evaluates to `False`), `all(nums)` returns `False`.\n",
    "\n",
    "# Practical examples: Checking conditions in lists\n",
    "\n",
    "# List of marks\n",
    "marks = [65, 70, 80]\n",
    "\n",
    "# Check if all marks are greater than or equal to 50 (pass condition)\n",
    "print(all(m >= 50 for m in marks))   # True (all passed)\n",
    "# Explanation:\n",
    "# The `all()` function checks if all marks are greater than or equal to 50.\n",
    "# Since all the marks are greater than or equal to 50 (65, 70, 80), `all(m >= 50 for m in marks)` returns `True`.\n",
    "\n",
    "# Check if any mark is greater than 90 (topper condition)\n",
    "print(any(m > 90 for m in marks))    # False (no topper)\n",
    "# Explanation:\n",
    "# The `any()` function checks if any mark is greater than 90.\n",
    "# Since there is no mark greater than 90, `any(m > 90 for m in marks)` returns `False`.\n"
   ]
  },
  {
   "cell_type": "markdown",
   "metadata": {},
   "source": [
    "Combining helpers"
   ]
  },
  {
   "cell_type": "code",
   "execution_count": 143,
   "metadata": {},
   "outputs": [
    {
     "name": "stdout",
     "output_type": "stream",
     "text": [
      "1. A: 70 → Pass\n",
      "2. B: 45 → Fail\n",
      "3. C: 90 → Pass\n"
     ]
    }
   ],
   "source": [
    "# List of student names\n",
    "students = [\"A\", \"B\", \"C\"]\n",
    "# List of corresponding marks\n",
    "marks = [70, 45, 90]\n",
    "\n",
    "# Iterate over the students and marks together using zip(), with an index starting from 1\n",
    "for i, (name, mark) in enumerate(zip(students, marks), start=1):\n",
    "    # Using a conditional expression to check if the student has passed or failed\n",
    "    status = \"Pass\" if mark >= 50 else \"Fail\"\n",
    "    # Print the student number, name, mark, and status (Pass/Fail)\n",
    "    print(f\"{i}. {name}: {mark} → {status}\")\n"
   ]
  },
  {
   "cell_type": "code",
   "execution_count": null,
   "metadata": {},
   "outputs": [],
   "source": []
  }
 ],
 "metadata": {
  "kernelspec": {
   "display_name": "Python 3",
   "language": "python",
   "name": "python3"
  },
  "language_info": {
   "codemirror_mode": {
    "name": "ipython",
    "version": 3
   },
   "file_extension": ".py",
   "mimetype": "text/x-python",
   "name": "python",
   "nbconvert_exporter": "python",
   "pygments_lexer": "ipython3",
   "version": "3.12.11"
  }
 },
 "nbformat": 4,
 "nbformat_minor": 5
}
